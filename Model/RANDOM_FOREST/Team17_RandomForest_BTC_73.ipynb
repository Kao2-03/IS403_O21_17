{
  "nbformat": 4,
  "nbformat_minor": 0,
  "metadata": {
    "colab": {
      "provenance": []
    },
    "kernelspec": {
      "name": "python3",
      "display_name": "Python 3"
    },
    "language_info": {
      "name": "python"
    }
  },
  "cells": [
    {
      "cell_type": "code",
      "source": [
        "pip install optuna"
      ],
      "metadata": {
        "colab": {
          "base_uri": "https://localhost:8080/"
        },
        "id": "4Gb8MhQT2meX",
        "outputId": "0516f494-ab15-4827-d531-39483dc986f4"
      },
      "execution_count": 1,
      "outputs": [
        {
          "output_type": "stream",
          "name": "stdout",
          "text": [
            "Collecting optuna\n",
            "  Downloading optuna-3.6.1-py3-none-any.whl (380 kB)\n",
            "\u001b[2K     \u001b[90m━━━━━━━━━━━━━━━━━━━━━━━━━━━━━━━━━━━━━━━━\u001b[0m \u001b[32m380.1/380.1 kB\u001b[0m \u001b[31m4.3 MB/s\u001b[0m eta \u001b[36m0:00:00\u001b[0m\n",
            "\u001b[?25hCollecting alembic>=1.5.0 (from optuna)\n",
            "  Downloading alembic-1.13.1-py3-none-any.whl (233 kB)\n",
            "\u001b[2K     \u001b[90m━━━━━━━━━━━━━━━━━━━━━━━━━━━━━━━━━━━━━━━━\u001b[0m \u001b[32m233.4/233.4 kB\u001b[0m \u001b[31m9.1 MB/s\u001b[0m eta \u001b[36m0:00:00\u001b[0m\n",
            "\u001b[?25hCollecting colorlog (from optuna)\n",
            "  Downloading colorlog-6.8.2-py3-none-any.whl (11 kB)\n",
            "Requirement already satisfied: numpy in /usr/local/lib/python3.10/dist-packages (from optuna) (1.25.2)\n",
            "Requirement already satisfied: packaging>=20.0 in /usr/local/lib/python3.10/dist-packages (from optuna) (24.1)\n",
            "Requirement already satisfied: sqlalchemy>=1.3.0 in /usr/local/lib/python3.10/dist-packages (from optuna) (2.0.30)\n",
            "Requirement already satisfied: tqdm in /usr/local/lib/python3.10/dist-packages (from optuna) (4.66.4)\n",
            "Requirement already satisfied: PyYAML in /usr/local/lib/python3.10/dist-packages (from optuna) (6.0.1)\n",
            "Collecting Mako (from alembic>=1.5.0->optuna)\n",
            "  Downloading Mako-1.3.5-py3-none-any.whl (78 kB)\n",
            "\u001b[2K     \u001b[90m━━━━━━━━━━━━━━━━━━━━━━━━━━━━━━━━━━━━━━━━\u001b[0m \u001b[32m78.6/78.6 kB\u001b[0m \u001b[31m1.4 MB/s\u001b[0m eta \u001b[36m0:00:00\u001b[0m\n",
            "\u001b[?25hRequirement already satisfied: typing-extensions>=4 in /usr/local/lib/python3.10/dist-packages (from alembic>=1.5.0->optuna) (4.12.2)\n",
            "Requirement already satisfied: greenlet!=0.4.17 in /usr/local/lib/python3.10/dist-packages (from sqlalchemy>=1.3.0->optuna) (3.0.3)\n",
            "Requirement already satisfied: MarkupSafe>=0.9.2 in /usr/local/lib/python3.10/dist-packages (from Mako->alembic>=1.5.0->optuna) (2.1.5)\n",
            "Installing collected packages: Mako, colorlog, alembic, optuna\n",
            "Successfully installed Mako-1.3.5 alembic-1.13.1 colorlog-6.8.2 optuna-3.6.1\n"
          ]
        }
      ]
    },
    {
      "cell_type": "code",
      "execution_count": 2,
      "metadata": {
        "id": "sYz7-uhJL_Xb"
      },
      "outputs": [],
      "source": [
        "import optuna\n",
        "import pandas as pd\n",
        "import numpy as np\n",
        "import matplotlib.pyplot as plt\n",
        "from sklearn.preprocessing import MinMaxScaler\n",
        "from sklearn.ensemble import RandomForestRegressor\n",
        "from sklearn.metrics import mean_squared_error,mean_absolute_percentage_error\n",
        "from sklearn.model_selection import TimeSeriesSplit"
      ]
    },
    {
      "cell_type": "code",
      "source": [
        "df = pd.read_csv('BTC-USD.csv')"
      ],
      "metadata": {
        "id": "oNpkUoF4MbtN"
      },
      "execution_count": 3,
      "outputs": []
    },
    {
      "cell_type": "code",
      "source": [
        "df['Date'] = pd.to_datetime(df['Date'])\n",
        "df.set_index('Date', inplace=True)"
      ],
      "metadata": {
        "id": "k2rwlrAJQAcv"
      },
      "execution_count": 4,
      "outputs": []
    },
    {
      "cell_type": "code",
      "source": [
        "df_Close = df[['Close']]\n",
        "df_Close = df_Close.reset_index(drop=True)"
      ],
      "metadata": {
        "id": "B-TrgtWjQBvg"
      },
      "execution_count": 5,
      "outputs": []
    },
    {
      "cell_type": "code",
      "source": [
        "scaler = MinMaxScaler(feature_range=(0, 1))\n",
        "data_scaled = scaler.fit_transform(np.array(df_Close).reshape(-1, 1))"
      ],
      "metadata": {
        "id": "B1NTNnb-O-1M"
      },
      "execution_count": 6,
      "outputs": []
    },
    {
      "cell_type": "code",
      "source": [
        "# Hàm tạo đặc trưng lag\n",
        "def create_lagged_features(data, n_lags=1):\n",
        "    df_lags = pd.DataFrame()\n",
        "    for i in range(n_lags):\n",
        "        df_lags[f'lag_{i+1}'] = np.roll(data, shift=i+1)\n",
        "    df_lags['target'] = data\n",
        "    return df_lags.iloc[n_lags:]"
      ],
      "metadata": {
        "id": "GzM0TImwQ4nm"
      },
      "execution_count": 7,
      "outputs": []
    },
    {
      "cell_type": "code",
      "source": [
        "# Hàm tối ưu hóa sử dụng Optuna\n",
        "def objective(trial):\n",
        "    # Gợi ý giá trị cho n_lags và n_estimators\n",
        "    n_lags = trial.suggest_int('n_lags', 1, 30)                 # Tìm số lượng lag từ 1 đến 30\n",
        "    n_estimators = trial.suggest_int('n_estimators', 10, 200)   # Tìm số lượng cây từ 10 đến 200\n",
        "\n",
        "    # Tạo đặc trưng lag\n",
        "    lagged_data = create_lagged_features(data_scaled.flatten(), n_lags)\n",
        "    X, y = lagged_data.iloc[:, :-1], lagged_data.iloc[:, -1]\n",
        "\n",
        "    tscv = TimeSeriesSplit(n_splits=5)\n",
        "    errors = []\n",
        "\n",
        "    for train_index, test_index in tscv.split(X):\n",
        "        X_train, X_test = X.iloc[train_index], X.iloc[test_index]\n",
        "        y_train, y_test = y.iloc[train_index], y.iloc[test_index]\n",
        "\n",
        "        rf_model = RandomForestRegressor(n_estimators=n_estimators, random_state=42)\n",
        "        rf_model.fit(X_train, y_train)\n",
        "        y_pred = rf_model.predict(X_test)\n",
        "\n",
        "        errors.append(mean_squared_error(y_test, y_pred))\n",
        "\n",
        "    return np.mean(errors)"
      ],
      "metadata": {
        "id": "3OZTwxsgcchh"
      },
      "execution_count": 8,
      "outputs": []
    },
    {
      "cell_type": "markdown",
      "source": [
        "**Tìm kiếm tham số tối ưu**"
      ],
      "metadata": {
        "id": "af9bdtAd1RhK"
      }
    },
    {
      "cell_type": "code",
      "source": [
        "study = optuna.create_study(direction='minimize')\n",
        "study.optimize(objective, n_trials=50)  # Thử nghiệm 50 lần để tìm giá trị tối ưu\n",
        "\n",
        "# In ra tham số tối ưu\n",
        "best_params = study.best_params\n",
        "print(f'Best parameters: {best_params}')\n",
        "print(f'Best trial value: {study.best_value}')\n"
      ],
      "metadata": {
        "id": "kuHoDwlidiQi",
        "colab": {
          "base_uri": "https://localhost:8080/"
        },
        "outputId": "30a9bd6c-59c8-4465-c09b-e993eff6f57f"
      },
      "execution_count": 9,
      "outputs": [
        {
          "output_type": "stream",
          "name": "stderr",
          "text": [
            "[I 2024-06-21 14:43:24,020] A new study created in memory with name: no-name-ad634921-5476-4ecf-bb8c-bf411b622681\n",
            "[I 2024-06-21 14:43:25,883] Trial 0 finished with value: 0.030816214218579108 and parameters: {'n_lags': 10, 'n_estimators': 51}. Best is trial 0 with value: 0.030816214218579108.\n",
            "[I 2024-06-21 14:43:38,386] Trial 1 finished with value: 0.03342095875487171 and parameters: {'n_lags': 22, 'n_estimators': 173}. Best is trial 0 with value: 0.030816214218579108.\n",
            "[I 2024-06-21 14:43:47,398] Trial 2 finished with value: 0.03237010879074945 and parameters: {'n_lags': 14, 'n_estimators': 174}. Best is trial 0 with value: 0.030816214218579108.\n",
            "[I 2024-06-21 14:43:58,212] Trial 3 finished with value: 0.03341277117035697 and parameters: {'n_lags': 22, 'n_estimators': 160}. Best is trial 0 with value: 0.030816214218579108.\n",
            "[I 2024-06-21 14:44:00,761] Trial 4 finished with value: 0.03044030504587933 and parameters: {'n_lags': 2, 'n_estimators': 116}. Best is trial 4 with value: 0.03044030504587933.\n",
            "[I 2024-06-21 14:44:03,763] Trial 5 finished with value: 0.02635104541469222 and parameters: {'n_lags': 27, 'n_estimators': 37}. Best is trial 5 with value: 0.02635104541469222.\n",
            "[I 2024-06-21 14:44:10,242] Trial 6 finished with value: 0.0325396474432733 and parameters: {'n_lags': 18, 'n_estimators': 103}. Best is trial 5 with value: 0.02635104541469222.\n",
            "[I 2024-06-21 14:44:11,747] Trial 7 finished with value: 0.031085834229075043 and parameters: {'n_lags': 4, 'n_estimators': 41}. Best is trial 5 with value: 0.02635104541469222.\n",
            "[I 2024-06-21 14:44:17,528] Trial 8 finished with value: 0.030724756380689326 and parameters: {'n_lags': 7, 'n_estimators': 175}. Best is trial 5 with value: 0.02635104541469222.\n",
            "[I 2024-06-21 14:44:22,282] Trial 9 finished with value: 0.031416551086247 and parameters: {'n_lags': 6, 'n_estimators': 195}. Best is trial 5 with value: 0.02635104541469222.\n",
            "[I 2024-06-21 14:44:24,342] Trial 10 finished with value: 0.02631076141152571 and parameters: {'n_lags': 30, 'n_estimators': 23}. Best is trial 10 with value: 0.02631076141152571.\n",
            "[I 2024-06-21 14:44:26,539] Trial 11 finished with value: 0.026396200953713162 and parameters: {'n_lags': 30, 'n_estimators': 17}. Best is trial 10 with value: 0.02631076141152571.\n",
            "[I 2024-06-21 14:44:33,081] Trial 12 finished with value: 0.026178316821295917 and parameters: {'n_lags': 29, 'n_estimators': 74}. Best is trial 12 with value: 0.026178316821295917.\n",
            "[I 2024-06-21 14:44:42,021] Trial 13 finished with value: 0.02615887043217553 and parameters: {'n_lags': 26, 'n_estimators': 86}. Best is trial 13 with value: 0.02615887043217553.\n",
            "[I 2024-06-21 14:44:51,228] Trial 14 finished with value: 0.03337955642362382 and parameters: {'n_lags': 24, 'n_estimators': 77}. Best is trial 13 with value: 0.02615887043217553.\n",
            "[I 2024-06-21 14:44:57,076] Trial 15 finished with value: 0.03254739122658901 and parameters: {'n_lags': 18, 'n_estimators': 83}. Best is trial 13 with value: 0.02615887043217553.\n",
            "[I 2024-06-21 14:45:12,117] Trial 16 finished with value: 0.02620684936440216 and parameters: {'n_lags': 26, 'n_estimators': 127}. Best is trial 13 with value: 0.02615887043217553.\n",
            "[I 2024-06-21 14:45:26,691] Trial 17 finished with value: 0.03335439704989275 and parameters: {'n_lags': 19, 'n_estimators': 91}. Best is trial 13 with value: 0.02615887043217553.\n",
            "[I 2024-06-21 14:45:34,549] Trial 18 finished with value: 0.026141838672556688 and parameters: {'n_lags': 27, 'n_estimators': 65}. Best is trial 18 with value: 0.026141838672556688.\n",
            "[I 2024-06-21 14:45:41,542] Trial 19 finished with value: 0.0323611612241548 and parameters: {'n_lags': 14, 'n_estimators': 137}. Best is trial 18 with value: 0.026141838672556688.\n",
            "[I 2024-06-21 14:45:45,744] Trial 20 finished with value: 0.03348111627073851 and parameters: {'n_lags': 23, 'n_estimators': 61}. Best is trial 18 with value: 0.026141838672556688.\n",
            "[I 2024-06-21 14:45:51,968] Trial 21 finished with value: 0.02617756606093637 and parameters: {'n_lags': 28, 'n_estimators': 63}. Best is trial 18 with value: 0.026141838672556688.\n",
            "[I 2024-06-21 14:45:56,659] Trial 22 finished with value: 0.02632714945684982 and parameters: {'n_lags': 26, 'n_estimators': 61}. Best is trial 18 with value: 0.026141838672556688.\n",
            "[I 2024-06-21 14:46:05,676] Trial 23 finished with value: 0.026091371215051434 and parameters: {'n_lags': 27, 'n_estimators': 100}. Best is trial 23 with value: 0.026091371215051434.\n",
            "[I 2024-06-21 14:46:13,297] Trial 24 finished with value: 0.03343905773867025 and parameters: {'n_lags': 20, 'n_estimators': 99}. Best is trial 23 with value: 0.026091371215051434.\n",
            "[I 2024-06-21 14:46:22,792] Trial 25 finished with value: 0.026262358321641248 and parameters: {'n_lags': 25, 'n_estimators': 112}. Best is trial 23 with value: 0.026091371215051434.\n",
            "[I 2024-06-21 14:46:32,475] Trial 26 finished with value: 0.03331488371966034 and parameters: {'n_lags': 21, 'n_estimators': 134}. Best is trial 23 with value: 0.026091371215051434.\n",
            "[I 2024-06-21 14:46:39,521] Trial 27 finished with value: 0.02610811130925298 and parameters: {'n_lags': 27, 'n_estimators': 90}. Best is trial 23 with value: 0.026091371215051434.\n",
            "[I 2024-06-21 14:46:48,245] Trial 28 finished with value: 0.03222806239744621 and parameters: {'n_lags': 16, 'n_estimators': 149}. Best is trial 23 with value: 0.026091371215051434.\n",
            "[I 2024-06-21 14:46:51,991] Trial 29 finished with value: 0.02618025669352258 and parameters: {'n_lags': 28, 'n_estimators': 46}. Best is trial 23 with value: 0.026091371215051434.\n",
            "[I 2024-06-21 14:46:57,505] Trial 30 finished with value: 0.03080853194269481 and parameters: {'n_lags': 11, 'n_estimators': 114}. Best is trial 23 with value: 0.026091371215051434.\n",
            "[I 2024-06-21 14:47:04,134] Trial 31 finished with value: 0.03336932159139787 and parameters: {'n_lags': 24, 'n_estimators': 93}. Best is trial 23 with value: 0.026091371215051434.\n",
            "[I 2024-06-21 14:47:11,826] Trial 32 finished with value: 0.0261727760052717 and parameters: {'n_lags': 27, 'n_estimators': 83}. Best is trial 23 with value: 0.026091371215051434.\n",
            "[I 2024-06-21 14:47:17,675] Trial 33 finished with value: 0.02637876853640302 and parameters: {'n_lags': 25, 'n_estimators': 69}. Best is trial 23 with value: 0.026091371215051434.\n",
            "[I 2024-06-21 14:47:21,128] Trial 34 finished with value: 0.033409148877692314 and parameters: {'n_lags': 22, 'n_estimators': 52}. Best is trial 23 with value: 0.026091371215051434.\n",
            "[I 2024-06-21 14:47:29,984] Trial 35 finished with value: 0.0263903235597233 and parameters: {'n_lags': 30, 'n_estimators': 91}. Best is trial 23 with value: 0.026091371215051434.\n",
            "[I 2024-06-21 14:47:40,880] Trial 36 finished with value: 0.02625598472433336 and parameters: {'n_lags': 28, 'n_estimators': 121}. Best is trial 23 with value: 0.026091371215051434.\n",
            "[I 2024-06-21 14:47:42,978] Trial 37 finished with value: 0.03361940588589694 and parameters: {'n_lags': 23, 'n_estimators': 30}. Best is trial 23 with value: 0.026091371215051434.\n",
            "[I 2024-06-21 14:47:52,102] Trial 38 finished with value: 0.026206881557185778 and parameters: {'n_lags': 26, 'n_estimators': 105}. Best is trial 23 with value: 0.026091371215051434.\n",
            "[I 2024-06-21 14:47:57,384] Trial 39 finished with value: 0.03326194676791365 and parameters: {'n_lags': 21, 'n_estimators': 83}. Best is trial 23 with value: 0.026091371215051434.\n",
            "[I 2024-06-21 14:47:59,776] Trial 40 finished with value: 0.03078235383120236 and parameters: {'n_lags': 11, 'n_estimators': 52}. Best is trial 23 with value: 0.026091371215051434.\n",
            "[I 2024-06-21 14:48:07,503] Trial 41 finished with value: 0.0261727760052717 and parameters: {'n_lags': 27, 'n_estimators': 83}. Best is trial 23 with value: 0.026091371215051434.\n",
            "[I 2024-06-21 14:48:15,381] Trial 42 finished with value: 0.026104735908089465 and parameters: {'n_lags': 27, 'n_estimators': 98}. Best is trial 23 with value: 0.026091371215051434.\n",
            "[I 2024-06-21 14:48:25,230] Trial 43 finished with value: 0.026055718088477963 and parameters: {'n_lags': 29, 'n_estimators': 106}. Best is trial 43 with value: 0.026055718088477963.\n",
            "[I 2024-06-21 14:48:35,572] Trial 44 finished with value: 0.026094295352249268 and parameters: {'n_lags': 29, 'n_estimators': 101}. Best is trial 43 with value: 0.026055718088477963.\n",
            "[I 2024-06-21 14:48:45,253] Trial 45 finished with value: 0.026277443821007863 and parameters: {'n_lags': 30, 'n_estimators': 101}. Best is trial 43 with value: 0.026055718088477963.\n",
            "[I 2024-06-21 14:48:54,432] Trial 46 finished with value: 0.026060494743139467 and parameters: {'n_lags': 29, 'n_estimators': 109}. Best is trial 43 with value: 0.026055718088477963.\n",
            "[I 2024-06-21 14:49:04,815] Trial 47 finished with value: 0.0260563783695646 and parameters: {'n_lags': 29, 'n_estimators': 112}. Best is trial 43 with value: 0.026055718088477963.\n",
            "[I 2024-06-21 14:49:18,190] Trial 48 finished with value: 0.02616620132199885 and parameters: {'n_lags': 29, 'n_estimators': 147}. Best is trial 43 with value: 0.026055718088477963.\n",
            "[I 2024-06-21 14:49:28,306] Trial 49 finished with value: 0.02607623146980741 and parameters: {'n_lags': 29, 'n_estimators': 108}. Best is trial 43 with value: 0.026055718088477963.\n"
          ]
        },
        {
          "output_type": "stream",
          "name": "stdout",
          "text": [
            "Best parameters: {'n_lags': 29, 'n_estimators': 106}\n",
            "Best trial value: 0.026055718088477963\n"
          ]
        }
      ]
    },
    {
      "cell_type": "markdown",
      "source": [
        "**Sử dụng tham số tối ưu để huấn luyện mô hình cuối cùng**"
      ],
      "metadata": {
        "id": "RjYSlMn31adp"
      }
    },
    {
      "cell_type": "code",
      "source": [
        "optimal_n_lags = best_params['n_lags']\n",
        "optimal_n_estimators = best_params['n_estimators']\n",
        "lagged_data = create_lagged_features(data_scaled.flatten(), optimal_n_lags)"
      ],
      "metadata": {
        "id": "d1B7DqrcviS1"
      },
      "execution_count": 10,
      "outputs": []
    },
    {
      "cell_type": "code",
      "source": [
        "# Chia dữ liệu thành tập huấn luyện và kiểm tra\n",
        "train_size = int(0.7 * len(lagged_data))\n",
        "train_data, test_data = lagged_data[:train_size], lagged_data[train_size:]\n",
        "# Tách các đặc trưng và mục tiêu\n",
        "X_train, y_train = train_data.iloc[:, :-1], train_data.iloc[:, -1]\n",
        "X_test, y_test = test_data.iloc[:, :-1], test_data.iloc[:, -1]"
      ],
      "metadata": {
        "id": "T2uSJFR5Xpfr"
      },
      "execution_count": 11,
      "outputs": []
    },
    {
      "cell_type": "code",
      "source": [
        "# Huấn luyện mô hình Random Forest với các tham số tối ưu\n",
        "rf_model = RandomForestRegressor(n_estimators=optimal_n_estimators, random_state=42)\n",
        "rf_model.fit(X_train, y_train)"
      ],
      "metadata": {
        "colab": {
          "base_uri": "https://localhost:8080/",
          "height": 74
        },
        "id": "0SbpAb7c1qFa",
        "outputId": "2176d4c9-9ad9-4de7-952d-3d0c1f9d146f"
      },
      "execution_count": 12,
      "outputs": [
        {
          "output_type": "execute_result",
          "data": {
            "text/plain": [
              "RandomForestRegressor(n_estimators=106, random_state=42)"
            ],
            "text/html": [
              "<style>#sk-container-id-1 {color: black;background-color: white;}#sk-container-id-1 pre{padding: 0;}#sk-container-id-1 div.sk-toggleable {background-color: white;}#sk-container-id-1 label.sk-toggleable__label {cursor: pointer;display: block;width: 100%;margin-bottom: 0;padding: 0.3em;box-sizing: border-box;text-align: center;}#sk-container-id-1 label.sk-toggleable__label-arrow:before {content: \"▸\";float: left;margin-right: 0.25em;color: #696969;}#sk-container-id-1 label.sk-toggleable__label-arrow:hover:before {color: black;}#sk-container-id-1 div.sk-estimator:hover label.sk-toggleable__label-arrow:before {color: black;}#sk-container-id-1 div.sk-toggleable__content {max-height: 0;max-width: 0;overflow: hidden;text-align: left;background-color: #f0f8ff;}#sk-container-id-1 div.sk-toggleable__content pre {margin: 0.2em;color: black;border-radius: 0.25em;background-color: #f0f8ff;}#sk-container-id-1 input.sk-toggleable__control:checked~div.sk-toggleable__content {max-height: 200px;max-width: 100%;overflow: auto;}#sk-container-id-1 input.sk-toggleable__control:checked~label.sk-toggleable__label-arrow:before {content: \"▾\";}#sk-container-id-1 div.sk-estimator input.sk-toggleable__control:checked~label.sk-toggleable__label {background-color: #d4ebff;}#sk-container-id-1 div.sk-label input.sk-toggleable__control:checked~label.sk-toggleable__label {background-color: #d4ebff;}#sk-container-id-1 input.sk-hidden--visually {border: 0;clip: rect(1px 1px 1px 1px);clip: rect(1px, 1px, 1px, 1px);height: 1px;margin: -1px;overflow: hidden;padding: 0;position: absolute;width: 1px;}#sk-container-id-1 div.sk-estimator {font-family: monospace;background-color: #f0f8ff;border: 1px dotted black;border-radius: 0.25em;box-sizing: border-box;margin-bottom: 0.5em;}#sk-container-id-1 div.sk-estimator:hover {background-color: #d4ebff;}#sk-container-id-1 div.sk-parallel-item::after {content: \"\";width: 100%;border-bottom: 1px solid gray;flex-grow: 1;}#sk-container-id-1 div.sk-label:hover label.sk-toggleable__label {background-color: #d4ebff;}#sk-container-id-1 div.sk-serial::before {content: \"\";position: absolute;border-left: 1px solid gray;box-sizing: border-box;top: 0;bottom: 0;left: 50%;z-index: 0;}#sk-container-id-1 div.sk-serial {display: flex;flex-direction: column;align-items: center;background-color: white;padding-right: 0.2em;padding-left: 0.2em;position: relative;}#sk-container-id-1 div.sk-item {position: relative;z-index: 1;}#sk-container-id-1 div.sk-parallel {display: flex;align-items: stretch;justify-content: center;background-color: white;position: relative;}#sk-container-id-1 div.sk-item::before, #sk-container-id-1 div.sk-parallel-item::before {content: \"\";position: absolute;border-left: 1px solid gray;box-sizing: border-box;top: 0;bottom: 0;left: 50%;z-index: -1;}#sk-container-id-1 div.sk-parallel-item {display: flex;flex-direction: column;z-index: 1;position: relative;background-color: white;}#sk-container-id-1 div.sk-parallel-item:first-child::after {align-self: flex-end;width: 50%;}#sk-container-id-1 div.sk-parallel-item:last-child::after {align-self: flex-start;width: 50%;}#sk-container-id-1 div.sk-parallel-item:only-child::after {width: 0;}#sk-container-id-1 div.sk-dashed-wrapped {border: 1px dashed gray;margin: 0 0.4em 0.5em 0.4em;box-sizing: border-box;padding-bottom: 0.4em;background-color: white;}#sk-container-id-1 div.sk-label label {font-family: monospace;font-weight: bold;display: inline-block;line-height: 1.2em;}#sk-container-id-1 div.sk-label-container {text-align: center;}#sk-container-id-1 div.sk-container {/* jupyter's `normalize.less` sets `[hidden] { display: none; }` but bootstrap.min.css set `[hidden] { display: none !important; }` so we also need the `!important` here to be able to override the default hidden behavior on the sphinx rendered scikit-learn.org. See: https://github.com/scikit-learn/scikit-learn/issues/21755 */display: inline-block !important;position: relative;}#sk-container-id-1 div.sk-text-repr-fallback {display: none;}</style><div id=\"sk-container-id-1\" class=\"sk-top-container\"><div class=\"sk-text-repr-fallback\"><pre>RandomForestRegressor(n_estimators=106, random_state=42)</pre><b>In a Jupyter environment, please rerun this cell to show the HTML representation or trust the notebook. <br />On GitHub, the HTML representation is unable to render, please try loading this page with nbviewer.org.</b></div><div class=\"sk-container\" hidden><div class=\"sk-item\"><div class=\"sk-estimator sk-toggleable\"><input class=\"sk-toggleable__control sk-hidden--visually\" id=\"sk-estimator-id-1\" type=\"checkbox\" checked><label for=\"sk-estimator-id-1\" class=\"sk-toggleable__label sk-toggleable__label-arrow\">RandomForestRegressor</label><div class=\"sk-toggleable__content\"><pre>RandomForestRegressor(n_estimators=106, random_state=42)</pre></div></div></div></div></div>"
            ]
          },
          "metadata": {},
          "execution_count": 12
        }
      ]
    },
    {
      "cell_type": "code",
      "source": [
        "# Dự đoán trên tập kiểm tra\n",
        "y_pred = rf_model.predict(X_test)"
      ],
      "metadata": {
        "id": "UjZO2zLU1rKo"
      },
      "execution_count": 13,
      "outputs": []
    },
    {
      "cell_type": "code",
      "source": [
        "# Chuyển đổi lại dữ liệu về thang đo gốc\n",
        "y_test_inverse = scaler.inverse_transform(y_test.values.reshape(-1, 1))\n",
        "y_pred_inverse = scaler.inverse_transform(y_pred.reshape(-1, 1))"
      ],
      "metadata": {
        "id": "UrakTMqv1uDC"
      },
      "execution_count": 14,
      "outputs": []
    },
    {
      "cell_type": "code",
      "source": [
        "# Tính toán các độ đo lỗi\n",
        "test_mape = mean_absolute_percentage_error(y_test_inverse, y_pred_inverse)\n",
        "test_mse = mean_squared_error(y_test_inverse, y_pred_inverse)\n",
        "test_rmse = np.sqrt(test_mse)\n",
        "\n",
        "print(f\"MAPE on Test dataset: {test_mape:.4f}\")\n",
        "print(f\"RMSE on Test dataset: {test_rmse:.4f}\")\n",
        "print(f\"MSE on Test dataset: {test_mse:.4f}\")"
      ],
      "metadata": {
        "colab": {
          "base_uri": "https://localhost:8080/"
        },
        "id": "9juDFIyA1wkc",
        "outputId": "bfe203dc-ca2c-49fd-b582-0ac3bdb29266"
      },
      "execution_count": 15,
      "outputs": [
        {
          "output_type": "stream",
          "name": "stdout",
          "text": [
            "MAPE on Test dataset: 0.0418\n",
            "RMSE on Test dataset: 2105.9249\n",
            "MSE on Test dataset: 4434919.8425\n"
          ]
        }
      ]
    },
    {
      "cell_type": "code",
      "source": [
        "# Hàm dự báo tương lai\n",
        "def forecast_future(model, data, n_lags, n_periods):\n",
        "    future_forecast = []\n",
        "    last_values = data[-n_lags:]\n",
        "    for _ in range(n_periods):\n",
        "        prediction = model.predict(last_values.reshape(1, -1))[0]\n",
        "        future_forecast.append(prediction)\n",
        "        last_values = np.append(last_values[1:], prediction)\n",
        "    return np.array(future_forecast)"
      ],
      "metadata": {
        "id": "oANJtE5tYKMq"
      },
      "execution_count": 16,
      "outputs": []
    },
    {
      "cell_type": "code",
      "source": [
        "# Dự báo giá trị tương lai\n",
        "forecast_30_days = forecast_future(rf_model, data_scaled.flatten(), optimal_n_lags, 30)\n",
        "forecast_60_days = forecast_future(rf_model, data_scaled.flatten(), optimal_n_lags, 60)\n",
        "forecast_90_days = forecast_future(rf_model, data_scaled.flatten(), optimal_n_lags, 90)"
      ],
      "metadata": {
        "colab": {
          "base_uri": "https://localhost:8080/"
        },
        "id": "oLWo4aTh2Txa",
        "outputId": "e57521e6-3022-4f00-da6b-6e4a7ed27a85"
      },
      "execution_count": 17,
      "outputs": [
        {
          "output_type": "stream",
          "name": "stderr",
          "text": [
            "/usr/local/lib/python3.10/dist-packages/sklearn/base.py:439: UserWarning: X does not have valid feature names, but RandomForestRegressor was fitted with feature names\n",
            "  warnings.warn(\n",
            "/usr/local/lib/python3.10/dist-packages/sklearn/base.py:439: UserWarning: X does not have valid feature names, but RandomForestRegressor was fitted with feature names\n",
            "  warnings.warn(\n",
            "/usr/local/lib/python3.10/dist-packages/sklearn/base.py:439: UserWarning: X does not have valid feature names, but RandomForestRegressor was fitted with feature names\n",
            "  warnings.warn(\n",
            "/usr/local/lib/python3.10/dist-packages/sklearn/base.py:439: UserWarning: X does not have valid feature names, but RandomForestRegressor was fitted with feature names\n",
            "  warnings.warn(\n",
            "/usr/local/lib/python3.10/dist-packages/sklearn/base.py:439: UserWarning: X does not have valid feature names, but RandomForestRegressor was fitted with feature names\n",
            "  warnings.warn(\n",
            "/usr/local/lib/python3.10/dist-packages/sklearn/base.py:439: UserWarning: X does not have valid feature names, but RandomForestRegressor was fitted with feature names\n",
            "  warnings.warn(\n",
            "/usr/local/lib/python3.10/dist-packages/sklearn/base.py:439: UserWarning: X does not have valid feature names, but RandomForestRegressor was fitted with feature names\n",
            "  warnings.warn(\n",
            "/usr/local/lib/python3.10/dist-packages/sklearn/base.py:439: UserWarning: X does not have valid feature names, but RandomForestRegressor was fitted with feature names\n",
            "  warnings.warn(\n",
            "/usr/local/lib/python3.10/dist-packages/sklearn/base.py:439: UserWarning: X does not have valid feature names, but RandomForestRegressor was fitted with feature names\n",
            "  warnings.warn(\n",
            "/usr/local/lib/python3.10/dist-packages/sklearn/base.py:439: UserWarning: X does not have valid feature names, but RandomForestRegressor was fitted with feature names\n",
            "  warnings.warn(\n",
            "/usr/local/lib/python3.10/dist-packages/sklearn/base.py:439: UserWarning: X does not have valid feature names, but RandomForestRegressor was fitted with feature names\n",
            "  warnings.warn(\n",
            "/usr/local/lib/python3.10/dist-packages/sklearn/base.py:439: UserWarning: X does not have valid feature names, but RandomForestRegressor was fitted with feature names\n",
            "  warnings.warn(\n",
            "/usr/local/lib/python3.10/dist-packages/sklearn/base.py:439: UserWarning: X does not have valid feature names, but RandomForestRegressor was fitted with feature names\n",
            "  warnings.warn(\n",
            "/usr/local/lib/python3.10/dist-packages/sklearn/base.py:439: UserWarning: X does not have valid feature names, but RandomForestRegressor was fitted with feature names\n",
            "  warnings.warn(\n",
            "/usr/local/lib/python3.10/dist-packages/sklearn/base.py:439: UserWarning: X does not have valid feature names, but RandomForestRegressor was fitted with feature names\n",
            "  warnings.warn(\n",
            "/usr/local/lib/python3.10/dist-packages/sklearn/base.py:439: UserWarning: X does not have valid feature names, but RandomForestRegressor was fitted with feature names\n",
            "  warnings.warn(\n",
            "/usr/local/lib/python3.10/dist-packages/sklearn/base.py:439: UserWarning: X does not have valid feature names, but RandomForestRegressor was fitted with feature names\n",
            "  warnings.warn(\n",
            "/usr/local/lib/python3.10/dist-packages/sklearn/base.py:439: UserWarning: X does not have valid feature names, but RandomForestRegressor was fitted with feature names\n",
            "  warnings.warn(\n",
            "/usr/local/lib/python3.10/dist-packages/sklearn/base.py:439: UserWarning: X does not have valid feature names, but RandomForestRegressor was fitted with feature names\n",
            "  warnings.warn(\n",
            "/usr/local/lib/python3.10/dist-packages/sklearn/base.py:439: UserWarning: X does not have valid feature names, but RandomForestRegressor was fitted with feature names\n",
            "  warnings.warn(\n",
            "/usr/local/lib/python3.10/dist-packages/sklearn/base.py:439: UserWarning: X does not have valid feature names, but RandomForestRegressor was fitted with feature names\n",
            "  warnings.warn(\n",
            "/usr/local/lib/python3.10/dist-packages/sklearn/base.py:439: UserWarning: X does not have valid feature names, but RandomForestRegressor was fitted with feature names\n",
            "  warnings.warn(\n",
            "/usr/local/lib/python3.10/dist-packages/sklearn/base.py:439: UserWarning: X does not have valid feature names, but RandomForestRegressor was fitted with feature names\n",
            "  warnings.warn(\n",
            "/usr/local/lib/python3.10/dist-packages/sklearn/base.py:439: UserWarning: X does not have valid feature names, but RandomForestRegressor was fitted with feature names\n",
            "  warnings.warn(\n",
            "/usr/local/lib/python3.10/dist-packages/sklearn/base.py:439: UserWarning: X does not have valid feature names, but RandomForestRegressor was fitted with feature names\n",
            "  warnings.warn(\n",
            "/usr/local/lib/python3.10/dist-packages/sklearn/base.py:439: UserWarning: X does not have valid feature names, but RandomForestRegressor was fitted with feature names\n",
            "  warnings.warn(\n",
            "/usr/local/lib/python3.10/dist-packages/sklearn/base.py:439: UserWarning: X does not have valid feature names, but RandomForestRegressor was fitted with feature names\n",
            "  warnings.warn(\n",
            "/usr/local/lib/python3.10/dist-packages/sklearn/base.py:439: UserWarning: X does not have valid feature names, but RandomForestRegressor was fitted with feature names\n",
            "  warnings.warn(\n",
            "/usr/local/lib/python3.10/dist-packages/sklearn/base.py:439: UserWarning: X does not have valid feature names, but RandomForestRegressor was fitted with feature names\n",
            "  warnings.warn(\n",
            "/usr/local/lib/python3.10/dist-packages/sklearn/base.py:439: UserWarning: X does not have valid feature names, but RandomForestRegressor was fitted with feature names\n",
            "  warnings.warn(\n",
            "/usr/local/lib/python3.10/dist-packages/sklearn/base.py:439: UserWarning: X does not have valid feature names, but RandomForestRegressor was fitted with feature names\n",
            "  warnings.warn(\n",
            "/usr/local/lib/python3.10/dist-packages/sklearn/base.py:439: UserWarning: X does not have valid feature names, but RandomForestRegressor was fitted with feature names\n",
            "  warnings.warn(\n",
            "/usr/local/lib/python3.10/dist-packages/sklearn/base.py:439: UserWarning: X does not have valid feature names, but RandomForestRegressor was fitted with feature names\n",
            "  warnings.warn(\n",
            "/usr/local/lib/python3.10/dist-packages/sklearn/base.py:439: UserWarning: X does not have valid feature names, but RandomForestRegressor was fitted with feature names\n",
            "  warnings.warn(\n",
            "/usr/local/lib/python3.10/dist-packages/sklearn/base.py:439: UserWarning: X does not have valid feature names, but RandomForestRegressor was fitted with feature names\n",
            "  warnings.warn(\n",
            "/usr/local/lib/python3.10/dist-packages/sklearn/base.py:439: UserWarning: X does not have valid feature names, but RandomForestRegressor was fitted with feature names\n",
            "  warnings.warn(\n",
            "/usr/local/lib/python3.10/dist-packages/sklearn/base.py:439: UserWarning: X does not have valid feature names, but RandomForestRegressor was fitted with feature names\n",
            "  warnings.warn(\n",
            "/usr/local/lib/python3.10/dist-packages/sklearn/base.py:439: UserWarning: X does not have valid feature names, but RandomForestRegressor was fitted with feature names\n",
            "  warnings.warn(\n",
            "/usr/local/lib/python3.10/dist-packages/sklearn/base.py:439: UserWarning: X does not have valid feature names, but RandomForestRegressor was fitted with feature names\n",
            "  warnings.warn(\n",
            "/usr/local/lib/python3.10/dist-packages/sklearn/base.py:439: UserWarning: X does not have valid feature names, but RandomForestRegressor was fitted with feature names\n",
            "  warnings.warn(\n",
            "/usr/local/lib/python3.10/dist-packages/sklearn/base.py:439: UserWarning: X does not have valid feature names, but RandomForestRegressor was fitted with feature names\n",
            "  warnings.warn(\n",
            "/usr/local/lib/python3.10/dist-packages/sklearn/base.py:439: UserWarning: X does not have valid feature names, but RandomForestRegressor was fitted with feature names\n",
            "  warnings.warn(\n",
            "/usr/local/lib/python3.10/dist-packages/sklearn/base.py:439: UserWarning: X does not have valid feature names, but RandomForestRegressor was fitted with feature names\n",
            "  warnings.warn(\n",
            "/usr/local/lib/python3.10/dist-packages/sklearn/base.py:439: UserWarning: X does not have valid feature names, but RandomForestRegressor was fitted with feature names\n",
            "  warnings.warn(\n",
            "/usr/local/lib/python3.10/dist-packages/sklearn/base.py:439: UserWarning: X does not have valid feature names, but RandomForestRegressor was fitted with feature names\n",
            "  warnings.warn(\n",
            "/usr/local/lib/python3.10/dist-packages/sklearn/base.py:439: UserWarning: X does not have valid feature names, but RandomForestRegressor was fitted with feature names\n",
            "  warnings.warn(\n",
            "/usr/local/lib/python3.10/dist-packages/sklearn/base.py:439: UserWarning: X does not have valid feature names, but RandomForestRegressor was fitted with feature names\n",
            "  warnings.warn(\n",
            "/usr/local/lib/python3.10/dist-packages/sklearn/base.py:439: UserWarning: X does not have valid feature names, but RandomForestRegressor was fitted with feature names\n",
            "  warnings.warn(\n",
            "/usr/local/lib/python3.10/dist-packages/sklearn/base.py:439: UserWarning: X does not have valid feature names, but RandomForestRegressor was fitted with feature names\n",
            "  warnings.warn(\n",
            "/usr/local/lib/python3.10/dist-packages/sklearn/base.py:439: UserWarning: X does not have valid feature names, but RandomForestRegressor was fitted with feature names\n",
            "  warnings.warn(\n",
            "/usr/local/lib/python3.10/dist-packages/sklearn/base.py:439: UserWarning: X does not have valid feature names, but RandomForestRegressor was fitted with feature names\n",
            "  warnings.warn(\n",
            "/usr/local/lib/python3.10/dist-packages/sklearn/base.py:439: UserWarning: X does not have valid feature names, but RandomForestRegressor was fitted with feature names\n",
            "  warnings.warn(\n",
            "/usr/local/lib/python3.10/dist-packages/sklearn/base.py:439: UserWarning: X does not have valid feature names, but RandomForestRegressor was fitted with feature names\n",
            "  warnings.warn(\n",
            "/usr/local/lib/python3.10/dist-packages/sklearn/base.py:439: UserWarning: X does not have valid feature names, but RandomForestRegressor was fitted with feature names\n",
            "  warnings.warn(\n",
            "/usr/local/lib/python3.10/dist-packages/sklearn/base.py:439: UserWarning: X does not have valid feature names, but RandomForestRegressor was fitted with feature names\n",
            "  warnings.warn(\n",
            "/usr/local/lib/python3.10/dist-packages/sklearn/base.py:439: UserWarning: X does not have valid feature names, but RandomForestRegressor was fitted with feature names\n",
            "  warnings.warn(\n",
            "/usr/local/lib/python3.10/dist-packages/sklearn/base.py:439: UserWarning: X does not have valid feature names, but RandomForestRegressor was fitted with feature names\n",
            "  warnings.warn(\n",
            "/usr/local/lib/python3.10/dist-packages/sklearn/base.py:439: UserWarning: X does not have valid feature names, but RandomForestRegressor was fitted with feature names\n",
            "  warnings.warn(\n",
            "/usr/local/lib/python3.10/dist-packages/sklearn/base.py:439: UserWarning: X does not have valid feature names, but RandomForestRegressor was fitted with feature names\n",
            "  warnings.warn(\n",
            "/usr/local/lib/python3.10/dist-packages/sklearn/base.py:439: UserWarning: X does not have valid feature names, but RandomForestRegressor was fitted with feature names\n",
            "  warnings.warn(\n",
            "/usr/local/lib/python3.10/dist-packages/sklearn/base.py:439: UserWarning: X does not have valid feature names, but RandomForestRegressor was fitted with feature names\n",
            "  warnings.warn(\n",
            "/usr/local/lib/python3.10/dist-packages/sklearn/base.py:439: UserWarning: X does not have valid feature names, but RandomForestRegressor was fitted with feature names\n",
            "  warnings.warn(\n",
            "/usr/local/lib/python3.10/dist-packages/sklearn/base.py:439: UserWarning: X does not have valid feature names, but RandomForestRegressor was fitted with feature names\n",
            "  warnings.warn(\n",
            "/usr/local/lib/python3.10/dist-packages/sklearn/base.py:439: UserWarning: X does not have valid feature names, but RandomForestRegressor was fitted with feature names\n",
            "  warnings.warn(\n",
            "/usr/local/lib/python3.10/dist-packages/sklearn/base.py:439: UserWarning: X does not have valid feature names, but RandomForestRegressor was fitted with feature names\n",
            "  warnings.warn(\n",
            "/usr/local/lib/python3.10/dist-packages/sklearn/base.py:439: UserWarning: X does not have valid feature names, but RandomForestRegressor was fitted with feature names\n",
            "  warnings.warn(\n",
            "/usr/local/lib/python3.10/dist-packages/sklearn/base.py:439: UserWarning: X does not have valid feature names, but RandomForestRegressor was fitted with feature names\n",
            "  warnings.warn(\n",
            "/usr/local/lib/python3.10/dist-packages/sklearn/base.py:439: UserWarning: X does not have valid feature names, but RandomForestRegressor was fitted with feature names\n",
            "  warnings.warn(\n",
            "/usr/local/lib/python3.10/dist-packages/sklearn/base.py:439: UserWarning: X does not have valid feature names, but RandomForestRegressor was fitted with feature names\n",
            "  warnings.warn(\n",
            "/usr/local/lib/python3.10/dist-packages/sklearn/base.py:439: UserWarning: X does not have valid feature names, but RandomForestRegressor was fitted with feature names\n",
            "  warnings.warn(\n",
            "/usr/local/lib/python3.10/dist-packages/sklearn/base.py:439: UserWarning: X does not have valid feature names, but RandomForestRegressor was fitted with feature names\n",
            "  warnings.warn(\n",
            "/usr/local/lib/python3.10/dist-packages/sklearn/base.py:439: UserWarning: X does not have valid feature names, but RandomForestRegressor was fitted with feature names\n",
            "  warnings.warn(\n",
            "/usr/local/lib/python3.10/dist-packages/sklearn/base.py:439: UserWarning: X does not have valid feature names, but RandomForestRegressor was fitted with feature names\n",
            "  warnings.warn(\n",
            "/usr/local/lib/python3.10/dist-packages/sklearn/base.py:439: UserWarning: X does not have valid feature names, but RandomForestRegressor was fitted with feature names\n",
            "  warnings.warn(\n",
            "/usr/local/lib/python3.10/dist-packages/sklearn/base.py:439: UserWarning: X does not have valid feature names, but RandomForestRegressor was fitted with feature names\n",
            "  warnings.warn(\n",
            "/usr/local/lib/python3.10/dist-packages/sklearn/base.py:439: UserWarning: X does not have valid feature names, but RandomForestRegressor was fitted with feature names\n",
            "  warnings.warn(\n",
            "/usr/local/lib/python3.10/dist-packages/sklearn/base.py:439: UserWarning: X does not have valid feature names, but RandomForestRegressor was fitted with feature names\n",
            "  warnings.warn(\n",
            "/usr/local/lib/python3.10/dist-packages/sklearn/base.py:439: UserWarning: X does not have valid feature names, but RandomForestRegressor was fitted with feature names\n",
            "  warnings.warn(\n",
            "/usr/local/lib/python3.10/dist-packages/sklearn/base.py:439: UserWarning: X does not have valid feature names, but RandomForestRegressor was fitted with feature names\n",
            "  warnings.warn(\n",
            "/usr/local/lib/python3.10/dist-packages/sklearn/base.py:439: UserWarning: X does not have valid feature names, but RandomForestRegressor was fitted with feature names\n",
            "  warnings.warn(\n",
            "/usr/local/lib/python3.10/dist-packages/sklearn/base.py:439: UserWarning: X does not have valid feature names, but RandomForestRegressor was fitted with feature names\n",
            "  warnings.warn(\n",
            "/usr/local/lib/python3.10/dist-packages/sklearn/base.py:439: UserWarning: X does not have valid feature names, but RandomForestRegressor was fitted with feature names\n",
            "  warnings.warn(\n",
            "/usr/local/lib/python3.10/dist-packages/sklearn/base.py:439: UserWarning: X does not have valid feature names, but RandomForestRegressor was fitted with feature names\n",
            "  warnings.warn(\n",
            "/usr/local/lib/python3.10/dist-packages/sklearn/base.py:439: UserWarning: X does not have valid feature names, but RandomForestRegressor was fitted with feature names\n",
            "  warnings.warn(\n",
            "/usr/local/lib/python3.10/dist-packages/sklearn/base.py:439: UserWarning: X does not have valid feature names, but RandomForestRegressor was fitted with feature names\n",
            "  warnings.warn(\n",
            "/usr/local/lib/python3.10/dist-packages/sklearn/base.py:439: UserWarning: X does not have valid feature names, but RandomForestRegressor was fitted with feature names\n",
            "  warnings.warn(\n",
            "/usr/local/lib/python3.10/dist-packages/sklearn/base.py:439: UserWarning: X does not have valid feature names, but RandomForestRegressor was fitted with feature names\n",
            "  warnings.warn(\n",
            "/usr/local/lib/python3.10/dist-packages/sklearn/base.py:439: UserWarning: X does not have valid feature names, but RandomForestRegressor was fitted with feature names\n",
            "  warnings.warn(\n",
            "/usr/local/lib/python3.10/dist-packages/sklearn/base.py:439: UserWarning: X does not have valid feature names, but RandomForestRegressor was fitted with feature names\n",
            "  warnings.warn(\n",
            "/usr/local/lib/python3.10/dist-packages/sklearn/base.py:439: UserWarning: X does not have valid feature names, but RandomForestRegressor was fitted with feature names\n",
            "  warnings.warn(\n",
            "/usr/local/lib/python3.10/dist-packages/sklearn/base.py:439: UserWarning: X does not have valid feature names, but RandomForestRegressor was fitted with feature names\n",
            "  warnings.warn(\n",
            "/usr/local/lib/python3.10/dist-packages/sklearn/base.py:439: UserWarning: X does not have valid feature names, but RandomForestRegressor was fitted with feature names\n",
            "  warnings.warn(\n",
            "/usr/local/lib/python3.10/dist-packages/sklearn/base.py:439: UserWarning: X does not have valid feature names, but RandomForestRegressor was fitted with feature names\n",
            "  warnings.warn(\n",
            "/usr/local/lib/python3.10/dist-packages/sklearn/base.py:439: UserWarning: X does not have valid feature names, but RandomForestRegressor was fitted with feature names\n",
            "  warnings.warn(\n",
            "/usr/local/lib/python3.10/dist-packages/sklearn/base.py:439: UserWarning: X does not have valid feature names, but RandomForestRegressor was fitted with feature names\n",
            "  warnings.warn(\n",
            "/usr/local/lib/python3.10/dist-packages/sklearn/base.py:439: UserWarning: X does not have valid feature names, but RandomForestRegressor was fitted with feature names\n",
            "  warnings.warn(\n",
            "/usr/local/lib/python3.10/dist-packages/sklearn/base.py:439: UserWarning: X does not have valid feature names, but RandomForestRegressor was fitted with feature names\n",
            "  warnings.warn(\n",
            "/usr/local/lib/python3.10/dist-packages/sklearn/base.py:439: UserWarning: X does not have valid feature names, but RandomForestRegressor was fitted with feature names\n",
            "  warnings.warn(\n",
            "/usr/local/lib/python3.10/dist-packages/sklearn/base.py:439: UserWarning: X does not have valid feature names, but RandomForestRegressor was fitted with feature names\n",
            "  warnings.warn(\n",
            "/usr/local/lib/python3.10/dist-packages/sklearn/base.py:439: UserWarning: X does not have valid feature names, but RandomForestRegressor was fitted with feature names\n",
            "  warnings.warn(\n",
            "/usr/local/lib/python3.10/dist-packages/sklearn/base.py:439: UserWarning: X does not have valid feature names, but RandomForestRegressor was fitted with feature names\n",
            "  warnings.warn(\n",
            "/usr/local/lib/python3.10/dist-packages/sklearn/base.py:439: UserWarning: X does not have valid feature names, but RandomForestRegressor was fitted with feature names\n",
            "  warnings.warn(\n",
            "/usr/local/lib/python3.10/dist-packages/sklearn/base.py:439: UserWarning: X does not have valid feature names, but RandomForestRegressor was fitted with feature names\n",
            "  warnings.warn(\n",
            "/usr/local/lib/python3.10/dist-packages/sklearn/base.py:439: UserWarning: X does not have valid feature names, but RandomForestRegressor was fitted with feature names\n",
            "  warnings.warn(\n",
            "/usr/local/lib/python3.10/dist-packages/sklearn/base.py:439: UserWarning: X does not have valid feature names, but RandomForestRegressor was fitted with feature names\n",
            "  warnings.warn(\n",
            "/usr/local/lib/python3.10/dist-packages/sklearn/base.py:439: UserWarning: X does not have valid feature names, but RandomForestRegressor was fitted with feature names\n",
            "  warnings.warn(\n",
            "/usr/local/lib/python3.10/dist-packages/sklearn/base.py:439: UserWarning: X does not have valid feature names, but RandomForestRegressor was fitted with feature names\n",
            "  warnings.warn(\n",
            "/usr/local/lib/python3.10/dist-packages/sklearn/base.py:439: UserWarning: X does not have valid feature names, but RandomForestRegressor was fitted with feature names\n",
            "  warnings.warn(\n",
            "/usr/local/lib/python3.10/dist-packages/sklearn/base.py:439: UserWarning: X does not have valid feature names, but RandomForestRegressor was fitted with feature names\n",
            "  warnings.warn(\n",
            "/usr/local/lib/python3.10/dist-packages/sklearn/base.py:439: UserWarning: X does not have valid feature names, but RandomForestRegressor was fitted with feature names\n",
            "  warnings.warn(\n",
            "/usr/local/lib/python3.10/dist-packages/sklearn/base.py:439: UserWarning: X does not have valid feature names, but RandomForestRegressor was fitted with feature names\n",
            "  warnings.warn(\n",
            "/usr/local/lib/python3.10/dist-packages/sklearn/base.py:439: UserWarning: X does not have valid feature names, but RandomForestRegressor was fitted with feature names\n",
            "  warnings.warn(\n",
            "/usr/local/lib/python3.10/dist-packages/sklearn/base.py:439: UserWarning: X does not have valid feature names, but RandomForestRegressor was fitted with feature names\n",
            "  warnings.warn(\n",
            "/usr/local/lib/python3.10/dist-packages/sklearn/base.py:439: UserWarning: X does not have valid feature names, but RandomForestRegressor was fitted with feature names\n",
            "  warnings.warn(\n",
            "/usr/local/lib/python3.10/dist-packages/sklearn/base.py:439: UserWarning: X does not have valid feature names, but RandomForestRegressor was fitted with feature names\n",
            "  warnings.warn(\n",
            "/usr/local/lib/python3.10/dist-packages/sklearn/base.py:439: UserWarning: X does not have valid feature names, but RandomForestRegressor was fitted with feature names\n",
            "  warnings.warn(\n",
            "/usr/local/lib/python3.10/dist-packages/sklearn/base.py:439: UserWarning: X does not have valid feature names, but RandomForestRegressor was fitted with feature names\n",
            "  warnings.warn(\n",
            "/usr/local/lib/python3.10/dist-packages/sklearn/base.py:439: UserWarning: X does not have valid feature names, but RandomForestRegressor was fitted with feature names\n",
            "  warnings.warn(\n",
            "/usr/local/lib/python3.10/dist-packages/sklearn/base.py:439: UserWarning: X does not have valid feature names, but RandomForestRegressor was fitted with feature names\n",
            "  warnings.warn(\n",
            "/usr/local/lib/python3.10/dist-packages/sklearn/base.py:439: UserWarning: X does not have valid feature names, but RandomForestRegressor was fitted with feature names\n",
            "  warnings.warn(\n",
            "/usr/local/lib/python3.10/dist-packages/sklearn/base.py:439: UserWarning: X does not have valid feature names, but RandomForestRegressor was fitted with feature names\n",
            "  warnings.warn(\n",
            "/usr/local/lib/python3.10/dist-packages/sklearn/base.py:439: UserWarning: X does not have valid feature names, but RandomForestRegressor was fitted with feature names\n",
            "  warnings.warn(\n",
            "/usr/local/lib/python3.10/dist-packages/sklearn/base.py:439: UserWarning: X does not have valid feature names, but RandomForestRegressor was fitted with feature names\n",
            "  warnings.warn(\n",
            "/usr/local/lib/python3.10/dist-packages/sklearn/base.py:439: UserWarning: X does not have valid feature names, but RandomForestRegressor was fitted with feature names\n",
            "  warnings.warn(\n",
            "/usr/local/lib/python3.10/dist-packages/sklearn/base.py:439: UserWarning: X does not have valid feature names, but RandomForestRegressor was fitted with feature names\n",
            "  warnings.warn(\n",
            "/usr/local/lib/python3.10/dist-packages/sklearn/base.py:439: UserWarning: X does not have valid feature names, but RandomForestRegressor was fitted with feature names\n",
            "  warnings.warn(\n",
            "/usr/local/lib/python3.10/dist-packages/sklearn/base.py:439: UserWarning: X does not have valid feature names, but RandomForestRegressor was fitted with feature names\n",
            "  warnings.warn(\n",
            "/usr/local/lib/python3.10/dist-packages/sklearn/base.py:439: UserWarning: X does not have valid feature names, but RandomForestRegressor was fitted with feature names\n",
            "  warnings.warn(\n",
            "/usr/local/lib/python3.10/dist-packages/sklearn/base.py:439: UserWarning: X does not have valid feature names, but RandomForestRegressor was fitted with feature names\n",
            "  warnings.warn(\n",
            "/usr/local/lib/python3.10/dist-packages/sklearn/base.py:439: UserWarning: X does not have valid feature names, but RandomForestRegressor was fitted with feature names\n",
            "  warnings.warn(\n",
            "/usr/local/lib/python3.10/dist-packages/sklearn/base.py:439: UserWarning: X does not have valid feature names, but RandomForestRegressor was fitted with feature names\n",
            "  warnings.warn(\n",
            "/usr/local/lib/python3.10/dist-packages/sklearn/base.py:439: UserWarning: X does not have valid feature names, but RandomForestRegressor was fitted with feature names\n",
            "  warnings.warn(\n",
            "/usr/local/lib/python3.10/dist-packages/sklearn/base.py:439: UserWarning: X does not have valid feature names, but RandomForestRegressor was fitted with feature names\n",
            "  warnings.warn(\n",
            "/usr/local/lib/python3.10/dist-packages/sklearn/base.py:439: UserWarning: X does not have valid feature names, but RandomForestRegressor was fitted with feature names\n",
            "  warnings.warn(\n",
            "/usr/local/lib/python3.10/dist-packages/sklearn/base.py:439: UserWarning: X does not have valid feature names, but RandomForestRegressor was fitted with feature names\n",
            "  warnings.warn(\n",
            "/usr/local/lib/python3.10/dist-packages/sklearn/base.py:439: UserWarning: X does not have valid feature names, but RandomForestRegressor was fitted with feature names\n",
            "  warnings.warn(\n",
            "/usr/local/lib/python3.10/dist-packages/sklearn/base.py:439: UserWarning: X does not have valid feature names, but RandomForestRegressor was fitted with feature names\n",
            "  warnings.warn(\n",
            "/usr/local/lib/python3.10/dist-packages/sklearn/base.py:439: UserWarning: X does not have valid feature names, but RandomForestRegressor was fitted with feature names\n",
            "  warnings.warn(\n",
            "/usr/local/lib/python3.10/dist-packages/sklearn/base.py:439: UserWarning: X does not have valid feature names, but RandomForestRegressor was fitted with feature names\n",
            "  warnings.warn(\n",
            "/usr/local/lib/python3.10/dist-packages/sklearn/base.py:439: UserWarning: X does not have valid feature names, but RandomForestRegressor was fitted with feature names\n",
            "  warnings.warn(\n",
            "/usr/local/lib/python3.10/dist-packages/sklearn/base.py:439: UserWarning: X does not have valid feature names, but RandomForestRegressor was fitted with feature names\n",
            "  warnings.warn(\n",
            "/usr/local/lib/python3.10/dist-packages/sklearn/base.py:439: UserWarning: X does not have valid feature names, but RandomForestRegressor was fitted with feature names\n",
            "  warnings.warn(\n",
            "/usr/local/lib/python3.10/dist-packages/sklearn/base.py:439: UserWarning: X does not have valid feature names, but RandomForestRegressor was fitted with feature names\n",
            "  warnings.warn(\n",
            "/usr/local/lib/python3.10/dist-packages/sklearn/base.py:439: UserWarning: X does not have valid feature names, but RandomForestRegressor was fitted with feature names\n",
            "  warnings.warn(\n",
            "/usr/local/lib/python3.10/dist-packages/sklearn/base.py:439: UserWarning: X does not have valid feature names, but RandomForestRegressor was fitted with feature names\n",
            "  warnings.warn(\n",
            "/usr/local/lib/python3.10/dist-packages/sklearn/base.py:439: UserWarning: X does not have valid feature names, but RandomForestRegressor was fitted with feature names\n",
            "  warnings.warn(\n",
            "/usr/local/lib/python3.10/dist-packages/sklearn/base.py:439: UserWarning: X does not have valid feature names, but RandomForestRegressor was fitted with feature names\n",
            "  warnings.warn(\n",
            "/usr/local/lib/python3.10/dist-packages/sklearn/base.py:439: UserWarning: X does not have valid feature names, but RandomForestRegressor was fitted with feature names\n",
            "  warnings.warn(\n",
            "/usr/local/lib/python3.10/dist-packages/sklearn/base.py:439: UserWarning: X does not have valid feature names, but RandomForestRegressor was fitted with feature names\n",
            "  warnings.warn(\n",
            "/usr/local/lib/python3.10/dist-packages/sklearn/base.py:439: UserWarning: X does not have valid feature names, but RandomForestRegressor was fitted with feature names\n",
            "  warnings.warn(\n",
            "/usr/local/lib/python3.10/dist-packages/sklearn/base.py:439: UserWarning: X does not have valid feature names, but RandomForestRegressor was fitted with feature names\n",
            "  warnings.warn(\n",
            "/usr/local/lib/python3.10/dist-packages/sklearn/base.py:439: UserWarning: X does not have valid feature names, but RandomForestRegressor was fitted with feature names\n",
            "  warnings.warn(\n",
            "/usr/local/lib/python3.10/dist-packages/sklearn/base.py:439: UserWarning: X does not have valid feature names, but RandomForestRegressor was fitted with feature names\n",
            "  warnings.warn(\n",
            "/usr/local/lib/python3.10/dist-packages/sklearn/base.py:439: UserWarning: X does not have valid feature names, but RandomForestRegressor was fitted with feature names\n",
            "  warnings.warn(\n",
            "/usr/local/lib/python3.10/dist-packages/sklearn/base.py:439: UserWarning: X does not have valid feature names, but RandomForestRegressor was fitted with feature names\n",
            "  warnings.warn(\n",
            "/usr/local/lib/python3.10/dist-packages/sklearn/base.py:439: UserWarning: X does not have valid feature names, but RandomForestRegressor was fitted with feature names\n",
            "  warnings.warn(\n",
            "/usr/local/lib/python3.10/dist-packages/sklearn/base.py:439: UserWarning: X does not have valid feature names, but RandomForestRegressor was fitted with feature names\n",
            "  warnings.warn(\n",
            "/usr/local/lib/python3.10/dist-packages/sklearn/base.py:439: UserWarning: X does not have valid feature names, but RandomForestRegressor was fitted with feature names\n",
            "  warnings.warn(\n",
            "/usr/local/lib/python3.10/dist-packages/sklearn/base.py:439: UserWarning: X does not have valid feature names, but RandomForestRegressor was fitted with feature names\n",
            "  warnings.warn(\n",
            "/usr/local/lib/python3.10/dist-packages/sklearn/base.py:439: UserWarning: X does not have valid feature names, but RandomForestRegressor was fitted with feature names\n",
            "  warnings.warn(\n",
            "/usr/local/lib/python3.10/dist-packages/sklearn/base.py:439: UserWarning: X does not have valid feature names, but RandomForestRegressor was fitted with feature names\n",
            "  warnings.warn(\n",
            "/usr/local/lib/python3.10/dist-packages/sklearn/base.py:439: UserWarning: X does not have valid feature names, but RandomForestRegressor was fitted with feature names\n",
            "  warnings.warn(\n",
            "/usr/local/lib/python3.10/dist-packages/sklearn/base.py:439: UserWarning: X does not have valid feature names, but RandomForestRegressor was fitted with feature names\n",
            "  warnings.warn(\n",
            "/usr/local/lib/python3.10/dist-packages/sklearn/base.py:439: UserWarning: X does not have valid feature names, but RandomForestRegressor was fitted with feature names\n",
            "  warnings.warn(\n",
            "/usr/local/lib/python3.10/dist-packages/sklearn/base.py:439: UserWarning: X does not have valid feature names, but RandomForestRegressor was fitted with feature names\n",
            "  warnings.warn(\n",
            "/usr/local/lib/python3.10/dist-packages/sklearn/base.py:439: UserWarning: X does not have valid feature names, but RandomForestRegressor was fitted with feature names\n",
            "  warnings.warn(\n",
            "/usr/local/lib/python3.10/dist-packages/sklearn/base.py:439: UserWarning: X does not have valid feature names, but RandomForestRegressor was fitted with feature names\n",
            "  warnings.warn(\n",
            "/usr/local/lib/python3.10/dist-packages/sklearn/base.py:439: UserWarning: X does not have valid feature names, but RandomForestRegressor was fitted with feature names\n",
            "  warnings.warn(\n",
            "/usr/local/lib/python3.10/dist-packages/sklearn/base.py:439: UserWarning: X does not have valid feature names, but RandomForestRegressor was fitted with feature names\n",
            "  warnings.warn(\n",
            "/usr/local/lib/python3.10/dist-packages/sklearn/base.py:439: UserWarning: X does not have valid feature names, but RandomForestRegressor was fitted with feature names\n",
            "  warnings.warn(\n",
            "/usr/local/lib/python3.10/dist-packages/sklearn/base.py:439: UserWarning: X does not have valid feature names, but RandomForestRegressor was fitted with feature names\n",
            "  warnings.warn(\n",
            "/usr/local/lib/python3.10/dist-packages/sklearn/base.py:439: UserWarning: X does not have valid feature names, but RandomForestRegressor was fitted with feature names\n",
            "  warnings.warn(\n",
            "/usr/local/lib/python3.10/dist-packages/sklearn/base.py:439: UserWarning: X does not have valid feature names, but RandomForestRegressor was fitted with feature names\n",
            "  warnings.warn(\n",
            "/usr/local/lib/python3.10/dist-packages/sklearn/base.py:439: UserWarning: X does not have valid feature names, but RandomForestRegressor was fitted with feature names\n",
            "  warnings.warn(\n",
            "/usr/local/lib/python3.10/dist-packages/sklearn/base.py:439: UserWarning: X does not have valid feature names, but RandomForestRegressor was fitted with feature names\n",
            "  warnings.warn(\n",
            "/usr/local/lib/python3.10/dist-packages/sklearn/base.py:439: UserWarning: X does not have valid feature names, but RandomForestRegressor was fitted with feature names\n",
            "  warnings.warn(\n",
            "/usr/local/lib/python3.10/dist-packages/sklearn/base.py:439: UserWarning: X does not have valid feature names, but RandomForestRegressor was fitted with feature names\n",
            "  warnings.warn(\n",
            "/usr/local/lib/python3.10/dist-packages/sklearn/base.py:439: UserWarning: X does not have valid feature names, but RandomForestRegressor was fitted with feature names\n",
            "  warnings.warn(\n",
            "/usr/local/lib/python3.10/dist-packages/sklearn/base.py:439: UserWarning: X does not have valid feature names, but RandomForestRegressor was fitted with feature names\n",
            "  warnings.warn(\n",
            "/usr/local/lib/python3.10/dist-packages/sklearn/base.py:439: UserWarning: X does not have valid feature names, but RandomForestRegressor was fitted with feature names\n",
            "  warnings.warn(\n"
          ]
        }
      ]
    },
    {
      "cell_type": "code",
      "source": [
        "# Chuyển đổi dự báo về thang đo gốc\n",
        "forecast_30_days_inverse = scaler.inverse_transform(forecast_30_days.reshape(-1, 1))\n",
        "forecast_60_days_inverse = scaler.inverse_transform(forecast_60_days.reshape(-1, 1))\n",
        "forecast_90_days_inverse = scaler.inverse_transform(forecast_90_days.reshape(-1, 1))"
      ],
      "metadata": {
        "id": "Z8c-avo52WsM"
      },
      "execution_count": 18,
      "outputs": []
    },
    {
      "cell_type": "code",
      "source": [
        "print('Predicted closing prices for the next 30 days:')\n",
        "print(forecast_30_days_inverse.flatten())\n",
        "\n",
        "print('Predicted closing prices for the next 60 days:')\n",
        "print(forecast_60_days_inverse.flatten())\n",
        "\n",
        "print('Predicted closing prices for the next 90 days:')\n",
        "print(forecast_90_days_inverse.flatten())"
      ],
      "metadata": {
        "colab": {
          "base_uri": "https://localhost:8080/"
        },
        "id": "BFOWEhtbtDiC",
        "outputId": "6f6d1ab9-afd9-4e53-dd30-44dd881cba45"
      },
      "execution_count": 19,
      "outputs": [
        {
          "output_type": "stream",
          "name": "stdout",
          "text": [
            "Predicted closing prices for the next 30 days:\n",
            "[65017.96981881 65603.37407882 63955.96771826 63538.98577543\n",
            " 63337.86007526 63359.27524331 63003.58052046 62648.56017851\n",
            " 62960.79521681 62759.84787752 62712.71348041 64525.50888131\n",
            " 64570.18083005 64363.71156411 64355.79374276 64331.50442231\n",
            " 64374.1852522  64364.77664371 64358.8599279  64366.77774925\n",
            " 64366.77774925 64587.14445767 64697.08022564 64651.27642258\n",
            " 64682.88222299 64848.07701956 64902.73677047 64891.09105997\n",
            " 64862.42736596 64890.97420413]\n",
            "Predicted closing prices for the next 60 days:\n",
            "[65017.96981881 65603.37407882 63955.96771826 63538.98577543\n",
            " 63337.86007526 63359.27524331 63003.58052046 62648.56017851\n",
            " 62960.79521681 62759.84787752 62712.71348041 64525.50888131\n",
            " 64570.18083005 64363.71156411 64355.79374276 64331.50442231\n",
            " 64374.1852522  64364.77664371 64358.8599279  64366.77774925\n",
            " 64366.77774925 64587.14445767 64697.08022564 64651.27642258\n",
            " 64682.88222299 64848.07701956 64902.73677047 64891.09105997\n",
            " 64862.42736596 64890.97420413 65061.21543349 65215.40168054\n",
            " 64093.67743971 63965.36954614 63779.58785392 62962.57720386\n",
            " 62839.37190463 62804.60336838 62774.79654349 62725.85627965\n",
            " 64689.60580054 64683.56552194 64642.77358504 64629.64066198\n",
            " 64632.89677932 64465.6889742  64456.28036571 64450.3636499\n",
            " 64501.18237778 64501.60944883 64727.5893648  64765.27516963\n",
            " 64765.27516963 64784.05026544 64743.40610271 64752.9994105\n",
            " 64883.46676014 64921.24498832 64884.83545855 64890.90650808]\n",
            "Predicted closing prices for the next 90 days:\n",
            "[65017.96981881 65603.37407882 63955.96771826 63538.98577543\n",
            " 63337.86007526 63359.27524331 63003.58052046 62648.56017851\n",
            " 62960.79521681 62759.84787752 62712.71348041 64525.50888131\n",
            " 64570.18083005 64363.71156411 64355.79374276 64331.50442231\n",
            " 64374.1852522  64364.77664371 64358.8599279  64366.77774925\n",
            " 64366.77774925 64587.14445767 64697.08022564 64651.27642258\n",
            " 64682.88222299 64848.07701956 64902.73677047 64891.09105997\n",
            " 64862.42736596 64890.97420413 65061.21543349 65215.40168054\n",
            " 64093.67743971 63965.36954614 63779.58785392 62962.57720386\n",
            " 62839.37190463 62804.60336838 62774.79654349 62725.85627965\n",
            " 64689.60580054 64683.56552194 64642.77358504 64629.64066198\n",
            " 64632.89677932 64465.6889742  64456.28036571 64450.3636499\n",
            " 64501.18237778 64501.60944883 64727.5893648  64765.27516963\n",
            " 64765.27516963 64784.05026544 64743.40610271 64752.9994105\n",
            " 64883.46676014 64921.24498832 64884.83545855 64890.90650808\n",
            " 65106.48695471 65100.97932647 64981.65496032 63972.4558153\n",
            " 62965.83545858 62850.30907297 62854.43591555 62852.29267409\n",
            " 62796.288731   64724.33324746 64727.29160537 64695.24797329\n",
            " 64676.04580643 64632.89677932 64465.6889742  64456.28036571\n",
            " 64482.40728197 64501.18237778 64514.74237189 64746.36446061\n",
            " 64784.05026544 64784.05026544 64784.05026544 64784.05026544\n",
            " 64772.8106207  64752.9994105  64907.11807205 64906.39324157\n",
            " 64911.26588308 64889.36552929]\n"
          ]
        }
      ]
    },
    {
      "cell_type": "code",
      "source": [
        "# Tạo trục x cho các dự báo tương lai\n",
        "index_future = pd.date_range(start=df.index[-1], periods=90, freq='D')\n",
        "index_next_30_days = index_future[:30]\n",
        "index_next_60_days = index_future[:60]\n",
        "index_next_90_days = index_future[:90]\n",
        "\n",
        "# Tạo trục x cho tập huấn luyện và kiểm tra\n",
        "train_dates = df.index[:train_size]\n",
        "test_dates = df.index[train_size:train_size + len(y_test)]\n",
        "predict_dates_30 = index_next_30_days\n",
        "predict_dates_60 = index_next_60_days\n",
        "predict_dates_90 = index_next_90_days"
      ],
      "metadata": {
        "id": "Ok9gXYUS4oaD"
      },
      "execution_count": 20,
      "outputs": []
    },
    {
      "cell_type": "code",
      "source": [
        "# Vẽ đồ thị cho dự đoán 30, 60, 90 ngày trên cùng một biểu đồ\n",
        "plt.figure(figsize=(16, 5))\n",
        "\n",
        "# Đồ thị cho tập huấn luyện\n",
        "plt.plot(train_dates, scaler.inverse_transform(train_data['target'].values.reshape(-1, 1)),\n",
        "         color='#1f77b4', linestyle='-', label='Train')\n",
        "\n",
        "# Đồ thị cho tập kiểm tra\n",
        "plt.plot(test_dates, y_test_inverse, color='#ff7f0e', linestyle='-', label='Test')\n",
        "plt.plot(test_dates, y_pred_inverse, color='#2ca02c', linestyle='-', label='Predict')\n",
        "\n",
        "# Đồ thị cho dự báo 30 ngày\n",
        "plt.plot(predict_dates_30, forecast_30_days_inverse, color='#d62728', linestyle='-', label='Predict30days')\n",
        "\n",
        "# Đồ thị cho dự báo 60 ngày\n",
        "plt.plot(predict_dates_60, forecast_60_days_inverse[:60], color='#9467bd', linestyle='-', label='Predict60days')\n",
        "\n",
        "# Đồ thị cho dự báo 90 ngày\n",
        "plt.plot(predict_dates_90, forecast_90_days_inverse[:90], color='#8c564b', linestyle='-', label='Predict90days')\n",
        "\n",
        "plt.legend()\n",
        "plt.title(\"Biểu đồ dự báo giá trị Close của dữ liệu BTC (7:3)\")\n",
        "plt.xlabel(\"Ngày\")\n",
        "plt.ylabel(\"Giá trị đóng cửa\")\n",
        "plt.grid(False)\n",
        "plt.savefig('RandomForest_BTC_73.png')\n",
        "plt.show()"
      ],
      "metadata": {
        "colab": {
          "base_uri": "https://localhost:8080/",
          "height": 472
        },
        "id": "qwFZjlrFQgcc",
        "outputId": "c1c106ac-00dc-4883-f6f9-7e0c48ce9803"
      },
      "execution_count": 21,
      "outputs": [
        {
          "output_type": "display_data",
          "data": {
            "text/plain": [
              "<Figure size 1600x500 with 1 Axes>"
            ],
            "image/png": "[encoded data removed]"
          },
          "metadata": {}
        }
      ]
    }
  ]
}