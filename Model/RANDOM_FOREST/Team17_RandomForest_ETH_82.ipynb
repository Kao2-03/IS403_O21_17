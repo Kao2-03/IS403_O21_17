{
  "nbformat": 4,
  "nbformat_minor": 0,
  "metadata": {
    "colab": {
      "provenance": []
    },
    "kernelspec": {
      "name": "python3",
      "display_name": "Python 3"
    },
    "language_info": {
      "name": "python"
    }
  },
  "cells": [
    {
      "cell_type": "code",
      "source": [
        "pip install optuna"
      ],
      "metadata": {
        "colab": {
          "base_uri": "https://localhost:8080/"
        },
        "id": "4Gb8MhQT2meX",
        "outputId": "00314a9f-fea3-48ed-eecc-bdc6d16584d7"
      },
      "execution_count": 1,
      "outputs": [
        {
          "output_type": "stream",
          "name": "stdout",
          "text": [
            "Collecting optuna\n",
            "  Downloading optuna-3.6.1-py3-none-any.whl (380 kB)\n",
            "\u001b[2K     \u001b[90m━━━━━━━━━━━━━━━━━━━━━━━━━━━━━━━━━━━━━━━━\u001b[0m \u001b[32m380.1/380.1 kB\u001b[0m \u001b[31m4.6 MB/s\u001b[0m eta \u001b[36m0:00:00\u001b[0m\n",
            "\u001b[?25hCollecting alembic>=1.5.0 (from optuna)\n",
            "  Downloading alembic-1.13.1-py3-none-any.whl (233 kB)\n",
            "\u001b[2K     \u001b[90m━━━━━━━━━━━━━━━━━━━━━━━━━━━━━━━━━━━━━━━━\u001b[0m \u001b[32m233.4/233.4 kB\u001b[0m \u001b[31m4.6 MB/s\u001b[0m eta \u001b[36m0:00:00\u001b[0m\n",
            "\u001b[?25hCollecting colorlog (from optuna)\n",
            "  Downloading colorlog-6.8.2-py3-none-any.whl (11 kB)\n",
            "Requirement already satisfied: numpy in /usr/local/lib/python3.10/dist-packages (from optuna) (1.25.2)\n",
            "Requirement already satisfied: packaging>=20.0 in /usr/local/lib/python3.10/dist-packages (from optuna) (24.1)\n",
            "Requirement already satisfied: sqlalchemy>=1.3.0 in /usr/local/lib/python3.10/dist-packages (from optuna) (2.0.30)\n",
            "Requirement already satisfied: tqdm in /usr/local/lib/python3.10/dist-packages (from optuna) (4.66.4)\n",
            "Requirement already satisfied: PyYAML in /usr/local/lib/python3.10/dist-packages (from optuna) (6.0.1)\n",
            "Collecting Mako (from alembic>=1.5.0->optuna)\n",
            "  Downloading Mako-1.3.5-py3-none-any.whl (78 kB)\n",
            "\u001b[2K     \u001b[90m━━━━━━━━━━━━━━━━━━━━━━━━━━━━━━━━━━━━━━━━\u001b[0m \u001b[32m78.6/78.6 kB\u001b[0m \u001b[31m6.9 MB/s\u001b[0m eta \u001b[36m0:00:00\u001b[0m\n",
            "\u001b[?25hRequirement already satisfied: typing-extensions>=4 in /usr/local/lib/python3.10/dist-packages (from alembic>=1.5.0->optuna) (4.12.2)\n",
            "Requirement already satisfied: greenlet!=0.4.17 in /usr/local/lib/python3.10/dist-packages (from sqlalchemy>=1.3.0->optuna) (3.0.3)\n",
            "Requirement already satisfied: MarkupSafe>=0.9.2 in /usr/local/lib/python3.10/dist-packages (from Mako->alembic>=1.5.0->optuna) (2.1.5)\n",
            "Installing collected packages: Mako, colorlog, alembic, optuna\n",
            "Successfully installed Mako-1.3.5 alembic-1.13.1 colorlog-6.8.2 optuna-3.6.1\n"
          ]
        }
      ]
    },
    {
      "cell_type": "code",
      "execution_count": 2,
      "metadata": {
        "id": "sYz7-uhJL_Xb"
      },
      "outputs": [],
      "source": [
        "import optuna\n",
        "import pandas as pd\n",
        "import numpy as np\n",
        "import matplotlib.pyplot as plt\n",
        "from sklearn.preprocessing import MinMaxScaler\n",
        "from sklearn.ensemble import RandomForestRegressor\n",
        "from sklearn.metrics import mean_squared_error,mean_absolute_percentage_error\n",
        "from sklearn.model_selection import TimeSeriesSplit"
      ]
    },
    {
      "cell_type": "code",
      "source": [
        "df = pd.read_csv('ETH-USD.csv')"
      ],
      "metadata": {
        "id": "oNpkUoF4MbtN"
      },
      "execution_count": 3,
      "outputs": []
    },
    {
      "cell_type": "code",
      "source": [
        "df['Date'] = pd.to_datetime(df['Date'])\n",
        "df.set_index('Date', inplace=True)"
      ],
      "metadata": {
        "id": "k2rwlrAJQAcv"
      },
      "execution_count": 4,
      "outputs": []
    },
    {
      "cell_type": "code",
      "source": [
        "df_Close = df[['Close']]\n",
        "df_Close = df_Close.reset_index(drop=True)"
      ],
      "metadata": {
        "id": "B-TrgtWjQBvg"
      },
      "execution_count": 5,
      "outputs": []
    },
    {
      "cell_type": "code",
      "source": [
        "scaler = MinMaxScaler(feature_range=(0, 1))\n",
        "data_scaled = scaler.fit_transform(np.array(df_Close).reshape(-1, 1))"
      ],
      "metadata": {
        "id": "B1NTNnb-O-1M"
      },
      "execution_count": 6,
      "outputs": []
    },
    {
      "cell_type": "code",
      "source": [
        "# Hàm tạo đặc trưng lag\n",
        "def create_lagged_features(data, n_lags=1):\n",
        "    df_lags = pd.DataFrame()\n",
        "    for i in range(n_lags):\n",
        "        df_lags[f'lag_{i+1}'] = np.roll(data, shift=i+1)\n",
        "    df_lags['target'] = data\n",
        "    return df_lags.iloc[n_lags:]"
      ],
      "metadata": {
        "id": "GzM0TImwQ4nm"
      },
      "execution_count": 7,
      "outputs": []
    },
    {
      "cell_type": "code",
      "source": [
        "# Hàm tối ưu hóa sử dụng Optuna\n",
        "def objective(trial):\n",
        "    # Gợi ý giá trị cho n_lags và n_estimators\n",
        "    n_lags = trial.suggest_int('n_lags', 1, 30)                 # Tìm số lượng lag từ 1 đến 30\n",
        "    n_estimators = trial.suggest_int('n_estimators', 10, 200)   # Tìm số lượng cây từ 10 đến 200\n",
        "\n",
        "    # Tạo đặc trưng lag\n",
        "    lagged_data = create_lagged_features(data_scaled.flatten(), n_lags)\n",
        "    X, y = lagged_data.iloc[:, :-1], lagged_data.iloc[:, -1]\n",
        "\n",
        "    tscv = TimeSeriesSplit(n_splits=5)\n",
        "    errors = []\n",
        "\n",
        "    for train_index, test_index in tscv.split(X):\n",
        "        X_train, X_test = X.iloc[train_index], X.iloc[test_index]\n",
        "        y_train, y_test = y.iloc[train_index], y.iloc[test_index]\n",
        "\n",
        "        rf_model = RandomForestRegressor(n_estimators=n_estimators, random_state=42)\n",
        "        rf_model.fit(X_train, y_train)\n",
        "        y_pred = rf_model.predict(X_test)\n",
        "\n",
        "        errors.append(mean_squared_error(y_test, y_pred))\n",
        "\n",
        "    return np.mean(errors)"
      ],
      "metadata": {
        "id": "3OZTwxsgcchh"
      },
      "execution_count": 8,
      "outputs": []
    },
    {
      "cell_type": "markdown",
      "source": [
        "**Tìm kiếm tham số tối ưu**"
      ],
      "metadata": {
        "id": "af9bdtAd1RhK"
      }
    },
    {
      "cell_type": "code",
      "source": [
        "study = optuna.create_study(direction='minimize')\n",
        "study.optimize(objective, n_trials=50)  # Thử nghiệm 50 lần để tìm giá trị tối ưu\n",
        "\n",
        "# In ra tham số tối ưu\n",
        "best_params = study.best_params\n",
        "print(f'Best parameters: {best_params}')\n",
        "print(f'Best trial value: {study.best_value}')\n"
      ],
      "metadata": {
        "id": "kuHoDwlidiQi",
        "colab": {
          "base_uri": "https://localhost:8080/"
        },
        "outputId": "4c15c0c8-6bb2-40ef-aadb-cad33634c618"
      },
      "execution_count": 9,
      "outputs": [
        {
          "output_type": "stream",
          "name": "stderr",
          "text": [
            "[I 2024-06-21 14:26:33,064] A new study created in memory with name: no-name-99f5b837-3635-4544-9321-eabf3a9aa44c\n",
            "[I 2024-06-21 14:26:36,703] Trial 0 finished with value: 0.034074352555499475 and parameters: {'n_lags': 5, 'n_estimators': 157}. Best is trial 0 with value: 0.034074352555499475.\n",
            "[I 2024-06-21 14:26:38,692] Trial 1 finished with value: 0.03596530613436991 and parameters: {'n_lags': 28, 'n_estimators': 20}. Best is trial 0 with value: 0.034074352555499475.\n",
            "[I 2024-06-21 14:26:40,794] Trial 2 finished with value: 0.036205376604361725 and parameters: {'n_lags': 13, 'n_estimators': 32}. Best is trial 0 with value: 0.034074352555499475.\n",
            "[I 2024-06-21 14:26:48,331] Trial 3 finished with value: 0.03615382040098565 and parameters: {'n_lags': 25, 'n_estimators': 103}. Best is trial 0 with value: 0.034074352555499475.\n",
            "[I 2024-06-21 14:26:51,865] Trial 4 finished with value: 0.034093192235329736 and parameters: {'n_lags': 3, 'n_estimators': 196}. Best is trial 0 with value: 0.034074352555499475.\n",
            "[I 2024-06-21 14:26:57,698] Trial 5 finished with value: 0.03612722610740497 and parameters: {'n_lags': 16, 'n_estimators': 97}. Best is trial 0 with value: 0.034074352555499475.\n",
            "[I 2024-06-21 14:27:00,557] Trial 6 finished with value: 0.03518846367668812 and parameters: {'n_lags': 7, 'n_estimators': 102}. Best is trial 0 with value: 0.034074352555499475.\n",
            "[I 2024-06-21 14:27:03,820] Trial 7 finished with value: 0.03408911924702859 and parameters: {'n_lags': 3, 'n_estimators': 192}. Best is trial 0 with value: 0.034074352555499475.\n",
            "[I 2024-06-21 14:27:17,943] Trial 8 finished with value: 0.036137616122433665 and parameters: {'n_lags': 27, 'n_estimators': 168}. Best is trial 0 with value: 0.034074352555499475.\n",
            "[I 2024-06-21 14:27:22,517] Trial 9 finished with value: 0.036490115538640615 and parameters: {'n_lags': 29, 'n_estimators': 36}. Best is trial 0 with value: 0.034074352555499475.\n",
            "[I 2024-06-21 14:27:27,969] Trial 10 finished with value: 0.03492637733419861 and parameters: {'n_lags': 11, 'n_estimators': 145}. Best is trial 0 with value: 0.034074352555499475.\n",
            "[I 2024-06-21 14:27:30,717] Trial 11 finished with value: 0.03379359372666243 and parameters: {'n_lags': 2, 'n_estimators': 199}. Best is trial 11 with value: 0.03379359372666243.\n",
            "[I 2024-06-21 14:27:32,584] Trial 12 finished with value: 0.033463686135237036 and parameters: {'n_lags': 1, 'n_estimators': 142}. Best is trial 12 with value: 0.033463686135237036.\n",
            "[I 2024-06-21 14:27:35,196] Trial 13 finished with value: 0.03346038529547797 and parameters: {'n_lags': 1, 'n_estimators': 131}. Best is trial 13 with value: 0.03346038529547797.\n",
            "[I 2024-06-21 14:27:44,126] Trial 14 finished with value: 0.0372927139995594 and parameters: {'n_lags': 19, 'n_estimators': 131}. Best is trial 13 with value: 0.03346038529547797.\n",
            "[I 2024-06-21 14:27:46,198] Trial 15 finished with value: 0.034949875904480704 and parameters: {'n_lags': 8, 'n_estimators': 68}. Best is trial 13 with value: 0.03346038529547797.\n",
            "[I 2024-06-21 14:27:47,809] Trial 16 finished with value: 0.03346038529547797 and parameters: {'n_lags': 1, 'n_estimators': 131}. Best is trial 13 with value: 0.03346038529547797.\n",
            "[I 2024-06-21 14:27:53,132] Trial 17 finished with value: 0.037331697638867796 and parameters: {'n_lags': 21, 'n_estimators': 70}. Best is trial 13 with value: 0.03346038529547797.\n",
            "[I 2024-06-21 14:27:57,535] Trial 18 finished with value: 0.03489435151368396 and parameters: {'n_lags': 10, 'n_estimators': 126}. Best is trial 13 with value: 0.03346038529547797.\n",
            "[I 2024-06-21 14:27:59,631] Trial 19 finished with value: 0.035274631260974916 and parameters: {'n_lags': 7, 'n_estimators': 76}. Best is trial 13 with value: 0.03346038529547797.\n",
            "[I 2024-06-21 14:28:06,515] Trial 20 finished with value: 0.03606652545995108 and parameters: {'n_lags': 15, 'n_estimators': 121}. Best is trial 13 with value: 0.03346038529547797.\n",
            "[I 2024-06-21 14:28:08,338] Trial 21 finished with value: 0.03345795325300081 and parameters: {'n_lags': 1, 'n_estimators': 172}. Best is trial 21 with value: 0.03345795325300081.\n",
            "[I 2024-06-21 14:28:12,124] Trial 22 finished with value: 0.03405334024979597 and parameters: {'n_lags': 5, 'n_estimators': 172}. Best is trial 21 with value: 0.03345795325300081.\n",
            "[I 2024-06-21 14:28:17,213] Trial 23 finished with value: 0.03403984237594853 and parameters: {'n_lags': 5, 'n_estimators': 176}. Best is trial 21 with value: 0.03345795325300081.\n",
            "[I 2024-06-21 14:28:19,747] Trial 24 finished with value: 0.03412137958498539 and parameters: {'n_lags': 3, 'n_estimators': 151}. Best is trial 21 with value: 0.03345795325300081.\n",
            "[I 2024-06-21 14:28:21,025] Trial 25 finished with value: 0.03345028694248473 and parameters: {'n_lags': 1, 'n_estimators': 116}. Best is trial 25 with value: 0.03345028694248473.\n",
            "[I 2024-06-21 14:28:23,894] Trial 26 finished with value: 0.034909644022848796 and parameters: {'n_lags': 9, 'n_estimators': 87}. Best is trial 25 with value: 0.03345028694248473.\n",
            "[I 2024-06-21 14:28:26,509] Trial 27 finished with value: 0.034022726093940234 and parameters: {'n_lags': 5, 'n_estimators': 115}. Best is trial 25 with value: 0.03345028694248473.\n",
            "[I 2024-06-21 14:28:33,622] Trial 28 finished with value: 0.034923352109599376 and parameters: {'n_lags': 11, 'n_estimators': 158}. Best is trial 25 with value: 0.03345028694248473.\n",
            "[I 2024-06-21 14:28:35,554] Trial 29 finished with value: 0.03344743074636925 and parameters: {'n_lags': 1, 'n_estimators': 183}. Best is trial 29 with value: 0.03344743074636925.\n",
            "[I 2024-06-21 14:28:40,122] Trial 30 finished with value: 0.03395678006006477 and parameters: {'n_lags': 6, 'n_estimators': 185}. Best is trial 29 with value: 0.03344743074636925.\n",
            "[I 2024-06-21 14:28:43,041] Trial 31 finished with value: 0.03344916533119076 and parameters: {'n_lags': 1, 'n_estimators': 182}. Best is trial 29 with value: 0.03344743074636925.\n",
            "[I 2024-06-21 14:28:46,109] Trial 32 finished with value: 0.03411333879642784 and parameters: {'n_lags': 3, 'n_estimators': 162}. Best is trial 29 with value: 0.03344743074636925.\n",
            "[I 2024-06-21 14:28:49,637] Trial 33 finished with value: 0.03410987017267876 and parameters: {'n_lags': 4, 'n_estimators': 182}. Best is trial 29 with value: 0.03344743074636925.\n",
            "[I 2024-06-21 14:28:50,213] Trial 34 finished with value: 0.033468209436981575 and parameters: {'n_lags': 1, 'n_estimators': 52}. Best is trial 29 with value: 0.03344743074636925.\n",
            "[I 2024-06-21 14:28:55,210] Trial 35 finished with value: 0.03396481044885844 and parameters: {'n_lags': 6, 'n_estimators': 187}. Best is trial 29 with value: 0.03344743074636925.\n",
            "[I 2024-06-21 14:28:58,856] Trial 36 finished with value: 0.034112194672102414 and parameters: {'n_lags': 3, 'n_estimators': 167}. Best is trial 29 with value: 0.03344743074636925.\n",
            "[I 2024-06-21 14:29:05,234] Trial 37 finished with value: 0.03607714738323618 and parameters: {'n_lags': 13, 'n_estimators': 149}. Best is trial 29 with value: 0.03344743074636925.\n",
            "[I 2024-06-21 14:29:10,065] Trial 38 finished with value: 0.03408740453939994 and parameters: {'n_lags': 4, 'n_estimators': 200}. Best is trial 29 with value: 0.03344743074636925.\n",
            "[I 2024-06-21 14:29:11,475] Trial 39 finished with value: 0.03706687104541903 and parameters: {'n_lags': 23, 'n_estimators': 16}. Best is trial 29 with value: 0.03344743074636925.\n",
            "[I 2024-06-21 14:29:13,920] Trial 40 finished with value: 0.03379434835986957 and parameters: {'n_lags': 2, 'n_estimators': 177}. Best is trial 29 with value: 0.03344743074636925.\n",
            "[I 2024-06-21 14:29:15,121] Trial 41 finished with value: 0.03347237742016226 and parameters: {'n_lags': 1, 'n_estimators': 109}. Best is trial 29 with value: 0.03344743074636925.\n",
            "[I 2024-06-21 14:29:16,569] Trial 42 finished with value: 0.03346017651557289 and parameters: {'n_lags': 1, 'n_estimators': 139}. Best is trial 29 with value: 0.03344743074636925.\n",
            "[I 2024-06-21 14:29:19,272] Trial 43 finished with value: 0.034127381474832234 and parameters: {'n_lags': 4, 'n_estimators': 139}. Best is trial 29 with value: 0.03344743074636925.\n",
            "[I 2024-06-21 14:29:21,733] Trial 44 finished with value: 0.03378368394254798 and parameters: {'n_lags': 2, 'n_estimators': 158}. Best is trial 29 with value: 0.03344743074636925.\n",
            "[I 2024-06-21 14:29:27,773] Trial 45 finished with value: 0.0350091093902358 and parameters: {'n_lags': 7, 'n_estimators': 191}. Best is trial 29 with value: 0.03344743074636925.\n",
            "[I 2024-06-21 14:29:30,040] Trial 46 finished with value: 0.03378918227805776 and parameters: {'n_lags': 2, 'n_estimators': 167}. Best is trial 29 with value: 0.03344743074636925.\n",
            "[I 2024-06-21 14:29:32,008] Trial 47 finished with value: 0.034166388054743015 and parameters: {'n_lags': 4, 'n_estimators': 101}. Best is trial 29 with value: 0.03344743074636925.\n",
            "[I 2024-06-21 14:29:36,612] Trial 48 finished with value: 0.03400366372620927 and parameters: {'n_lags': 6, 'n_estimators': 151}. Best is trial 29 with value: 0.03344743074636925.\n",
            "[I 2024-06-21 14:29:37,822] Trial 49 finished with value: 0.033483697031624134 and parameters: {'n_lags': 1, 'n_estimators': 92}. Best is trial 29 with value: 0.03344743074636925.\n"
          ]
        },
        {
          "output_type": "stream",
          "name": "stdout",
          "text": [
            "Best parameters: {'n_lags': 1, 'n_estimators': 183}\n",
            "Best trial value: 0.03344743074636925\n"
          ]
        }
      ]
    },
    {
      "cell_type": "markdown",
      "source": [
        "**Sử dụng tham số tối ưu để huấn luyện mô hình cuối cùng**"
      ],
      "metadata": {
        "id": "RjYSlMn31adp"
      }
    },
    {
      "cell_type": "code",
      "source": [
        "optimal_n_lags = best_params['n_lags']\n",
        "optimal_n_estimators = best_params['n_estimators']\n",
        "lagged_data = create_lagged_features(data_scaled.flatten(), optimal_n_lags)"
      ],
      "metadata": {
        "id": "d1B7DqrcviS1"
      },
      "execution_count": 10,
      "outputs": []
    },
    {
      "cell_type": "code",
      "source": [
        "# Chia dữ liệu thành tập huấn luyện và kiểm tra\n",
        "train_size = int(0.8 * len(lagged_data))\n",
        "train_data, test_data = lagged_data[:train_size], lagged_data[train_size:]\n",
        "# Tách các đặc trưng và mục tiêu\n",
        "X_train, y_train = train_data.iloc[:, :-1], train_data.iloc[:, -1]\n",
        "X_test, y_test = test_data.iloc[:, :-1], test_data.iloc[:, -1]"
      ],
      "metadata": {
        "id": "T2uSJFR5Xpfr"
      },
      "execution_count": 11,
      "outputs": []
    },
    {
      "cell_type": "code",
      "source": [
        "# Huấn luyện mô hình Random Forest với các tham số tối ưu\n",
        "rf_model = RandomForestRegressor(n_estimators=optimal_n_estimators, random_state=42)\n",
        "rf_model.fit(X_train, y_train)"
      ],
      "metadata": {
        "colab": {
          "base_uri": "https://localhost:8080/",
          "height": 74
        },
        "id": "0SbpAb7c1qFa",
        "outputId": "5a213842-aed3-4e75-a8dc-6391d6f7d5ff"
      },
      "execution_count": 12,
      "outputs": [
        {
          "output_type": "execute_result",
          "data": {
            "text/plain": [
              "RandomForestRegressor(n_estimators=183, random_state=42)"
            ],
            "text/html": [
              "<style>#sk-container-id-1 {color: black;background-color: white;}#sk-container-id-1 pre{padding: 0;}#sk-container-id-1 div.sk-toggleable {background-color: white;}#sk-container-id-1 label.sk-toggleable__label {cursor: pointer;display: block;width: 100%;margin-bottom: 0;padding: 0.3em;box-sizing: border-box;text-align: center;}#sk-container-id-1 label.sk-toggleable__label-arrow:before {content: \"▸\";float: left;margin-right: 0.25em;color: #696969;}#sk-container-id-1 label.sk-toggleable__label-arrow:hover:before {color: black;}#sk-container-id-1 div.sk-estimator:hover label.sk-toggleable__label-arrow:before {color: black;}#sk-container-id-1 div.sk-toggleable__content {max-height: 0;max-width: 0;overflow: hidden;text-align: left;background-color: #f0f8ff;}#sk-container-id-1 div.sk-toggleable__content pre {margin: 0.2em;color: black;border-radius: 0.25em;background-color: #f0f8ff;}#sk-container-id-1 input.sk-toggleable__control:checked~div.sk-toggleable__content {max-height: 200px;max-width: 100%;overflow: auto;}#sk-container-id-1 input.sk-toggleable__control:checked~label.sk-toggleable__label-arrow:before {content: \"▾\";}#sk-container-id-1 div.sk-estimator input.sk-toggleable__control:checked~label.sk-toggleable__label {background-color: #d4ebff;}#sk-container-id-1 div.sk-label input.sk-toggleable__control:checked~label.sk-toggleable__label {background-color: #d4ebff;}#sk-container-id-1 input.sk-hidden--visually {border: 0;clip: rect(1px 1px 1px 1px);clip: rect(1px, 1px, 1px, 1px);height: 1px;margin: -1px;overflow: hidden;padding: 0;position: absolute;width: 1px;}#sk-container-id-1 div.sk-estimator {font-family: monospace;background-color: #f0f8ff;border: 1px dotted black;border-radius: 0.25em;box-sizing: border-box;margin-bottom: 0.5em;}#sk-container-id-1 div.sk-estimator:hover {background-color: #d4ebff;}#sk-container-id-1 div.sk-parallel-item::after {content: \"\";width: 100%;border-bottom: 1px solid gray;flex-grow: 1;}#sk-container-id-1 div.sk-label:hover label.sk-toggleable__label {background-color: #d4ebff;}#sk-container-id-1 div.sk-serial::before {content: \"\";position: absolute;border-left: 1px solid gray;box-sizing: border-box;top: 0;bottom: 0;left: 50%;z-index: 0;}#sk-container-id-1 div.sk-serial {display: flex;flex-direction: column;align-items: center;background-color: white;padding-right: 0.2em;padding-left: 0.2em;position: relative;}#sk-container-id-1 div.sk-item {position: relative;z-index: 1;}#sk-container-id-1 div.sk-parallel {display: flex;align-items: stretch;justify-content: center;background-color: white;position: relative;}#sk-container-id-1 div.sk-item::before, #sk-container-id-1 div.sk-parallel-item::before {content: \"\";position: absolute;border-left: 1px solid gray;box-sizing: border-box;top: 0;bottom: 0;left: 50%;z-index: -1;}#sk-container-id-1 div.sk-parallel-item {display: flex;flex-direction: column;z-index: 1;position: relative;background-color: white;}#sk-container-id-1 div.sk-parallel-item:first-child::after {align-self: flex-end;width: 50%;}#sk-container-id-1 div.sk-parallel-item:last-child::after {align-self: flex-start;width: 50%;}#sk-container-id-1 div.sk-parallel-item:only-child::after {width: 0;}#sk-container-id-1 div.sk-dashed-wrapped {border: 1px dashed gray;margin: 0 0.4em 0.5em 0.4em;box-sizing: border-box;padding-bottom: 0.4em;background-color: white;}#sk-container-id-1 div.sk-label label {font-family: monospace;font-weight: bold;display: inline-block;line-height: 1.2em;}#sk-container-id-1 div.sk-label-container {text-align: center;}#sk-container-id-1 div.sk-container {/* jupyter's `normalize.less` sets `[hidden] { display: none; }` but bootstrap.min.css set `[hidden] { display: none !important; }` so we also need the `!important` here to be able to override the default hidden behavior on the sphinx rendered scikit-learn.org. See: https://github.com/scikit-learn/scikit-learn/issues/21755 */display: inline-block !important;position: relative;}#sk-container-id-1 div.sk-text-repr-fallback {display: none;}</style><div id=\"sk-container-id-1\" class=\"sk-top-container\"><div class=\"sk-text-repr-fallback\"><pre>RandomForestRegressor(n_estimators=183, random_state=42)</pre><b>In a Jupyter environment, please rerun this cell to show the HTML representation or trust the notebook. <br />On GitHub, the HTML representation is unable to render, please try loading this page with nbviewer.org.</b></div><div class=\"sk-container\" hidden><div class=\"sk-item\"><div class=\"sk-estimator sk-toggleable\"><input class=\"sk-toggleable__control sk-hidden--visually\" id=\"sk-estimator-id-1\" type=\"checkbox\" checked><label for=\"sk-estimator-id-1\" class=\"sk-toggleable__label sk-toggleable__label-arrow\">RandomForestRegressor</label><div class=\"sk-toggleable__content\"><pre>RandomForestRegressor(n_estimators=183, random_state=42)</pre></div></div></div></div></div>"
            ]
          },
          "metadata": {},
          "execution_count": 12
        }
      ]
    },
    {
      "cell_type": "code",
      "source": [
        "# Dự đoán trên tập kiểm tra\n",
        "y_pred = rf_model.predict(X_test)"
      ],
      "metadata": {
        "id": "UjZO2zLU1rKo"
      },
      "execution_count": 13,
      "outputs": []
    },
    {
      "cell_type": "code",
      "source": [
        "# Chuyển đổi lại dữ liệu về thang đo gốc\n",
        "y_test_inverse = scaler.inverse_transform(y_test.values.reshape(-1, 1))\n",
        "y_pred_inverse = scaler.inverse_transform(y_pred.reshape(-1, 1))"
      ],
      "metadata": {
        "id": "UrakTMqv1uDC"
      },
      "execution_count": 14,
      "outputs": []
    },
    {
      "cell_type": "code",
      "source": [
        "# Tính toán các độ đo lỗi\n",
        "test_mape = mean_absolute_percentage_error(y_test_inverse, y_pred_inverse)\n",
        "test_mse = mean_squared_error(y_test_inverse, y_pred_inverse)\n",
        "test_rmse = np.sqrt(test_mse)\n",
        "\n",
        "print(f\"MAPE on Test dataset: {test_mape:.4f}\")\n",
        "print(f\"RMSE on Test dataset: {test_rmse:.4f}\")\n",
        "print(f\"MSE on Test dataset: {test_mse:.4f}\")"
      ],
      "metadata": {
        "colab": {
          "base_uri": "https://localhost:8080/"
        },
        "id": "9juDFIyA1wkc",
        "outputId": "a406d805-2c49-495b-9a74-739ee5d7c7fe"
      },
      "execution_count": 15,
      "outputs": [
        {
          "output_type": "stream",
          "name": "stdout",
          "text": [
            "MAPE on Test dataset: 0.0298\n",
            "RMSE on Test dataset: 107.3767\n",
            "MSE on Test dataset: 11529.7584\n"
          ]
        }
      ]
    },
    {
      "cell_type": "code",
      "source": [
        "# Hàm dự báo tương lai\n",
        "def forecast_future(model, data, n_lags, n_periods):\n",
        "    future_forecast = []\n",
        "    last_values = data[-n_lags:]\n",
        "    for _ in range(n_periods):\n",
        "        prediction = model.predict(last_values.reshape(1, -1))[0]\n",
        "        future_forecast.append(prediction)\n",
        "        last_values = np.append(last_values[1:], prediction)\n",
        "    return np.array(future_forecast)"
      ],
      "metadata": {
        "id": "oANJtE5tYKMq"
      },
      "execution_count": 16,
      "outputs": []
    },
    {
      "cell_type": "code",
      "source": [
        "# Dự báo giá trị tương lai\n",
        "forecast_30_days = forecast_future(rf_model, data_scaled.flatten(), optimal_n_lags, 30)\n",
        "forecast_60_days = forecast_future(rf_model, data_scaled.flatten(), optimal_n_lags, 60)\n",
        "forecast_90_days = forecast_future(rf_model, data_scaled.flatten(), optimal_n_lags, 90)"
      ],
      "metadata": {
        "colab": {
          "base_uri": "https://localhost:8080/"
        },
        "id": "oLWo4aTh2Txa",
        "outputId": "7de70fe1-029a-4f99-d6c7-0250161a22a8"
      },
      "execution_count": 17,
      "outputs": [
        {
          "output_type": "stream",
          "name": "stderr",
          "text": [
            "/usr/local/lib/python3.10/dist-packages/sklearn/base.py:439: UserWarning: X does not have valid feature names, but RandomForestRegressor was fitted with feature names\n",
            "  warnings.warn(\n",
            "/usr/local/lib/python3.10/dist-packages/sklearn/base.py:439: UserWarning: X does not have valid feature names, but RandomForestRegressor was fitted with feature names\n",
            "  warnings.warn(\n",
            "/usr/local/lib/python3.10/dist-packages/sklearn/base.py:439: UserWarning: X does not have valid feature names, but RandomForestRegressor was fitted with feature names\n",
            "  warnings.warn(\n",
            "/usr/local/lib/python3.10/dist-packages/sklearn/base.py:439: UserWarning: X does not have valid feature names, but RandomForestRegressor was fitted with feature names\n",
            "  warnings.warn(\n",
            "/usr/local/lib/python3.10/dist-packages/sklearn/base.py:439: UserWarning: X does not have valid feature names, but RandomForestRegressor was fitted with feature names\n",
            "  warnings.warn(\n",
            "/usr/local/lib/python3.10/dist-packages/sklearn/base.py:439: UserWarning: X does not have valid feature names, but RandomForestRegressor was fitted with feature names\n",
            "  warnings.warn(\n",
            "/usr/local/lib/python3.10/dist-packages/sklearn/base.py:439: UserWarning: X does not have valid feature names, but RandomForestRegressor was fitted with feature names\n",
            "  warnings.warn(\n",
            "/usr/local/lib/python3.10/dist-packages/sklearn/base.py:439: UserWarning: X does not have valid feature names, but RandomForestRegressor was fitted with feature names\n",
            "  warnings.warn(\n",
            "/usr/local/lib/python3.10/dist-packages/sklearn/base.py:439: UserWarning: X does not have valid feature names, but RandomForestRegressor was fitted with feature names\n",
            "  warnings.warn(\n",
            "/usr/local/lib/python3.10/dist-packages/sklearn/base.py:439: UserWarning: X does not have valid feature names, but RandomForestRegressor was fitted with feature names\n",
            "  warnings.warn(\n",
            "/usr/local/lib/python3.10/dist-packages/sklearn/base.py:439: UserWarning: X does not have valid feature names, but RandomForestRegressor was fitted with feature names\n",
            "  warnings.warn(\n",
            "/usr/local/lib/python3.10/dist-packages/sklearn/base.py:439: UserWarning: X does not have valid feature names, but RandomForestRegressor was fitted with feature names\n",
            "  warnings.warn(\n",
            "/usr/local/lib/python3.10/dist-packages/sklearn/base.py:439: UserWarning: X does not have valid feature names, but RandomForestRegressor was fitted with feature names\n",
            "  warnings.warn(\n",
            "/usr/local/lib/python3.10/dist-packages/sklearn/base.py:439: UserWarning: X does not have valid feature names, but RandomForestRegressor was fitted with feature names\n",
            "  warnings.warn(\n",
            "/usr/local/lib/python3.10/dist-packages/sklearn/base.py:439: UserWarning: X does not have valid feature names, but RandomForestRegressor was fitted with feature names\n",
            "  warnings.warn(\n",
            "/usr/local/lib/python3.10/dist-packages/sklearn/base.py:439: UserWarning: X does not have valid feature names, but RandomForestRegressor was fitted with feature names\n",
            "  warnings.warn(\n",
            "/usr/local/lib/python3.10/dist-packages/sklearn/base.py:439: UserWarning: X does not have valid feature names, but RandomForestRegressor was fitted with feature names\n",
            "  warnings.warn(\n",
            "/usr/local/lib/python3.10/dist-packages/sklearn/base.py:439: UserWarning: X does not have valid feature names, but RandomForestRegressor was fitted with feature names\n",
            "  warnings.warn(\n",
            "/usr/local/lib/python3.10/dist-packages/sklearn/base.py:439: UserWarning: X does not have valid feature names, but RandomForestRegressor was fitted with feature names\n",
            "  warnings.warn(\n",
            "/usr/local/lib/python3.10/dist-packages/sklearn/base.py:439: UserWarning: X does not have valid feature names, but RandomForestRegressor was fitted with feature names\n",
            "  warnings.warn(\n",
            "/usr/local/lib/python3.10/dist-packages/sklearn/base.py:439: UserWarning: X does not have valid feature names, but RandomForestRegressor was fitted with feature names\n",
            "  warnings.warn(\n",
            "/usr/local/lib/python3.10/dist-packages/sklearn/base.py:439: UserWarning: X does not have valid feature names, but RandomForestRegressor was fitted with feature names\n",
            "  warnings.warn(\n",
            "/usr/local/lib/python3.10/dist-packages/sklearn/base.py:439: UserWarning: X does not have valid feature names, but RandomForestRegressor was fitted with feature names\n",
            "  warnings.warn(\n",
            "/usr/local/lib/python3.10/dist-packages/sklearn/base.py:439: UserWarning: X does not have valid feature names, but RandomForestRegressor was fitted with feature names\n",
            "  warnings.warn(\n",
            "/usr/local/lib/python3.10/dist-packages/sklearn/base.py:439: UserWarning: X does not have valid feature names, but RandomForestRegressor was fitted with feature names\n",
            "  warnings.warn(\n",
            "/usr/local/lib/python3.10/dist-packages/sklearn/base.py:439: UserWarning: X does not have valid feature names, but RandomForestRegressor was fitted with feature names\n",
            "  warnings.warn(\n",
            "/usr/local/lib/python3.10/dist-packages/sklearn/base.py:439: UserWarning: X does not have valid feature names, but RandomForestRegressor was fitted with feature names\n",
            "  warnings.warn(\n",
            "/usr/local/lib/python3.10/dist-packages/sklearn/base.py:439: UserWarning: X does not have valid feature names, but RandomForestRegressor was fitted with feature names\n",
            "  warnings.warn(\n",
            "/usr/local/lib/python3.10/dist-packages/sklearn/base.py:439: UserWarning: X does not have valid feature names, but RandomForestRegressor was fitted with feature names\n",
            "  warnings.warn(\n",
            "/usr/local/lib/python3.10/dist-packages/sklearn/base.py:439: UserWarning: X does not have valid feature names, but RandomForestRegressor was fitted with feature names\n",
            "  warnings.warn(\n",
            "/usr/local/lib/python3.10/dist-packages/sklearn/base.py:439: UserWarning: X does not have valid feature names, but RandomForestRegressor was fitted with feature names\n",
            "  warnings.warn(\n",
            "/usr/local/lib/python3.10/dist-packages/sklearn/base.py:439: UserWarning: X does not have valid feature names, but RandomForestRegressor was fitted with feature names\n",
            "  warnings.warn(\n",
            "/usr/local/lib/python3.10/dist-packages/sklearn/base.py:439: UserWarning: X does not have valid feature names, but RandomForestRegressor was fitted with feature names\n",
            "  warnings.warn(\n",
            "/usr/local/lib/python3.10/dist-packages/sklearn/base.py:439: UserWarning: X does not have valid feature names, but RandomForestRegressor was fitted with feature names\n",
            "  warnings.warn(\n",
            "/usr/local/lib/python3.10/dist-packages/sklearn/base.py:439: UserWarning: X does not have valid feature names, but RandomForestRegressor was fitted with feature names\n",
            "  warnings.warn(\n",
            "/usr/local/lib/python3.10/dist-packages/sklearn/base.py:439: UserWarning: X does not have valid feature names, but RandomForestRegressor was fitted with feature names\n",
            "  warnings.warn(\n",
            "/usr/local/lib/python3.10/dist-packages/sklearn/base.py:439: UserWarning: X does not have valid feature names, but RandomForestRegressor was fitted with feature names\n",
            "  warnings.warn(\n",
            "/usr/local/lib/python3.10/dist-packages/sklearn/base.py:439: UserWarning: X does not have valid feature names, but RandomForestRegressor was fitted with feature names\n",
            "  warnings.warn(\n",
            "/usr/local/lib/python3.10/dist-packages/sklearn/base.py:439: UserWarning: X does not have valid feature names, but RandomForestRegressor was fitted with feature names\n",
            "  warnings.warn(\n",
            "/usr/local/lib/python3.10/dist-packages/sklearn/base.py:439: UserWarning: X does not have valid feature names, but RandomForestRegressor was fitted with feature names\n",
            "  warnings.warn(\n",
            "/usr/local/lib/python3.10/dist-packages/sklearn/base.py:439: UserWarning: X does not have valid feature names, but RandomForestRegressor was fitted with feature names\n",
            "  warnings.warn(\n",
            "/usr/local/lib/python3.10/dist-packages/sklearn/base.py:439: UserWarning: X does not have valid feature names, but RandomForestRegressor was fitted with feature names\n",
            "  warnings.warn(\n",
            "/usr/local/lib/python3.10/dist-packages/sklearn/base.py:439: UserWarning: X does not have valid feature names, but RandomForestRegressor was fitted with feature names\n",
            "  warnings.warn(\n",
            "/usr/local/lib/python3.10/dist-packages/sklearn/base.py:439: UserWarning: X does not have valid feature names, but RandomForestRegressor was fitted with feature names\n",
            "  warnings.warn(\n",
            "/usr/local/lib/python3.10/dist-packages/sklearn/base.py:439: UserWarning: X does not have valid feature names, but RandomForestRegressor was fitted with feature names\n",
            "  warnings.warn(\n",
            "/usr/local/lib/python3.10/dist-packages/sklearn/base.py:439: UserWarning: X does not have valid feature names, but RandomForestRegressor was fitted with feature names\n",
            "  warnings.warn(\n",
            "/usr/local/lib/python3.10/dist-packages/sklearn/base.py:439: UserWarning: X does not have valid feature names, but RandomForestRegressor was fitted with feature names\n",
            "  warnings.warn(\n",
            "/usr/local/lib/python3.10/dist-packages/sklearn/base.py:439: UserWarning: X does not have valid feature names, but RandomForestRegressor was fitted with feature names\n",
            "  warnings.warn(\n",
            "/usr/local/lib/python3.10/dist-packages/sklearn/base.py:439: UserWarning: X does not have valid feature names, but RandomForestRegressor was fitted with feature names\n",
            "  warnings.warn(\n",
            "/usr/local/lib/python3.10/dist-packages/sklearn/base.py:439: UserWarning: X does not have valid feature names, but RandomForestRegressor was fitted with feature names\n",
            "  warnings.warn(\n",
            "/usr/local/lib/python3.10/dist-packages/sklearn/base.py:439: UserWarning: X does not have valid feature names, but RandomForestRegressor was fitted with feature names\n",
            "  warnings.warn(\n",
            "/usr/local/lib/python3.10/dist-packages/sklearn/base.py:439: UserWarning: X does not have valid feature names, but RandomForestRegressor was fitted with feature names\n",
            "  warnings.warn(\n",
            "/usr/local/lib/python3.10/dist-packages/sklearn/base.py:439: UserWarning: X does not have valid feature names, but RandomForestRegressor was fitted with feature names\n",
            "  warnings.warn(\n",
            "/usr/local/lib/python3.10/dist-packages/sklearn/base.py:439: UserWarning: X does not have valid feature names, but RandomForestRegressor was fitted with feature names\n",
            "  warnings.warn(\n",
            "/usr/local/lib/python3.10/dist-packages/sklearn/base.py:439: UserWarning: X does not have valid feature names, but RandomForestRegressor was fitted with feature names\n",
            "  warnings.warn(\n",
            "/usr/local/lib/python3.10/dist-packages/sklearn/base.py:439: UserWarning: X does not have valid feature names, but RandomForestRegressor was fitted with feature names\n",
            "  warnings.warn(\n",
            "/usr/local/lib/python3.10/dist-packages/sklearn/base.py:439: UserWarning: X does not have valid feature names, but RandomForestRegressor was fitted with feature names\n",
            "  warnings.warn(\n",
            "/usr/local/lib/python3.10/dist-packages/sklearn/base.py:439: UserWarning: X does not have valid feature names, but RandomForestRegressor was fitted with feature names\n",
            "  warnings.warn(\n",
            "/usr/local/lib/python3.10/dist-packages/sklearn/base.py:439: UserWarning: X does not have valid feature names, but RandomForestRegressor was fitted with feature names\n",
            "  warnings.warn(\n",
            "/usr/local/lib/python3.10/dist-packages/sklearn/base.py:439: UserWarning: X does not have valid feature names, but RandomForestRegressor was fitted with feature names\n",
            "  warnings.warn(\n",
            "/usr/local/lib/python3.10/dist-packages/sklearn/base.py:439: UserWarning: X does not have valid feature names, but RandomForestRegressor was fitted with feature names\n",
            "  warnings.warn(\n",
            "/usr/local/lib/python3.10/dist-packages/sklearn/base.py:439: UserWarning: X does not have valid feature names, but RandomForestRegressor was fitted with feature names\n",
            "  warnings.warn(\n",
            "/usr/local/lib/python3.10/dist-packages/sklearn/base.py:439: UserWarning: X does not have valid feature names, but RandomForestRegressor was fitted with feature names\n",
            "  warnings.warn(\n",
            "/usr/local/lib/python3.10/dist-packages/sklearn/base.py:439: UserWarning: X does not have valid feature names, but RandomForestRegressor was fitted with feature names\n",
            "  warnings.warn(\n",
            "/usr/local/lib/python3.10/dist-packages/sklearn/base.py:439: UserWarning: X does not have valid feature names, but RandomForestRegressor was fitted with feature names\n",
            "  warnings.warn(\n",
            "/usr/local/lib/python3.10/dist-packages/sklearn/base.py:439: UserWarning: X does not have valid feature names, but RandomForestRegressor was fitted with feature names\n",
            "  warnings.warn(\n",
            "/usr/local/lib/python3.10/dist-packages/sklearn/base.py:439: UserWarning: X does not have valid feature names, but RandomForestRegressor was fitted with feature names\n",
            "  warnings.warn(\n",
            "/usr/local/lib/python3.10/dist-packages/sklearn/base.py:439: UserWarning: X does not have valid feature names, but RandomForestRegressor was fitted with feature names\n",
            "  warnings.warn(\n",
            "/usr/local/lib/python3.10/dist-packages/sklearn/base.py:439: UserWarning: X does not have valid feature names, but RandomForestRegressor was fitted with feature names\n",
            "  warnings.warn(\n",
            "/usr/local/lib/python3.10/dist-packages/sklearn/base.py:439: UserWarning: X does not have valid feature names, but RandomForestRegressor was fitted with feature names\n",
            "  warnings.warn(\n",
            "/usr/local/lib/python3.10/dist-packages/sklearn/base.py:439: UserWarning: X does not have valid feature names, but RandomForestRegressor was fitted with feature names\n",
            "  warnings.warn(\n",
            "/usr/local/lib/python3.10/dist-packages/sklearn/base.py:439: UserWarning: X does not have valid feature names, but RandomForestRegressor was fitted with feature names\n",
            "  warnings.warn(\n",
            "/usr/local/lib/python3.10/dist-packages/sklearn/base.py:439: UserWarning: X does not have valid feature names, but RandomForestRegressor was fitted with feature names\n",
            "  warnings.warn(\n",
            "/usr/local/lib/python3.10/dist-packages/sklearn/base.py:439: UserWarning: X does not have valid feature names, but RandomForestRegressor was fitted with feature names\n",
            "  warnings.warn(\n",
            "/usr/local/lib/python3.10/dist-packages/sklearn/base.py:439: UserWarning: X does not have valid feature names, but RandomForestRegressor was fitted with feature names\n",
            "  warnings.warn(\n",
            "/usr/local/lib/python3.10/dist-packages/sklearn/base.py:439: UserWarning: X does not have valid feature names, but RandomForestRegressor was fitted with feature names\n",
            "  warnings.warn(\n",
            "/usr/local/lib/python3.10/dist-packages/sklearn/base.py:439: UserWarning: X does not have valid feature names, but RandomForestRegressor was fitted with feature names\n",
            "  warnings.warn(\n",
            "/usr/local/lib/python3.10/dist-packages/sklearn/base.py:439: UserWarning: X does not have valid feature names, but RandomForestRegressor was fitted with feature names\n",
            "  warnings.warn(\n",
            "/usr/local/lib/python3.10/dist-packages/sklearn/base.py:439: UserWarning: X does not have valid feature names, but RandomForestRegressor was fitted with feature names\n",
            "  warnings.warn(\n",
            "/usr/local/lib/python3.10/dist-packages/sklearn/base.py:439: UserWarning: X does not have valid feature names, but RandomForestRegressor was fitted with feature names\n",
            "  warnings.warn(\n",
            "/usr/local/lib/python3.10/dist-packages/sklearn/base.py:439: UserWarning: X does not have valid feature names, but RandomForestRegressor was fitted with feature names\n",
            "  warnings.warn(\n",
            "/usr/local/lib/python3.10/dist-packages/sklearn/base.py:439: UserWarning: X does not have valid feature names, but RandomForestRegressor was fitted with feature names\n",
            "  warnings.warn(\n",
            "/usr/local/lib/python3.10/dist-packages/sklearn/base.py:439: UserWarning: X does not have valid feature names, but RandomForestRegressor was fitted with feature names\n",
            "  warnings.warn(\n",
            "/usr/local/lib/python3.10/dist-packages/sklearn/base.py:439: UserWarning: X does not have valid feature names, but RandomForestRegressor was fitted with feature names\n",
            "  warnings.warn(\n",
            "/usr/local/lib/python3.10/dist-packages/sklearn/base.py:439: UserWarning: X does not have valid feature names, but RandomForestRegressor was fitted with feature names\n",
            "  warnings.warn(\n",
            "/usr/local/lib/python3.10/dist-packages/sklearn/base.py:439: UserWarning: X does not have valid feature names, but RandomForestRegressor was fitted with feature names\n",
            "  warnings.warn(\n",
            "/usr/local/lib/python3.10/dist-packages/sklearn/base.py:439: UserWarning: X does not have valid feature names, but RandomForestRegressor was fitted with feature names\n",
            "  warnings.warn(\n",
            "/usr/local/lib/python3.10/dist-packages/sklearn/base.py:439: UserWarning: X does not have valid feature names, but RandomForestRegressor was fitted with feature names\n",
            "  warnings.warn(\n",
            "/usr/local/lib/python3.10/dist-packages/sklearn/base.py:439: UserWarning: X does not have valid feature names, but RandomForestRegressor was fitted with feature names\n",
            "  warnings.warn(\n",
            "/usr/local/lib/python3.10/dist-packages/sklearn/base.py:439: UserWarning: X does not have valid feature names, but RandomForestRegressor was fitted with feature names\n",
            "  warnings.warn(\n",
            "/usr/local/lib/python3.10/dist-packages/sklearn/base.py:439: UserWarning: X does not have valid feature names, but RandomForestRegressor was fitted with feature names\n",
            "  warnings.warn(\n",
            "/usr/local/lib/python3.10/dist-packages/sklearn/base.py:439: UserWarning: X does not have valid feature names, but RandomForestRegressor was fitted with feature names\n",
            "  warnings.warn(\n",
            "/usr/local/lib/python3.10/dist-packages/sklearn/base.py:439: UserWarning: X does not have valid feature names, but RandomForestRegressor was fitted with feature names\n",
            "  warnings.warn(\n",
            "/usr/local/lib/python3.10/dist-packages/sklearn/base.py:439: UserWarning: X does not have valid feature names, but RandomForestRegressor was fitted with feature names\n",
            "  warnings.warn(\n",
            "/usr/local/lib/python3.10/dist-packages/sklearn/base.py:439: UserWarning: X does not have valid feature names, but RandomForestRegressor was fitted with feature names\n",
            "  warnings.warn(\n",
            "/usr/local/lib/python3.10/dist-packages/sklearn/base.py:439: UserWarning: X does not have valid feature names, but RandomForestRegressor was fitted with feature names\n",
            "  warnings.warn(\n",
            "/usr/local/lib/python3.10/dist-packages/sklearn/base.py:439: UserWarning: X does not have valid feature names, but RandomForestRegressor was fitted with feature names\n",
            "  warnings.warn(\n",
            "/usr/local/lib/python3.10/dist-packages/sklearn/base.py:439: UserWarning: X does not have valid feature names, but RandomForestRegressor was fitted with feature names\n",
            "  warnings.warn(\n",
            "/usr/local/lib/python3.10/dist-packages/sklearn/base.py:439: UserWarning: X does not have valid feature names, but RandomForestRegressor was fitted with feature names\n",
            "  warnings.warn(\n",
            "/usr/local/lib/python3.10/dist-packages/sklearn/base.py:439: UserWarning: X does not have valid feature names, but RandomForestRegressor was fitted with feature names\n",
            "  warnings.warn(\n",
            "/usr/local/lib/python3.10/dist-packages/sklearn/base.py:439: UserWarning: X does not have valid feature names, but RandomForestRegressor was fitted with feature names\n",
            "  warnings.warn(\n",
            "/usr/local/lib/python3.10/dist-packages/sklearn/base.py:439: UserWarning: X does not have valid feature names, but RandomForestRegressor was fitted with feature names\n",
            "  warnings.warn(\n",
            "/usr/local/lib/python3.10/dist-packages/sklearn/base.py:439: UserWarning: X does not have valid feature names, but RandomForestRegressor was fitted with feature names\n",
            "  warnings.warn(\n",
            "/usr/local/lib/python3.10/dist-packages/sklearn/base.py:439: UserWarning: X does not have valid feature names, but RandomForestRegressor was fitted with feature names\n",
            "  warnings.warn(\n",
            "/usr/local/lib/python3.10/dist-packages/sklearn/base.py:439: UserWarning: X does not have valid feature names, but RandomForestRegressor was fitted with feature names\n",
            "  warnings.warn(\n",
            "/usr/local/lib/python3.10/dist-packages/sklearn/base.py:439: UserWarning: X does not have valid feature names, but RandomForestRegressor was fitted with feature names\n",
            "  warnings.warn(\n",
            "/usr/local/lib/python3.10/dist-packages/sklearn/base.py:439: UserWarning: X does not have valid feature names, but RandomForestRegressor was fitted with feature names\n",
            "  warnings.warn(\n",
            "/usr/local/lib/python3.10/dist-packages/sklearn/base.py:439: UserWarning: X does not have valid feature names, but RandomForestRegressor was fitted with feature names\n",
            "  warnings.warn(\n",
            "/usr/local/lib/python3.10/dist-packages/sklearn/base.py:439: UserWarning: X does not have valid feature names, but RandomForestRegressor was fitted with feature names\n",
            "  warnings.warn(\n",
            "/usr/local/lib/python3.10/dist-packages/sklearn/base.py:439: UserWarning: X does not have valid feature names, but RandomForestRegressor was fitted with feature names\n",
            "  warnings.warn(\n",
            "/usr/local/lib/python3.10/dist-packages/sklearn/base.py:439: UserWarning: X does not have valid feature names, but RandomForestRegressor was fitted with feature names\n",
            "  warnings.warn(\n",
            "/usr/local/lib/python3.10/dist-packages/sklearn/base.py:439: UserWarning: X does not have valid feature names, but RandomForestRegressor was fitted with feature names\n",
            "  warnings.warn(\n",
            "/usr/local/lib/python3.10/dist-packages/sklearn/base.py:439: UserWarning: X does not have valid feature names, but RandomForestRegressor was fitted with feature names\n",
            "  warnings.warn(\n",
            "/usr/local/lib/python3.10/dist-packages/sklearn/base.py:439: UserWarning: X does not have valid feature names, but RandomForestRegressor was fitted with feature names\n",
            "  warnings.warn(\n",
            "/usr/local/lib/python3.10/dist-packages/sklearn/base.py:439: UserWarning: X does not have valid feature names, but RandomForestRegressor was fitted with feature names\n",
            "  warnings.warn(\n",
            "/usr/local/lib/python3.10/dist-packages/sklearn/base.py:439: UserWarning: X does not have valid feature names, but RandomForestRegressor was fitted with feature names\n",
            "  warnings.warn(\n",
            "/usr/local/lib/python3.10/dist-packages/sklearn/base.py:439: UserWarning: X does not have valid feature names, but RandomForestRegressor was fitted with feature names\n",
            "  warnings.warn(\n",
            "/usr/local/lib/python3.10/dist-packages/sklearn/base.py:439: UserWarning: X does not have valid feature names, but RandomForestRegressor was fitted with feature names\n",
            "  warnings.warn(\n",
            "/usr/local/lib/python3.10/dist-packages/sklearn/base.py:439: UserWarning: X does not have valid feature names, but RandomForestRegressor was fitted with feature names\n",
            "  warnings.warn(\n",
            "/usr/local/lib/python3.10/dist-packages/sklearn/base.py:439: UserWarning: X does not have valid feature names, but RandomForestRegressor was fitted with feature names\n",
            "  warnings.warn(\n",
            "/usr/local/lib/python3.10/dist-packages/sklearn/base.py:439: UserWarning: X does not have valid feature names, but RandomForestRegressor was fitted with feature names\n",
            "  warnings.warn(\n",
            "/usr/local/lib/python3.10/dist-packages/sklearn/base.py:439: UserWarning: X does not have valid feature names, but RandomForestRegressor was fitted with feature names\n",
            "  warnings.warn(\n",
            "/usr/local/lib/python3.10/dist-packages/sklearn/base.py:439: UserWarning: X does not have valid feature names, but RandomForestRegressor was fitted with feature names\n",
            "  warnings.warn(\n",
            "/usr/local/lib/python3.10/dist-packages/sklearn/base.py:439: UserWarning: X does not have valid feature names, but RandomForestRegressor was fitted with feature names\n",
            "  warnings.warn(\n",
            "/usr/local/lib/python3.10/dist-packages/sklearn/base.py:439: UserWarning: X does not have valid feature names, but RandomForestRegressor was fitted with feature names\n",
            "  warnings.warn(\n",
            "/usr/local/lib/python3.10/dist-packages/sklearn/base.py:439: UserWarning: X does not have valid feature names, but RandomForestRegressor was fitted with feature names\n",
            "  warnings.warn(\n",
            "/usr/local/lib/python3.10/dist-packages/sklearn/base.py:439: UserWarning: X does not have valid feature names, but RandomForestRegressor was fitted with feature names\n",
            "  warnings.warn(\n",
            "/usr/local/lib/python3.10/dist-packages/sklearn/base.py:439: UserWarning: X does not have valid feature names, but RandomForestRegressor was fitted with feature names\n",
            "  warnings.warn(\n",
            "/usr/local/lib/python3.10/dist-packages/sklearn/base.py:439: UserWarning: X does not have valid feature names, but RandomForestRegressor was fitted with feature names\n",
            "  warnings.warn(\n",
            "/usr/local/lib/python3.10/dist-packages/sklearn/base.py:439: UserWarning: X does not have valid feature names, but RandomForestRegressor was fitted with feature names\n",
            "  warnings.warn(\n",
            "/usr/local/lib/python3.10/dist-packages/sklearn/base.py:439: UserWarning: X does not have valid feature names, but RandomForestRegressor was fitted with feature names\n",
            "  warnings.warn(\n",
            "/usr/local/lib/python3.10/dist-packages/sklearn/base.py:439: UserWarning: X does not have valid feature names, but RandomForestRegressor was fitted with feature names\n",
            "  warnings.warn(\n",
            "/usr/local/lib/python3.10/dist-packages/sklearn/base.py:439: UserWarning: X does not have valid feature names, but RandomForestRegressor was fitted with feature names\n",
            "  warnings.warn(\n",
            "/usr/local/lib/python3.10/dist-packages/sklearn/base.py:439: UserWarning: X does not have valid feature names, but RandomForestRegressor was fitted with feature names\n",
            "  warnings.warn(\n",
            "/usr/local/lib/python3.10/dist-packages/sklearn/base.py:439: UserWarning: X does not have valid feature names, but RandomForestRegressor was fitted with feature names\n",
            "  warnings.warn(\n",
            "/usr/local/lib/python3.10/dist-packages/sklearn/base.py:439: UserWarning: X does not have valid feature names, but RandomForestRegressor was fitted with feature names\n",
            "  warnings.warn(\n",
            "/usr/local/lib/python3.10/dist-packages/sklearn/base.py:439: UserWarning: X does not have valid feature names, but RandomForestRegressor was fitted with feature names\n",
            "  warnings.warn(\n",
            "/usr/local/lib/python3.10/dist-packages/sklearn/base.py:439: UserWarning: X does not have valid feature names, but RandomForestRegressor was fitted with feature names\n",
            "  warnings.warn(\n",
            "/usr/local/lib/python3.10/dist-packages/sklearn/base.py:439: UserWarning: X does not have valid feature names, but RandomForestRegressor was fitted with feature names\n",
            "  warnings.warn(\n",
            "/usr/local/lib/python3.10/dist-packages/sklearn/base.py:439: UserWarning: X does not have valid feature names, but RandomForestRegressor was fitted with feature names\n",
            "  warnings.warn(\n",
            "/usr/local/lib/python3.10/dist-packages/sklearn/base.py:439: UserWarning: X does not have valid feature names, but RandomForestRegressor was fitted with feature names\n",
            "  warnings.warn(\n",
            "/usr/local/lib/python3.10/dist-packages/sklearn/base.py:439: UserWarning: X does not have valid feature names, but RandomForestRegressor was fitted with feature names\n",
            "  warnings.warn(\n",
            "/usr/local/lib/python3.10/dist-packages/sklearn/base.py:439: UserWarning: X does not have valid feature names, but RandomForestRegressor was fitted with feature names\n",
            "  warnings.warn(\n",
            "/usr/local/lib/python3.10/dist-packages/sklearn/base.py:439: UserWarning: X does not have valid feature names, but RandomForestRegressor was fitted with feature names\n",
            "  warnings.warn(\n",
            "/usr/local/lib/python3.10/dist-packages/sklearn/base.py:439: UserWarning: X does not have valid feature names, but RandomForestRegressor was fitted with feature names\n",
            "  warnings.warn(\n",
            "/usr/local/lib/python3.10/dist-packages/sklearn/base.py:439: UserWarning: X does not have valid feature names, but RandomForestRegressor was fitted with feature names\n",
            "  warnings.warn(\n",
            "/usr/local/lib/python3.10/dist-packages/sklearn/base.py:439: UserWarning: X does not have valid feature names, but RandomForestRegressor was fitted with feature names\n",
            "  warnings.warn(\n",
            "/usr/local/lib/python3.10/dist-packages/sklearn/base.py:439: UserWarning: X does not have valid feature names, but RandomForestRegressor was fitted with feature names\n",
            "  warnings.warn(\n",
            "/usr/local/lib/python3.10/dist-packages/sklearn/base.py:439: UserWarning: X does not have valid feature names, but RandomForestRegressor was fitted with feature names\n",
            "  warnings.warn(\n",
            "/usr/local/lib/python3.10/dist-packages/sklearn/base.py:439: UserWarning: X does not have valid feature names, but RandomForestRegressor was fitted with feature names\n",
            "  warnings.warn(\n",
            "/usr/local/lib/python3.10/dist-packages/sklearn/base.py:439: UserWarning: X does not have valid feature names, but RandomForestRegressor was fitted with feature names\n",
            "  warnings.warn(\n",
            "/usr/local/lib/python3.10/dist-packages/sklearn/base.py:439: UserWarning: X does not have valid feature names, but RandomForestRegressor was fitted with feature names\n",
            "  warnings.warn(\n",
            "/usr/local/lib/python3.10/dist-packages/sklearn/base.py:439: UserWarning: X does not have valid feature names, but RandomForestRegressor was fitted with feature names\n",
            "  warnings.warn(\n",
            "/usr/local/lib/python3.10/dist-packages/sklearn/base.py:439: UserWarning: X does not have valid feature names, but RandomForestRegressor was fitted with feature names\n",
            "  warnings.warn(\n",
            "/usr/local/lib/python3.10/dist-packages/sklearn/base.py:439: UserWarning: X does not have valid feature names, but RandomForestRegressor was fitted with feature names\n",
            "  warnings.warn(\n",
            "/usr/local/lib/python3.10/dist-packages/sklearn/base.py:439: UserWarning: X does not have valid feature names, but RandomForestRegressor was fitted with feature names\n",
            "  warnings.warn(\n",
            "/usr/local/lib/python3.10/dist-packages/sklearn/base.py:439: UserWarning: X does not have valid feature names, but RandomForestRegressor was fitted with feature names\n",
            "  warnings.warn(\n",
            "/usr/local/lib/python3.10/dist-packages/sklearn/base.py:439: UserWarning: X does not have valid feature names, but RandomForestRegressor was fitted with feature names\n",
            "  warnings.warn(\n",
            "/usr/local/lib/python3.10/dist-packages/sklearn/base.py:439: UserWarning: X does not have valid feature names, but RandomForestRegressor was fitted with feature names\n",
            "  warnings.warn(\n",
            "/usr/local/lib/python3.10/dist-packages/sklearn/base.py:439: UserWarning: X does not have valid feature names, but RandomForestRegressor was fitted with feature names\n",
            "  warnings.warn(\n",
            "/usr/local/lib/python3.10/dist-packages/sklearn/base.py:439: UserWarning: X does not have valid feature names, but RandomForestRegressor was fitted with feature names\n",
            "  warnings.warn(\n",
            "/usr/local/lib/python3.10/dist-packages/sklearn/base.py:439: UserWarning: X does not have valid feature names, but RandomForestRegressor was fitted with feature names\n",
            "  warnings.warn(\n",
            "/usr/local/lib/python3.10/dist-packages/sklearn/base.py:439: UserWarning: X does not have valid feature names, but RandomForestRegressor was fitted with feature names\n",
            "  warnings.warn(\n",
            "/usr/local/lib/python3.10/dist-packages/sklearn/base.py:439: UserWarning: X does not have valid feature names, but RandomForestRegressor was fitted with feature names\n",
            "  warnings.warn(\n",
            "/usr/local/lib/python3.10/dist-packages/sklearn/base.py:439: UserWarning: X does not have valid feature names, but RandomForestRegressor was fitted with feature names\n",
            "  warnings.warn(\n",
            "/usr/local/lib/python3.10/dist-packages/sklearn/base.py:439: UserWarning: X does not have valid feature names, but RandomForestRegressor was fitted with feature names\n",
            "  warnings.warn(\n",
            "/usr/local/lib/python3.10/dist-packages/sklearn/base.py:439: UserWarning: X does not have valid feature names, but RandomForestRegressor was fitted with feature names\n",
            "  warnings.warn(\n",
            "/usr/local/lib/python3.10/dist-packages/sklearn/base.py:439: UserWarning: X does not have valid feature names, but RandomForestRegressor was fitted with feature names\n",
            "  warnings.warn(\n",
            "/usr/local/lib/python3.10/dist-packages/sklearn/base.py:439: UserWarning: X does not have valid feature names, but RandomForestRegressor was fitted with feature names\n",
            "  warnings.warn(\n",
            "/usr/local/lib/python3.10/dist-packages/sklearn/base.py:439: UserWarning: X does not have valid feature names, but RandomForestRegressor was fitted with feature names\n",
            "  warnings.warn(\n",
            "/usr/local/lib/python3.10/dist-packages/sklearn/base.py:439: UserWarning: X does not have valid feature names, but RandomForestRegressor was fitted with feature names\n",
            "  warnings.warn(\n",
            "/usr/local/lib/python3.10/dist-packages/sklearn/base.py:439: UserWarning: X does not have valid feature names, but RandomForestRegressor was fitted with feature names\n",
            "  warnings.warn(\n",
            "/usr/local/lib/python3.10/dist-packages/sklearn/base.py:439: UserWarning: X does not have valid feature names, but RandomForestRegressor was fitted with feature names\n",
            "  warnings.warn(\n",
            "/usr/local/lib/python3.10/dist-packages/sklearn/base.py:439: UserWarning: X does not have valid feature names, but RandomForestRegressor was fitted with feature names\n",
            "  warnings.warn(\n",
            "/usr/local/lib/python3.10/dist-packages/sklearn/base.py:439: UserWarning: X does not have valid feature names, but RandomForestRegressor was fitted with feature names\n",
            "  warnings.warn(\n",
            "/usr/local/lib/python3.10/dist-packages/sklearn/base.py:439: UserWarning: X does not have valid feature names, but RandomForestRegressor was fitted with feature names\n",
            "  warnings.warn(\n",
            "/usr/local/lib/python3.10/dist-packages/sklearn/base.py:439: UserWarning: X does not have valid feature names, but RandomForestRegressor was fitted with feature names\n",
            "  warnings.warn(\n",
            "/usr/local/lib/python3.10/dist-packages/sklearn/base.py:439: UserWarning: X does not have valid feature names, but RandomForestRegressor was fitted with feature names\n",
            "  warnings.warn(\n",
            "/usr/local/lib/python3.10/dist-packages/sklearn/base.py:439: UserWarning: X does not have valid feature names, but RandomForestRegressor was fitted with feature names\n",
            "  warnings.warn(\n",
            "/usr/local/lib/python3.10/dist-packages/sklearn/base.py:439: UserWarning: X does not have valid feature names, but RandomForestRegressor was fitted with feature names\n",
            "  warnings.warn(\n"
          ]
        }
      ]
    },
    {
      "cell_type": "code",
      "source": [
        "# Chuyển đổi dự báo về thang đo gốc\n",
        "forecast_30_days_inverse = scaler.inverse_transform(forecast_30_days.reshape(-1, 1))\n",
        "forecast_60_days_inverse = scaler.inverse_transform(forecast_60_days.reshape(-1, 1))\n",
        "forecast_90_days_inverse = scaler.inverse_transform(forecast_90_days.reshape(-1, 1))"
      ],
      "metadata": {
        "id": "Z8c-avo52WsM"
      },
      "execution_count": 18,
      "outputs": []
    },
    {
      "cell_type": "code",
      "source": [
        "print('Predicted closing prices for the next 30 days:')\n",
        "print(forecast_30_days_inverse.flatten())\n",
        "\n",
        "print('Predicted closing prices for the next 60 days:')\n",
        "print(forecast_60_days_inverse.flatten())\n",
        "\n",
        "print('Predicted closing prices for the next 90 days:')\n",
        "print(forecast_90_days_inverse.flatten())"
      ],
      "metadata": {
        "colab": {
          "base_uri": "https://localhost:8080/"
        },
        "id": "BFOWEhtbtDiC",
        "outputId": "99643c93-610e-489f-afcf-941d91c1f8a5"
      },
      "execution_count": 19,
      "outputs": [
        {
          "output_type": "stream",
          "name": "stdout",
          "text": [
            "Predicted closing prices for the next 30 days:\n",
            "[3684.9810382  3773.88608617 3806.23792622 3643.89563842 3617.02215846\n",
            " 3625.98062625 3668.67012352 3725.28926376 3980.92435919 4096.71699023\n",
            " 4225.30515427 4144.00218778 3874.4032952  4079.35520083 3830.91095916\n",
            " 3816.12047456 3764.68675943 3815.01907781 3690.24012075 3775.55022071\n",
            " 3806.23792622 3643.89563842 3617.02215846 3625.98062625 3668.67012352\n",
            " 3725.28926376 3980.92435919 4096.71699023 4225.30515427 4144.00218778]\n",
            "Predicted closing prices for the next 60 days:\n",
            "[3684.9810382  3773.88608617 3806.23792622 3643.89563842 3617.02215846\n",
            " 3625.98062625 3668.67012352 3725.28926376 3980.92435919 4096.71699023\n",
            " 4225.30515427 4144.00218778 3874.4032952  4079.35520083 3830.91095916\n",
            " 3816.12047456 3764.68675943 3815.01907781 3690.24012075 3775.55022071\n",
            " 3806.23792622 3643.89563842 3617.02215846 3625.98062625 3668.67012352\n",
            " 3725.28926376 3980.92435919 4096.71699023 4225.30515427 4144.00218778\n",
            " 3874.4032952  4079.35520083 3830.91095916 3816.12047456 3764.68675943\n",
            " 3815.01907781 3690.24012075 3775.55022071 3806.23792622 3643.89563842\n",
            " 3617.02215846 3625.98062625 3668.67012352 3725.28926376 3980.92435919\n",
            " 4096.71699023 4225.30515427 4144.00218778 3874.4032952  4079.35520083\n",
            " 3830.91095916 3816.12047456 3764.68675943 3815.01907781 3690.24012075\n",
            " 3775.55022071 3806.23792622 3643.89563842 3617.02215846 3625.98062625]\n",
            "Predicted closing prices for the next 90 days:\n",
            "[3684.9810382  3773.88608617 3806.23792622 3643.89563842 3617.02215846\n",
            " 3625.98062625 3668.67012352 3725.28926376 3980.92435919 4096.71699023\n",
            " 4225.30515427 4144.00218778 3874.4032952  4079.35520083 3830.91095916\n",
            " 3816.12047456 3764.68675943 3815.01907781 3690.24012075 3775.55022071\n",
            " 3806.23792622 3643.89563842 3617.02215846 3625.98062625 3668.67012352\n",
            " 3725.28926376 3980.92435919 4096.71699023 4225.30515427 4144.00218778\n",
            " 3874.4032952  4079.35520083 3830.91095916 3816.12047456 3764.68675943\n",
            " 3815.01907781 3690.24012075 3775.55022071 3806.23792622 3643.89563842\n",
            " 3617.02215846 3625.98062625 3668.67012352 3725.28926376 3980.92435919\n",
            " 4096.71699023 4225.30515427 4144.00218778 3874.4032952  4079.35520083\n",
            " 3830.91095916 3816.12047456 3764.68675943 3815.01907781 3690.24012075\n",
            " 3775.55022071 3806.23792622 3643.89563842 3617.02215846 3625.98062625\n",
            " 3668.67012352 3725.28926376 3980.92435919 4096.71699023 4225.30515427\n",
            " 4144.00218778 3874.4032952  4079.35520083 3830.91095916 3816.12047456\n",
            " 3764.68675943 3815.01907781 3690.24012075 3775.55022071 3806.23792622\n",
            " 3643.89563842 3617.02215846 3625.98062625 3668.67012352 3725.28926376\n",
            " 3980.92435919 4096.71699023 4225.30515427 4144.00218778 3874.4032952\n",
            " 4079.35520083 3830.91095916 3816.12047456 3764.68675943 3815.01907781]\n"
          ]
        }
      ]
    },
    {
      "cell_type": "code",
      "source": [
        "# Tạo trục x cho các dự báo tương lai\n",
        "index_future = pd.date_range(start=df.index[-1], periods=90, freq='D')\n",
        "index_next_30_days = index_future[:30]\n",
        "index_next_60_days = index_future[:60]\n",
        "index_next_90_days = index_future[:90]\n",
        "\n",
        "# Tạo trục x cho tập huấn luyện và kiểm tra\n",
        "train_dates = df.index[:train_size]\n",
        "test_dates = df.index[train_size:train_size + len(y_test)]\n",
        "predict_dates_30 = index_next_30_days\n",
        "predict_dates_60 = index_next_60_days\n",
        "predict_dates_90 = index_next_90_days"
      ],
      "metadata": {
        "id": "Ok9gXYUS4oaD"
      },
      "execution_count": 20,
      "outputs": []
    },
    {
      "cell_type": "code",
      "source": [
        "# Vẽ đồ thị cho dự đoán 30, 60, 90 ngày trên cùng một biểu đồ\n",
        "plt.figure(figsize=(16, 5))\n",
        "\n",
        "# Đồ thị cho tập huấn luyện\n",
        "plt.plot(train_dates, scaler.inverse_transform(train_data['target'].values.reshape(-1, 1)),\n",
        "         color='#1f77b4', linestyle='-', label='Train')\n",
        "\n",
        "# Đồ thị cho tập kiểm tra\n",
        "plt.plot(test_dates, y_test_inverse, color='#ff7f0e', linestyle='-', label='Test')\n",
        "plt.plot(test_dates, y_pred_inverse, color='#2ca02c', linestyle='-', label='Predict')\n",
        "\n",
        "# Đồ thị cho dự báo 30 ngày\n",
        "plt.plot(predict_dates_30, forecast_30_days_inverse, color='#d62728', linestyle='-', label='Predict30days')\n",
        "\n",
        "# Đồ thị cho dự báo 60 ngày\n",
        "plt.plot(predict_dates_60, forecast_60_days_inverse[:60], color='#9467bd', linestyle='-', label='Predict60days')\n",
        "\n",
        "# Đồ thị cho dự báo 90 ngày\n",
        "plt.plot(predict_dates_90, forecast_90_days_inverse[:90], color='#8c564b', linestyle='-', label='Predict90days')\n",
        "\n",
        "plt.legend()\n",
        "plt.title(\"Biểu đồ dự báo giá trị Close của dữ liệu ETH (8:2)\")\n",
        "plt.xlabel(\"Ngày\")\n",
        "plt.ylabel(\"Giá trị đóng cửa\")\n",
        "plt.grid(False)\n",
        "plt.savefig('RandomForest_ETH_82.png')\n",
        "plt.show()"
      ],
      "metadata": {
        "colab": {
          "base_uri": "https://localhost:8080/",
          "height": 475
        },
        "id": "1Pkcw8zp4trM",
        "outputId": "c95e9da3-3245-47cc-f805-582d54e6b193"
      },
      "execution_count": 21,
      "outputs": [
        {
          "output_type": "display_data",
          "data": {
            "text/plain": [
              "<Figure size 1600x500 with 1 Axes>"
            ],
            "image/png": "[encoded data removed]"
          },
          "metadata": {}
        }
      ]
    }
  ]
}