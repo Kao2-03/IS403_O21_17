{
  "nbformat": 4,
  "nbformat_minor": 0,
  "metadata": {
    "colab": {
      "provenance": []
    },
    "kernelspec": {
      "name": "python3",
      "display_name": "Python 3"
    },
    "language_info": {
      "name": "python"
    }
  },
  "cells": [
    {
      "cell_type": "code",
      "source": [
        "pip install optuna"
      ],
      "metadata": {
        "colab": {
          "base_uri": "https://localhost:8080/"
        },
        "id": "4Gb8MhQT2meX",
        "outputId": "9d470df6-5c18-4332-9adb-1121e4a21a13"
      },
      "execution_count": 1,
      "outputs": [
        {
          "output_type": "stream",
          "name": "stdout",
          "text": [
            "Collecting optuna\n",
            "  Downloading optuna-3.6.1-py3-none-any.whl (380 kB)\n",
            "\u001b[2K     \u001b[90m━━━━━━━━━━━━━━━━━━━━━━━━━━━━━━━━━━━━━━━━\u001b[0m \u001b[32m380.1/380.1 kB\u001b[0m \u001b[31m4.3 MB/s\u001b[0m eta \u001b[36m0:00:00\u001b[0m\n",
            "\u001b[?25hCollecting alembic>=1.5.0 (from optuna)\n",
            "  Downloading alembic-1.13.1-py3-none-any.whl (233 kB)\n",
            "\u001b[2K     \u001b[90m━━━━━━━━━━━━━━━━━━━━━━━━━━━━━━━━━━━━━━━━\u001b[0m \u001b[32m233.4/233.4 kB\u001b[0m \u001b[31m17.8 MB/s\u001b[0m eta \u001b[36m0:00:00\u001b[0m\n",
            "\u001b[?25hCollecting colorlog (from optuna)\n",
            "  Downloading colorlog-6.8.2-py3-none-any.whl (11 kB)\n",
            "Requirement already satisfied: numpy in /usr/local/lib/python3.10/dist-packages (from optuna) (1.25.2)\n",
            "Requirement already satisfied: packaging>=20.0 in /usr/local/lib/python3.10/dist-packages (from optuna) (24.1)\n",
            "Requirement already satisfied: sqlalchemy>=1.3.0 in /usr/local/lib/python3.10/dist-packages (from optuna) (2.0.30)\n",
            "Requirement already satisfied: tqdm in /usr/local/lib/python3.10/dist-packages (from optuna) (4.66.4)\n",
            "Requirement already satisfied: PyYAML in /usr/local/lib/python3.10/dist-packages (from optuna) (6.0.1)\n",
            "Collecting Mako (from alembic>=1.5.0->optuna)\n",
            "  Downloading Mako-1.3.5-py3-none-any.whl (78 kB)\n",
            "\u001b[2K     \u001b[90m━━━━━━━━━━━━━━━━━━━━━━━━━━━━━━━━━━━━━━━━\u001b[0m \u001b[32m78.6/78.6 kB\u001b[0m \u001b[31m6.0 MB/s\u001b[0m eta \u001b[36m0:00:00\u001b[0m\n",
            "\u001b[?25hRequirement already satisfied: typing-extensions>=4 in /usr/local/lib/python3.10/dist-packages (from alembic>=1.5.0->optuna) (4.12.2)\n",
            "Requirement already satisfied: greenlet!=0.4.17 in /usr/local/lib/python3.10/dist-packages (from sqlalchemy>=1.3.0->optuna) (3.0.3)\n",
            "Requirement already satisfied: MarkupSafe>=0.9.2 in /usr/local/lib/python3.10/dist-packages (from Mako->alembic>=1.5.0->optuna) (2.1.5)\n",
            "Installing collected packages: Mako, colorlog, alembic, optuna\n",
            "Successfully installed Mako-1.3.5 alembic-1.13.1 colorlog-6.8.2 optuna-3.6.1\n"
          ]
        }
      ]
    },
    {
      "cell_type": "code",
      "execution_count": 2,
      "metadata": {
        "id": "sYz7-uhJL_Xb"
      },
      "outputs": [],
      "source": [
        "import optuna\n",
        "import pandas as pd\n",
        "import numpy as np\n",
        "import matplotlib.pyplot as plt\n",
        "from sklearn.preprocessing import MinMaxScaler\n",
        "from sklearn.ensemble import RandomForestRegressor\n",
        "from sklearn.metrics import mean_squared_error,mean_absolute_percentage_error\n",
        "from sklearn.model_selection import TimeSeriesSplit"
      ]
    },
    {
      "cell_type": "code",
      "source": [
        "df = pd.read_csv('BNB-USD.csv')"
      ],
      "metadata": {
        "id": "oNpkUoF4MbtN"
      },
      "execution_count": 3,
      "outputs": []
    },
    {
      "cell_type": "code",
      "source": [
        "df['Date'] = pd.to_datetime(df['Date'])\n",
        "df.set_index('Date', inplace=True)"
      ],
      "metadata": {
        "id": "k2rwlrAJQAcv"
      },
      "execution_count": 4,
      "outputs": []
    },
    {
      "cell_type": "code",
      "source": [
        "df_Close = df[['Close']]\n",
        "df_Close = df_Close.reset_index(drop=True)"
      ],
      "metadata": {
        "id": "B-TrgtWjQBvg"
      },
      "execution_count": 5,
      "outputs": []
    },
    {
      "cell_type": "code",
      "source": [
        "scaler = MinMaxScaler(feature_range=(0, 1))\n",
        "data_scaled = scaler.fit_transform(np.array(df_Close).reshape(-1, 1))"
      ],
      "metadata": {
        "id": "B1NTNnb-O-1M"
      },
      "execution_count": 6,
      "outputs": []
    },
    {
      "cell_type": "code",
      "source": [
        "# Hàm tạo đặc trưng lag\n",
        "def create_lagged_features(data, n_lags=1):\n",
        "    df_lags = pd.DataFrame()\n",
        "    for i in range(n_lags):\n",
        "        df_lags[f'lag_{i+1}'] = np.roll(data, shift=i+1)\n",
        "    df_lags['target'] = data\n",
        "    return df_lags.iloc[n_lags:]"
      ],
      "metadata": {
        "id": "GzM0TImwQ4nm"
      },
      "execution_count": 7,
      "outputs": []
    },
    {
      "cell_type": "code",
      "source": [
        "# Hàm tối ưu hóa sử dụng Optuna\n",
        "def objective(trial):\n",
        "    # Gợi ý giá trị cho n_lags và n_estimators\n",
        "    n_lags = trial.suggest_int('n_lags', 1, 30)                 # Tìm số lượng lag từ 1 đến 30\n",
        "    n_estimators = trial.suggest_int('n_estimators', 10, 200)   # Tìm số lượng cây từ 10 đến 200\n",
        "\n",
        "    # Tạo đặc trưng lag\n",
        "    lagged_data = create_lagged_features(data_scaled.flatten(), n_lags)\n",
        "    X, y = lagged_data.iloc[:, :-1], lagged_data.iloc[:, -1]\n",
        "\n",
        "    tscv = TimeSeriesSplit(n_splits=5)\n",
        "    errors = []\n",
        "\n",
        "    for train_index, test_index in tscv.split(X):\n",
        "        X_train, X_test = X.iloc[train_index], X.iloc[test_index]\n",
        "        y_train, y_test = y.iloc[train_index], y.iloc[test_index]\n",
        "\n",
        "        rf_model = RandomForestRegressor(n_estimators=n_estimators, random_state=42)\n",
        "        rf_model.fit(X_train, y_train)\n",
        "        y_pred = rf_model.predict(X_test)\n",
        "\n",
        "        errors.append(mean_squared_error(y_test, y_pred))\n",
        "\n",
        "    return np.mean(errors)"
      ],
      "metadata": {
        "id": "3OZTwxsgcchh"
      },
      "execution_count": 8,
      "outputs": []
    },
    {
      "cell_type": "markdown",
      "source": [
        "**Tìm kiếm tham số tối ưu**"
      ],
      "metadata": {
        "id": "af9bdtAd1RhK"
      }
    },
    {
      "cell_type": "code",
      "source": [
        "study = optuna.create_study(direction='minimize')\n",
        "study.optimize(objective, n_trials=50)  # Thử nghiệm 50 lần để tìm giá trị tối ưu\n",
        "\n",
        "# In ra tham số tối ưu\n",
        "best_params = study.best_params\n",
        "print(f'Best parameters: {best_params}')\n",
        "print(f'Best trial value: {study.best_value}')\n"
      ],
      "metadata": {
        "id": "kuHoDwlidiQi",
        "colab": {
          "base_uri": "https://localhost:8080/"
        },
        "outputId": "cff9ba92-5470-4cbf-e359-c0a78c5d4ba5"
      },
      "execution_count": 9,
      "outputs": [
        {
          "output_type": "stream",
          "name": "stderr",
          "text": [
            "[I 2024-06-21 15:21:21,741] A new study created in memory with name: no-name-26c7d475-51e2-4a56-a420-40d427ec6c0c\n",
            "[I 2024-06-21 15:21:37,843] Trial 0 finished with value: 0.05034852934800958 and parameters: {'n_lags': 26, 'n_estimators': 86}. Best is trial 0 with value: 0.05034852934800958.\n",
            "[I 2024-06-21 15:21:39,337] Trial 1 finished with value: 0.047203125957420274 and parameters: {'n_lags': 7, 'n_estimators': 49}. Best is trial 1 with value: 0.047203125957420274.\n",
            "[I 2024-06-21 15:21:44,144] Trial 2 finished with value: 0.049268035820718564 and parameters: {'n_lags': 21, 'n_estimators': 60}. Best is trial 1 with value: 0.047203125957420274.\n",
            "[I 2024-06-21 15:21:46,919] Trial 3 finished with value: 0.048253704412696774 and parameters: {'n_lags': 16, 'n_estimators': 44}. Best is trial 1 with value: 0.047203125957420274.\n",
            "[I 2024-06-21 15:21:50,978] Trial 4 finished with value: 0.049190680931407334 and parameters: {'n_lags': 24, 'n_estimators': 54}. Best is trial 1 with value: 0.047203125957420274.\n",
            "[I 2024-06-21 15:21:59,293] Trial 5 finished with value: 0.049225154879197104 and parameters: {'n_lags': 19, 'n_estimators': 116}. Best is trial 1 with value: 0.047203125957420274.\n",
            "[I 2024-06-21 15:22:02,881] Trial 6 finished with value: 0.047135926255526144 and parameters: {'n_lags': 10, 'n_estimators': 95}. Best is trial 6 with value: 0.047135926255526144.\n",
            "[I 2024-06-21 15:22:04,891] Trial 7 finished with value: 0.04599670071432146 and parameters: {'n_lags': 2, 'n_estimators': 137}. Best is trial 7 with value: 0.04599670071432146.\n",
            "[I 2024-06-21 15:22:06,243] Trial 8 finished with value: 0.04600149548714459 and parameters: {'n_lags': 2, 'n_estimators': 91}. Best is trial 7 with value: 0.04599670071432146.\n",
            "[I 2024-06-21 15:22:13,248] Trial 9 finished with value: 0.048193666461315274 and parameters: {'n_lags': 17, 'n_estimators': 102}. Best is trial 7 with value: 0.04599670071432146.\n",
            "[I 2024-06-21 15:22:15,212] Trial 10 finished with value: 0.04600464176378722 and parameters: {'n_lags': 1, 'n_estimators': 174}. Best is trial 7 with value: 0.04599670071432146.\n",
            "[I 2024-06-21 15:22:16,853] Trial 11 finished with value: 0.04600646450467538 and parameters: {'n_lags': 1, 'n_estimators': 146}. Best is trial 7 with value: 0.04599670071432146.\n",
            "[I 2024-06-21 15:22:17,311] Trial 12 finished with value: 0.047283456420106555 and parameters: {'n_lags': 8, 'n_estimators': 13}. Best is trial 7 with value: 0.04599670071432146.\n",
            "[I 2024-06-21 15:22:20,103] Trial 13 finished with value: 0.046129086976339224 and parameters: {'n_lags': 4, 'n_estimators': 135}. Best is trial 7 with value: 0.04599670071432146.\n",
            "[I 2024-06-21 15:22:29,502] Trial 14 finished with value: 0.04715794863828707 and parameters: {'n_lags': 12, 'n_estimators': 192}. Best is trial 7 with value: 0.04599670071432146.\n",
            "[I 2024-06-21 15:22:44,479] Trial 15 finished with value: 0.05024199075702852 and parameters: {'n_lags': 30, 'n_estimators': 155}. Best is trial 7 with value: 0.04599670071432146.\n",
            "[I 2024-06-21 15:22:47,357] Trial 16 finished with value: 0.04612430447397064 and parameters: {'n_lags': 5, 'n_estimators': 123}. Best is trial 7 with value: 0.04599670071432146.\n",
            "[I 2024-06-21 15:22:52,415] Trial 17 finished with value: 0.04811102202622221 and parameters: {'n_lags': 13, 'n_estimators': 87}. Best is trial 7 with value: 0.04599670071432146.\n",
            "[I 2024-06-21 15:22:55,459] Trial 18 finished with value: 0.04598221911082397 and parameters: {'n_lags': 3, 'n_estimators': 165}. Best is trial 18 with value: 0.04598221911082397.\n",
            "[I 2024-06-21 15:23:01,947] Trial 19 finished with value: 0.046204141317017056 and parameters: {'n_lags': 6, 'n_estimators': 198}. Best is trial 18 with value: 0.04598221911082397.\n",
            "[I 2024-06-21 15:23:09,421] Trial 20 finished with value: 0.0471588875879368 and parameters: {'n_lags': 10, 'n_estimators': 166}. Best is trial 18 with value: 0.04598221911082397.\n",
            "[I 2024-06-21 15:23:11,990] Trial 21 finished with value: 0.045985767353034904 and parameters: {'n_lags': 3, 'n_estimators': 144}. Best is trial 18 with value: 0.04598221911082397.\n",
            "[I 2024-06-21 15:23:15,608] Trial 22 finished with value: 0.04613996813782102 and parameters: {'n_lags': 4, 'n_estimators': 175}. Best is trial 18 with value: 0.04598221911082397.\n",
            "[I 2024-06-21 15:23:19,044] Trial 23 finished with value: 0.04598809524977055 and parameters: {'n_lags': 3, 'n_estimators': 138}. Best is trial 18 with value: 0.04598221911082397.\n",
            "[I 2024-06-21 15:23:24,772] Trial 24 finished with value: 0.04717308945841436 and parameters: {'n_lags': 9, 'n_estimators': 159}. Best is trial 18 with value: 0.04598221911082397.\n",
            "[I 2024-06-21 15:23:30,864] Trial 25 finished with value: 0.04810828863648453 and parameters: {'n_lags': 13, 'n_estimators': 124}. Best is trial 18 with value: 0.04598221911082397.\n",
            "[I 2024-06-21 15:23:35,484] Trial 26 finished with value: 0.04613365821216639 and parameters: {'n_lags': 4, 'n_estimators': 184}. Best is trial 18 with value: 0.04598221911082397.\n",
            "[I 2024-06-21 15:23:39,836] Trial 27 finished with value: 0.047240516729857795 and parameters: {'n_lags': 7, 'n_estimators': 149}. Best is trial 18 with value: 0.04598221911082397.\n",
            "[I 2024-06-21 15:23:41,905] Trial 28 finished with value: 0.04599329665039763 and parameters: {'n_lags': 3, 'n_estimators': 114}. Best is trial 18 with value: 0.04598221911082397.\n",
            "[I 2024-06-21 15:23:46,724] Trial 29 finished with value: 0.046198306635034075 and parameters: {'n_lags': 6, 'n_estimators': 142}. Best is trial 18 with value: 0.04598221911082397.\n",
            "[I 2024-06-21 15:23:54,018] Trial 30 finished with value: 0.04715287682877563 and parameters: {'n_lags': 12, 'n_estimators': 170}. Best is trial 18 with value: 0.04598221911082397.\n",
            "[I 2024-06-21 15:23:56,111] Trial 31 finished with value: 0.04599064051137032 and parameters: {'n_lags': 3, 'n_estimators': 118}. Best is trial 18 with value: 0.04598221911082397.\n",
            "[I 2024-06-21 15:23:58,422] Trial 32 finished with value: 0.04601347333339413 and parameters: {'n_lags': 1, 'n_estimators': 130}. Best is trial 18 with value: 0.04598221911082397.\n",
            "[I 2024-06-21 15:24:00,584] Trial 33 finished with value: 0.04621153256627213 and parameters: {'n_lags': 6, 'n_estimators': 70}. Best is trial 18 with value: 0.04598221911082397.\n",
            "[I 2024-06-21 15:24:02,568] Trial 34 finished with value: 0.04599700072913189 and parameters: {'n_lags': 3, 'n_estimators': 109}. Best is trial 18 with value: 0.04598221911082397.\n",
            "[I 2024-06-21 15:24:07,624] Trial 35 finished with value: 0.047264629120292 and parameters: {'n_lags': 8, 'n_estimators': 158}. Best is trial 18 with value: 0.04598221911082397.\n",
            "[I 2024-06-21 15:24:21,002] Trial 36 finished with value: 0.04924153288087578 and parameters: {'n_lags': 21, 'n_estimators': 183}. Best is trial 18 with value: 0.04598221911082397.\n",
            "[I 2024-06-21 15:24:24,710] Trial 37 finished with value: 0.046127565408322135 and parameters: {'n_lags': 5, 'n_estimators': 125}. Best is trial 18 with value: 0.04598221911082397.\n",
            "[I 2024-06-21 15:24:31,019] Trial 38 finished with value: 0.050372080395229855 and parameters: {'n_lags': 25, 'n_estimators': 75}. Best is trial 18 with value: 0.04598221911082397.\n",
            "[I 2024-06-21 15:24:32,877] Trial 39 finished with value: 0.04599764294033085 and parameters: {'n_lags': 3, 'n_estimators': 103}. Best is trial 18 with value: 0.04598221911082397.\n",
            "[I 2024-06-21 15:24:39,600] Trial 40 finished with value: 0.04716371160168836 and parameters: {'n_lags': 10, 'n_estimators': 148}. Best is trial 18 with value: 0.04598221911082397.\n",
            "[I 2024-06-21 15:24:41,761] Trial 41 finished with value: 0.04599014115470848 and parameters: {'n_lags': 3, 'n_estimators': 117}. Best is trial 18 with value: 0.04598221911082397.\n",
            "[I 2024-06-21 15:24:43,320] Trial 42 finished with value: 0.04601128399891261 and parameters: {'n_lags': 1, 'n_estimators': 137}. Best is trial 18 with value: 0.04598221911082397.\n",
            "[I 2024-06-21 15:24:45,428] Trial 43 finished with value: 0.04599064051137032 and parameters: {'n_lags': 3, 'n_estimators': 118}. Best is trial 18 with value: 0.04598221911082397.\n",
            "[I 2024-06-21 15:24:47,705] Trial 44 finished with value: 0.04611731923585857 and parameters: {'n_lags': 5, 'n_estimators': 96}. Best is trial 18 with value: 0.04598221911082397.\n",
            "[I 2024-06-21 15:24:49,641] Trial 45 finished with value: 0.045998854310145124 and parameters: {'n_lags': 2, 'n_estimators': 131}. Best is trial 18 with value: 0.04598221911082397.\n",
            "[I 2024-06-21 15:24:54,030] Trial 46 finished with value: 0.04720931289012306 and parameters: {'n_lags': 7, 'n_estimators': 107}. Best is trial 18 with value: 0.04598221911082397.\n",
            "[I 2024-06-21 15:24:56,128] Trial 47 finished with value: 0.04599366355193823 and parameters: {'n_lags': 2, 'n_estimators': 141}. Best is trial 18 with value: 0.04598221911082397.\n",
            "[I 2024-06-21 15:24:57,600] Trial 48 finished with value: 0.04838046863920256 and parameters: {'n_lags': 18, 'n_estimators': 24}. Best is trial 18 with value: 0.04598221911082397.\n",
            "[I 2024-06-21 15:25:02,897] Trial 49 finished with value: 0.04725786354294916 and parameters: {'n_lags': 8, 'n_estimators': 165}. Best is trial 18 with value: 0.04598221911082397.\n"
          ]
        },
        {
          "output_type": "stream",
          "name": "stdout",
          "text": [
            "Best parameters: {'n_lags': 3, 'n_estimators': 165}\n",
            "Best trial value: 0.04598221911082397\n"
          ]
        }
      ]
    },
    {
      "cell_type": "markdown",
      "source": [
        "**Sử dụng tham số tối ưu để huấn luyện mô hình cuối cùng**"
      ],
      "metadata": {
        "id": "RjYSlMn31adp"
      }
    },
    {
      "cell_type": "code",
      "source": [
        "optimal_n_lags = best_params['n_lags']\n",
        "optimal_n_estimators = best_params['n_estimators']\n",
        "lagged_data = create_lagged_features(data_scaled.flatten(), optimal_n_lags)"
      ],
      "metadata": {
        "id": "d1B7DqrcviS1"
      },
      "execution_count": 10,
      "outputs": []
    },
    {
      "cell_type": "code",
      "source": [
        "# Chia dữ liệu thành tập huấn luyện và kiểm tra\n",
        "train_size = int(0.8 * len(lagged_data))\n",
        "train_data, test_data = lagged_data[:train_size], lagged_data[train_size:]\n",
        "# Tách các đặc trưng và mục tiêu\n",
        "X_train, y_train = train_data.iloc[:, :-1], train_data.iloc[:, -1]\n",
        "X_test, y_test = test_data.iloc[:, :-1], test_data.iloc[:, -1]"
      ],
      "metadata": {
        "id": "T2uSJFR5Xpfr"
      },
      "execution_count": 11,
      "outputs": []
    },
    {
      "cell_type": "code",
      "source": [
        "# Huấn luyện mô hình Random Forest với các tham số tối ưu\n",
        "rf_model = RandomForestRegressor(n_estimators=optimal_n_estimators, random_state=42)\n",
        "rf_model.fit(X_train, y_train)"
      ],
      "metadata": {
        "colab": {
          "base_uri": "https://localhost:8080/",
          "height": 74
        },
        "id": "0SbpAb7c1qFa",
        "outputId": "3848e193-bbd4-4c37-da5d-638bf8d42b25"
      },
      "execution_count": 12,
      "outputs": [
        {
          "output_type": "execute_result",
          "data": {
            "text/plain": [
              "RandomForestRegressor(n_estimators=165, random_state=42)"
            ],
            "text/html": [
              "<style>#sk-container-id-1 {color: black;background-color: white;}#sk-container-id-1 pre{padding: 0;}#sk-container-id-1 div.sk-toggleable {background-color: white;}#sk-container-id-1 label.sk-toggleable__label {cursor: pointer;display: block;width: 100%;margin-bottom: 0;padding: 0.3em;box-sizing: border-box;text-align: center;}#sk-container-id-1 label.sk-toggleable__label-arrow:before {content: \"▸\";float: left;margin-right: 0.25em;color: #696969;}#sk-container-id-1 label.sk-toggleable__label-arrow:hover:before {color: black;}#sk-container-id-1 div.sk-estimator:hover label.sk-toggleable__label-arrow:before {color: black;}#sk-container-id-1 div.sk-toggleable__content {max-height: 0;max-width: 0;overflow: hidden;text-align: left;background-color: #f0f8ff;}#sk-container-id-1 div.sk-toggleable__content pre {margin: 0.2em;color: black;border-radius: 0.25em;background-color: #f0f8ff;}#sk-container-id-1 input.sk-toggleable__control:checked~div.sk-toggleable__content {max-height: 200px;max-width: 100%;overflow: auto;}#sk-container-id-1 input.sk-toggleable__control:checked~label.sk-toggleable__label-arrow:before {content: \"▾\";}#sk-container-id-1 div.sk-estimator input.sk-toggleable__control:checked~label.sk-toggleable__label {background-color: #d4ebff;}#sk-container-id-1 div.sk-label input.sk-toggleable__control:checked~label.sk-toggleable__label {background-color: #d4ebff;}#sk-container-id-1 input.sk-hidden--visually {border: 0;clip: rect(1px 1px 1px 1px);clip: rect(1px, 1px, 1px, 1px);height: 1px;margin: -1px;overflow: hidden;padding: 0;position: absolute;width: 1px;}#sk-container-id-1 div.sk-estimator {font-family: monospace;background-color: #f0f8ff;border: 1px dotted black;border-radius: 0.25em;box-sizing: border-box;margin-bottom: 0.5em;}#sk-container-id-1 div.sk-estimator:hover {background-color: #d4ebff;}#sk-container-id-1 div.sk-parallel-item::after {content: \"\";width: 100%;border-bottom: 1px solid gray;flex-grow: 1;}#sk-container-id-1 div.sk-label:hover label.sk-toggleable__label {background-color: #d4ebff;}#sk-container-id-1 div.sk-serial::before {content: \"\";position: absolute;border-left: 1px solid gray;box-sizing: border-box;top: 0;bottom: 0;left: 50%;z-index: 0;}#sk-container-id-1 div.sk-serial {display: flex;flex-direction: column;align-items: center;background-color: white;padding-right: 0.2em;padding-left: 0.2em;position: relative;}#sk-container-id-1 div.sk-item {position: relative;z-index: 1;}#sk-container-id-1 div.sk-parallel {display: flex;align-items: stretch;justify-content: center;background-color: white;position: relative;}#sk-container-id-1 div.sk-item::before, #sk-container-id-1 div.sk-parallel-item::before {content: \"\";position: absolute;border-left: 1px solid gray;box-sizing: border-box;top: 0;bottom: 0;left: 50%;z-index: -1;}#sk-container-id-1 div.sk-parallel-item {display: flex;flex-direction: column;z-index: 1;position: relative;background-color: white;}#sk-container-id-1 div.sk-parallel-item:first-child::after {align-self: flex-end;width: 50%;}#sk-container-id-1 div.sk-parallel-item:last-child::after {align-self: flex-start;width: 50%;}#sk-container-id-1 div.sk-parallel-item:only-child::after {width: 0;}#sk-container-id-1 div.sk-dashed-wrapped {border: 1px dashed gray;margin: 0 0.4em 0.5em 0.4em;box-sizing: border-box;padding-bottom: 0.4em;background-color: white;}#sk-container-id-1 div.sk-label label {font-family: monospace;font-weight: bold;display: inline-block;line-height: 1.2em;}#sk-container-id-1 div.sk-label-container {text-align: center;}#sk-container-id-1 div.sk-container {/* jupyter's `normalize.less` sets `[hidden] { display: none; }` but bootstrap.min.css set `[hidden] { display: none !important; }` so we also need the `!important` here to be able to override the default hidden behavior on the sphinx rendered scikit-learn.org. See: https://github.com/scikit-learn/scikit-learn/issues/21755 */display: inline-block !important;position: relative;}#sk-container-id-1 div.sk-text-repr-fallback {display: none;}</style><div id=\"sk-container-id-1\" class=\"sk-top-container\"><div class=\"sk-text-repr-fallback\"><pre>RandomForestRegressor(n_estimators=165, random_state=42)</pre><b>In a Jupyter environment, please rerun this cell to show the HTML representation or trust the notebook. <br />On GitHub, the HTML representation is unable to render, please try loading this page with nbviewer.org.</b></div><div class=\"sk-container\" hidden><div class=\"sk-item\"><div class=\"sk-estimator sk-toggleable\"><input class=\"sk-toggleable__control sk-hidden--visually\" id=\"sk-estimator-id-1\" type=\"checkbox\" checked><label for=\"sk-estimator-id-1\" class=\"sk-toggleable__label sk-toggleable__label-arrow\">RandomForestRegressor</label><div class=\"sk-toggleable__content\"><pre>RandomForestRegressor(n_estimators=165, random_state=42)</pre></div></div></div></div></div>"
            ]
          },
          "metadata": {},
          "execution_count": 12
        }
      ]
    },
    {
      "cell_type": "code",
      "source": [
        "# Dự đoán trên tập kiểm tra\n",
        "y_pred = rf_model.predict(X_test)"
      ],
      "metadata": {
        "id": "UjZO2zLU1rKo"
      },
      "execution_count": 13,
      "outputs": []
    },
    {
      "cell_type": "code",
      "source": [
        "# Chuyển đổi lại dữ liệu về thang đo gốc\n",
        "y_test_inverse = scaler.inverse_transform(y_test.values.reshape(-1, 1))\n",
        "y_pred_inverse = scaler.inverse_transform(y_pred.reshape(-1, 1))"
      ],
      "metadata": {
        "id": "UrakTMqv1uDC"
      },
      "execution_count": 14,
      "outputs": []
    },
    {
      "cell_type": "code",
      "source": [
        "# Tính toán các độ đo lỗi\n",
        "test_mape = mean_absolute_percentage_error(y_test_inverse, y_pred_inverse)\n",
        "test_mse = mean_squared_error(y_test_inverse, y_pred_inverse)\n",
        "test_rmse = np.sqrt(test_mse)\n",
        "\n",
        "print(f\"MAPE on Test dataset: {test_mape:.4f}\")\n",
        "print(f\"RMSE on Test dataset: {test_rmse:.4f}\")\n",
        "print(f\"MSE on Test dataset: {test_mse:.4f}\")"
      ],
      "metadata": {
        "colab": {
          "base_uri": "https://localhost:8080/"
        },
        "id": "9juDFIyA1wkc",
        "outputId": "eaf23798-b5d6-4a5f-9ce4-e8f1f86467d9"
      },
      "execution_count": 15,
      "outputs": [
        {
          "output_type": "stream",
          "name": "stdout",
          "text": [
            "MAPE on Test dataset: 0.0251\n",
            "RMSE on Test dataset: 13.5724\n",
            "MSE on Test dataset: 184.2100\n"
          ]
        }
      ]
    },
    {
      "cell_type": "code",
      "source": [
        "# Hàm dự báo tương lai\n",
        "def forecast_future(model, data, n_lags, n_periods):\n",
        "    future_forecast = []\n",
        "    last_values = data[-n_lags:]\n",
        "    for _ in range(n_periods):\n",
        "        prediction = model.predict(last_values.reshape(1, -1))[0]\n",
        "        future_forecast.append(prediction)\n",
        "        last_values = np.append(last_values[1:], prediction)\n",
        "    return np.array(future_forecast)"
      ],
      "metadata": {
        "id": "oANJtE5tYKMq"
      },
      "execution_count": 16,
      "outputs": []
    },
    {
      "cell_type": "code",
      "source": [
        "# Dự báo giá trị tương lai\n",
        "forecast_30_days = forecast_future(rf_model, data_scaled.flatten(), optimal_n_lags, 30)\n",
        "forecast_60_days = forecast_future(rf_model, data_scaled.flatten(), optimal_n_lags, 60)\n",
        "forecast_90_days = forecast_future(rf_model, data_scaled.flatten(), optimal_n_lags, 90)"
      ],
      "metadata": {
        "colab": {
          "base_uri": "https://localhost:8080/"
        },
        "id": "oLWo4aTh2Txa",
        "outputId": "0eb1c887-6a36-4b9a-a2ca-c4bbfec8284e"
      },
      "execution_count": 17,
      "outputs": [
        {
          "output_type": "stream",
          "name": "stderr",
          "text": [
            "/usr/local/lib/python3.10/dist-packages/sklearn/base.py:439: UserWarning: X does not have valid feature names, but RandomForestRegressor was fitted with feature names\n",
            "  warnings.warn(\n",
            "/usr/local/lib/python3.10/dist-packages/sklearn/base.py:439: UserWarning: X does not have valid feature names, but RandomForestRegressor was fitted with feature names\n",
            "  warnings.warn(\n",
            "/usr/local/lib/python3.10/dist-packages/sklearn/base.py:439: UserWarning: X does not have valid feature names, but RandomForestRegressor was fitted with feature names\n",
            "  warnings.warn(\n",
            "/usr/local/lib/python3.10/dist-packages/sklearn/base.py:439: UserWarning: X does not have valid feature names, but RandomForestRegressor was fitted with feature names\n",
            "  warnings.warn(\n",
            "/usr/local/lib/python3.10/dist-packages/sklearn/base.py:439: UserWarning: X does not have valid feature names, but RandomForestRegressor was fitted with feature names\n",
            "  warnings.warn(\n",
            "/usr/local/lib/python3.10/dist-packages/sklearn/base.py:439: UserWarning: X does not have valid feature names, but RandomForestRegressor was fitted with feature names\n",
            "  warnings.warn(\n",
            "/usr/local/lib/python3.10/dist-packages/sklearn/base.py:439: UserWarning: X does not have valid feature names, but RandomForestRegressor was fitted with feature names\n",
            "  warnings.warn(\n",
            "/usr/local/lib/python3.10/dist-packages/sklearn/base.py:439: UserWarning: X does not have valid feature names, but RandomForestRegressor was fitted with feature names\n",
            "  warnings.warn(\n",
            "/usr/local/lib/python3.10/dist-packages/sklearn/base.py:439: UserWarning: X does not have valid feature names, but RandomForestRegressor was fitted with feature names\n",
            "  warnings.warn(\n",
            "/usr/local/lib/python3.10/dist-packages/sklearn/base.py:439: UserWarning: X does not have valid feature names, but RandomForestRegressor was fitted with feature names\n",
            "  warnings.warn(\n",
            "/usr/local/lib/python3.10/dist-packages/sklearn/base.py:439: UserWarning: X does not have valid feature names, but RandomForestRegressor was fitted with feature names\n",
            "  warnings.warn(\n",
            "/usr/local/lib/python3.10/dist-packages/sklearn/base.py:439: UserWarning: X does not have valid feature names, but RandomForestRegressor was fitted with feature names\n",
            "  warnings.warn(\n",
            "/usr/local/lib/python3.10/dist-packages/sklearn/base.py:439: UserWarning: X does not have valid feature names, but RandomForestRegressor was fitted with feature names\n",
            "  warnings.warn(\n",
            "/usr/local/lib/python3.10/dist-packages/sklearn/base.py:439: UserWarning: X does not have valid feature names, but RandomForestRegressor was fitted with feature names\n",
            "  warnings.warn(\n",
            "/usr/local/lib/python3.10/dist-packages/sklearn/base.py:439: UserWarning: X does not have valid feature names, but RandomForestRegressor was fitted with feature names\n",
            "  warnings.warn(\n",
            "/usr/local/lib/python3.10/dist-packages/sklearn/base.py:439: UserWarning: X does not have valid feature names, but RandomForestRegressor was fitted with feature names\n",
            "  warnings.warn(\n",
            "/usr/local/lib/python3.10/dist-packages/sklearn/base.py:439: UserWarning: X does not have valid feature names, but RandomForestRegressor was fitted with feature names\n",
            "  warnings.warn(\n",
            "/usr/local/lib/python3.10/dist-packages/sklearn/base.py:439: UserWarning: X does not have valid feature names, but RandomForestRegressor was fitted with feature names\n",
            "  warnings.warn(\n",
            "/usr/local/lib/python3.10/dist-packages/sklearn/base.py:439: UserWarning: X does not have valid feature names, but RandomForestRegressor was fitted with feature names\n",
            "  warnings.warn(\n",
            "/usr/local/lib/python3.10/dist-packages/sklearn/base.py:439: UserWarning: X does not have valid feature names, but RandomForestRegressor was fitted with feature names\n",
            "  warnings.warn(\n",
            "/usr/local/lib/python3.10/dist-packages/sklearn/base.py:439: UserWarning: X does not have valid feature names, but RandomForestRegressor was fitted with feature names\n",
            "  warnings.warn(\n",
            "/usr/local/lib/python3.10/dist-packages/sklearn/base.py:439: UserWarning: X does not have valid feature names, but RandomForestRegressor was fitted with feature names\n",
            "  warnings.warn(\n",
            "/usr/local/lib/python3.10/dist-packages/sklearn/base.py:439: UserWarning: X does not have valid feature names, but RandomForestRegressor was fitted with feature names\n",
            "  warnings.warn(\n",
            "/usr/local/lib/python3.10/dist-packages/sklearn/base.py:439: UserWarning: X does not have valid feature names, but RandomForestRegressor was fitted with feature names\n",
            "  warnings.warn(\n",
            "/usr/local/lib/python3.10/dist-packages/sklearn/base.py:439: UserWarning: X does not have valid feature names, but RandomForestRegressor was fitted with feature names\n",
            "  warnings.warn(\n",
            "/usr/local/lib/python3.10/dist-packages/sklearn/base.py:439: UserWarning: X does not have valid feature names, but RandomForestRegressor was fitted with feature names\n",
            "  warnings.warn(\n",
            "/usr/local/lib/python3.10/dist-packages/sklearn/base.py:439: UserWarning: X does not have valid feature names, but RandomForestRegressor was fitted with feature names\n",
            "  warnings.warn(\n",
            "/usr/local/lib/python3.10/dist-packages/sklearn/base.py:439: UserWarning: X does not have valid feature names, but RandomForestRegressor was fitted with feature names\n",
            "  warnings.warn(\n",
            "/usr/local/lib/python3.10/dist-packages/sklearn/base.py:439: UserWarning: X does not have valid feature names, but RandomForestRegressor was fitted with feature names\n",
            "  warnings.warn(\n",
            "/usr/local/lib/python3.10/dist-packages/sklearn/base.py:439: UserWarning: X does not have valid feature names, but RandomForestRegressor was fitted with feature names\n",
            "  warnings.warn(\n",
            "/usr/local/lib/python3.10/dist-packages/sklearn/base.py:439: UserWarning: X does not have valid feature names, but RandomForestRegressor was fitted with feature names\n",
            "  warnings.warn(\n",
            "/usr/local/lib/python3.10/dist-packages/sklearn/base.py:439: UserWarning: X does not have valid feature names, but RandomForestRegressor was fitted with feature names\n",
            "  warnings.warn(\n",
            "/usr/local/lib/python3.10/dist-packages/sklearn/base.py:439: UserWarning: X does not have valid feature names, but RandomForestRegressor was fitted with feature names\n",
            "  warnings.warn(\n",
            "/usr/local/lib/python3.10/dist-packages/sklearn/base.py:439: UserWarning: X does not have valid feature names, but RandomForestRegressor was fitted with feature names\n",
            "  warnings.warn(\n",
            "/usr/local/lib/python3.10/dist-packages/sklearn/base.py:439: UserWarning: X does not have valid feature names, but RandomForestRegressor was fitted with feature names\n",
            "  warnings.warn(\n",
            "/usr/local/lib/python3.10/dist-packages/sklearn/base.py:439: UserWarning: X does not have valid feature names, but RandomForestRegressor was fitted with feature names\n",
            "  warnings.warn(\n",
            "/usr/local/lib/python3.10/dist-packages/sklearn/base.py:439: UserWarning: X does not have valid feature names, but RandomForestRegressor was fitted with feature names\n",
            "  warnings.warn(\n",
            "/usr/local/lib/python3.10/dist-packages/sklearn/base.py:439: UserWarning: X does not have valid feature names, but RandomForestRegressor was fitted with feature names\n",
            "  warnings.warn(\n",
            "/usr/local/lib/python3.10/dist-packages/sklearn/base.py:439: UserWarning: X does not have valid feature names, but RandomForestRegressor was fitted with feature names\n",
            "  warnings.warn(\n",
            "/usr/local/lib/python3.10/dist-packages/sklearn/base.py:439: UserWarning: X does not have valid feature names, but RandomForestRegressor was fitted with feature names\n",
            "  warnings.warn(\n",
            "/usr/local/lib/python3.10/dist-packages/sklearn/base.py:439: UserWarning: X does not have valid feature names, but RandomForestRegressor was fitted with feature names\n",
            "  warnings.warn(\n",
            "/usr/local/lib/python3.10/dist-packages/sklearn/base.py:439: UserWarning: X does not have valid feature names, but RandomForestRegressor was fitted with feature names\n",
            "  warnings.warn(\n",
            "/usr/local/lib/python3.10/dist-packages/sklearn/base.py:439: UserWarning: X does not have valid feature names, but RandomForestRegressor was fitted with feature names\n",
            "  warnings.warn(\n",
            "/usr/local/lib/python3.10/dist-packages/sklearn/base.py:439: UserWarning: X does not have valid feature names, but RandomForestRegressor was fitted with feature names\n",
            "  warnings.warn(\n",
            "/usr/local/lib/python3.10/dist-packages/sklearn/base.py:439: UserWarning: X does not have valid feature names, but RandomForestRegressor was fitted with feature names\n",
            "  warnings.warn(\n",
            "/usr/local/lib/python3.10/dist-packages/sklearn/base.py:439: UserWarning: X does not have valid feature names, but RandomForestRegressor was fitted with feature names\n",
            "  warnings.warn(\n",
            "/usr/local/lib/python3.10/dist-packages/sklearn/base.py:439: UserWarning: X does not have valid feature names, but RandomForestRegressor was fitted with feature names\n",
            "  warnings.warn(\n",
            "/usr/local/lib/python3.10/dist-packages/sklearn/base.py:439: UserWarning: X does not have valid feature names, but RandomForestRegressor was fitted with feature names\n",
            "  warnings.warn(\n",
            "/usr/local/lib/python3.10/dist-packages/sklearn/base.py:439: UserWarning: X does not have valid feature names, but RandomForestRegressor was fitted with feature names\n",
            "  warnings.warn(\n",
            "/usr/local/lib/python3.10/dist-packages/sklearn/base.py:439: UserWarning: X does not have valid feature names, but RandomForestRegressor was fitted with feature names\n",
            "  warnings.warn(\n",
            "/usr/local/lib/python3.10/dist-packages/sklearn/base.py:439: UserWarning: X does not have valid feature names, but RandomForestRegressor was fitted with feature names\n",
            "  warnings.warn(\n",
            "/usr/local/lib/python3.10/dist-packages/sklearn/base.py:439: UserWarning: X does not have valid feature names, but RandomForestRegressor was fitted with feature names\n",
            "  warnings.warn(\n",
            "/usr/local/lib/python3.10/dist-packages/sklearn/base.py:439: UserWarning: X does not have valid feature names, but RandomForestRegressor was fitted with feature names\n",
            "  warnings.warn(\n",
            "/usr/local/lib/python3.10/dist-packages/sklearn/base.py:439: UserWarning: X does not have valid feature names, but RandomForestRegressor was fitted with feature names\n",
            "  warnings.warn(\n",
            "/usr/local/lib/python3.10/dist-packages/sklearn/base.py:439: UserWarning: X does not have valid feature names, but RandomForestRegressor was fitted with feature names\n",
            "  warnings.warn(\n",
            "/usr/local/lib/python3.10/dist-packages/sklearn/base.py:439: UserWarning: X does not have valid feature names, but RandomForestRegressor was fitted with feature names\n",
            "  warnings.warn(\n",
            "/usr/local/lib/python3.10/dist-packages/sklearn/base.py:439: UserWarning: X does not have valid feature names, but RandomForestRegressor was fitted with feature names\n",
            "  warnings.warn(\n",
            "/usr/local/lib/python3.10/dist-packages/sklearn/base.py:439: UserWarning: X does not have valid feature names, but RandomForestRegressor was fitted with feature names\n",
            "  warnings.warn(\n",
            "/usr/local/lib/python3.10/dist-packages/sklearn/base.py:439: UserWarning: X does not have valid feature names, but RandomForestRegressor was fitted with feature names\n",
            "  warnings.warn(\n",
            "/usr/local/lib/python3.10/dist-packages/sklearn/base.py:439: UserWarning: X does not have valid feature names, but RandomForestRegressor was fitted with feature names\n",
            "  warnings.warn(\n",
            "/usr/local/lib/python3.10/dist-packages/sklearn/base.py:439: UserWarning: X does not have valid feature names, but RandomForestRegressor was fitted with feature names\n",
            "  warnings.warn(\n",
            "/usr/local/lib/python3.10/dist-packages/sklearn/base.py:439: UserWarning: X does not have valid feature names, but RandomForestRegressor was fitted with feature names\n",
            "  warnings.warn(\n",
            "/usr/local/lib/python3.10/dist-packages/sklearn/base.py:439: UserWarning: X does not have valid feature names, but RandomForestRegressor was fitted with feature names\n",
            "  warnings.warn(\n",
            "/usr/local/lib/python3.10/dist-packages/sklearn/base.py:439: UserWarning: X does not have valid feature names, but RandomForestRegressor was fitted with feature names\n",
            "  warnings.warn(\n",
            "/usr/local/lib/python3.10/dist-packages/sklearn/base.py:439: UserWarning: X does not have valid feature names, but RandomForestRegressor was fitted with feature names\n",
            "  warnings.warn(\n",
            "/usr/local/lib/python3.10/dist-packages/sklearn/base.py:439: UserWarning: X does not have valid feature names, but RandomForestRegressor was fitted with feature names\n",
            "  warnings.warn(\n",
            "/usr/local/lib/python3.10/dist-packages/sklearn/base.py:439: UserWarning: X does not have valid feature names, but RandomForestRegressor was fitted with feature names\n",
            "  warnings.warn(\n",
            "/usr/local/lib/python3.10/dist-packages/sklearn/base.py:439: UserWarning: X does not have valid feature names, but RandomForestRegressor was fitted with feature names\n",
            "  warnings.warn(\n",
            "/usr/local/lib/python3.10/dist-packages/sklearn/base.py:439: UserWarning: X does not have valid feature names, but RandomForestRegressor was fitted with feature names\n",
            "  warnings.warn(\n",
            "/usr/local/lib/python3.10/dist-packages/sklearn/base.py:439: UserWarning: X does not have valid feature names, but RandomForestRegressor was fitted with feature names\n",
            "  warnings.warn(\n",
            "/usr/local/lib/python3.10/dist-packages/sklearn/base.py:439: UserWarning: X does not have valid feature names, but RandomForestRegressor was fitted with feature names\n",
            "  warnings.warn(\n",
            "/usr/local/lib/python3.10/dist-packages/sklearn/base.py:439: UserWarning: X does not have valid feature names, but RandomForestRegressor was fitted with feature names\n",
            "  warnings.warn(\n",
            "/usr/local/lib/python3.10/dist-packages/sklearn/base.py:439: UserWarning: X does not have valid feature names, but RandomForestRegressor was fitted with feature names\n",
            "  warnings.warn(\n",
            "/usr/local/lib/python3.10/dist-packages/sklearn/base.py:439: UserWarning: X does not have valid feature names, but RandomForestRegressor was fitted with feature names\n",
            "  warnings.warn(\n",
            "/usr/local/lib/python3.10/dist-packages/sklearn/base.py:439: UserWarning: X does not have valid feature names, but RandomForestRegressor was fitted with feature names\n",
            "  warnings.warn(\n",
            "/usr/local/lib/python3.10/dist-packages/sklearn/base.py:439: UserWarning: X does not have valid feature names, but RandomForestRegressor was fitted with feature names\n",
            "  warnings.warn(\n",
            "/usr/local/lib/python3.10/dist-packages/sklearn/base.py:439: UserWarning: X does not have valid feature names, but RandomForestRegressor was fitted with feature names\n",
            "  warnings.warn(\n",
            "/usr/local/lib/python3.10/dist-packages/sklearn/base.py:439: UserWarning: X does not have valid feature names, but RandomForestRegressor was fitted with feature names\n",
            "  warnings.warn(\n",
            "/usr/local/lib/python3.10/dist-packages/sklearn/base.py:439: UserWarning: X does not have valid feature names, but RandomForestRegressor was fitted with feature names\n",
            "  warnings.warn(\n",
            "/usr/local/lib/python3.10/dist-packages/sklearn/base.py:439: UserWarning: X does not have valid feature names, but RandomForestRegressor was fitted with feature names\n",
            "  warnings.warn(\n",
            "/usr/local/lib/python3.10/dist-packages/sklearn/base.py:439: UserWarning: X does not have valid feature names, but RandomForestRegressor was fitted with feature names\n",
            "  warnings.warn(\n",
            "/usr/local/lib/python3.10/dist-packages/sklearn/base.py:439: UserWarning: X does not have valid feature names, but RandomForestRegressor was fitted with feature names\n",
            "  warnings.warn(\n",
            "/usr/local/lib/python3.10/dist-packages/sklearn/base.py:439: UserWarning: X does not have valid feature names, but RandomForestRegressor was fitted with feature names\n",
            "  warnings.warn(\n",
            "/usr/local/lib/python3.10/dist-packages/sklearn/base.py:439: UserWarning: X does not have valid feature names, but RandomForestRegressor was fitted with feature names\n",
            "  warnings.warn(\n",
            "/usr/local/lib/python3.10/dist-packages/sklearn/base.py:439: UserWarning: X does not have valid feature names, but RandomForestRegressor was fitted with feature names\n",
            "  warnings.warn(\n",
            "/usr/local/lib/python3.10/dist-packages/sklearn/base.py:439: UserWarning: X does not have valid feature names, but RandomForestRegressor was fitted with feature names\n",
            "  warnings.warn(\n",
            "/usr/local/lib/python3.10/dist-packages/sklearn/base.py:439: UserWarning: X does not have valid feature names, but RandomForestRegressor was fitted with feature names\n",
            "  warnings.warn(\n",
            "/usr/local/lib/python3.10/dist-packages/sklearn/base.py:439: UserWarning: X does not have valid feature names, but RandomForestRegressor was fitted with feature names\n",
            "  warnings.warn(\n",
            "/usr/local/lib/python3.10/dist-packages/sklearn/base.py:439: UserWarning: X does not have valid feature names, but RandomForestRegressor was fitted with feature names\n",
            "  warnings.warn(\n",
            "/usr/local/lib/python3.10/dist-packages/sklearn/base.py:439: UserWarning: X does not have valid feature names, but RandomForestRegressor was fitted with feature names\n",
            "  warnings.warn(\n",
            "/usr/local/lib/python3.10/dist-packages/sklearn/base.py:439: UserWarning: X does not have valid feature names, but RandomForestRegressor was fitted with feature names\n",
            "  warnings.warn(\n",
            "/usr/local/lib/python3.10/dist-packages/sklearn/base.py:439: UserWarning: X does not have valid feature names, but RandomForestRegressor was fitted with feature names\n",
            "  warnings.warn(\n",
            "/usr/local/lib/python3.10/dist-packages/sklearn/base.py:439: UserWarning: X does not have valid feature names, but RandomForestRegressor was fitted with feature names\n",
            "  warnings.warn(\n",
            "/usr/local/lib/python3.10/dist-packages/sklearn/base.py:439: UserWarning: X does not have valid feature names, but RandomForestRegressor was fitted with feature names\n",
            "  warnings.warn(\n",
            "/usr/local/lib/python3.10/dist-packages/sklearn/base.py:439: UserWarning: X does not have valid feature names, but RandomForestRegressor was fitted with feature names\n",
            "  warnings.warn(\n",
            "/usr/local/lib/python3.10/dist-packages/sklearn/base.py:439: UserWarning: X does not have valid feature names, but RandomForestRegressor was fitted with feature names\n",
            "  warnings.warn(\n",
            "/usr/local/lib/python3.10/dist-packages/sklearn/base.py:439: UserWarning: X does not have valid feature names, but RandomForestRegressor was fitted with feature names\n",
            "  warnings.warn(\n",
            "/usr/local/lib/python3.10/dist-packages/sklearn/base.py:439: UserWarning: X does not have valid feature names, but RandomForestRegressor was fitted with feature names\n",
            "  warnings.warn(\n",
            "/usr/local/lib/python3.10/dist-packages/sklearn/base.py:439: UserWarning: X does not have valid feature names, but RandomForestRegressor was fitted with feature names\n",
            "  warnings.warn(\n",
            "/usr/local/lib/python3.10/dist-packages/sklearn/base.py:439: UserWarning: X does not have valid feature names, but RandomForestRegressor was fitted with feature names\n",
            "  warnings.warn(\n",
            "/usr/local/lib/python3.10/dist-packages/sklearn/base.py:439: UserWarning: X does not have valid feature names, but RandomForestRegressor was fitted with feature names\n",
            "  warnings.warn(\n",
            "/usr/local/lib/python3.10/dist-packages/sklearn/base.py:439: UserWarning: X does not have valid feature names, but RandomForestRegressor was fitted with feature names\n",
            "  warnings.warn(\n",
            "/usr/local/lib/python3.10/dist-packages/sklearn/base.py:439: UserWarning: X does not have valid feature names, but RandomForestRegressor was fitted with feature names\n",
            "  warnings.warn(\n",
            "/usr/local/lib/python3.10/dist-packages/sklearn/base.py:439: UserWarning: X does not have valid feature names, but RandomForestRegressor was fitted with feature names\n",
            "  warnings.warn(\n",
            "/usr/local/lib/python3.10/dist-packages/sklearn/base.py:439: UserWarning: X does not have valid feature names, but RandomForestRegressor was fitted with feature names\n",
            "  warnings.warn(\n",
            "/usr/local/lib/python3.10/dist-packages/sklearn/base.py:439: UserWarning: X does not have valid feature names, but RandomForestRegressor was fitted with feature names\n",
            "  warnings.warn(\n",
            "/usr/local/lib/python3.10/dist-packages/sklearn/base.py:439: UserWarning: X does not have valid feature names, but RandomForestRegressor was fitted with feature names\n",
            "  warnings.warn(\n",
            "/usr/local/lib/python3.10/dist-packages/sklearn/base.py:439: UserWarning: X does not have valid feature names, but RandomForestRegressor was fitted with feature names\n",
            "  warnings.warn(\n",
            "/usr/local/lib/python3.10/dist-packages/sklearn/base.py:439: UserWarning: X does not have valid feature names, but RandomForestRegressor was fitted with feature names\n",
            "  warnings.warn(\n",
            "/usr/local/lib/python3.10/dist-packages/sklearn/base.py:439: UserWarning: X does not have valid feature names, but RandomForestRegressor was fitted with feature names\n",
            "  warnings.warn(\n",
            "/usr/local/lib/python3.10/dist-packages/sklearn/base.py:439: UserWarning: X does not have valid feature names, but RandomForestRegressor was fitted with feature names\n",
            "  warnings.warn(\n",
            "/usr/local/lib/python3.10/dist-packages/sklearn/base.py:439: UserWarning: X does not have valid feature names, but RandomForestRegressor was fitted with feature names\n",
            "  warnings.warn(\n",
            "/usr/local/lib/python3.10/dist-packages/sklearn/base.py:439: UserWarning: X does not have valid feature names, but RandomForestRegressor was fitted with feature names\n",
            "  warnings.warn(\n",
            "/usr/local/lib/python3.10/dist-packages/sklearn/base.py:439: UserWarning: X does not have valid feature names, but RandomForestRegressor was fitted with feature names\n",
            "  warnings.warn(\n",
            "/usr/local/lib/python3.10/dist-packages/sklearn/base.py:439: UserWarning: X does not have valid feature names, but RandomForestRegressor was fitted with feature names\n",
            "  warnings.warn(\n",
            "/usr/local/lib/python3.10/dist-packages/sklearn/base.py:439: UserWarning: X does not have valid feature names, but RandomForestRegressor was fitted with feature names\n",
            "  warnings.warn(\n",
            "/usr/local/lib/python3.10/dist-packages/sklearn/base.py:439: UserWarning: X does not have valid feature names, but RandomForestRegressor was fitted with feature names\n",
            "  warnings.warn(\n",
            "/usr/local/lib/python3.10/dist-packages/sklearn/base.py:439: UserWarning: X does not have valid feature names, but RandomForestRegressor was fitted with feature names\n",
            "  warnings.warn(\n",
            "/usr/local/lib/python3.10/dist-packages/sklearn/base.py:439: UserWarning: X does not have valid feature names, but RandomForestRegressor was fitted with feature names\n",
            "  warnings.warn(\n",
            "/usr/local/lib/python3.10/dist-packages/sklearn/base.py:439: UserWarning: X does not have valid feature names, but RandomForestRegressor was fitted with feature names\n",
            "  warnings.warn(\n",
            "/usr/local/lib/python3.10/dist-packages/sklearn/base.py:439: UserWarning: X does not have valid feature names, but RandomForestRegressor was fitted with feature names\n",
            "  warnings.warn(\n",
            "/usr/local/lib/python3.10/dist-packages/sklearn/base.py:439: UserWarning: X does not have valid feature names, but RandomForestRegressor was fitted with feature names\n",
            "  warnings.warn(\n",
            "/usr/local/lib/python3.10/dist-packages/sklearn/base.py:439: UserWarning: X does not have valid feature names, but RandomForestRegressor was fitted with feature names\n",
            "  warnings.warn(\n",
            "/usr/local/lib/python3.10/dist-packages/sklearn/base.py:439: UserWarning: X does not have valid feature names, but RandomForestRegressor was fitted with feature names\n",
            "  warnings.warn(\n",
            "/usr/local/lib/python3.10/dist-packages/sklearn/base.py:439: UserWarning: X does not have valid feature names, but RandomForestRegressor was fitted with feature names\n",
            "  warnings.warn(\n",
            "/usr/local/lib/python3.10/dist-packages/sklearn/base.py:439: UserWarning: X does not have valid feature names, but RandomForestRegressor was fitted with feature names\n",
            "  warnings.warn(\n",
            "/usr/local/lib/python3.10/dist-packages/sklearn/base.py:439: UserWarning: X does not have valid feature names, but RandomForestRegressor was fitted with feature names\n",
            "  warnings.warn(\n",
            "/usr/local/lib/python3.10/dist-packages/sklearn/base.py:439: UserWarning: X does not have valid feature names, but RandomForestRegressor was fitted with feature names\n",
            "  warnings.warn(\n",
            "/usr/local/lib/python3.10/dist-packages/sklearn/base.py:439: UserWarning: X does not have valid feature names, but RandomForestRegressor was fitted with feature names\n",
            "  warnings.warn(\n",
            "/usr/local/lib/python3.10/dist-packages/sklearn/base.py:439: UserWarning: X does not have valid feature names, but RandomForestRegressor was fitted with feature names\n",
            "  warnings.warn(\n",
            "/usr/local/lib/python3.10/dist-packages/sklearn/base.py:439: UserWarning: X does not have valid feature names, but RandomForestRegressor was fitted with feature names\n",
            "  warnings.warn(\n",
            "/usr/local/lib/python3.10/dist-packages/sklearn/base.py:439: UserWarning: X does not have valid feature names, but RandomForestRegressor was fitted with feature names\n",
            "  warnings.warn(\n",
            "/usr/local/lib/python3.10/dist-packages/sklearn/base.py:439: UserWarning: X does not have valid feature names, but RandomForestRegressor was fitted with feature names\n",
            "  warnings.warn(\n",
            "/usr/local/lib/python3.10/dist-packages/sklearn/base.py:439: UserWarning: X does not have valid feature names, but RandomForestRegressor was fitted with feature names\n",
            "  warnings.warn(\n",
            "/usr/local/lib/python3.10/dist-packages/sklearn/base.py:439: UserWarning: X does not have valid feature names, but RandomForestRegressor was fitted with feature names\n",
            "  warnings.warn(\n",
            "/usr/local/lib/python3.10/dist-packages/sklearn/base.py:439: UserWarning: X does not have valid feature names, but RandomForestRegressor was fitted with feature names\n",
            "  warnings.warn(\n",
            "/usr/local/lib/python3.10/dist-packages/sklearn/base.py:439: UserWarning: X does not have valid feature names, but RandomForestRegressor was fitted with feature names\n",
            "  warnings.warn(\n",
            "/usr/local/lib/python3.10/dist-packages/sklearn/base.py:439: UserWarning: X does not have valid feature names, but RandomForestRegressor was fitted with feature names\n",
            "  warnings.warn(\n",
            "/usr/local/lib/python3.10/dist-packages/sklearn/base.py:439: UserWarning: X does not have valid feature names, but RandomForestRegressor was fitted with feature names\n",
            "  warnings.warn(\n",
            "/usr/local/lib/python3.10/dist-packages/sklearn/base.py:439: UserWarning: X does not have valid feature names, but RandomForestRegressor was fitted with feature names\n",
            "  warnings.warn(\n",
            "/usr/local/lib/python3.10/dist-packages/sklearn/base.py:439: UserWarning: X does not have valid feature names, but RandomForestRegressor was fitted with feature names\n",
            "  warnings.warn(\n",
            "/usr/local/lib/python3.10/dist-packages/sklearn/base.py:439: UserWarning: X does not have valid feature names, but RandomForestRegressor was fitted with feature names\n",
            "  warnings.warn(\n",
            "/usr/local/lib/python3.10/dist-packages/sklearn/base.py:439: UserWarning: X does not have valid feature names, but RandomForestRegressor was fitted with feature names\n",
            "  warnings.warn(\n",
            "/usr/local/lib/python3.10/dist-packages/sklearn/base.py:439: UserWarning: X does not have valid feature names, but RandomForestRegressor was fitted with feature names\n",
            "  warnings.warn(\n",
            "/usr/local/lib/python3.10/dist-packages/sklearn/base.py:439: UserWarning: X does not have valid feature names, but RandomForestRegressor was fitted with feature names\n",
            "  warnings.warn(\n",
            "/usr/local/lib/python3.10/dist-packages/sklearn/base.py:439: UserWarning: X does not have valid feature names, but RandomForestRegressor was fitted with feature names\n",
            "  warnings.warn(\n",
            "/usr/local/lib/python3.10/dist-packages/sklearn/base.py:439: UserWarning: X does not have valid feature names, but RandomForestRegressor was fitted with feature names\n",
            "  warnings.warn(\n",
            "/usr/local/lib/python3.10/dist-packages/sklearn/base.py:439: UserWarning: X does not have valid feature names, but RandomForestRegressor was fitted with feature names\n",
            "  warnings.warn(\n",
            "/usr/local/lib/python3.10/dist-packages/sklearn/base.py:439: UserWarning: X does not have valid feature names, but RandomForestRegressor was fitted with feature names\n",
            "  warnings.warn(\n",
            "/usr/local/lib/python3.10/dist-packages/sklearn/base.py:439: UserWarning: X does not have valid feature names, but RandomForestRegressor was fitted with feature names\n",
            "  warnings.warn(\n",
            "/usr/local/lib/python3.10/dist-packages/sklearn/base.py:439: UserWarning: X does not have valid feature names, but RandomForestRegressor was fitted with feature names\n",
            "  warnings.warn(\n",
            "/usr/local/lib/python3.10/dist-packages/sklearn/base.py:439: UserWarning: X does not have valid feature names, but RandomForestRegressor was fitted with feature names\n",
            "  warnings.warn(\n",
            "/usr/local/lib/python3.10/dist-packages/sklearn/base.py:439: UserWarning: X does not have valid feature names, but RandomForestRegressor was fitted with feature names\n",
            "  warnings.warn(\n",
            "/usr/local/lib/python3.10/dist-packages/sklearn/base.py:439: UserWarning: X does not have valid feature names, but RandomForestRegressor was fitted with feature names\n",
            "  warnings.warn(\n",
            "/usr/local/lib/python3.10/dist-packages/sklearn/base.py:439: UserWarning: X does not have valid feature names, but RandomForestRegressor was fitted with feature names\n",
            "  warnings.warn(\n",
            "/usr/local/lib/python3.10/dist-packages/sklearn/base.py:439: UserWarning: X does not have valid feature names, but RandomForestRegressor was fitted with feature names\n",
            "  warnings.warn(\n",
            "/usr/local/lib/python3.10/dist-packages/sklearn/base.py:439: UserWarning: X does not have valid feature names, but RandomForestRegressor was fitted with feature names\n",
            "  warnings.warn(\n",
            "/usr/local/lib/python3.10/dist-packages/sklearn/base.py:439: UserWarning: X does not have valid feature names, but RandomForestRegressor was fitted with feature names\n",
            "  warnings.warn(\n",
            "/usr/local/lib/python3.10/dist-packages/sklearn/base.py:439: UserWarning: X does not have valid feature names, but RandomForestRegressor was fitted with feature names\n",
            "  warnings.warn(\n",
            "/usr/local/lib/python3.10/dist-packages/sklearn/base.py:439: UserWarning: X does not have valid feature names, but RandomForestRegressor was fitted with feature names\n",
            "  warnings.warn(\n",
            "/usr/local/lib/python3.10/dist-packages/sklearn/base.py:439: UserWarning: X does not have valid feature names, but RandomForestRegressor was fitted with feature names\n",
            "  warnings.warn(\n",
            "/usr/local/lib/python3.10/dist-packages/sklearn/base.py:439: UserWarning: X does not have valid feature names, but RandomForestRegressor was fitted with feature names\n",
            "  warnings.warn(\n",
            "/usr/local/lib/python3.10/dist-packages/sklearn/base.py:439: UserWarning: X does not have valid feature names, but RandomForestRegressor was fitted with feature names\n",
            "  warnings.warn(\n",
            "/usr/local/lib/python3.10/dist-packages/sklearn/base.py:439: UserWarning: X does not have valid feature names, but RandomForestRegressor was fitted with feature names\n",
            "  warnings.warn(\n",
            "/usr/local/lib/python3.10/dist-packages/sklearn/base.py:439: UserWarning: X does not have valid feature names, but RandomForestRegressor was fitted with feature names\n",
            "  warnings.warn(\n",
            "/usr/local/lib/python3.10/dist-packages/sklearn/base.py:439: UserWarning: X does not have valid feature names, but RandomForestRegressor was fitted with feature names\n",
            "  warnings.warn(\n",
            "/usr/local/lib/python3.10/dist-packages/sklearn/base.py:439: UserWarning: X does not have valid feature names, but RandomForestRegressor was fitted with feature names\n",
            "  warnings.warn(\n",
            "/usr/local/lib/python3.10/dist-packages/sklearn/base.py:439: UserWarning: X does not have valid feature names, but RandomForestRegressor was fitted with feature names\n",
            "  warnings.warn(\n",
            "/usr/local/lib/python3.10/dist-packages/sklearn/base.py:439: UserWarning: X does not have valid feature names, but RandomForestRegressor was fitted with feature names\n",
            "  warnings.warn(\n",
            "/usr/local/lib/python3.10/dist-packages/sklearn/base.py:439: UserWarning: X does not have valid feature names, but RandomForestRegressor was fitted with feature names\n",
            "  warnings.warn(\n",
            "/usr/local/lib/python3.10/dist-packages/sklearn/base.py:439: UserWarning: X does not have valid feature names, but RandomForestRegressor was fitted with feature names\n",
            "  warnings.warn(\n",
            "/usr/local/lib/python3.10/dist-packages/sklearn/base.py:439: UserWarning: X does not have valid feature names, but RandomForestRegressor was fitted with feature names\n",
            "  warnings.warn(\n",
            "/usr/local/lib/python3.10/dist-packages/sklearn/base.py:439: UserWarning: X does not have valid feature names, but RandomForestRegressor was fitted with feature names\n",
            "  warnings.warn(\n",
            "/usr/local/lib/python3.10/dist-packages/sklearn/base.py:439: UserWarning: X does not have valid feature names, but RandomForestRegressor was fitted with feature names\n",
            "  warnings.warn(\n",
            "/usr/local/lib/python3.10/dist-packages/sklearn/base.py:439: UserWarning: X does not have valid feature names, but RandomForestRegressor was fitted with feature names\n",
            "  warnings.warn(\n",
            "/usr/local/lib/python3.10/dist-packages/sklearn/base.py:439: UserWarning: X does not have valid feature names, but RandomForestRegressor was fitted with feature names\n",
            "  warnings.warn(\n",
            "/usr/local/lib/python3.10/dist-packages/sklearn/base.py:439: UserWarning: X does not have valid feature names, but RandomForestRegressor was fitted with feature names\n",
            "  warnings.warn(\n",
            "/usr/local/lib/python3.10/dist-packages/sklearn/base.py:439: UserWarning: X does not have valid feature names, but RandomForestRegressor was fitted with feature names\n",
            "  warnings.warn(\n",
            "/usr/local/lib/python3.10/dist-packages/sklearn/base.py:439: UserWarning: X does not have valid feature names, but RandomForestRegressor was fitted with feature names\n",
            "  warnings.warn(\n",
            "/usr/local/lib/python3.10/dist-packages/sklearn/base.py:439: UserWarning: X does not have valid feature names, but RandomForestRegressor was fitted with feature names\n",
            "  warnings.warn(\n"
          ]
        }
      ]
    },
    {
      "cell_type": "code",
      "source": [
        "# Chuyển đổi dự báo về thang đo gốc\n",
        "forecast_30_days_inverse = scaler.inverse_transform(forecast_30_days.reshape(-1, 1))\n",
        "forecast_60_days_inverse = scaler.inverse_transform(forecast_60_days.reshape(-1, 1))\n",
        "forecast_90_days_inverse = scaler.inverse_transform(forecast_90_days.reshape(-1, 1))"
      ],
      "metadata": {
        "id": "Z8c-avo52WsM"
      },
      "execution_count": 18,
      "outputs": []
    },
    {
      "cell_type": "code",
      "source": [
        "print('Predicted closing prices for the next 30 days:')\n",
        "print(forecast_30_days_inverse.flatten())\n",
        "\n",
        "print('Predicted closing prices for the next 60 days:')\n",
        "print(forecast_60_days_inverse.flatten())\n",
        "\n",
        "print('Predicted closing prices for the next 90 days:')\n",
        "print(forecast_90_days_inverse.flatten())"
      ],
      "metadata": {
        "colab": {
          "base_uri": "https://localhost:8080/"
        },
        "id": "BFOWEhtbtDiC",
        "outputId": "6e7429da-b184-4dec-a3f2-d93d3b5d4d1e"
      },
      "execution_count": 19,
      "outputs": [
        {
          "output_type": "stream",
          "name": "stdout",
          "text": [
            "Predicted closing prices for the next 30 days:\n",
            "[578.18509141 580.66472132 589.97457674 580.5869663  586.58511785\n",
            " 582.55270774 594.33450925 586.78674611 583.80240633 587.26215414\n",
            " 586.79298533 591.85221944 588.70059995 576.35833928 589.36609139\n",
            " 579.60329852 574.77908864 584.40692575 584.16173733 584.08356602\n",
            " 592.70063659 593.9351921  584.69599208 577.4397839  590.36481925\n",
            " 587.79325808 568.76313045 594.33234629 583.97419362 564.8898571 ]\n",
            "Predicted closing prices for the next 60 days:\n",
            "[578.18509141 580.66472132 589.97457674 580.5869663  586.58511785\n",
            " 582.55270774 594.33450925 586.78674611 583.80240633 587.26215414\n",
            " 586.79298533 591.85221944 588.70059995 576.35833928 589.36609139\n",
            " 579.60329852 574.77908864 584.40692575 584.16173733 584.08356602\n",
            " 592.70063659 593.9351921  584.69599208 577.4397839  590.36481925\n",
            " 587.79325808 568.76313045 594.33234629 583.97419362 564.8898571\n",
            " 597.70001208 573.78563723 565.21881608 599.31440487 554.51112666\n",
            " 572.20422422 594.28863292 576.98041013 566.11925724 591.26538556\n",
            " 567.1049699  573.65782919 585.82528979 578.90833859 583.75428949\n",
            " 582.99132638 590.92988981 590.33354864 585.54670791 578.36813527\n",
            " 589.90432081 582.22701976 570.59659875 585.68096767 587.22407899\n",
            " 582.778944   589.04356202 583.04455713 590.01175945 584.12402787]\n",
            "Predicted closing prices for the next 90 days:\n",
            "[578.18509141 580.66472132 589.97457674 580.5869663  586.58511785\n",
            " 582.55270774 594.33450925 586.78674611 583.80240633 587.26215414\n",
            " 586.79298533 591.85221944 588.70059995 576.35833928 589.36609139\n",
            " 579.60329852 574.77908864 584.40692575 584.16173733 584.08356602\n",
            " 592.70063659 593.9351921  584.69599208 577.4397839  590.36481925\n",
            " 587.79325808 568.76313045 594.33234629 583.97419362 564.8898571\n",
            " 597.70001208 573.78563723 565.21881608 599.31440487 554.51112666\n",
            " 572.20422422 594.28863292 576.98041013 566.11925724 591.26538556\n",
            " 567.1049699  573.65782919 585.82528979 578.90833859 583.75428949\n",
            " 582.99132638 590.92988981 590.33354864 585.54670791 578.36813527\n",
            " 589.90432081 582.22701976 570.59659875 585.68096767 587.22407899\n",
            " 582.778944   589.04356202 583.04455713 590.01175945 584.12402787\n",
            " 585.62427506 587.47287627 591.98825125 589.58929625 576.47312089\n",
            " 582.4779145  582.10382708 581.73286579 591.0113411  590.81304308\n",
            " 586.42717147 578.549706   590.4039883  583.68072329 568.93487524\n",
            " 591.82679727 589.38229359 566.41909224 591.98528192 581.65307102\n",
            " 565.76321844 592.84717784 577.91494006 567.89438188 592.12650763\n",
            " 582.37988015 565.92863258 593.03236368 579.07009493 567.3862187 ]\n"
          ]
        }
      ]
    },
    {
      "cell_type": "code",
      "source": [
        "# Tạo trục x cho các dự báo tương lai\n",
        "index_future = pd.date_range(start=df.index[-1], periods=90, freq='D')\n",
        "index_next_30_days = index_future[:30]\n",
        "index_next_60_days = index_future[:60]\n",
        "index_next_90_days = index_future[:90]\n",
        "\n",
        "# Tạo trục x cho tập huấn luyện và kiểm tra\n",
        "train_dates = df.index[:train_size]\n",
        "test_dates = df.index[train_size:train_size + len(y_test)]\n",
        "predict_dates_30 = index_next_30_days\n",
        "predict_dates_60 = index_next_60_days\n",
        "predict_dates_90 = index_next_90_days"
      ],
      "metadata": {
        "id": "Ok9gXYUS4oaD"
      },
      "execution_count": 20,
      "outputs": []
    },
    {
      "cell_type": "code",
      "source": [
        "# Vẽ đồ thị cho dự đoán 30, 60, 90 ngày trên cùng một biểu đồ\n",
        "plt.figure(figsize=(16, 5))\n",
        "\n",
        "# Đồ thị cho tập huấn luyện\n",
        "plt.plot(train_dates, scaler.inverse_transform(train_data['target'].values.reshape(-1, 1)),\n",
        "         color='#1f77b4', linestyle='-', label='Train')\n",
        "\n",
        "# Đồ thị cho tập kiểm tra\n",
        "plt.plot(test_dates, y_test_inverse, color='#ff7f0e', linestyle='-', label='Test')\n",
        "plt.plot(test_dates, y_pred_inverse, color='#2ca02c', linestyle='-', label='Predict')\n",
        "\n",
        "# Đồ thị cho dự báo 30 ngày\n",
        "plt.plot(predict_dates_30, forecast_30_days_inverse, color='#d62728', linestyle='-', label='Predict30days')\n",
        "\n",
        "# Đồ thị cho dự báo 60 ngày\n",
        "plt.plot(predict_dates_60, forecast_60_days_inverse[:60], color='#9467bd', linestyle='-', label='Predict60days')\n",
        "\n",
        "# Đồ thị cho dự báo 90 ngày\n",
        "plt.plot(predict_dates_90, forecast_90_days_inverse[:90], color='#8c564b', linestyle='-', label='Predict90days')\n",
        "\n",
        "plt.legend()\n",
        "plt.title(\"Biểu đồ dự báo giá trị Close của dữ liệu BNB (8:2)\")\n",
        "plt.xlabel(\"Ngày\")\n",
        "plt.ylabel(\"Giá trị đóng cửa\")\n",
        "plt.grid(False)\n",
        "plt.savefig('RandomForest_BNB_82.png')\n",
        "plt.show()"
      ],
      "metadata": {
        "colab": {
          "base_uri": "https://localhost:8080/",
          "height": 478
        },
        "id": "1Pkcw8zp4trM",
        "outputId": "4c87d31d-c0af-4854-eed4-1c775f6072b1"
      },
      "execution_count": 21,
      "outputs": [
        {
          "output_type": "display_data",
          "data": {
            "text/plain": [
              "<Figure size 1600x500 with 1 Axes>"
            ],
            "image/png": "[encoded data removed]"
          },
          "metadata": {}
        }
      ]
    }
  ]
}