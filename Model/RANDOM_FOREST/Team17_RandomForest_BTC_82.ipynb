{
  "nbformat": 4,
  "nbformat_minor": 0,
  "metadata": {
    "colab": {
      "provenance": []
    },
    "kernelspec": {
      "name": "python3",
      "display_name": "Python 3"
    },
    "language_info": {
      "name": "python"
    }
  },
  "cells": [
    {
      "cell_type": "code",
      "source": [
        "pip install optuna"
      ],
      "metadata": {
        "colab": {
          "base_uri": "https://localhost:8080/"
        },
        "id": "4Gb8MhQT2meX",
        "outputId": "7d02e146-4857-4f9b-bfdd-4f558c3a8335"
      },
      "execution_count": 1,
      "outputs": [
        {
          "output_type": "stream",
          "name": "stdout",
          "text": [
            "Collecting optuna\n",
            "  Downloading optuna-3.6.1-py3-none-any.whl (380 kB)\n",
            "\u001b[2K     \u001b[90m━━━━━━━━━━━━━━━━━━━━━━━━━━━━━━━━━━━━━━━━\u001b[0m \u001b[32m380.1/380.1 kB\u001b[0m \u001b[31m4.3 MB/s\u001b[0m eta \u001b[36m0:00:00\u001b[0m\n",
            "\u001b[?25hCollecting alembic>=1.5.0 (from optuna)\n",
            "  Downloading alembic-1.13.1-py3-none-any.whl (233 kB)\n",
            "\u001b[2K     \u001b[90m━━━━━━━━━━━━━━━━━━━━━━━━━━━━━━━━━━━━━━━━\u001b[0m \u001b[32m233.4/233.4 kB\u001b[0m \u001b[31m6.9 MB/s\u001b[0m eta \u001b[36m0:00:00\u001b[0m\n",
            "\u001b[?25hCollecting colorlog (from optuna)\n",
            "  Downloading colorlog-6.8.2-py3-none-any.whl (11 kB)\n",
            "Requirement already satisfied: numpy in /usr/local/lib/python3.10/dist-packages (from optuna) (1.25.2)\n",
            "Requirement already satisfied: packaging>=20.0 in /usr/local/lib/python3.10/dist-packages (from optuna) (24.1)\n",
            "Requirement already satisfied: sqlalchemy>=1.3.0 in /usr/local/lib/python3.10/dist-packages (from optuna) (2.0.30)\n",
            "Requirement already satisfied: tqdm in /usr/local/lib/python3.10/dist-packages (from optuna) (4.66.4)\n",
            "Requirement already satisfied: PyYAML in /usr/local/lib/python3.10/dist-packages (from optuna) (6.0.1)\n",
            "Collecting Mako (from alembic>=1.5.0->optuna)\n",
            "  Downloading Mako-1.3.5-py3-none-any.whl (78 kB)\n",
            "\u001b[2K     \u001b[90m━━━━━━━━━━━━━━━━━━━━━━━━━━━━━━━━━━━━━━━━\u001b[0m \u001b[32m78.6/78.6 kB\u001b[0m \u001b[31m3.7 MB/s\u001b[0m eta \u001b[36m0:00:00\u001b[0m\n",
            "\u001b[?25hRequirement already satisfied: typing-extensions>=4 in /usr/local/lib/python3.10/dist-packages (from alembic>=1.5.0->optuna) (4.12.2)\n",
            "Requirement already satisfied: greenlet!=0.4.17 in /usr/local/lib/python3.10/dist-packages (from sqlalchemy>=1.3.0->optuna) (3.0.3)\n",
            "Requirement already satisfied: MarkupSafe>=0.9.2 in /usr/local/lib/python3.10/dist-packages (from Mako->alembic>=1.5.0->optuna) (2.1.5)\n",
            "Installing collected packages: Mako, colorlog, alembic, optuna\n",
            "Successfully installed Mako-1.3.5 alembic-1.13.1 colorlog-6.8.2 optuna-3.6.1\n"
          ]
        }
      ]
    },
    {
      "cell_type": "code",
      "execution_count": 2,
      "metadata": {
        "id": "sYz7-uhJL_Xb"
      },
      "outputs": [],
      "source": [
        "import optuna\n",
        "import pandas as pd\n",
        "import numpy as np\n",
        "import matplotlib.pyplot as plt\n",
        "from sklearn.preprocessing import MinMaxScaler\n",
        "from sklearn.ensemble import RandomForestRegressor\n",
        "from sklearn.metrics import mean_squared_error,mean_absolute_percentage_error\n",
        "from sklearn.model_selection import TimeSeriesSplit"
      ]
    },
    {
      "cell_type": "code",
      "source": [
        "df = pd.read_csv('BTC-USD.csv')"
      ],
      "metadata": {
        "id": "oNpkUoF4MbtN"
      },
      "execution_count": 3,
      "outputs": []
    },
    {
      "cell_type": "code",
      "source": [
        "df['Date'] = pd.to_datetime(df['Date'])\n",
        "df.set_index('Date', inplace=True)"
      ],
      "metadata": {
        "id": "k2rwlrAJQAcv"
      },
      "execution_count": 4,
      "outputs": []
    },
    {
      "cell_type": "code",
      "source": [
        "df_Close = df[['Close']]\n",
        "df_Close = df_Close.reset_index(drop=True)"
      ],
      "metadata": {
        "id": "B-TrgtWjQBvg"
      },
      "execution_count": 5,
      "outputs": []
    },
    {
      "cell_type": "code",
      "source": [
        "scaler = MinMaxScaler(feature_range=(0, 1))\n",
        "data_scaled = scaler.fit_transform(np.array(df_Close).reshape(-1, 1))"
      ],
      "metadata": {
        "id": "B1NTNnb-O-1M"
      },
      "execution_count": 6,
      "outputs": []
    },
    {
      "cell_type": "code",
      "source": [
        "# Hàm tạo đặc trưng lag\n",
        "def create_lagged_features(data, n_lags=1):\n",
        "    df_lags = pd.DataFrame()\n",
        "    for i in range(n_lags):\n",
        "        df_lags[f'lag_{i+1}'] = np.roll(data, shift=i+1)\n",
        "    df_lags['target'] = data\n",
        "    return df_lags.iloc[n_lags:]"
      ],
      "metadata": {
        "id": "GzM0TImwQ4nm"
      },
      "execution_count": 7,
      "outputs": []
    },
    {
      "cell_type": "code",
      "source": [
        "# Hàm tối ưu hóa sử dụng Optuna\n",
        "def objective(trial):\n",
        "    # Gợi ý giá trị cho n_lags và n_estimators\n",
        "    n_lags = trial.suggest_int('n_lags', 1, 30)                 # Tìm số lượng lag từ 1 đến 30\n",
        "    n_estimators = trial.suggest_int('n_estimators', 10, 200)   # Tìm số lượng cây từ 10 đến 200\n",
        "\n",
        "    # Tạo đặc trưng lag\n",
        "    lagged_data = create_lagged_features(data_scaled.flatten(), n_lags)\n",
        "    X, y = lagged_data.iloc[:, :-1], lagged_data.iloc[:, -1]\n",
        "\n",
        "    tscv = TimeSeriesSplit(n_splits=5)\n",
        "    errors = []\n",
        "\n",
        "    for train_index, test_index in tscv.split(X):\n",
        "        X_train, X_test = X.iloc[train_index], X.iloc[test_index]\n",
        "        y_train, y_test = y.iloc[train_index], y.iloc[test_index]\n",
        "\n",
        "        rf_model = RandomForestRegressor(n_estimators=n_estimators, random_state=42)\n",
        "        rf_model.fit(X_train, y_train)\n",
        "        y_pred = rf_model.predict(X_test)\n",
        "\n",
        "        errors.append(mean_squared_error(y_test, y_pred))\n",
        "\n",
        "    return np.mean(errors)"
      ],
      "metadata": {
        "id": "3OZTwxsgcchh"
      },
      "execution_count": 8,
      "outputs": []
    },
    {
      "cell_type": "markdown",
      "source": [
        "**Tìm kiếm tham số tối ưu**"
      ],
      "metadata": {
        "id": "af9bdtAd1RhK"
      }
    },
    {
      "cell_type": "code",
      "source": [
        "study = optuna.create_study(direction='minimize')\n",
        "study.optimize(objective, n_trials=50)  # Thử nghiệm 50 lần để tìm giá trị tối ưu\n",
        "\n",
        "# In ra tham số tối ưu\n",
        "best_params = study.best_params\n",
        "print(f'Best parameters: {best_params}')\n",
        "print(f'Best trial value: {study.best_value}')\n"
      ],
      "metadata": {
        "id": "kuHoDwlidiQi",
        "colab": {
          "base_uri": "https://localhost:8080/"
        },
        "outputId": "0695ba9a-19da-488e-d8fd-f513009656f3"
      },
      "execution_count": 9,
      "outputs": [
        {
          "output_type": "stream",
          "name": "stderr",
          "text": [
            "[I 2024-06-21 14:54:51,404] A new study created in memory with name: no-name-16f3d49d-d972-4710-992d-dad360de5c79\n",
            "[I 2024-06-21 14:55:05,414] Trial 0 finished with value: 0.03251098581798335 and parameters: {'n_lags': 18, 'n_estimators': 143}. Best is trial 0 with value: 0.03251098581798335.\n",
            "[I 2024-06-21 14:55:19,928] Trial 1 finished with value: 0.03344643568091283 and parameters: {'n_lags': 24, 'n_estimators': 184}. Best is trial 0 with value: 0.03251098581798335.\n",
            "[I 2024-06-21 14:55:22,944] Trial 2 finished with value: 0.030429090261195786 and parameters: {'n_lags': 2, 'n_estimators': 164}. Best is trial 2 with value: 0.030429090261195786.\n",
            "[I 2024-06-21 14:55:24,332] Trial 3 finished with value: 0.030104489356334918 and parameters: {'n_lags': 1, 'n_estimators': 126}. Best is trial 3 with value: 0.030104489356334918.\n",
            "[I 2024-06-21 14:55:25,939] Trial 4 finished with value: 0.03353578718095194 and parameters: {'n_lags': 24, 'n_estimators': 22}. Best is trial 3 with value: 0.030104489356334918.\n",
            "[I 2024-06-21 14:55:36,077] Trial 5 finished with value: 0.026060494743139467 and parameters: {'n_lags': 29, 'n_estimators': 109}. Best is trial 5 with value: 0.026060494743139467.\n",
            "[I 2024-06-21 14:55:53,191] Trial 6 finished with value: 0.02623684879391052 and parameters: {'n_lags': 30, 'n_estimators': 187}. Best is trial 5 with value: 0.026060494743139467.\n",
            "[I 2024-06-21 14:55:56,105] Trial 7 finished with value: 0.030544037664150737 and parameters: {'n_lags': 3, 'n_estimators': 164}. Best is trial 5 with value: 0.026060494743139467.\n",
            "[I 2024-06-21 14:55:59,668] Trial 8 finished with value: 0.03253629275611801 and parameters: {'n_lags': 14, 'n_estimators': 63}. Best is trial 5 with value: 0.026060494743139467.\n",
            "[I 2024-06-21 14:56:05,608] Trial 9 finished with value: 0.03249103249759778 and parameters: {'n_lags': 15, 'n_estimators': 107}. Best is trial 5 with value: 0.026060494743139467.\n",
            "[I 2024-06-21 14:56:11,949] Trial 10 finished with value: 0.026343560614037698 and parameters: {'n_lags': 30, 'n_estimators': 73}. Best is trial 5 with value: 0.026060494743139467.\n",
            "[I 2024-06-21 14:56:32,136] Trial 11 finished with value: 0.02625025761457584 and parameters: {'n_lags': 30, 'n_estimators': 198}. Best is trial 5 with value: 0.026060494743139467.\n",
            "[I 2024-06-21 14:56:38,027] Trial 12 finished with value: 0.03337955642362382 and parameters: {'n_lags': 24, 'n_estimators': 77}. Best is trial 5 with value: 0.026060494743139467.\n",
            "[I 2024-06-21 14:56:39,202] Trial 13 finished with value: 0.02553799679892808 and parameters: {'n_lags': 27, 'n_estimators': 13}. Best is trial 13 with value: 0.02553799679892808.\n",
            "[I 2024-06-21 14:56:40,309] Trial 14 finished with value: 0.033147643875895826 and parameters: {'n_lags': 20, 'n_estimators': 11}. Best is trial 13 with value: 0.02553799679892808.\n",
            "[I 2024-06-21 14:56:44,613] Trial 15 finished with value: 0.02642163492155982 and parameters: {'n_lags': 25, 'n_estimators': 48}. Best is trial 13 with value: 0.02553799679892808.\n",
            "[I 2024-06-21 14:56:48,187] Trial 16 finished with value: 0.030760347443229575 and parameters: {'n_lags': 10, 'n_estimators': 100}. Best is trial 13 with value: 0.02553799679892808.\n",
            "[I 2024-06-21 14:56:50,924] Trial 17 finished with value: 0.02637711398671467 and parameters: {'n_lags': 27, 'n_estimators': 34}. Best is trial 13 with value: 0.02553799679892808.\n",
            "[I 2024-06-21 14:56:57,717] Trial 18 finished with value: 0.03341284330447867 and parameters: {'n_lags': 19, 'n_estimators': 95}. Best is trial 13 with value: 0.02553799679892808.\n",
            "[I 2024-06-21 14:57:02,389] Trial 19 finished with value: 0.030711373691965388 and parameters: {'n_lags': 10, 'n_estimators': 131}. Best is trial 13 with value: 0.02553799679892808.\n",
            "[I 2024-06-21 14:57:05,935] Trial 20 finished with value: 0.026209650231206187 and parameters: {'n_lags': 27, 'n_estimators': 44}. Best is trial 13 with value: 0.02553799679892808.\n",
            "[I 2024-06-21 14:57:10,730] Trial 21 finished with value: 0.026197343224299268 and parameters: {'n_lags': 27, 'n_estimators': 45}. Best is trial 13 with value: 0.02553799679892808.\n",
            "[I 2024-06-21 14:57:12,535] Trial 22 finished with value: 0.03320803857631667 and parameters: {'n_lags': 21, 'n_estimators': 27}. Best is trial 13 with value: 0.02553799679892808.\n",
            "[I 2024-06-21 14:57:13,372] Trial 23 finished with value: 0.026001891797496773 and parameters: {'n_lags': 27, 'n_estimators': 10}. Best is trial 13 with value: 0.02553799679892808.\n",
            "[I 2024-06-21 14:57:14,222] Trial 24 finished with value: 0.026001891797496773 and parameters: {'n_lags': 27, 'n_estimators': 10}. Best is trial 13 with value: 0.02553799679892808.\n",
            "[I 2024-06-21 14:57:14,946] Trial 25 finished with value: 0.033269984601306875 and parameters: {'n_lags': 22, 'n_estimators': 10}. Best is trial 13 with value: 0.02553799679892808.\n",
            "[I 2024-06-21 14:57:16,280] Trial 26 finished with value: 0.032396223833025366 and parameters: {'n_lags': 17, 'n_estimators': 24}. Best is trial 13 with value: 0.02553799679892808.\n",
            "[I 2024-06-21 14:57:21,474] Trial 27 finished with value: 0.0262805755525163 and parameters: {'n_lags': 27, 'n_estimators': 58}. Best is trial 13 with value: 0.02553799679892808.\n",
            "[I 2024-06-21 14:57:22,580] Trial 28 finished with value: 0.033269984601306875 and parameters: {'n_lags': 22, 'n_estimators': 10}. Best is trial 13 with value: 0.02553799679892808.\n",
            "[I 2024-06-21 14:57:25,399] Trial 29 finished with value: 0.026798085095569996 and parameters: {'n_lags': 26, 'n_estimators': 35}. Best is trial 13 with value: 0.02553799679892808.\n",
            "[I 2024-06-21 14:57:28,765] Trial 30 finished with value: 0.030651528605911867 and parameters: {'n_lags': 12, 'n_estimators': 82}. Best is trial 13 with value: 0.02553799679892808.\n",
            "[I 2024-06-21 14:57:39,839] Trial 31 finished with value: 0.026230567796839042 and parameters: {'n_lags': 29, 'n_estimators': 119}. Best is trial 13 with value: 0.02553799679892808.\n",
            "[I 2024-06-21 14:57:52,812] Trial 32 finished with value: 0.02621488107111015 and parameters: {'n_lags': 28, 'n_estimators': 145}. Best is trial 13 with value: 0.02553799679892808.\n",
            "[I 2024-06-21 14:57:54,325] Trial 33 finished with value: 0.033724995569094085 and parameters: {'n_lags': 23, 'n_estimators': 21}. Best is trial 13 with value: 0.02553799679892808.\n",
            "[I 2024-06-21 14:57:58,610] Trial 34 finished with value: 0.026310653284125223 and parameters: {'n_lags': 26, 'n_estimators': 56}. Best is trial 13 with value: 0.02553799679892808.\n",
            "[I 2024-06-21 14:58:01,467] Trial 35 finished with value: 0.025842518652820064 and parameters: {'n_lags': 25, 'n_estimators': 32}. Best is trial 13 with value: 0.02553799679892808.\n",
            "[I 2024-06-21 14:58:04,705] Trial 36 finished with value: 0.03352807609694585 and parameters: {'n_lags': 24, 'n_estimators': 34}. Best is trial 13 with value: 0.02553799679892808.\n",
            "[I 2024-06-21 14:58:05,266] Trial 37 finished with value: 0.031302457967079915 and parameters: {'n_lags': 6, 'n_estimators': 20}. Best is trial 13 with value: 0.02553799679892808.\n",
            "[I 2024-06-21 14:58:07,407] Trial 38 finished with value: 0.03248338649841438 and parameters: {'n_lags': 17, 'n_estimators': 39}. Best is trial 13 with value: 0.02553799679892808.\n",
            "[I 2024-06-21 14:58:08,925] Trial 39 finished with value: 0.026130769996253782 and parameters: {'n_lags': 28, 'n_estimators': 18}. Best is trial 13 with value: 0.02553799679892808.\n",
            "[I 2024-06-21 14:58:11,127] Trial 40 finished with value: 0.0257947502982075 and parameters: {'n_lags': 25, 'n_estimators': 29}. Best is trial 13 with value: 0.02553799679892808.\n",
            "[I 2024-06-21 14:58:13,109] Trial 41 finished with value: 0.025876180937847448 and parameters: {'n_lags': 25, 'n_estimators': 26}. Best is trial 13 with value: 0.02553799679892808.\n",
            "[I 2024-06-21 14:58:16,189] Trial 42 finished with value: 0.02577580048810833 and parameters: {'n_lags': 25, 'n_estimators': 30}. Best is trial 13 with value: 0.02553799679892808.\n",
            "[I 2024-06-21 14:58:20,570] Trial 43 finished with value: 0.026457296169707177 and parameters: {'n_lags': 25, 'n_estimators': 54}. Best is trial 13 with value: 0.02553799679892808.\n",
            "[I 2024-06-21 14:58:25,035] Trial 44 finished with value: 0.03337352247852524 and parameters: {'n_lags': 22, 'n_estimators': 67}. Best is trial 13 with value: 0.02553799679892808.\n",
            "[I 2024-06-21 14:58:27,249] Trial 45 finished with value: 0.03331532690610582 and parameters: {'n_lags': 20, 'n_estimators': 35}. Best is trial 13 with value: 0.02553799679892808.\n",
            "[I 2024-06-21 14:58:30,449] Trial 46 finished with value: 0.025806616288959187 and parameters: {'n_lags': 25, 'n_estimators': 28}. Best is trial 13 with value: 0.02553799679892808.\n",
            "[I 2024-06-21 14:58:37,779] Trial 47 finished with value: 0.026138464012787292 and parameters: {'n_lags': 29, 'n_estimators': 86}. Best is trial 13 with value: 0.02553799679892808.\n",
            "[I 2024-06-21 14:58:41,077] Trial 48 finished with value: 0.03353928713417799 and parameters: {'n_lags': 23, 'n_estimators': 46}. Best is trial 13 with value: 0.02553799679892808.\n",
            "[I 2024-06-21 14:58:46,890] Trial 49 finished with value: 0.033363169430519965 and parameters: {'n_lags': 24, 'n_estimators': 66}. Best is trial 13 with value: 0.02553799679892808.\n"
          ]
        },
        {
          "output_type": "stream",
          "name": "stdout",
          "text": [
            "Best parameters: {'n_lags': 27, 'n_estimators': 13}\n",
            "Best trial value: 0.02553799679892808\n"
          ]
        }
      ]
    },
    {
      "cell_type": "markdown",
      "source": [
        "**Sử dụng tham số tối ưu để huấn luyện mô hình cuối cùng**"
      ],
      "metadata": {
        "id": "RjYSlMn31adp"
      }
    },
    {
      "cell_type": "code",
      "source": [
        "optimal_n_lags = best_params['n_lags']\n",
        "optimal_n_estimators = best_params['n_estimators']\n",
        "lagged_data = create_lagged_features(data_scaled.flatten(), optimal_n_lags)"
      ],
      "metadata": {
        "id": "d1B7DqrcviS1"
      },
      "execution_count": 10,
      "outputs": []
    },
    {
      "cell_type": "code",
      "source": [
        "# Chia dữ liệu thành tập huấn luyện và kiểm tra\n",
        "train_size = int(0.8 * len(lagged_data))\n",
        "train_data, test_data = lagged_data[:train_size], lagged_data[train_size:]\n",
        "# Tách các đặc trưng và mục tiêu\n",
        "X_train, y_train = train_data.iloc[:, :-1], train_data.iloc[:, -1]\n",
        "X_test, y_test = test_data.iloc[:, :-1], test_data.iloc[:, -1]"
      ],
      "metadata": {
        "id": "T2uSJFR5Xpfr"
      },
      "execution_count": 11,
      "outputs": []
    },
    {
      "cell_type": "code",
      "source": [
        "# Huấn luyện mô hình Random Forest với các tham số tối ưu\n",
        "rf_model = RandomForestRegressor(n_estimators=optimal_n_estimators, random_state=42)\n",
        "rf_model.fit(X_train, y_train)"
      ],
      "metadata": {
        "colab": {
          "base_uri": "https://localhost:8080/",
          "height": 74
        },
        "id": "0SbpAb7c1qFa",
        "outputId": "39715f31-3fdf-4e9c-dc99-9f0d01ad9460"
      },
      "execution_count": 12,
      "outputs": [
        {
          "output_type": "execute_result",
          "data": {
            "text/plain": [
              "RandomForestRegressor(n_estimators=13, random_state=42)"
            ],
            "text/html": [
              "<style>#sk-container-id-1 {color: black;background-color: white;}#sk-container-id-1 pre{padding: 0;}#sk-container-id-1 div.sk-toggleable {background-color: white;}#sk-container-id-1 label.sk-toggleable__label {cursor: pointer;display: block;width: 100%;margin-bottom: 0;padding: 0.3em;box-sizing: border-box;text-align: center;}#sk-container-id-1 label.sk-toggleable__label-arrow:before {content: \"▸\";float: left;margin-right: 0.25em;color: #696969;}#sk-container-id-1 label.sk-toggleable__label-arrow:hover:before {color: black;}#sk-container-id-1 div.sk-estimator:hover label.sk-toggleable__label-arrow:before {color: black;}#sk-container-id-1 div.sk-toggleable__content {max-height: 0;max-width: 0;overflow: hidden;text-align: left;background-color: #f0f8ff;}#sk-container-id-1 div.sk-toggleable__content pre {margin: 0.2em;color: black;border-radius: 0.25em;background-color: #f0f8ff;}#sk-container-id-1 input.sk-toggleable__control:checked~div.sk-toggleable__content {max-height: 200px;max-width: 100%;overflow: auto;}#sk-container-id-1 input.sk-toggleable__control:checked~label.sk-toggleable__label-arrow:before {content: \"▾\";}#sk-container-id-1 div.sk-estimator input.sk-toggleable__control:checked~label.sk-toggleable__label {background-color: #d4ebff;}#sk-container-id-1 div.sk-label input.sk-toggleable__control:checked~label.sk-toggleable__label {background-color: #d4ebff;}#sk-container-id-1 input.sk-hidden--visually {border: 0;clip: rect(1px 1px 1px 1px);clip: rect(1px, 1px, 1px, 1px);height: 1px;margin: -1px;overflow: hidden;padding: 0;position: absolute;width: 1px;}#sk-container-id-1 div.sk-estimator {font-family: monospace;background-color: #f0f8ff;border: 1px dotted black;border-radius: 0.25em;box-sizing: border-box;margin-bottom: 0.5em;}#sk-container-id-1 div.sk-estimator:hover {background-color: #d4ebff;}#sk-container-id-1 div.sk-parallel-item::after {content: \"\";width: 100%;border-bottom: 1px solid gray;flex-grow: 1;}#sk-container-id-1 div.sk-label:hover label.sk-toggleable__label {background-color: #d4ebff;}#sk-container-id-1 div.sk-serial::before {content: \"\";position: absolute;border-left: 1px solid gray;box-sizing: border-box;top: 0;bottom: 0;left: 50%;z-index: 0;}#sk-container-id-1 div.sk-serial {display: flex;flex-direction: column;align-items: center;background-color: white;padding-right: 0.2em;padding-left: 0.2em;position: relative;}#sk-container-id-1 div.sk-item {position: relative;z-index: 1;}#sk-container-id-1 div.sk-parallel {display: flex;align-items: stretch;justify-content: center;background-color: white;position: relative;}#sk-container-id-1 div.sk-item::before, #sk-container-id-1 div.sk-parallel-item::before {content: \"\";position: absolute;border-left: 1px solid gray;box-sizing: border-box;top: 0;bottom: 0;left: 50%;z-index: -1;}#sk-container-id-1 div.sk-parallel-item {display: flex;flex-direction: column;z-index: 1;position: relative;background-color: white;}#sk-container-id-1 div.sk-parallel-item:first-child::after {align-self: flex-end;width: 50%;}#sk-container-id-1 div.sk-parallel-item:last-child::after {align-self: flex-start;width: 50%;}#sk-container-id-1 div.sk-parallel-item:only-child::after {width: 0;}#sk-container-id-1 div.sk-dashed-wrapped {border: 1px dashed gray;margin: 0 0.4em 0.5em 0.4em;box-sizing: border-box;padding-bottom: 0.4em;background-color: white;}#sk-container-id-1 div.sk-label label {font-family: monospace;font-weight: bold;display: inline-block;line-height: 1.2em;}#sk-container-id-1 div.sk-label-container {text-align: center;}#sk-container-id-1 div.sk-container {/* jupyter's `normalize.less` sets `[hidden] { display: none; }` but bootstrap.min.css set `[hidden] { display: none !important; }` so we also need the `!important` here to be able to override the default hidden behavior on the sphinx rendered scikit-learn.org. See: https://github.com/scikit-learn/scikit-learn/issues/21755 */display: inline-block !important;position: relative;}#sk-container-id-1 div.sk-text-repr-fallback {display: none;}</style><div id=\"sk-container-id-1\" class=\"sk-top-container\"><div class=\"sk-text-repr-fallback\"><pre>RandomForestRegressor(n_estimators=13, random_state=42)</pre><b>In a Jupyter environment, please rerun this cell to show the HTML representation or trust the notebook. <br />On GitHub, the HTML representation is unable to render, please try loading this page with nbviewer.org.</b></div><div class=\"sk-container\" hidden><div class=\"sk-item\"><div class=\"sk-estimator sk-toggleable\"><input class=\"sk-toggleable__control sk-hidden--visually\" id=\"sk-estimator-id-1\" type=\"checkbox\" checked><label for=\"sk-estimator-id-1\" class=\"sk-toggleable__label sk-toggleable__label-arrow\">RandomForestRegressor</label><div class=\"sk-toggleable__content\"><pre>RandomForestRegressor(n_estimators=13, random_state=42)</pre></div></div></div></div></div>"
            ]
          },
          "metadata": {},
          "execution_count": 12
        }
      ]
    },
    {
      "cell_type": "code",
      "source": [
        "# Dự đoán trên tập kiểm tra\n",
        "y_pred = rf_model.predict(X_test)"
      ],
      "metadata": {
        "id": "UjZO2zLU1rKo"
      },
      "execution_count": 13,
      "outputs": []
    },
    {
      "cell_type": "code",
      "source": [
        "# Chuyển đổi lại dữ liệu về thang đo gốc\n",
        "y_test_inverse = scaler.inverse_transform(y_test.values.reshape(-1, 1))\n",
        "y_pred_inverse = scaler.inverse_transform(y_pred.reshape(-1, 1))"
      ],
      "metadata": {
        "id": "UrakTMqv1uDC"
      },
      "execution_count": 14,
      "outputs": []
    },
    {
      "cell_type": "code",
      "source": [
        "# Tính toán các độ đo lỗi\n",
        "test_mape = mean_absolute_percentage_error(y_test_inverse, y_pred_inverse)\n",
        "test_mse = mean_squared_error(y_test_inverse, y_pred_inverse)\n",
        "test_rmse = np.sqrt(test_mse)\n",
        "\n",
        "print(f\"MAPE on Test dataset: {test_mape:.4f}\")\n",
        "print(f\"RMSE on Test dataset: {test_rmse:.4f}\")\n",
        "print(f\"MSE on Test dataset: {test_mse:.4f}\")"
      ],
      "metadata": {
        "colab": {
          "base_uri": "https://localhost:8080/"
        },
        "id": "9juDFIyA1wkc",
        "outputId": "a287a649-780b-4a39-ed5f-0853362ad5d3"
      },
      "execution_count": 15,
      "outputs": [
        {
          "output_type": "stream",
          "name": "stdout",
          "text": [
            "MAPE on Test dataset: 0.0310\n",
            "RMSE on Test dataset: 2318.9839\n",
            "MSE on Test dataset: 5377686.1590\n"
          ]
        }
      ]
    },
    {
      "cell_type": "code",
      "source": [
        "# Hàm dự báo tương lai\n",
        "def forecast_future(model, data, n_lags, n_periods):\n",
        "    future_forecast = []\n",
        "    last_values = data[-n_lags:]\n",
        "    for _ in range(n_periods):\n",
        "        prediction = model.predict(last_values.reshape(1, -1))[0]\n",
        "        future_forecast.append(prediction)\n",
        "        last_values = np.append(last_values[1:], prediction)\n",
        "    return np.array(future_forecast)"
      ],
      "metadata": {
        "id": "oANJtE5tYKMq"
      },
      "execution_count": 16,
      "outputs": []
    },
    {
      "cell_type": "code",
      "source": [
        "# Dự báo giá trị tương lai\n",
        "forecast_30_days = forecast_future(rf_model, data_scaled.flatten(), optimal_n_lags, 30)\n",
        "forecast_60_days = forecast_future(rf_model, data_scaled.flatten(), optimal_n_lags, 60)\n",
        "forecast_90_days = forecast_future(rf_model, data_scaled.flatten(), optimal_n_lags, 90)"
      ],
      "metadata": {
        "colab": {
          "base_uri": "https://localhost:8080/"
        },
        "id": "oLWo4aTh2Txa",
        "outputId": "4adecdf6-3d65-4f24-b8c8-a732765032d5"
      },
      "execution_count": 17,
      "outputs": [
        {
          "output_type": "stream",
          "name": "stderr",
          "text": [
            "/usr/local/lib/python3.10/dist-packages/sklearn/base.py:439: UserWarning: X does not have valid feature names, but RandomForestRegressor was fitted with feature names\n",
            "  warnings.warn(\n",
            "/usr/local/lib/python3.10/dist-packages/sklearn/base.py:439: UserWarning: X does not have valid feature names, but RandomForestRegressor was fitted with feature names\n",
            "  warnings.warn(\n",
            "/usr/local/lib/python3.10/dist-packages/sklearn/base.py:439: UserWarning: X does not have valid feature names, but RandomForestRegressor was fitted with feature names\n",
            "  warnings.warn(\n",
            "/usr/local/lib/python3.10/dist-packages/sklearn/base.py:439: UserWarning: X does not have valid feature names, but RandomForestRegressor was fitted with feature names\n",
            "  warnings.warn(\n",
            "/usr/local/lib/python3.10/dist-packages/sklearn/base.py:439: UserWarning: X does not have valid feature names, but RandomForestRegressor was fitted with feature names\n",
            "  warnings.warn(\n",
            "/usr/local/lib/python3.10/dist-packages/sklearn/base.py:439: UserWarning: X does not have valid feature names, but RandomForestRegressor was fitted with feature names\n",
            "  warnings.warn(\n",
            "/usr/local/lib/python3.10/dist-packages/sklearn/base.py:439: UserWarning: X does not have valid feature names, but RandomForestRegressor was fitted with feature names\n",
            "  warnings.warn(\n",
            "/usr/local/lib/python3.10/dist-packages/sklearn/base.py:439: UserWarning: X does not have valid feature names, but RandomForestRegressor was fitted with feature names\n",
            "  warnings.warn(\n",
            "/usr/local/lib/python3.10/dist-packages/sklearn/base.py:439: UserWarning: X does not have valid feature names, but RandomForestRegressor was fitted with feature names\n",
            "  warnings.warn(\n",
            "/usr/local/lib/python3.10/dist-packages/sklearn/base.py:439: UserWarning: X does not have valid feature names, but RandomForestRegressor was fitted with feature names\n",
            "  warnings.warn(\n",
            "/usr/local/lib/python3.10/dist-packages/sklearn/base.py:439: UserWarning: X does not have valid feature names, but RandomForestRegressor was fitted with feature names\n",
            "  warnings.warn(\n",
            "/usr/local/lib/python3.10/dist-packages/sklearn/base.py:439: UserWarning: X does not have valid feature names, but RandomForestRegressor was fitted with feature names\n",
            "  warnings.warn(\n",
            "/usr/local/lib/python3.10/dist-packages/sklearn/base.py:439: UserWarning: X does not have valid feature names, but RandomForestRegressor was fitted with feature names\n",
            "  warnings.warn(\n",
            "/usr/local/lib/python3.10/dist-packages/sklearn/base.py:439: UserWarning: X does not have valid feature names, but RandomForestRegressor was fitted with feature names\n",
            "  warnings.warn(\n",
            "/usr/local/lib/python3.10/dist-packages/sklearn/base.py:439: UserWarning: X does not have valid feature names, but RandomForestRegressor was fitted with feature names\n",
            "  warnings.warn(\n",
            "/usr/local/lib/python3.10/dist-packages/sklearn/base.py:439: UserWarning: X does not have valid feature names, but RandomForestRegressor was fitted with feature names\n",
            "  warnings.warn(\n",
            "/usr/local/lib/python3.10/dist-packages/sklearn/base.py:439: UserWarning: X does not have valid feature names, but RandomForestRegressor was fitted with feature names\n",
            "  warnings.warn(\n",
            "/usr/local/lib/python3.10/dist-packages/sklearn/base.py:439: UserWarning: X does not have valid feature names, but RandomForestRegressor was fitted with feature names\n",
            "  warnings.warn(\n",
            "/usr/local/lib/python3.10/dist-packages/sklearn/base.py:439: UserWarning: X does not have valid feature names, but RandomForestRegressor was fitted with feature names\n",
            "  warnings.warn(\n",
            "/usr/local/lib/python3.10/dist-packages/sklearn/base.py:439: UserWarning: X does not have valid feature names, but RandomForestRegressor was fitted with feature names\n",
            "  warnings.warn(\n",
            "/usr/local/lib/python3.10/dist-packages/sklearn/base.py:439: UserWarning: X does not have valid feature names, but RandomForestRegressor was fitted with feature names\n",
            "  warnings.warn(\n",
            "/usr/local/lib/python3.10/dist-packages/sklearn/base.py:439: UserWarning: X does not have valid feature names, but RandomForestRegressor was fitted with feature names\n",
            "  warnings.warn(\n",
            "/usr/local/lib/python3.10/dist-packages/sklearn/base.py:439: UserWarning: X does not have valid feature names, but RandomForestRegressor was fitted with feature names\n",
            "  warnings.warn(\n",
            "/usr/local/lib/python3.10/dist-packages/sklearn/base.py:439: UserWarning: X does not have valid feature names, but RandomForestRegressor was fitted with feature names\n",
            "  warnings.warn(\n",
            "/usr/local/lib/python3.10/dist-packages/sklearn/base.py:439: UserWarning: X does not have valid feature names, but RandomForestRegressor was fitted with feature names\n",
            "  warnings.warn(\n",
            "/usr/local/lib/python3.10/dist-packages/sklearn/base.py:439: UserWarning: X does not have valid feature names, but RandomForestRegressor was fitted with feature names\n",
            "  warnings.warn(\n",
            "/usr/local/lib/python3.10/dist-packages/sklearn/base.py:439: UserWarning: X does not have valid feature names, but RandomForestRegressor was fitted with feature names\n",
            "  warnings.warn(\n",
            "/usr/local/lib/python3.10/dist-packages/sklearn/base.py:439: UserWarning: X does not have valid feature names, but RandomForestRegressor was fitted with feature names\n",
            "  warnings.warn(\n",
            "/usr/local/lib/python3.10/dist-packages/sklearn/base.py:439: UserWarning: X does not have valid feature names, but RandomForestRegressor was fitted with feature names\n",
            "  warnings.warn(\n",
            "/usr/local/lib/python3.10/dist-packages/sklearn/base.py:439: UserWarning: X does not have valid feature names, but RandomForestRegressor was fitted with feature names\n",
            "  warnings.warn(\n",
            "/usr/local/lib/python3.10/dist-packages/sklearn/base.py:439: UserWarning: X does not have valid feature names, but RandomForestRegressor was fitted with feature names\n",
            "  warnings.warn(\n",
            "/usr/local/lib/python3.10/dist-packages/sklearn/base.py:439: UserWarning: X does not have valid feature names, but RandomForestRegressor was fitted with feature names\n",
            "  warnings.warn(\n",
            "/usr/local/lib/python3.10/dist-packages/sklearn/base.py:439: UserWarning: X does not have valid feature names, but RandomForestRegressor was fitted with feature names\n",
            "  warnings.warn(\n",
            "/usr/local/lib/python3.10/dist-packages/sklearn/base.py:439: UserWarning: X does not have valid feature names, but RandomForestRegressor was fitted with feature names\n",
            "  warnings.warn(\n",
            "/usr/local/lib/python3.10/dist-packages/sklearn/base.py:439: UserWarning: X does not have valid feature names, but RandomForestRegressor was fitted with feature names\n",
            "  warnings.warn(\n",
            "/usr/local/lib/python3.10/dist-packages/sklearn/base.py:439: UserWarning: X does not have valid feature names, but RandomForestRegressor was fitted with feature names\n",
            "  warnings.warn(\n",
            "/usr/local/lib/python3.10/dist-packages/sklearn/base.py:439: UserWarning: X does not have valid feature names, but RandomForestRegressor was fitted with feature names\n",
            "  warnings.warn(\n",
            "/usr/local/lib/python3.10/dist-packages/sklearn/base.py:439: UserWarning: X does not have valid feature names, but RandomForestRegressor was fitted with feature names\n",
            "  warnings.warn(\n",
            "/usr/local/lib/python3.10/dist-packages/sklearn/base.py:439: UserWarning: X does not have valid feature names, but RandomForestRegressor was fitted with feature names\n",
            "  warnings.warn(\n",
            "/usr/local/lib/python3.10/dist-packages/sklearn/base.py:439: UserWarning: X does not have valid feature names, but RandomForestRegressor was fitted with feature names\n",
            "  warnings.warn(\n",
            "/usr/local/lib/python3.10/dist-packages/sklearn/base.py:439: UserWarning: X does not have valid feature names, but RandomForestRegressor was fitted with feature names\n",
            "  warnings.warn(\n",
            "/usr/local/lib/python3.10/dist-packages/sklearn/base.py:439: UserWarning: X does not have valid feature names, but RandomForestRegressor was fitted with feature names\n",
            "  warnings.warn(\n",
            "/usr/local/lib/python3.10/dist-packages/sklearn/base.py:439: UserWarning: X does not have valid feature names, but RandomForestRegressor was fitted with feature names\n",
            "  warnings.warn(\n",
            "/usr/local/lib/python3.10/dist-packages/sklearn/base.py:439: UserWarning: X does not have valid feature names, but RandomForestRegressor was fitted with feature names\n",
            "  warnings.warn(\n",
            "/usr/local/lib/python3.10/dist-packages/sklearn/base.py:439: UserWarning: X does not have valid feature names, but RandomForestRegressor was fitted with feature names\n",
            "  warnings.warn(\n",
            "/usr/local/lib/python3.10/dist-packages/sklearn/base.py:439: UserWarning: X does not have valid feature names, but RandomForestRegressor was fitted with feature names\n",
            "  warnings.warn(\n",
            "/usr/local/lib/python3.10/dist-packages/sklearn/base.py:439: UserWarning: X does not have valid feature names, but RandomForestRegressor was fitted with feature names\n",
            "  warnings.warn(\n",
            "/usr/local/lib/python3.10/dist-packages/sklearn/base.py:439: UserWarning: X does not have valid feature names, but RandomForestRegressor was fitted with feature names\n",
            "  warnings.warn(\n",
            "/usr/local/lib/python3.10/dist-packages/sklearn/base.py:439: UserWarning: X does not have valid feature names, but RandomForestRegressor was fitted with feature names\n",
            "  warnings.warn(\n",
            "/usr/local/lib/python3.10/dist-packages/sklearn/base.py:439: UserWarning: X does not have valid feature names, but RandomForestRegressor was fitted with feature names\n",
            "  warnings.warn(\n",
            "/usr/local/lib/python3.10/dist-packages/sklearn/base.py:439: UserWarning: X does not have valid feature names, but RandomForestRegressor was fitted with feature names\n",
            "  warnings.warn(\n",
            "/usr/local/lib/python3.10/dist-packages/sklearn/base.py:439: UserWarning: X does not have valid feature names, but RandomForestRegressor was fitted with feature names\n",
            "  warnings.warn(\n",
            "/usr/local/lib/python3.10/dist-packages/sklearn/base.py:439: UserWarning: X does not have valid feature names, but RandomForestRegressor was fitted with feature names\n",
            "  warnings.warn(\n",
            "/usr/local/lib/python3.10/dist-packages/sklearn/base.py:439: UserWarning: X does not have valid feature names, but RandomForestRegressor was fitted with feature names\n",
            "  warnings.warn(\n",
            "/usr/local/lib/python3.10/dist-packages/sklearn/base.py:439: UserWarning: X does not have valid feature names, but RandomForestRegressor was fitted with feature names\n",
            "  warnings.warn(\n",
            "/usr/local/lib/python3.10/dist-packages/sklearn/base.py:439: UserWarning: X does not have valid feature names, but RandomForestRegressor was fitted with feature names\n",
            "  warnings.warn(\n",
            "/usr/local/lib/python3.10/dist-packages/sklearn/base.py:439: UserWarning: X does not have valid feature names, but RandomForestRegressor was fitted with feature names\n",
            "  warnings.warn(\n",
            "/usr/local/lib/python3.10/dist-packages/sklearn/base.py:439: UserWarning: X does not have valid feature names, but RandomForestRegressor was fitted with feature names\n",
            "  warnings.warn(\n",
            "/usr/local/lib/python3.10/dist-packages/sklearn/base.py:439: UserWarning: X does not have valid feature names, but RandomForestRegressor was fitted with feature names\n",
            "  warnings.warn(\n",
            "/usr/local/lib/python3.10/dist-packages/sklearn/base.py:439: UserWarning: X does not have valid feature names, but RandomForestRegressor was fitted with feature names\n",
            "  warnings.warn(\n",
            "/usr/local/lib/python3.10/dist-packages/sklearn/base.py:439: UserWarning: X does not have valid feature names, but RandomForestRegressor was fitted with feature names\n",
            "  warnings.warn(\n",
            "/usr/local/lib/python3.10/dist-packages/sklearn/base.py:439: UserWarning: X does not have valid feature names, but RandomForestRegressor was fitted with feature names\n",
            "  warnings.warn(\n",
            "/usr/local/lib/python3.10/dist-packages/sklearn/base.py:439: UserWarning: X does not have valid feature names, but RandomForestRegressor was fitted with feature names\n",
            "  warnings.warn(\n",
            "/usr/local/lib/python3.10/dist-packages/sklearn/base.py:439: UserWarning: X does not have valid feature names, but RandomForestRegressor was fitted with feature names\n",
            "  warnings.warn(\n",
            "/usr/local/lib/python3.10/dist-packages/sklearn/base.py:439: UserWarning: X does not have valid feature names, but RandomForestRegressor was fitted with feature names\n",
            "  warnings.warn(\n",
            "/usr/local/lib/python3.10/dist-packages/sklearn/base.py:439: UserWarning: X does not have valid feature names, but RandomForestRegressor was fitted with feature names\n",
            "  warnings.warn(\n",
            "/usr/local/lib/python3.10/dist-packages/sklearn/base.py:439: UserWarning: X does not have valid feature names, but RandomForestRegressor was fitted with feature names\n",
            "  warnings.warn(\n",
            "/usr/local/lib/python3.10/dist-packages/sklearn/base.py:439: UserWarning: X does not have valid feature names, but RandomForestRegressor was fitted with feature names\n",
            "  warnings.warn(\n",
            "/usr/local/lib/python3.10/dist-packages/sklearn/base.py:439: UserWarning: X does not have valid feature names, but RandomForestRegressor was fitted with feature names\n",
            "  warnings.warn(\n",
            "/usr/local/lib/python3.10/dist-packages/sklearn/base.py:439: UserWarning: X does not have valid feature names, but RandomForestRegressor was fitted with feature names\n",
            "  warnings.warn(\n",
            "/usr/local/lib/python3.10/dist-packages/sklearn/base.py:439: UserWarning: X does not have valid feature names, but RandomForestRegressor was fitted with feature names\n",
            "  warnings.warn(\n",
            "/usr/local/lib/python3.10/dist-packages/sklearn/base.py:439: UserWarning: X does not have valid feature names, but RandomForestRegressor was fitted with feature names\n",
            "  warnings.warn(\n",
            "/usr/local/lib/python3.10/dist-packages/sklearn/base.py:439: UserWarning: X does not have valid feature names, but RandomForestRegressor was fitted with feature names\n",
            "  warnings.warn(\n",
            "/usr/local/lib/python3.10/dist-packages/sklearn/base.py:439: UserWarning: X does not have valid feature names, but RandomForestRegressor was fitted with feature names\n",
            "  warnings.warn(\n",
            "/usr/local/lib/python3.10/dist-packages/sklearn/base.py:439: UserWarning: X does not have valid feature names, but RandomForestRegressor was fitted with feature names\n",
            "  warnings.warn(\n",
            "/usr/local/lib/python3.10/dist-packages/sklearn/base.py:439: UserWarning: X does not have valid feature names, but RandomForestRegressor was fitted with feature names\n",
            "  warnings.warn(\n",
            "/usr/local/lib/python3.10/dist-packages/sklearn/base.py:439: UserWarning: X does not have valid feature names, but RandomForestRegressor was fitted with feature names\n",
            "  warnings.warn(\n",
            "/usr/local/lib/python3.10/dist-packages/sklearn/base.py:439: UserWarning: X does not have valid feature names, but RandomForestRegressor was fitted with feature names\n",
            "  warnings.warn(\n",
            "/usr/local/lib/python3.10/dist-packages/sklearn/base.py:439: UserWarning: X does not have valid feature names, but RandomForestRegressor was fitted with feature names\n",
            "  warnings.warn(\n",
            "/usr/local/lib/python3.10/dist-packages/sklearn/base.py:439: UserWarning: X does not have valid feature names, but RandomForestRegressor was fitted with feature names\n",
            "  warnings.warn(\n",
            "/usr/local/lib/python3.10/dist-packages/sklearn/base.py:439: UserWarning: X does not have valid feature names, but RandomForestRegressor was fitted with feature names\n",
            "  warnings.warn(\n",
            "/usr/local/lib/python3.10/dist-packages/sklearn/base.py:439: UserWarning: X does not have valid feature names, but RandomForestRegressor was fitted with feature names\n",
            "  warnings.warn(\n",
            "/usr/local/lib/python3.10/dist-packages/sklearn/base.py:439: UserWarning: X does not have valid feature names, but RandomForestRegressor was fitted with feature names\n",
            "  warnings.warn(\n",
            "/usr/local/lib/python3.10/dist-packages/sklearn/base.py:439: UserWarning: X does not have valid feature names, but RandomForestRegressor was fitted with feature names\n",
            "  warnings.warn(\n",
            "/usr/local/lib/python3.10/dist-packages/sklearn/base.py:439: UserWarning: X does not have valid feature names, but RandomForestRegressor was fitted with feature names\n",
            "  warnings.warn(\n",
            "/usr/local/lib/python3.10/dist-packages/sklearn/base.py:439: UserWarning: X does not have valid feature names, but RandomForestRegressor was fitted with feature names\n",
            "  warnings.warn(\n",
            "/usr/local/lib/python3.10/dist-packages/sklearn/base.py:439: UserWarning: X does not have valid feature names, but RandomForestRegressor was fitted with feature names\n",
            "  warnings.warn(\n",
            "/usr/local/lib/python3.10/dist-packages/sklearn/base.py:439: UserWarning: X does not have valid feature names, but RandomForestRegressor was fitted with feature names\n",
            "  warnings.warn(\n",
            "/usr/local/lib/python3.10/dist-packages/sklearn/base.py:439: UserWarning: X does not have valid feature names, but RandomForestRegressor was fitted with feature names\n",
            "  warnings.warn(\n",
            "/usr/local/lib/python3.10/dist-packages/sklearn/base.py:439: UserWarning: X does not have valid feature names, but RandomForestRegressor was fitted with feature names\n",
            "  warnings.warn(\n",
            "/usr/local/lib/python3.10/dist-packages/sklearn/base.py:439: UserWarning: X does not have valid feature names, but RandomForestRegressor was fitted with feature names\n",
            "  warnings.warn(\n",
            "/usr/local/lib/python3.10/dist-packages/sklearn/base.py:439: UserWarning: X does not have valid feature names, but RandomForestRegressor was fitted with feature names\n",
            "  warnings.warn(\n",
            "/usr/local/lib/python3.10/dist-packages/sklearn/base.py:439: UserWarning: X does not have valid feature names, but RandomForestRegressor was fitted with feature names\n",
            "  warnings.warn(\n",
            "/usr/local/lib/python3.10/dist-packages/sklearn/base.py:439: UserWarning: X does not have valid feature names, but RandomForestRegressor was fitted with feature names\n",
            "  warnings.warn(\n",
            "/usr/local/lib/python3.10/dist-packages/sklearn/base.py:439: UserWarning: X does not have valid feature names, but RandomForestRegressor was fitted with feature names\n",
            "  warnings.warn(\n",
            "/usr/local/lib/python3.10/dist-packages/sklearn/base.py:439: UserWarning: X does not have valid feature names, but RandomForestRegressor was fitted with feature names\n",
            "  warnings.warn(\n",
            "/usr/local/lib/python3.10/dist-packages/sklearn/base.py:439: UserWarning: X does not have valid feature names, but RandomForestRegressor was fitted with feature names\n",
            "  warnings.warn(\n",
            "/usr/local/lib/python3.10/dist-packages/sklearn/base.py:439: UserWarning: X does not have valid feature names, but RandomForestRegressor was fitted with feature names\n",
            "  warnings.warn(\n",
            "/usr/local/lib/python3.10/dist-packages/sklearn/base.py:439: UserWarning: X does not have valid feature names, but RandomForestRegressor was fitted with feature names\n",
            "  warnings.warn(\n",
            "/usr/local/lib/python3.10/dist-packages/sklearn/base.py:439: UserWarning: X does not have valid feature names, but RandomForestRegressor was fitted with feature names\n",
            "  warnings.warn(\n",
            "/usr/local/lib/python3.10/dist-packages/sklearn/base.py:439: UserWarning: X does not have valid feature names, but RandomForestRegressor was fitted with feature names\n",
            "  warnings.warn(\n",
            "/usr/local/lib/python3.10/dist-packages/sklearn/base.py:439: UserWarning: X does not have valid feature names, but RandomForestRegressor was fitted with feature names\n",
            "  warnings.warn(\n",
            "/usr/local/lib/python3.10/dist-packages/sklearn/base.py:439: UserWarning: X does not have valid feature names, but RandomForestRegressor was fitted with feature names\n",
            "  warnings.warn(\n",
            "/usr/local/lib/python3.10/dist-packages/sklearn/base.py:439: UserWarning: X does not have valid feature names, but RandomForestRegressor was fitted with feature names\n",
            "  warnings.warn(\n",
            "/usr/local/lib/python3.10/dist-packages/sklearn/base.py:439: UserWarning: X does not have valid feature names, but RandomForestRegressor was fitted with feature names\n",
            "  warnings.warn(\n",
            "/usr/local/lib/python3.10/dist-packages/sklearn/base.py:439: UserWarning: X does not have valid feature names, but RandomForestRegressor was fitted with feature names\n",
            "  warnings.warn(\n",
            "/usr/local/lib/python3.10/dist-packages/sklearn/base.py:439: UserWarning: X does not have valid feature names, but RandomForestRegressor was fitted with feature names\n",
            "  warnings.warn(\n",
            "/usr/local/lib/python3.10/dist-packages/sklearn/base.py:439: UserWarning: X does not have valid feature names, but RandomForestRegressor was fitted with feature names\n",
            "  warnings.warn(\n",
            "/usr/local/lib/python3.10/dist-packages/sklearn/base.py:439: UserWarning: X does not have valid feature names, but RandomForestRegressor was fitted with feature names\n",
            "  warnings.warn(\n",
            "/usr/local/lib/python3.10/dist-packages/sklearn/base.py:439: UserWarning: X does not have valid feature names, but RandomForestRegressor was fitted with feature names\n",
            "  warnings.warn(\n",
            "/usr/local/lib/python3.10/dist-packages/sklearn/base.py:439: UserWarning: X does not have valid feature names, but RandomForestRegressor was fitted with feature names\n",
            "  warnings.warn(\n",
            "/usr/local/lib/python3.10/dist-packages/sklearn/base.py:439: UserWarning: X does not have valid feature names, but RandomForestRegressor was fitted with feature names\n",
            "  warnings.warn(\n",
            "/usr/local/lib/python3.10/dist-packages/sklearn/base.py:439: UserWarning: X does not have valid feature names, but RandomForestRegressor was fitted with feature names\n",
            "  warnings.warn(\n",
            "/usr/local/lib/python3.10/dist-packages/sklearn/base.py:439: UserWarning: X does not have valid feature names, but RandomForestRegressor was fitted with feature names\n",
            "  warnings.warn(\n",
            "/usr/local/lib/python3.10/dist-packages/sklearn/base.py:439: UserWarning: X does not have valid feature names, but RandomForestRegressor was fitted with feature names\n",
            "  warnings.warn(\n",
            "/usr/local/lib/python3.10/dist-packages/sklearn/base.py:439: UserWarning: X does not have valid feature names, but RandomForestRegressor was fitted with feature names\n",
            "  warnings.warn(\n",
            "/usr/local/lib/python3.10/dist-packages/sklearn/base.py:439: UserWarning: X does not have valid feature names, but RandomForestRegressor was fitted with feature names\n",
            "  warnings.warn(\n",
            "/usr/local/lib/python3.10/dist-packages/sklearn/base.py:439: UserWarning: X does not have valid feature names, but RandomForestRegressor was fitted with feature names\n",
            "  warnings.warn(\n",
            "/usr/local/lib/python3.10/dist-packages/sklearn/base.py:439: UserWarning: X does not have valid feature names, but RandomForestRegressor was fitted with feature names\n",
            "  warnings.warn(\n",
            "/usr/local/lib/python3.10/dist-packages/sklearn/base.py:439: UserWarning: X does not have valid feature names, but RandomForestRegressor was fitted with feature names\n",
            "  warnings.warn(\n",
            "/usr/local/lib/python3.10/dist-packages/sklearn/base.py:439: UserWarning: X does not have valid feature names, but RandomForestRegressor was fitted with feature names\n",
            "  warnings.warn(\n",
            "/usr/local/lib/python3.10/dist-packages/sklearn/base.py:439: UserWarning: X does not have valid feature names, but RandomForestRegressor was fitted with feature names\n",
            "  warnings.warn(\n",
            "/usr/local/lib/python3.10/dist-packages/sklearn/base.py:439: UserWarning: X does not have valid feature names, but RandomForestRegressor was fitted with feature names\n",
            "  warnings.warn(\n",
            "/usr/local/lib/python3.10/dist-packages/sklearn/base.py:439: UserWarning: X does not have valid feature names, but RandomForestRegressor was fitted with feature names\n",
            "  warnings.warn(\n",
            "/usr/local/lib/python3.10/dist-packages/sklearn/base.py:439: UserWarning: X does not have valid feature names, but RandomForestRegressor was fitted with feature names\n",
            "  warnings.warn(\n",
            "/usr/local/lib/python3.10/dist-packages/sklearn/base.py:439: UserWarning: X does not have valid feature names, but RandomForestRegressor was fitted with feature names\n",
            "  warnings.warn(\n",
            "/usr/local/lib/python3.10/dist-packages/sklearn/base.py:439: UserWarning: X does not have valid feature names, but RandomForestRegressor was fitted with feature names\n",
            "  warnings.warn(\n",
            "/usr/local/lib/python3.10/dist-packages/sklearn/base.py:439: UserWarning: X does not have valid feature names, but RandomForestRegressor was fitted with feature names\n",
            "  warnings.warn(\n",
            "/usr/local/lib/python3.10/dist-packages/sklearn/base.py:439: UserWarning: X does not have valid feature names, but RandomForestRegressor was fitted with feature names\n",
            "  warnings.warn(\n",
            "/usr/local/lib/python3.10/dist-packages/sklearn/base.py:439: UserWarning: X does not have valid feature names, but RandomForestRegressor was fitted with feature names\n",
            "  warnings.warn(\n",
            "/usr/local/lib/python3.10/dist-packages/sklearn/base.py:439: UserWarning: X does not have valid feature names, but RandomForestRegressor was fitted with feature names\n",
            "  warnings.warn(\n",
            "/usr/local/lib/python3.10/dist-packages/sklearn/base.py:439: UserWarning: X does not have valid feature names, but RandomForestRegressor was fitted with feature names\n",
            "  warnings.warn(\n",
            "/usr/local/lib/python3.10/dist-packages/sklearn/base.py:439: UserWarning: X does not have valid feature names, but RandomForestRegressor was fitted with feature names\n",
            "  warnings.warn(\n",
            "/usr/local/lib/python3.10/dist-packages/sklearn/base.py:439: UserWarning: X does not have valid feature names, but RandomForestRegressor was fitted with feature names\n",
            "  warnings.warn(\n",
            "/usr/local/lib/python3.10/dist-packages/sklearn/base.py:439: UserWarning: X does not have valid feature names, but RandomForestRegressor was fitted with feature names\n",
            "  warnings.warn(\n",
            "/usr/local/lib/python3.10/dist-packages/sklearn/base.py:439: UserWarning: X does not have valid feature names, but RandomForestRegressor was fitted with feature names\n",
            "  warnings.warn(\n",
            "/usr/local/lib/python3.10/dist-packages/sklearn/base.py:439: UserWarning: X does not have valid feature names, but RandomForestRegressor was fitted with feature names\n",
            "  warnings.warn(\n",
            "/usr/local/lib/python3.10/dist-packages/sklearn/base.py:439: UserWarning: X does not have valid feature names, but RandomForestRegressor was fitted with feature names\n",
            "  warnings.warn(\n",
            "/usr/local/lib/python3.10/dist-packages/sklearn/base.py:439: UserWarning: X does not have valid feature names, but RandomForestRegressor was fitted with feature names\n",
            "  warnings.warn(\n",
            "/usr/local/lib/python3.10/dist-packages/sklearn/base.py:439: UserWarning: X does not have valid feature names, but RandomForestRegressor was fitted with feature names\n",
            "  warnings.warn(\n",
            "/usr/local/lib/python3.10/dist-packages/sklearn/base.py:439: UserWarning: X does not have valid feature names, but RandomForestRegressor was fitted with feature names\n",
            "  warnings.warn(\n",
            "/usr/local/lib/python3.10/dist-packages/sklearn/base.py:439: UserWarning: X does not have valid feature names, but RandomForestRegressor was fitted with feature names\n",
            "  warnings.warn(\n",
            "/usr/local/lib/python3.10/dist-packages/sklearn/base.py:439: UserWarning: X does not have valid feature names, but RandomForestRegressor was fitted with feature names\n",
            "  warnings.warn(\n",
            "/usr/local/lib/python3.10/dist-packages/sklearn/base.py:439: UserWarning: X does not have valid feature names, but RandomForestRegressor was fitted with feature names\n",
            "  warnings.warn(\n",
            "/usr/local/lib/python3.10/dist-packages/sklearn/base.py:439: UserWarning: X does not have valid feature names, but RandomForestRegressor was fitted with feature names\n",
            "  warnings.warn(\n",
            "/usr/local/lib/python3.10/dist-packages/sklearn/base.py:439: UserWarning: X does not have valid feature names, but RandomForestRegressor was fitted with feature names\n",
            "  warnings.warn(\n",
            "/usr/local/lib/python3.10/dist-packages/sklearn/base.py:439: UserWarning: X does not have valid feature names, but RandomForestRegressor was fitted with feature names\n",
            "  warnings.warn(\n",
            "/usr/local/lib/python3.10/dist-packages/sklearn/base.py:439: UserWarning: X does not have valid feature names, but RandomForestRegressor was fitted with feature names\n",
            "  warnings.warn(\n",
            "/usr/local/lib/python3.10/dist-packages/sklearn/base.py:439: UserWarning: X does not have valid feature names, but RandomForestRegressor was fitted with feature names\n",
            "  warnings.warn(\n",
            "/usr/local/lib/python3.10/dist-packages/sklearn/base.py:439: UserWarning: X does not have valid feature names, but RandomForestRegressor was fitted with feature names\n",
            "  warnings.warn(\n",
            "/usr/local/lib/python3.10/dist-packages/sklearn/base.py:439: UserWarning: X does not have valid feature names, but RandomForestRegressor was fitted with feature names\n",
            "  warnings.warn(\n",
            "/usr/local/lib/python3.10/dist-packages/sklearn/base.py:439: UserWarning: X does not have valid feature names, but RandomForestRegressor was fitted with feature names\n",
            "  warnings.warn(\n",
            "/usr/local/lib/python3.10/dist-packages/sklearn/base.py:439: UserWarning: X does not have valid feature names, but RandomForestRegressor was fitted with feature names\n",
            "  warnings.warn(\n",
            "/usr/local/lib/python3.10/dist-packages/sklearn/base.py:439: UserWarning: X does not have valid feature names, but RandomForestRegressor was fitted with feature names\n",
            "  warnings.warn(\n",
            "/usr/local/lib/python3.10/dist-packages/sklearn/base.py:439: UserWarning: X does not have valid feature names, but RandomForestRegressor was fitted with feature names\n",
            "  warnings.warn(\n",
            "/usr/local/lib/python3.10/dist-packages/sklearn/base.py:439: UserWarning: X does not have valid feature names, but RandomForestRegressor was fitted with feature names\n",
            "  warnings.warn(\n",
            "/usr/local/lib/python3.10/dist-packages/sklearn/base.py:439: UserWarning: X does not have valid feature names, but RandomForestRegressor was fitted with feature names\n",
            "  warnings.warn(\n",
            "/usr/local/lib/python3.10/dist-packages/sklearn/base.py:439: UserWarning: X does not have valid feature names, but RandomForestRegressor was fitted with feature names\n",
            "  warnings.warn(\n",
            "/usr/local/lib/python3.10/dist-packages/sklearn/base.py:439: UserWarning: X does not have valid feature names, but RandomForestRegressor was fitted with feature names\n",
            "  warnings.warn(\n",
            "/usr/local/lib/python3.10/dist-packages/sklearn/base.py:439: UserWarning: X does not have valid feature names, but RandomForestRegressor was fitted with feature names\n",
            "  warnings.warn(\n",
            "/usr/local/lib/python3.10/dist-packages/sklearn/base.py:439: UserWarning: X does not have valid feature names, but RandomForestRegressor was fitted with feature names\n",
            "  warnings.warn(\n",
            "/usr/local/lib/python3.10/dist-packages/sklearn/base.py:439: UserWarning: X does not have valid feature names, but RandomForestRegressor was fitted with feature names\n",
            "  warnings.warn(\n",
            "/usr/local/lib/python3.10/dist-packages/sklearn/base.py:439: UserWarning: X does not have valid feature names, but RandomForestRegressor was fitted with feature names\n",
            "  warnings.warn(\n",
            "/usr/local/lib/python3.10/dist-packages/sklearn/base.py:439: UserWarning: X does not have valid feature names, but RandomForestRegressor was fitted with feature names\n",
            "  warnings.warn(\n",
            "/usr/local/lib/python3.10/dist-packages/sklearn/base.py:439: UserWarning: X does not have valid feature names, but RandomForestRegressor was fitted with feature names\n",
            "  warnings.warn(\n",
            "/usr/local/lib/python3.10/dist-packages/sklearn/base.py:439: UserWarning: X does not have valid feature names, but RandomForestRegressor was fitted with feature names\n",
            "  warnings.warn(\n",
            "/usr/local/lib/python3.10/dist-packages/sklearn/base.py:439: UserWarning: X does not have valid feature names, but RandomForestRegressor was fitted with feature names\n",
            "  warnings.warn(\n",
            "/usr/local/lib/python3.10/dist-packages/sklearn/base.py:439: UserWarning: X does not have valid feature names, but RandomForestRegressor was fitted with feature names\n",
            "  warnings.warn(\n",
            "/usr/local/lib/python3.10/dist-packages/sklearn/base.py:439: UserWarning: X does not have valid feature names, but RandomForestRegressor was fitted with feature names\n",
            "  warnings.warn(\n",
            "/usr/local/lib/python3.10/dist-packages/sklearn/base.py:439: UserWarning: X does not have valid feature names, but RandomForestRegressor was fitted with feature names\n",
            "  warnings.warn(\n",
            "/usr/local/lib/python3.10/dist-packages/sklearn/base.py:439: UserWarning: X does not have valid feature names, but RandomForestRegressor was fitted with feature names\n",
            "  warnings.warn(\n",
            "/usr/local/lib/python3.10/dist-packages/sklearn/base.py:439: UserWarning: X does not have valid feature names, but RandomForestRegressor was fitted with feature names\n",
            "  warnings.warn(\n",
            "/usr/local/lib/python3.10/dist-packages/sklearn/base.py:439: UserWarning: X does not have valid feature names, but RandomForestRegressor was fitted with feature names\n",
            "  warnings.warn(\n",
            "/usr/local/lib/python3.10/dist-packages/sklearn/base.py:439: UserWarning: X does not have valid feature names, but RandomForestRegressor was fitted with feature names\n",
            "  warnings.warn(\n",
            "/usr/local/lib/python3.10/dist-packages/sklearn/base.py:439: UserWarning: X does not have valid feature names, but RandomForestRegressor was fitted with feature names\n",
            "  warnings.warn(\n",
            "/usr/local/lib/python3.10/dist-packages/sklearn/base.py:439: UserWarning: X does not have valid feature names, but RandomForestRegressor was fitted with feature names\n",
            "  warnings.warn(\n",
            "/usr/local/lib/python3.10/dist-packages/sklearn/base.py:439: UserWarning: X does not have valid feature names, but RandomForestRegressor was fitted with feature names\n",
            "  warnings.warn(\n",
            "/usr/local/lib/python3.10/dist-packages/sklearn/base.py:439: UserWarning: X does not have valid feature names, but RandomForestRegressor was fitted with feature names\n",
            "  warnings.warn(\n",
            "/usr/local/lib/python3.10/dist-packages/sklearn/base.py:439: UserWarning: X does not have valid feature names, but RandomForestRegressor was fitted with feature names\n",
            "  warnings.warn(\n",
            "/usr/local/lib/python3.10/dist-packages/sklearn/base.py:439: UserWarning: X does not have valid feature names, but RandomForestRegressor was fitted with feature names\n",
            "  warnings.warn(\n"
          ]
        }
      ]
    },
    {
      "cell_type": "code",
      "source": [
        "# Chuyển đổi dự báo về thang đo gốc\n",
        "forecast_30_days_inverse = scaler.inverse_transform(forecast_30_days.reshape(-1, 1))\n",
        "forecast_60_days_inverse = scaler.inverse_transform(forecast_60_days.reshape(-1, 1))\n",
        "forecast_90_days_inverse = scaler.inverse_transform(forecast_90_days.reshape(-1, 1))"
      ],
      "metadata": {
        "id": "Z8c-avo52WsM"
      },
      "execution_count": 18,
      "outputs": []
    },
    {
      "cell_type": "code",
      "source": [
        "print('Predicted closing prices for the next 30 days:')\n",
        "print(forecast_30_days_inverse.flatten())\n",
        "\n",
        "print('Predicted closing prices for the next 60 days:')\n",
        "print(forecast_60_days_inverse.flatten())\n",
        "\n",
        "print('Predicted closing prices for the next 90 days:')\n",
        "print(forecast_90_days_inverse.flatten())"
      ],
      "metadata": {
        "colab": {
          "base_uri": "https://localhost:8080/"
        },
        "id": "BFOWEhtbtDiC",
        "outputId": "1500cfe5-999e-478b-e780-5f46b22a43e1"
      },
      "execution_count": 19,
      "outputs": [
        {
          "output_type": "stream",
          "name": "stdout",
          "text": [
            "Predicted closing prices for the next 30 days:\n",
            "[64979.44200738 65310.35036069 64434.604267   65356.11959146\n",
            " 64522.80649054 64344.14633431 64207.67157469 65025.19170685\n",
            " 64960.33323331 65797.04056492 65842.80979569 65797.04056492\n",
            " 65797.04056492 65797.04056492 65797.04056492 65797.04056492\n",
            " 65797.04056492 65797.04056492 65797.04056492 65797.04056492\n",
            " 65797.04056492 65797.04056492 65797.04056492 65797.04056492\n",
            " 65797.04056492 65751.03515631 65751.03515631 65796.80438708\n",
            " 65750.79897846 65796.80438708]\n",
            "Predicted closing prices for the next 60 days:\n",
            "[64979.44200738 65310.35036069 64434.604267   65356.11959146\n",
            " 64522.80649054 64344.14633431 64207.67157469 65025.19170685\n",
            " 64960.33323331 65797.04056492 65842.80979569 65797.04056492\n",
            " 65797.04056492 65797.04056492 65797.04056492 65797.04056492\n",
            " 65797.04056492 65797.04056492 65797.04056492 65797.04056492\n",
            " 65797.04056492 65797.04056492 65797.04056492 65797.04056492\n",
            " 65797.04056492 65751.03515631 65751.03515631 65796.80438708\n",
            " 65750.79897846 65796.80438708 65750.79897846 65750.79897846\n",
            " 65967.40564915 65796.80438708 65842.80979569 65842.80979569\n",
            " 65797.04056492 65797.04056492 65797.04056492 65797.04056492\n",
            " 65797.04056492 65797.04056492 65797.04056492 65797.04056492\n",
            " 65797.04056492 65797.04056492 65797.04056492 65797.04056492\n",
            " 65797.04056492 65797.04056492 65797.04056492 65797.04056492\n",
            " 65797.04056492 65797.04056492 65797.04056492 65797.04056492\n",
            " 65797.04056492 65797.04056492 65797.04056492 65797.04056492]\n",
            "Predicted closing prices for the next 90 days:\n",
            "[64979.44200738 65310.35036069 64434.604267   65356.11959146\n",
            " 64522.80649054 64344.14633431 64207.67157469 65025.19170685\n",
            " 64960.33323331 65797.04056492 65842.80979569 65797.04056492\n",
            " 65797.04056492 65797.04056492 65797.04056492 65797.04056492\n",
            " 65797.04056492 65797.04056492 65797.04056492 65797.04056492\n",
            " 65797.04056492 65797.04056492 65797.04056492 65797.04056492\n",
            " 65797.04056492 65751.03515631 65751.03515631 65796.80438708\n",
            " 65750.79897846 65796.80438708 65750.79897846 65750.79897846\n",
            " 65967.40564915 65796.80438708 65842.80979569 65842.80979569\n",
            " 65797.04056492 65797.04056492 65797.04056492 65797.04056492\n",
            " 65797.04056492 65797.04056492 65797.04056492 65797.04056492\n",
            " 65797.04056492 65797.04056492 65797.04056492 65797.04056492\n",
            " 65797.04056492 65797.04056492 65797.04056492 65797.04056492\n",
            " 65797.04056492 65797.04056492 65797.04056492 65797.04056492\n",
            " 65797.04056492 65797.04056492 65797.04056492 65797.04056492\n",
            " 65797.04056492 65797.04056492 65797.04056492 65797.04056492\n",
            " 65797.04056492 65797.04056492 65797.04056492 65797.04056492\n",
            " 65797.04056492 65797.04056492 65797.04056492 65797.04056492\n",
            " 65797.04056492 65797.04056492 65797.04056492 65797.04056492\n",
            " 65797.04056492 65797.04056492 65797.04056492 65797.04056492\n",
            " 65797.04056492 65797.04056492 65797.04056492 65797.04056492\n",
            " 65797.04056492 65797.04056492 65797.04056492 65797.04056492\n",
            " 65797.04056492 65797.04056492]\n"
          ]
        }
      ]
    },
    {
      "cell_type": "code",
      "source": [
        "# Tạo trục x cho các dự báo tương lai\n",
        "index_future = pd.date_range(start=df.index[-1], periods=90, freq='D')\n",
        "index_next_30_days = index_future[:30]\n",
        "index_next_60_days = index_future[:60]\n",
        "index_next_90_days = index_future[:90]\n",
        "\n",
        "# Tạo trục x cho tập huấn luyện và kiểm tra\n",
        "train_dates = df.index[:train_size]\n",
        "test_dates = df.index[train_size:train_size + len(y_test)]\n",
        "predict_dates_30 = index_next_30_days\n",
        "predict_dates_60 = index_next_60_days\n",
        "predict_dates_90 = index_next_90_days"
      ],
      "metadata": {
        "id": "Ok9gXYUS4oaD"
      },
      "execution_count": 20,
      "outputs": []
    },
    {
      "cell_type": "code",
      "source": [
        "# Vẽ đồ thị cho dự đoán 30, 60, 90 ngày trên cùng một biểu đồ\n",
        "plt.figure(figsize=(16, 5))\n",
        "\n",
        "# Đồ thị cho tập huấn luyện\n",
        "plt.plot(train_dates, scaler.inverse_transform(train_data['target'].values.reshape(-1, 1)),\n",
        "         color='#1f77b4', linestyle='-', label='Train')\n",
        "\n",
        "# Đồ thị cho tập kiểm tra\n",
        "plt.plot(test_dates, y_test_inverse, color='#ff7f0e', linestyle='-', label='Test')\n",
        "plt.plot(test_dates, y_pred_inverse, color='#2ca02c', linestyle='-', label='Predict')\n",
        "\n",
        "# Đồ thị cho dự báo 30 ngày\n",
        "plt.plot(predict_dates_30, forecast_30_days_inverse, color='#d62728', linestyle='-', label='Predict30days')\n",
        "\n",
        "# Đồ thị cho dự báo 60 ngày\n",
        "plt.plot(predict_dates_60, forecast_60_days_inverse[:60], color='#9467bd', linestyle='-', label='Predict60days')\n",
        "\n",
        "# Đồ thị cho dự báo 90 ngày\n",
        "plt.plot(predict_dates_90, forecast_90_days_inverse[:90], color='#8c564b', linestyle='-', label='Predict90days')\n",
        "\n",
        "plt.legend()\n",
        "plt.title(\"Biểu đồ dự báo giá trị Close của dữ liệu BTC (8:2)\")\n",
        "plt.xlabel(\"Ngày\")\n",
        "plt.ylabel(\"Giá trị đóng cửa\")\n",
        "plt.grid(False)\n",
        "plt.savefig('RandomForest_BTC_82.png')\n",
        "plt.show()"
      ],
      "metadata": {
        "colab": {
          "base_uri": "https://localhost:8080/",
          "height": 472
        },
        "id": "1Pkcw8zp4trM",
        "outputId": "33e7cc77-c254-48fa-ec55-e3bb404b3a5a"
      },
      "execution_count": 21,
      "outputs": [
        {
          "output_type": "display_data",
          "data": {
            "text/plain": [
              "<Figure size 1600x500 with 1 Axes>"
            ],
            "image/png": "[encoded data removed]"
          },
          "metadata": {}
        }
      ]
    }
  ]
}