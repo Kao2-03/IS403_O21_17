{
  "nbformat": 4,
  "nbformat_minor": 0,
  "metadata": {
    "colab": {
      "provenance": []
    },
    "kernelspec": {
      "name": "python3",
      "display_name": "Python 3"
    },
    "language_info": {
      "name": "python"
    }
  },
  "cells": [
    {
      "cell_type": "code",
      "execution_count": null,
      "metadata": {
        "id": "wHAwDIoKX4kU"
      },
      "outputs": [],
      "source": [
        "import numpy as np\n",
        "import pandas as pd\n",
        "from keras.models import Sequential\n",
        "from keras.layers import Conv1D, MaxPooling1D, LSTM, Dense, Flatten\n",
        "from sklearn.preprocessing import MinMaxScaler"
      ]
    },
    {
      "cell_type": "code",
      "source": [
        "df = pd.read_csv(\"/content/BTC-USD.csv\")"
      ],
      "metadata": {
        "id": "dbPH_DouYAKW"
      },
      "execution_count": null,
      "outputs": []
    },
    {
      "cell_type": "code",
      "source": [
        "df1=df.reset_index()['Close']"
      ],
      "metadata": {
        "id": "zyGanZ3JYKQC"
      },
      "execution_count": null,
      "outputs": []
    },
    {
      "cell_type": "code",
      "source": [
        "scaler=MinMaxScaler(feature_range=(0,1))\n",
        "df1=scaler.fit_transform(np.array(df1).reshape(-1,1))"
      ],
      "metadata": {
        "id": "Czy3vimyYOT8"
      },
      "execution_count": null,
      "outputs": []
    },
    {
      "cell_type": "code",
      "source": [
        "train_size = int(0.8 * len(df1))"
      ],
      "metadata": {
        "id": "7SHzRqgPYRKH"
      },
      "execution_count": null,
      "outputs": []
    },
    {
      "cell_type": "code",
      "source": [
        "def create_dataset_with_window(dataset, window_size=60):\n",
        "    # Tạo tập train\n",
        " train_X = []\n",
        " train_y = []\n",
        " for i in range(train_size - window_size):\n",
        "  train_X.append(dataset[i:i+window_size])\n",
        "  train_y.append(dataset[i+window_size])\n",
        "    # Tạo tập test\n",
        "  test_X = []\n",
        "  test_y = []\n",
        " for i in range(train_size, len(dataset) - window_size):\n",
        "  test_X.append(dataset[i:i+window_size])\n",
        "  test_y.append(dataset[i+window_size])\n",
        "# Chuyển đổi sang numpy array\n",
        " train_X, train_y, test_X, test_y = np.array(train_X), np.array(train_y), np.array(test_X), np.array(test_y)\n",
        " return train_X, train_y, test_X, test_y"
      ],
      "metadata": {
        "id": "vDIOJSewYXBL"
      },
      "execution_count": null,
      "outputs": []
    },
    {
      "cell_type": "code",
      "source": [
        "train_X, train_y, test_X, test_y = create_dataset_with_window(df1, window_size=60)"
      ],
      "metadata": {
        "id": "GBVSSp2SYawf"
      },
      "execution_count": null,
      "outputs": []
    },
    {
      "cell_type": "code",
      "source": [
        "model = Sequential()\n",
        "model.add(Conv1D(filters=64, kernel_size=3, activation='relu', input_shape=(60, 1)))\n",
        "model.add(MaxPooling1D(pool_size=2))\n",
        "model.add(LSTM(50, return_sequences=True))\n",
        "model.add(LSTM(50))\n",
        "model.add(Dense(1))\n",
        "model.compile(optimizer='adam', loss='mean_squared_error')"
      ],
      "metadata": {
        "id": "tHyOkW4bYcxq"
      },
      "execution_count": null,
      "outputs": []
    },
    {
      "cell_type": "code",
      "source": [
        "model.fit(train_X, train_y, epochs=100, batch_size=64, verbose=1)"
      ],
      "metadata": {
        "colab": {
          "base_uri": "https://localhost:8080/"
        },
        "id": "E5J2TPl3YgoS",
        "outputId": "7c542bac-8052-4f2c-be68-3ef2a1efefb1"
      },
      "execution_count": null,
      "outputs": [
        {
          "output_type": "stream",
          "name": "stdout",
          "text": [
            "Epoch 1/100\n",
            "22/22 [==============================] - 5s 34ms/step - loss: 0.0430\n",
            "Epoch 2/100\n",
            "22/22 [==============================] - 1s 34ms/step - loss: 0.0064\n",
            "Epoch 3/100\n",
            "22/22 [==============================] - 1s 33ms/step - loss: 0.0044\n",
            "Epoch 4/100\n",
            "22/22 [==============================] - 1s 35ms/step - loss: 0.0037\n",
            "Epoch 5/100\n",
            "22/22 [==============================] - 1s 35ms/step - loss: 0.0031\n",
            "Epoch 6/100\n",
            "22/22 [==============================] - 1s 35ms/step - loss: 0.0025\n",
            "Epoch 7/100\n",
            "22/22 [==============================] - 1s 34ms/step - loss: 0.0023\n",
            "Epoch 8/100\n",
            "22/22 [==============================] - 1s 35ms/step - loss: 0.0023\n",
            "Epoch 9/100\n",
            "22/22 [==============================] - 1s 55ms/step - loss: 0.0022\n",
            "Epoch 10/100\n",
            "22/22 [==============================] - 1s 57ms/step - loss: 0.0021\n",
            "Epoch 11/100\n",
            "22/22 [==============================] - 1s 53ms/step - loss: 0.0020\n",
            "Epoch 12/100\n",
            "22/22 [==============================] - 1s 34ms/step - loss: 0.0020\n",
            "Epoch 13/100\n",
            "22/22 [==============================] - 1s 36ms/step - loss: 0.0019\n",
            "Epoch 14/100\n",
            "22/22 [==============================] - 1s 35ms/step - loss: 0.0018\n",
            "Epoch 15/100\n",
            "22/22 [==============================] - 1s 35ms/step - loss: 0.0019\n",
            "Epoch 16/100\n",
            "22/22 [==============================] - 1s 33ms/step - loss: 0.0019\n",
            "Epoch 17/100\n",
            "22/22 [==============================] - 1s 34ms/step - loss: 0.0019\n",
            "Epoch 18/100\n",
            "22/22 [==============================] - 1s 33ms/step - loss: 0.0017\n",
            "Epoch 19/100\n",
            "22/22 [==============================] - 1s 33ms/step - loss: 0.0015\n",
            "Epoch 20/100\n",
            "22/22 [==============================] - 1s 34ms/step - loss: 0.0015\n",
            "Epoch 21/100\n",
            "22/22 [==============================] - 1s 34ms/step - loss: 0.0013\n",
            "Epoch 22/100\n",
            "22/22 [==============================] - 1s 34ms/step - loss: 0.0012\n",
            "Epoch 23/100\n",
            "22/22 [==============================] - 1s 34ms/step - loss: 0.0012\n",
            "Epoch 24/100\n",
            "22/22 [==============================] - 1s 34ms/step - loss: 0.0011\n",
            "Epoch 25/100\n",
            "22/22 [==============================] - 1s 58ms/step - loss: 9.4160e-04\n",
            "Epoch 26/100\n",
            "22/22 [==============================] - 1s 58ms/step - loss: 9.0119e-04\n",
            "Epoch 27/100\n",
            "22/22 [==============================] - 1s 57ms/step - loss: 8.3303e-04\n",
            "Epoch 28/100\n",
            "22/22 [==============================] - 1s 34ms/step - loss: 8.4950e-04\n",
            "Epoch 29/100\n",
            "22/22 [==============================] - 1s 35ms/step - loss: 7.3925e-04\n",
            "Epoch 30/100\n",
            "22/22 [==============================] - 1s 34ms/step - loss: 8.7472e-04\n",
            "Epoch 31/100\n",
            "22/22 [==============================] - 1s 34ms/step - loss: 7.5171e-04\n",
            "Epoch 32/100\n",
            "22/22 [==============================] - 1s 34ms/step - loss: 6.7669e-04\n",
            "Epoch 33/100\n",
            "22/22 [==============================] - 1s 34ms/step - loss: 7.0437e-04\n",
            "Epoch 34/100\n",
            "22/22 [==============================] - 1s 34ms/step - loss: 7.8255e-04\n",
            "Epoch 35/100\n",
            "22/22 [==============================] - 1s 34ms/step - loss: 6.9504e-04\n",
            "Epoch 36/100\n",
            "22/22 [==============================] - 1s 33ms/step - loss: 6.2947e-04\n",
            "Epoch 37/100\n",
            "22/22 [==============================] - 1s 36ms/step - loss: 6.3488e-04\n",
            "Epoch 38/100\n",
            "22/22 [==============================] - 1s 34ms/step - loss: 6.4830e-04\n",
            "Epoch 39/100\n",
            "22/22 [==============================] - 1s 34ms/step - loss: 5.9238e-04\n",
            "Epoch 40/100\n",
            "22/22 [==============================] - 1s 34ms/step - loss: 6.2285e-04\n",
            "Epoch 41/100\n",
            "22/22 [==============================] - 1s 55ms/step - loss: 6.0306e-04\n",
            "Epoch 42/100\n",
            "22/22 [==============================] - 1s 56ms/step - loss: 6.8138e-04\n",
            "Epoch 43/100\n",
            "22/22 [==============================] - 1s 58ms/step - loss: 5.9438e-04\n",
            "Epoch 44/100\n",
            "22/22 [==============================] - 1s 37ms/step - loss: 5.4235e-04\n",
            "Epoch 45/100\n",
            "22/22 [==============================] - 1s 33ms/step - loss: 5.1662e-04\n",
            "Epoch 46/100\n",
            "22/22 [==============================] - 1s 33ms/step - loss: 5.3398e-04\n",
            "Epoch 47/100\n",
            "22/22 [==============================] - 1s 33ms/step - loss: 5.0156e-04\n",
            "Epoch 48/100\n",
            "22/22 [==============================] - 1s 32ms/step - loss: 4.8060e-04\n",
            "Epoch 49/100\n",
            "22/22 [==============================] - 1s 34ms/step - loss: 5.3283e-04\n",
            "Epoch 50/100\n",
            "22/22 [==============================] - 1s 43ms/step - loss: 6.0761e-04\n",
            "Epoch 51/100\n",
            "22/22 [==============================] - 1s 41ms/step - loss: 4.7218e-04\n",
            "Epoch 52/100\n",
            "22/22 [==============================] - 1s 34ms/step - loss: 4.9417e-04\n",
            "Epoch 53/100\n",
            "22/22 [==============================] - 1s 34ms/step - loss: 4.9375e-04\n",
            "Epoch 54/100\n",
            "22/22 [==============================] - 1s 35ms/step - loss: 4.5975e-04\n",
            "Epoch 55/100\n",
            "22/22 [==============================] - 1s 34ms/step - loss: 4.5891e-04\n",
            "Epoch 56/100\n",
            "22/22 [==============================] - 1s 34ms/step - loss: 5.2998e-04\n",
            "Epoch 57/100\n",
            "22/22 [==============================] - 1s 60ms/step - loss: 5.0714e-04\n",
            "Epoch 58/100\n",
            "22/22 [==============================] - 1s 58ms/step - loss: 4.5517e-04\n",
            "Epoch 59/100\n",
            "22/22 [==============================] - 1s 43ms/step - loss: 4.4210e-04\n",
            "Epoch 60/100\n",
            "22/22 [==============================] - 1s 35ms/step - loss: 4.7032e-04\n",
            "Epoch 61/100\n",
            "22/22 [==============================] - 1s 34ms/step - loss: 5.1008e-04\n",
            "Epoch 62/100\n",
            "22/22 [==============================] - 1s 36ms/step - loss: 5.5245e-04\n",
            "Epoch 63/100\n",
            "22/22 [==============================] - 1s 34ms/step - loss: 5.7189e-04\n",
            "Epoch 64/100\n",
            "22/22 [==============================] - 1s 35ms/step - loss: 4.3864e-04\n",
            "Epoch 65/100\n",
            "22/22 [==============================] - 1s 35ms/step - loss: 4.5691e-04\n",
            "Epoch 66/100\n",
            "22/22 [==============================] - 1s 35ms/step - loss: 5.2075e-04\n",
            "Epoch 67/100\n",
            "22/22 [==============================] - 1s 34ms/step - loss: 5.7727e-04\n",
            "Epoch 68/100\n",
            "22/22 [==============================] - 1s 35ms/step - loss: 4.7085e-04\n",
            "Epoch 69/100\n",
            "22/22 [==============================] - 1s 35ms/step - loss: 4.3715e-04\n",
            "Epoch 70/100\n",
            "22/22 [==============================] - 1s 34ms/step - loss: 4.2370e-04\n",
            "Epoch 71/100\n",
            "22/22 [==============================] - 1s 34ms/step - loss: 5.1009e-04\n",
            "Epoch 72/100\n",
            "22/22 [==============================] - 1s 59ms/step - loss: 4.5198e-04\n",
            "Epoch 73/100\n",
            "22/22 [==============================] - 1s 67ms/step - loss: 4.4094e-04\n",
            "Epoch 74/100\n",
            "22/22 [==============================] - 1s 65ms/step - loss: 4.5476e-04\n",
            "Epoch 75/100\n",
            "22/22 [==============================] - 2s 70ms/step - loss: 4.5370e-04\n",
            "Epoch 76/100\n",
            "22/22 [==============================] - 1s 42ms/step - loss: 4.3712e-04\n",
            "Epoch 77/100\n",
            "22/22 [==============================] - 1s 34ms/step - loss: 4.1621e-04\n",
            "Epoch 78/100\n",
            "22/22 [==============================] - 1s 35ms/step - loss: 4.0974e-04\n",
            "Epoch 79/100\n",
            "22/22 [==============================] - 1s 34ms/step - loss: 4.4090e-04\n",
            "Epoch 80/100\n",
            "22/22 [==============================] - 1s 35ms/step - loss: 4.2310e-04\n",
            "Epoch 81/100\n",
            "22/22 [==============================] - 1s 34ms/step - loss: 4.2127e-04\n",
            "Epoch 82/100\n",
            "22/22 [==============================] - 1s 34ms/step - loss: 4.4391e-04\n",
            "Epoch 83/100\n",
            "22/22 [==============================] - 1s 33ms/step - loss: 4.4518e-04\n",
            "Epoch 84/100\n",
            "22/22 [==============================] - 1s 33ms/step - loss: 4.6137e-04\n",
            "Epoch 85/100\n",
            "22/22 [==============================] - 1s 35ms/step - loss: 4.6433e-04\n",
            "Epoch 86/100\n",
            "22/22 [==============================] - 1s 35ms/step - loss: 5.2145e-04\n",
            "Epoch 87/100\n",
            "22/22 [==============================] - 1s 34ms/step - loss: 4.3710e-04\n",
            "Epoch 88/100\n",
            "22/22 [==============================] - 1s 33ms/step - loss: 4.5516e-04\n",
            "Epoch 89/100\n",
            "22/22 [==============================] - 1s 56ms/step - loss: 4.7460e-04\n",
            "Epoch 90/100\n",
            "22/22 [==============================] - 1s 59ms/step - loss: 4.6281e-04\n",
            "Epoch 91/100\n",
            "22/22 [==============================] - 1s 57ms/step - loss: 4.7860e-04\n",
            "Epoch 92/100\n",
            "22/22 [==============================] - 1s 38ms/step - loss: 4.3033e-04\n",
            "Epoch 93/100\n",
            "22/22 [==============================] - 1s 33ms/step - loss: 4.1348e-04\n",
            "Epoch 94/100\n",
            "22/22 [==============================] - 1s 35ms/step - loss: 4.0011e-04\n",
            "Epoch 95/100\n",
            "22/22 [==============================] - 1s 35ms/step - loss: 3.9997e-04\n",
            "Epoch 96/100\n",
            "22/22 [==============================] - 1s 34ms/step - loss: 4.4045e-04\n",
            "Epoch 97/100\n",
            "22/22 [==============================] - 1s 34ms/step - loss: 4.4692e-04\n",
            "Epoch 98/100\n",
            "22/22 [==============================] - 1s 35ms/step - loss: 4.1918e-04\n",
            "Epoch 99/100\n",
            "22/22 [==============================] - 1s 34ms/step - loss: 4.1594e-04\n",
            "Epoch 100/100\n",
            "22/22 [==============================] - 1s 35ms/step - loss: 4.1984e-04\n"
          ]
        },
        {
          "output_type": "execute_result",
          "data": {
            "text/plain": [
              "<keras.src.callbacks.History at 0x7f8bac14ff40>"
            ]
          },
          "metadata": {},
          "execution_count": 9
        }
      ]
    },
    {
      "cell_type": "code",
      "source": [
        "predictions = model.predict(test_X)"
      ],
      "metadata": {
        "colab": {
          "base_uri": "https://localhost:8080/"
        },
        "id": "exXM0dnkZIhM",
        "outputId": "6b4d9648-20d2-4cf5-bab1-e5c5aeee481a"
      },
      "execution_count": null,
      "outputs": [
        {
          "output_type": "stream",
          "name": "stdout",
          "text": [
            "10/10 [==============================] - 1s 8ms/step\n"
          ]
        }
      ]
    },
    {
      "cell_type": "code",
      "source": [
        "predictions = scaler.inverse_transform(predictions)\n",
        "test_y = scaler.inverse_transform(test_y)"
      ],
      "metadata": {
        "id": "LUuuc9MZZNce"
      },
      "execution_count": null,
      "outputs": []
    },
    {
      "cell_type": "code",
      "source": [
        "test_rmse = np.sqrt(np.mean((predictions - test_y)**2))\n",
        "test_mape = np.mean(np.abs((test_y - predictions) / test_y)) * 100\n",
        "test_mse = np.mean((np.array(test_y) - np.array(predictions))**2)\n",
        "print('Testing RMSE:', test_rmse)\n",
        "print('Testing MAPE:', test_mape)\n",
        "print('Testing MSE:', test_mse)"
      ],
      "metadata": {
        "colab": {
          "base_uri": "https://localhost:8080/"
        },
        "id": "Z7NWEa6_ZRcJ",
        "outputId": "77ddb9cf-ca6b-4e61-bfc5-3e8cb65a8055"
      },
      "execution_count": null,
      "outputs": [
        {
          "output_type": "stream",
          "name": "stdout",
          "text": [
            "Testing RMSE: 992.6500844835742\n",
            "Testing MAPE: 2.2289201593007992\n",
            "Testing MSE: 985354.1902252471\n"
          ]
        }
      ]
    },
    {
      "cell_type": "code",
      "source": [
        "# Chuẩn bị dữ liệu đầu vào cho dự đoán\n",
        "df1_restored = pd.DataFrame(df1, columns=['Close'])\n",
        "X_input= np.array([df1_restored[-60:]])  # Sử dụng dữ liệu cuối cùng trong tập dữ liệu\n",
        "# Sử dụng mô hình đã huấn luyện để dự đoán giá cổ phiếu cho 30 ngày tiếp theo\n",
        "predicted_prices = []\n",
        "for i in range(30):\n",
        "    # Dự đoán giá cổ phiếu cho một ngày tiếp theo\n",
        "    next_price = model.predict(X_input)\n",
        "    predicted_prices.append(next_price)\n",
        "\n",
        "    # Cập nhật dữ liệu đầu vào cho dự đoán tiếp theo\n",
        "    X_input = np.roll(X_input, -1, axis=1)  # Dịch dữ liệu qua trái một bước\n",
        "    X_input[0, -1] = next_price  # Cập nhật giá dự đoán vào vị trí cuối cùng của dữ liệu đầu vào\n",
        "    i = i + 1"
      ],
      "metadata": {
        "colab": {
          "base_uri": "https://localhost:8080/"
        },
        "id": "tcGADfPsZWBU",
        "outputId": "8bf4fb06-9c83-4594-f70a-e753c27f90d0"
      },
      "execution_count": null,
      "outputs": [
        {
          "output_type": "stream",
          "name": "stdout",
          "text": [
            "1/1 [==============================] - 0s 22ms/step\n",
            "1/1 [==============================] - 0s 20ms/step\n",
            "1/1 [==============================] - 0s 20ms/step\n",
            "1/1 [==============================] - 0s 22ms/step\n",
            "1/1 [==============================] - 0s 20ms/step\n",
            "1/1 [==============================] - 0s 20ms/step\n",
            "1/1 [==============================] - 0s 20ms/step\n",
            "1/1 [==============================] - 0s 20ms/step\n",
            "1/1 [==============================] - 0s 20ms/step\n",
            "1/1 [==============================] - 0s 20ms/step\n",
            "1/1 [==============================] - 0s 20ms/step\n",
            "1/1 [==============================] - 0s 20ms/step\n",
            "1/1 [==============================] - 0s 20ms/step\n",
            "1/1 [==============================] - 0s 20ms/step\n",
            "1/1 [==============================] - 0s 24ms/step\n",
            "1/1 [==============================] - 0s 20ms/step\n",
            "1/1 [==============================] - 0s 22ms/step\n",
            "1/1 [==============================] - 0s 20ms/step\n",
            "1/1 [==============================] - 0s 21ms/step\n",
            "1/1 [==============================] - 0s 23ms/step\n",
            "1/1 [==============================] - 0s 22ms/step\n",
            "1/1 [==============================] - 0s 23ms/step\n",
            "1/1 [==============================] - 0s 22ms/step\n",
            "1/1 [==============================] - 0s 22ms/step\n",
            "1/1 [==============================] - 0s 26ms/step\n",
            "1/1 [==============================] - 0s 22ms/step\n",
            "1/1 [==============================] - 0s 21ms/step\n",
            "1/1 [==============================] - 0s 21ms/step\n",
            "1/1 [==============================] - 0s 20ms/step\n",
            "1/1 [==============================] - 0s 27ms/step\n"
          ]
        }
      ]
    },
    {
      "cell_type": "code",
      "source": [
        "import matplotlib.pyplot as plt"
      ],
      "metadata": {
        "id": "dzlI0_f-Zj-p"
      },
      "execution_count": null,
      "outputs": []
    },
    {
      "cell_type": "code",
      "source": [
        "def plot_predictions(train_actual, test_actual, test_predictions, future_predictions):\n",
        "    train_actual = scaler.inverse_transform(train_actual)\n",
        "    test_actual = test_actual[:, 0]\n",
        "    test_predictions = test_predictions[:, 0]\n",
        "    future_predictions_2d = np.squeeze(future_predictions)  # Loại bỏ các chiều không cần thiết\n",
        "    future_predictions_2d = future_predictions_2d.reshape(-1, 1)  # Chuyển đổi thành mảng 2D với 1 cột\n",
        "    # Vẽ tập train\n",
        "    plt.plot(train_actual, label='Train')\n",
        "\n",
        "    # Vẽ tập test\n",
        "    plt.plot(range(len(train_actual), len(train_actual) + len(test_actual)), test_actual, label='Test')\n",
        "\n",
        "    # Vẽ kết quả predict trên tập test\n",
        "    plt.plot(range(len(train_actual), len(train_actual) + len(test_actual)), test_predictions, label='Prediction')\n",
        "\n",
        "    # Vẽ kết quả dự đoán 30 ngày\n",
        "    plt.plot(range(len(train_actual) + len(test_actual), len(train_actual) + len(test_actual) + len(future_predictions)), scaler.inverse_transform(future_predictions_2d), label='Predict30NextDay')\n",
        "\n",
        "    plt.legend()\n",
        "    plt.show()"
      ],
      "metadata": {
        "id": "NXAIKYflZo5v"
      },
      "execution_count": null,
      "outputs": []
    },
    {
      "cell_type": "code",
      "source": [
        "plot_predictions(train_y, test_y, predictions, predicted_prices)"
      ],
      "metadata": {
        "colab": {
          "base_uri": "https://localhost:8080/",
          "height": 432
        },
        "id": "U0n0wdl3Zr6U",
        "outputId": "358edc3b-2b49-4d81-c497-9acc7b14e522"
      },
      "execution_count": null,
      "outputs": [
        {
          "output_type": "display_data",
          "data": {
            "text/plain": [
              "<Figure size 640x480 with 1 Axes>"
            ],
            "image/png": "[encoded data removed]"
          },
          "metadata": {}
        }
      ]
    },
    {
      "cell_type": "code",
      "source": [
        "train_size = int(0.7 * len(df1))"
      ],
      "metadata": {
        "id": "qm_pWok-cID4"
      },
      "execution_count": null,
      "outputs": []
    },
    {
      "cell_type": "code",
      "source": [
        "train_X_73, train_y_73, test_X_73, test_y_73 = create_dataset_with_window(df1, window_size=60)"
      ],
      "metadata": {
        "id": "Gp_WBHQUcizN"
      },
      "execution_count": null,
      "outputs": []
    },
    {
      "cell_type": "code",
      "source": [
        "model.fit(train_X_73, train_y_73, epochs=100, batch_size=64, verbose=1)"
      ],
      "metadata": {
        "colab": {
          "base_uri": "https://localhost:8080/"
        },
        "id": "p1upJfaHc4ek",
        "outputId": "13801873-dc49-4741-8782-972ed7d40361"
      },
      "execution_count": null,
      "outputs": [
        {
          "output_type": "stream",
          "name": "stdout",
          "text": [
            "Epoch 1/100\n",
            "20/20 [==============================] - 1s 34ms/step - loss: 4.4380e-04\n",
            "Epoch 2/100\n",
            "20/20 [==============================] - 1s 33ms/step - loss: 0.0012\n",
            "Epoch 3/100\n",
            "20/20 [==============================] - 1s 33ms/step - loss: 9.1384e-04\n",
            "Epoch 4/100\n",
            "20/20 [==============================] - 1s 33ms/step - loss: 4.5775e-04\n",
            "Epoch 5/100\n",
            "20/20 [==============================] - 1s 33ms/step - loss: 4.4680e-04\n",
            "Epoch 6/100\n",
            "20/20 [==============================] - 1s 50ms/step - loss: 4.6489e-04\n",
            "Epoch 7/100\n",
            "20/20 [==============================] - 1s 57ms/step - loss: 4.5010e-04\n",
            "Epoch 8/100\n",
            "20/20 [==============================] - 1s 59ms/step - loss: 4.7811e-04\n",
            "Epoch 9/100\n",
            "20/20 [==============================] - 1s 46ms/step - loss: 4.9420e-04\n",
            "Epoch 10/100\n",
            "20/20 [==============================] - 1s 33ms/step - loss: 4.4281e-04\n",
            "Epoch 11/100\n",
            "20/20 [==============================] - 1s 33ms/step - loss: 4.3064e-04\n",
            "Epoch 12/100\n",
            "20/20 [==============================] - 1s 33ms/step - loss: 4.8542e-04\n",
            "Epoch 13/100\n",
            "20/20 [==============================] - 1s 34ms/step - loss: 4.5074e-04\n",
            "Epoch 14/100\n",
            "20/20 [==============================] - 1s 33ms/step - loss: 4.6435e-04\n",
            "Epoch 15/100\n",
            "20/20 [==============================] - 1s 33ms/step - loss: 5.2135e-04\n",
            "Epoch 16/100\n",
            "20/20 [==============================] - 1s 33ms/step - loss: 5.5289e-04\n",
            "Epoch 17/100\n",
            "20/20 [==============================] - 1s 34ms/step - loss: 4.7167e-04\n",
            "Epoch 18/100\n",
            "20/20 [==============================] - 1s 34ms/step - loss: 4.6171e-04\n",
            "Epoch 19/100\n",
            "20/20 [==============================] - 1s 34ms/step - loss: 4.3096e-04\n",
            "Epoch 20/100\n",
            "20/20 [==============================] - 1s 33ms/step - loss: 4.4418e-04\n",
            "Epoch 21/100\n",
            "20/20 [==============================] - 1s 33ms/step - loss: 4.2821e-04\n",
            "Epoch 22/100\n",
            "20/20 [==============================] - 1s 34ms/step - loss: 4.5105e-04\n",
            "Epoch 23/100\n",
            "20/20 [==============================] - 1s 32ms/step - loss: 4.4415e-04\n",
            "Epoch 24/100\n",
            "20/20 [==============================] - 1s 54ms/step - loss: 4.7188e-04\n",
            "Epoch 25/100\n",
            "20/20 [==============================] - 1s 57ms/step - loss: 4.4731e-04\n",
            "Epoch 26/100\n",
            "20/20 [==============================] - 1s 58ms/step - loss: 6.6834e-04\n",
            "Epoch 27/100\n",
            "20/20 [==============================] - 1s 40ms/step - loss: 4.4239e-04\n",
            "Epoch 28/100\n",
            "20/20 [==============================] - 1s 32ms/step - loss: 4.8552e-04\n",
            "Epoch 29/100\n",
            "20/20 [==============================] - 1s 33ms/step - loss: 4.5201e-04\n",
            "Epoch 30/100\n",
            "20/20 [==============================] - 1s 33ms/step - loss: 4.6622e-04\n",
            "Epoch 31/100\n",
            "20/20 [==============================] - 1s 35ms/step - loss: 4.4420e-04\n",
            "Epoch 32/100\n",
            "20/20 [==============================] - 1s 33ms/step - loss: 4.5525e-04\n",
            "Epoch 33/100\n",
            "20/20 [==============================] - 1s 33ms/step - loss: 4.4089e-04\n",
            "Epoch 34/100\n",
            "20/20 [==============================] - 1s 33ms/step - loss: 5.3364e-04\n",
            "Epoch 35/100\n",
            "20/20 [==============================] - 1s 33ms/step - loss: 5.2979e-04\n",
            "Epoch 36/100\n",
            "20/20 [==============================] - 1s 33ms/step - loss: 6.2585e-04\n",
            "Epoch 37/100\n",
            "20/20 [==============================] - 1s 34ms/step - loss: 4.8389e-04\n",
            "Epoch 38/100\n",
            "20/20 [==============================] - 1s 35ms/step - loss: 4.4055e-04\n",
            "Epoch 39/100\n",
            "20/20 [==============================] - 1s 34ms/step - loss: 4.3337e-04\n",
            "Epoch 40/100\n",
            "20/20 [==============================] - 1s 33ms/step - loss: 4.1107e-04\n",
            "Epoch 41/100\n",
            "20/20 [==============================] - 1s 33ms/step - loss: 4.2369e-04\n",
            "Epoch 42/100\n",
            "20/20 [==============================] - 1s 52ms/step - loss: 4.3969e-04\n",
            "Epoch 43/100\n",
            "20/20 [==============================] - 1s 54ms/step - loss: 4.7893e-04\n",
            "Epoch 44/100\n",
            "20/20 [==============================] - 1s 58ms/step - loss: 5.2264e-04\n",
            "Epoch 45/100\n",
            "20/20 [==============================] - 1s 48ms/step - loss: 5.5065e-04\n",
            "Epoch 46/100\n",
            "20/20 [==============================] - 1s 33ms/step - loss: 4.5023e-04\n",
            "Epoch 47/100\n",
            "20/20 [==============================] - 1s 33ms/step - loss: 4.6855e-04\n",
            "Epoch 48/100\n",
            "20/20 [==============================] - 1s 34ms/step - loss: 4.1445e-04\n",
            "Epoch 49/100\n",
            "20/20 [==============================] - 1s 34ms/step - loss: 6.4067e-04\n",
            "Epoch 50/100\n",
            "20/20 [==============================] - 1s 36ms/step - loss: 4.6032e-04\n",
            "Epoch 51/100\n",
            "20/20 [==============================] - 1s 37ms/step - loss: 4.7753e-04\n",
            "Epoch 52/100\n",
            "20/20 [==============================] - 1s 36ms/step - loss: 4.3013e-04\n",
            "Epoch 53/100\n",
            "20/20 [==============================] - 1s 35ms/step - loss: 4.1276e-04\n",
            "Epoch 54/100\n",
            "20/20 [==============================] - 1s 34ms/step - loss: 4.3082e-04\n",
            "Epoch 55/100\n",
            "20/20 [==============================] - 1s 32ms/step - loss: 4.2019e-04\n",
            "Epoch 56/100\n",
            "20/20 [==============================] - 1s 33ms/step - loss: 5.1999e-04\n",
            "Epoch 57/100\n",
            "20/20 [==============================] - 1s 34ms/step - loss: 5.3644e-04\n",
            "Epoch 58/100\n",
            "20/20 [==============================] - 1s 33ms/step - loss: 4.1309e-04\n",
            "Epoch 59/100\n",
            "20/20 [==============================] - 1s 34ms/step - loss: 4.5136e-04\n",
            "Epoch 60/100\n",
            "20/20 [==============================] - 1s 54ms/step - loss: 4.5350e-04\n",
            "Epoch 61/100\n",
            "20/20 [==============================] - 1s 56ms/step - loss: 4.3389e-04\n",
            "Epoch 62/100\n",
            "20/20 [==============================] - 1s 57ms/step - loss: 4.1182e-04\n",
            "Epoch 63/100\n",
            "20/20 [==============================] - 1s 35ms/step - loss: 5.1296e-04\n",
            "Epoch 64/100\n",
            "20/20 [==============================] - 1s 36ms/step - loss: 7.0330e-04\n",
            "Epoch 65/100\n",
            "20/20 [==============================] - 1s 33ms/step - loss: 4.4058e-04\n",
            "Epoch 66/100\n",
            "20/20 [==============================] - 1s 34ms/step - loss: 4.2568e-04\n",
            "Epoch 67/100\n",
            "20/20 [==============================] - 1s 35ms/step - loss: 4.5429e-04\n",
            "Epoch 68/100\n",
            "20/20 [==============================] - 1s 36ms/step - loss: 4.0136e-04\n",
            "Epoch 69/100\n",
            "20/20 [==============================] - 1s 34ms/step - loss: 4.3844e-04\n",
            "Epoch 70/100\n",
            "20/20 [==============================] - 1s 35ms/step - loss: 4.0665e-04\n",
            "Epoch 71/100\n",
            "20/20 [==============================] - 1s 35ms/step - loss: 4.1305e-04\n",
            "Epoch 72/100\n",
            "20/20 [==============================] - 1s 35ms/step - loss: 4.5210e-04\n",
            "Epoch 73/100\n",
            "20/20 [==============================] - 1s 35ms/step - loss: 4.0573e-04\n",
            "Epoch 74/100\n",
            "20/20 [==============================] - 1s 34ms/step - loss: 4.1394e-04\n",
            "Epoch 75/100\n",
            "20/20 [==============================] - 1s 34ms/step - loss: 4.2619e-04\n",
            "Epoch 76/100\n",
            "20/20 [==============================] - 1s 37ms/step - loss: 6.3230e-04\n",
            "Epoch 77/100\n",
            "20/20 [==============================] - 1s 49ms/step - loss: 4.2044e-04\n",
            "Epoch 78/100\n",
            "20/20 [==============================] - 1s 61ms/step - loss: 4.3882e-04\n",
            "Epoch 79/100\n",
            "20/20 [==============================] - 1s 58ms/step - loss: 4.3203e-04\n",
            "Epoch 80/100\n",
            "20/20 [==============================] - 1s 46ms/step - loss: 3.9696e-04\n",
            "Epoch 81/100\n",
            "20/20 [==============================] - 1s 33ms/step - loss: 5.0167e-04\n",
            "Epoch 82/100\n",
            "20/20 [==============================] - 1s 33ms/step - loss: 4.7233e-04\n",
            "Epoch 83/100\n",
            "20/20 [==============================] - 1s 33ms/step - loss: 4.2923e-04\n",
            "Epoch 84/100\n",
            "20/20 [==============================] - 1s 34ms/step - loss: 4.3148e-04\n",
            "Epoch 85/100\n",
            "20/20 [==============================] - 1s 33ms/step - loss: 6.7427e-04\n",
            "Epoch 86/100\n",
            "20/20 [==============================] - 1s 33ms/step - loss: 5.2189e-04\n",
            "Epoch 87/100\n",
            "20/20 [==============================] - 1s 33ms/step - loss: 5.9035e-04\n",
            "Epoch 88/100\n",
            "20/20 [==============================] - 1s 34ms/step - loss: 4.2063e-04\n",
            "Epoch 89/100\n",
            "20/20 [==============================] - 1s 33ms/step - loss: 6.8772e-04\n",
            "Epoch 90/100\n",
            "20/20 [==============================] - 1s 32ms/step - loss: 4.6980e-04\n",
            "Epoch 91/100\n",
            "20/20 [==============================] - 1s 35ms/step - loss: 4.5322e-04\n",
            "Epoch 92/100\n",
            "20/20 [==============================] - 1s 35ms/step - loss: 4.7123e-04\n",
            "Epoch 93/100\n",
            "20/20 [==============================] - 1s 34ms/step - loss: 4.3122e-04\n",
            "Epoch 94/100\n",
            "20/20 [==============================] - 1s 34ms/step - loss: 4.1675e-04\n",
            "Epoch 95/100\n",
            "20/20 [==============================] - 1s 50ms/step - loss: 4.0042e-04\n",
            "Epoch 96/100\n",
            "20/20 [==============================] - 1s 58ms/step - loss: 4.0626e-04\n",
            "Epoch 97/100\n",
            "20/20 [==============================] - 1s 58ms/step - loss: 4.2928e-04\n",
            "Epoch 98/100\n",
            "20/20 [==============================] - 1s 47ms/step - loss: 4.5069e-04\n",
            "Epoch 99/100\n",
            "20/20 [==============================] - 1s 35ms/step - loss: 4.2178e-04\n",
            "Epoch 100/100\n",
            "20/20 [==============================] - 1s 34ms/step - loss: 4.1178e-04\n"
          ]
        },
        {
          "output_type": "execute_result",
          "data": {
            "text/plain": [
              "<keras.src.callbacks.History at 0x7f8b9ffd8bb0>"
            ]
          },
          "metadata": {},
          "execution_count": 19
        }
      ]
    },
    {
      "cell_type": "code",
      "source": [
        "predictions_73 = model.predict(test_X_73)"
      ],
      "metadata": {
        "colab": {
          "base_uri": "https://localhost:8080/"
        },
        "id": "h41zx11idqOm",
        "outputId": "cf6a0eab-675a-4bfc-f222-bfc213135eb2"
      },
      "execution_count": null,
      "outputs": [
        {
          "output_type": "stream",
          "name": "stdout",
          "text": [
            "16/16 [==============================] - 0s 9ms/step\n"
          ]
        }
      ]
    },
    {
      "cell_type": "code",
      "source": [
        "predictions_73 = scaler.inverse_transform(predictions_73)\n",
        "test_y_73 = scaler.inverse_transform(test_y_73)"
      ],
      "metadata": {
        "id": "hR1Mju5jdz68"
      },
      "execution_count": null,
      "outputs": []
    },
    {
      "cell_type": "code",
      "source": [
        "test_rmse = np.sqrt(np.mean((predictions_73 - test_y_73)**2))\n",
        "test_mape = np.mean(np.abs((test_y_73 - predictions_73) / test_y_73)) * 100\n",
        "test_mse = np.mean((np.array(test_y_73) - np.array(predictions_73))**2)\n",
        "print('Testing RMSE:', test_rmse)\n",
        "print('Testing MAPE:', test_mape)\n",
        "print('Testing MSE:', test_mse)"
      ],
      "metadata": {
        "colab": {
          "base_uri": "https://localhost:8080/"
        },
        "id": "fSptfv2bd_MP",
        "outputId": "ecf68683-d5fb-4437-e5ba-528b3430303a"
      },
      "execution_count": null,
      "outputs": [
        {
          "output_type": "stream",
          "name": "stdout",
          "text": [
            "Testing RMSE: 1394.9177313711193\n",
            "Testing MAPE: 3.3330080497313443\n",
            "Testing MSE: 1945795.4772935505\n"
          ]
        }
      ]
    },
    {
      "cell_type": "code",
      "source": [
        "df1_restored = pd.DataFrame(df1, columns=['Close'])\n",
        "X_input_73= np.array([df1_restored[-60:]])  # Sử dụng dữ liệu cuối cùng trong tập dữ liệu\n",
        "# Sử dụng mô hình đã huấn luyện để dự đoán giá cổ phiếu cho 30 ngày tiếp theo\n",
        "predicted_prices_73 = []\n",
        "for i in range(30):\n",
        "    # Dự đoán giá cổ phiếu cho một ngày tiếp theo\n",
        "    next_price_73 = model.predict(X_input_73)\n",
        "    predicted_prices_73.append(next_price_73)\n",
        "\n",
        "    # Cập nhật dữ liệu đầu vào cho dự đoán tiếp theo\n",
        "    X_input_73 = np.roll(X_input_73, -1, axis=1)  # Dịch dữ liệu qua trái một bước\n",
        "    X_input_73[0, -1] = next_price_73  # Cập nhật giá dự đoán vào vị trí cuối cùng của dữ liệu đầu vào\n",
        "    i = i + 1"
      ],
      "metadata": {
        "colab": {
          "base_uri": "https://localhost:8080/"
        },
        "id": "0vS3xZl3ePnj",
        "outputId": "2c774f8c-dce8-429b-e7a9-c184d4123521"
      },
      "execution_count": null,
      "outputs": [
        {
          "output_type": "stream",
          "name": "stdout",
          "text": [
            "1/1 [==============================] - 0s 22ms/step\n",
            "1/1 [==============================] - 0s 21ms/step\n",
            "1/1 [==============================] - 0s 22ms/step\n",
            "1/1 [==============================] - 0s 21ms/step\n",
            "1/1 [==============================] - 0s 22ms/step\n",
            "1/1 [==============================] - 0s 21ms/step\n",
            "1/1 [==============================] - 0s 22ms/step\n",
            "1/1 [==============================] - 0s 28ms/step\n",
            "1/1 [==============================] - 0s 20ms/step\n",
            "1/1 [==============================] - 0s 21ms/step\n",
            "1/1 [==============================] - 0s 19ms/step\n",
            "1/1 [==============================] - 0s 21ms/step\n",
            "1/1 [==============================] - 0s 22ms/step\n",
            "1/1 [==============================] - 0s 20ms/step\n",
            "1/1 [==============================] - 0s 20ms/step\n",
            "1/1 [==============================] - 0s 23ms/step\n",
            "1/1 [==============================] - 0s 20ms/step\n",
            "1/1 [==============================] - 0s 20ms/step\n",
            "1/1 [==============================] - 0s 20ms/step\n",
            "1/1 [==============================] - 0s 20ms/step\n",
            "1/1 [==============================] - 0s 20ms/step\n",
            "1/1 [==============================] - 0s 20ms/step\n",
            "1/1 [==============================] - 0s 30ms/step\n",
            "1/1 [==============================] - 0s 20ms/step\n",
            "1/1 [==============================] - 0s 20ms/step\n",
            "1/1 [==============================] - 0s 20ms/step\n",
            "1/1 [==============================] - 0s 21ms/step\n",
            "1/1 [==============================] - 0s 20ms/step\n",
            "1/1 [==============================] - 0s 21ms/step\n",
            "1/1 [==============================] - 0s 20ms/step\n"
          ]
        }
      ]
    },
    {
      "cell_type": "code",
      "source": [
        "plot_predictions(train_y_73, test_y_73, predictions_73, predicted_prices_73)"
      ],
      "metadata": {
        "colab": {
          "base_uri": "https://localhost:8080/",
          "height": 432
        },
        "id": "bq6S7M7_eqpR",
        "outputId": "53f0b5c6-05bb-4ca1-bc7a-4abf0c441046"
      },
      "execution_count": null,
      "outputs": [
        {
          "output_type": "display_data",
          "data": {
            "text/plain": [
              "<Figure size 640x480 with 1 Axes>"
            ],
            "image/png": "[encoded data removed]"
          },
          "metadata": {}
        }
      ]
    },
    {
      "cell_type": "code",
      "source": [
        "train_size = int(0.9 * len(df1))"
      ],
      "metadata": {
        "id": "WXXXb1eVI9Te"
      },
      "execution_count": null,
      "outputs": []
    },
    {
      "cell_type": "code",
      "source": [
        "train_X_91, train_y_91, test_X_91, test_y_91 = create_dataset_with_window(df1, window_size=60)"
      ],
      "metadata": {
        "id": "V5_7lvXZJEUt"
      },
      "execution_count": null,
      "outputs": []
    },
    {
      "cell_type": "code",
      "source": [
        "model.fit(train_X_91, train_y_91, epochs=100, batch_size=64, verbose=1)"
      ],
      "metadata": {
        "colab": {
          "base_uri": "https://localhost:8080/"
        },
        "id": "UMcA2k3IJSVi",
        "outputId": "98bf180b-eb6e-4cde-f8ac-e0f34ed57b91"
      },
      "execution_count": null,
      "outputs": [
        {
          "output_type": "stream",
          "name": "stdout",
          "text": [
            "Epoch 1/100\n",
            "25/25 [==============================] - 1s 33ms/step - loss: 3.9054e-04\n",
            "Epoch 2/100\n",
            "25/25 [==============================] - 1s 33ms/step - loss: 3.6825e-04\n",
            "Epoch 3/100\n",
            "25/25 [==============================] - 1s 33ms/step - loss: 3.4916e-04\n",
            "Epoch 4/100\n",
            "25/25 [==============================] - 1s 34ms/step - loss: 3.4634e-04\n",
            "Epoch 5/100\n",
            "25/25 [==============================] - 1s 34ms/step - loss: 3.4343e-04\n",
            "Epoch 6/100\n",
            "25/25 [==============================] - 1s 33ms/step - loss: 3.2908e-04\n",
            "Epoch 7/100\n",
            "25/25 [==============================] - 1s 34ms/step - loss: 3.2946e-04\n",
            "Epoch 8/100\n",
            "25/25 [==============================] - 1s 34ms/step - loss: 3.6085e-04\n",
            "Epoch 9/100\n",
            "25/25 [==============================] - 1s 34ms/step - loss: 3.3240e-04\n",
            "Epoch 10/100\n",
            "25/25 [==============================] - 1s 61ms/step - loss: 3.2732e-04\n",
            "Epoch 11/100\n",
            "25/25 [==============================] - 1s 58ms/step - loss: 3.2799e-04\n",
            "Epoch 12/100\n",
            "25/25 [==============================] - 1s 44ms/step - loss: 3.4121e-04\n",
            "Epoch 13/100\n",
            "25/25 [==============================] - 1s 34ms/step - loss: 3.6358e-04\n",
            "Epoch 14/100\n",
            "25/25 [==============================] - 1s 34ms/step - loss: 3.4145e-04\n",
            "Epoch 15/100\n",
            "25/25 [==============================] - 1s 33ms/step - loss: 3.8045e-04\n",
            "Epoch 16/100\n",
            "25/25 [==============================] - 1s 34ms/step - loss: 3.6344e-04\n",
            "Epoch 17/100\n",
            "25/25 [==============================] - 1s 33ms/step - loss: 3.3510e-04\n",
            "Epoch 18/100\n",
            "25/25 [==============================] - 1s 33ms/step - loss: 3.4476e-04\n",
            "Epoch 19/100\n",
            "25/25 [==============================] - 1s 35ms/step - loss: 3.3171e-04\n",
            "Epoch 20/100\n",
            "25/25 [==============================] - 1s 36ms/step - loss: 3.3893e-04\n",
            "Epoch 21/100\n",
            "25/25 [==============================] - 1s 34ms/step - loss: 3.4557e-04\n",
            "Epoch 22/100\n",
            "25/25 [==============================] - 1s 35ms/step - loss: 3.4355e-04\n",
            "Epoch 23/100\n",
            "25/25 [==============================] - 1s 33ms/step - loss: 3.4269e-04\n",
            "Epoch 24/100\n",
            "25/25 [==============================] - 1s 54ms/step - loss: 3.5717e-04\n",
            "Epoch 25/100\n",
            "25/25 [==============================] - 1s 59ms/step - loss: 3.3744e-04\n",
            "Epoch 26/100\n",
            "25/25 [==============================] - 1s 49ms/step - loss: 3.7221e-04\n",
            "Epoch 27/100\n",
            "25/25 [==============================] - 1s 34ms/step - loss: 3.6930e-04\n",
            "Epoch 28/100\n",
            "25/25 [==============================] - 1s 33ms/step - loss: 3.4421e-04\n",
            "Epoch 29/100\n",
            "25/25 [==============================] - 1s 33ms/step - loss: 3.5417e-04\n",
            "Epoch 30/100\n",
            "25/25 [==============================] - 1s 36ms/step - loss: 3.5699e-04\n",
            "Epoch 31/100\n",
            "25/25 [==============================] - 1s 36ms/step - loss: 3.5777e-04\n",
            "Epoch 32/100\n",
            "25/25 [==============================] - 1s 35ms/step - loss: 3.3732e-04\n",
            "Epoch 33/100\n",
            "25/25 [==============================] - 1s 36ms/step - loss: 3.2143e-04\n",
            "Epoch 34/100\n",
            "25/25 [==============================] - 1s 36ms/step - loss: 3.8435e-04\n",
            "Epoch 35/100\n",
            "25/25 [==============================] - 1s 34ms/step - loss: 3.6352e-04\n",
            "Epoch 36/100\n",
            "25/25 [==============================] - 1s 35ms/step - loss: 4.0026e-04\n",
            "Epoch 37/100\n",
            "25/25 [==============================] - 1s 35ms/step - loss: 3.6938e-04\n",
            "Epoch 38/100\n",
            "25/25 [==============================] - 1s 57ms/step - loss: 3.2052e-04\n",
            "Epoch 39/100\n",
            "25/25 [==============================] - 1s 58ms/step - loss: 3.3900e-04\n",
            "Epoch 40/100\n",
            "25/25 [==============================] - 1s 40ms/step - loss: 3.3584e-04\n",
            "Epoch 41/100\n",
            "25/25 [==============================] - 1s 34ms/step - loss: 3.1440e-04\n",
            "Epoch 42/100\n",
            "25/25 [==============================] - 1s 33ms/step - loss: 3.3507e-04\n",
            "Epoch 43/100\n",
            "25/25 [==============================] - 1s 34ms/step - loss: 3.6526e-04\n",
            "Epoch 44/100\n",
            "25/25 [==============================] - 1s 33ms/step - loss: 3.6976e-04\n",
            "Epoch 45/100\n",
            "25/25 [==============================] - 1s 34ms/step - loss: 3.6605e-04\n",
            "Epoch 46/100\n",
            "25/25 [==============================] - 1s 34ms/step - loss: 3.5198e-04\n",
            "Epoch 47/100\n",
            "25/25 [==============================] - 1s 33ms/step - loss: 3.6965e-04\n",
            "Epoch 48/100\n",
            "25/25 [==============================] - 1s 33ms/step - loss: 3.4576e-04\n",
            "Epoch 49/100\n",
            "25/25 [==============================] - 1s 34ms/step - loss: 3.1166e-04\n",
            "Epoch 50/100\n",
            "25/25 [==============================] - 1s 33ms/step - loss: 3.4608e-04\n",
            "Epoch 51/100\n",
            "25/25 [==============================] - 1s 33ms/step - loss: 3.3249e-04\n",
            "Epoch 52/100\n",
            "25/25 [==============================] - 1s 54ms/step - loss: 3.5695e-04\n",
            "Epoch 53/100\n",
            "25/25 [==============================] - 1s 58ms/step - loss: 4.0416e-04\n",
            "Epoch 54/100\n",
            "25/25 [==============================] - 1s 51ms/step - loss: 3.7128e-04\n",
            "Epoch 55/100\n",
            "25/25 [==============================] - 1s 34ms/step - loss: 3.5286e-04\n",
            "Epoch 56/100\n",
            "25/25 [==============================] - 1s 35ms/step - loss: 3.7306e-04\n",
            "Epoch 57/100\n",
            "25/25 [==============================] - 1s 33ms/step - loss: 3.6481e-04\n",
            "Epoch 58/100\n",
            "25/25 [==============================] - 1s 33ms/step - loss: 3.2548e-04\n",
            "Epoch 59/100\n",
            "25/25 [==============================] - 1s 35ms/step - loss: 3.2651e-04\n",
            "Epoch 60/100\n",
            "25/25 [==============================] - 1s 36ms/step - loss: 3.1419e-04\n",
            "Epoch 61/100\n",
            "25/25 [==============================] - 1s 34ms/step - loss: 3.2217e-04\n",
            "Epoch 62/100\n",
            "25/25 [==============================] - 1s 35ms/step - loss: 3.6680e-04\n",
            "Epoch 63/100\n",
            "25/25 [==============================] - 1s 34ms/step - loss: 3.3524e-04\n",
            "Epoch 64/100\n",
            "25/25 [==============================] - 1s 34ms/step - loss: 3.4137e-04\n",
            "Epoch 65/100\n",
            "25/25 [==============================] - 1s 36ms/step - loss: 3.5852e-04\n",
            "Epoch 66/100\n",
            "25/25 [==============================] - 1s 53ms/step - loss: 4.3055e-04\n",
            "Epoch 67/100\n",
            "25/25 [==============================] - 1s 58ms/step - loss: 4.2351e-04\n",
            "Epoch 68/100\n",
            "25/25 [==============================] - 1s 43ms/step - loss: 3.5061e-04\n",
            "Epoch 69/100\n",
            "25/25 [==============================] - 1s 33ms/step - loss: 3.4310e-04\n",
            "Epoch 70/100\n",
            "25/25 [==============================] - 1s 34ms/step - loss: 3.3638e-04\n",
            "Epoch 71/100\n",
            "25/25 [==============================] - 1s 34ms/step - loss: 3.3431e-04\n",
            "Epoch 72/100\n",
            "25/25 [==============================] - 1s 36ms/step - loss: 3.2280e-04\n",
            "Epoch 73/100\n",
            "25/25 [==============================] - 1s 34ms/step - loss: 3.1937e-04\n",
            "Epoch 74/100\n",
            "25/25 [==============================] - 1s 52ms/step - loss: 3.1876e-04\n",
            "Epoch 75/100\n",
            "25/25 [==============================] - 1s 34ms/step - loss: 3.2567e-04\n",
            "Epoch 76/100\n",
            "25/25 [==============================] - 1s 34ms/step - loss: 3.5846e-04\n",
            "Epoch 77/100\n",
            "25/25 [==============================] - 1s 33ms/step - loss: 3.3175e-04\n",
            "Epoch 78/100\n",
            "25/25 [==============================] - 1s 33ms/step - loss: 3.2073e-04\n",
            "Epoch 79/100\n",
            "25/25 [==============================] - 1s 45ms/step - loss: 3.1633e-04\n",
            "Epoch 80/100\n",
            "25/25 [==============================] - 1s 57ms/step - loss: 3.3025e-04\n",
            "Epoch 81/100\n",
            "25/25 [==============================] - 1s 57ms/step - loss: 3.3389e-04\n",
            "Epoch 82/100\n",
            "25/25 [==============================] - 1s 34ms/step - loss: 3.2310e-04\n",
            "Epoch 83/100\n",
            "25/25 [==============================] - 1s 35ms/step - loss: 3.8125e-04\n",
            "Epoch 84/100\n",
            "25/25 [==============================] - 1s 34ms/step - loss: 3.3258e-04\n",
            "Epoch 85/100\n",
            "25/25 [==============================] - 1s 34ms/step - loss: 3.3687e-04\n",
            "Epoch 86/100\n",
            "25/25 [==============================] - 1s 35ms/step - loss: 3.1787e-04\n",
            "Epoch 87/100\n",
            "25/25 [==============================] - 1s 34ms/step - loss: 3.3630e-04\n",
            "Epoch 88/100\n",
            "25/25 [==============================] - 1s 34ms/step - loss: 3.2342e-04\n",
            "Epoch 89/100\n",
            "25/25 [==============================] - 1s 35ms/step - loss: 3.4726e-04\n",
            "Epoch 90/100\n",
            "25/25 [==============================] - 1s 35ms/step - loss: 3.6295e-04\n",
            "Epoch 91/100\n",
            "25/25 [==============================] - 1s 35ms/step - loss: 3.3725e-04\n",
            "Epoch 92/100\n",
            "25/25 [==============================] - 1s 34ms/step - loss: 3.3103e-04\n",
            "Epoch 93/100\n",
            "25/25 [==============================] - 1s 47ms/step - loss: 3.3237e-04\n",
            "Epoch 94/100\n",
            "25/25 [==============================] - 1s 57ms/step - loss: 3.4906e-04\n",
            "Epoch 95/100\n",
            "25/25 [==============================] - 1s 49ms/step - loss: 3.3761e-04\n",
            "Epoch 96/100\n",
            "25/25 [==============================] - 1s 36ms/step - loss: 3.1476e-04\n",
            "Epoch 97/100\n",
            "25/25 [==============================] - 1s 33ms/step - loss: 3.3331e-04\n",
            "Epoch 98/100\n",
            "25/25 [==============================] - 1s 33ms/step - loss: 3.4715e-04\n",
            "Epoch 99/100\n",
            "25/25 [==============================] - 1s 32ms/step - loss: 3.2272e-04\n",
            "Epoch 100/100\n",
            "25/25 [==============================] - 1s 33ms/step - loss: 3.1481e-04\n"
          ]
        },
        {
          "output_type": "execute_result",
          "data": {
            "text/plain": [
              "<keras.src.callbacks.History at 0x7f8b9fd8c5e0>"
            ]
          },
          "metadata": {},
          "execution_count": 30
        }
      ]
    },
    {
      "cell_type": "code",
      "source": [
        "predictions_91 = model.predict(test_X_91)"
      ],
      "metadata": {
        "colab": {
          "base_uri": "https://localhost:8080/"
        },
        "id": "TAUdNOumKB8e",
        "outputId": "17860b1e-4cc1-4e8e-a386-8f963705d279"
      },
      "execution_count": null,
      "outputs": [
        {
          "output_type": "stream",
          "name": "stdout",
          "text": [
            "4/4 [==============================] - 0s 8ms/step\n"
          ]
        }
      ]
    },
    {
      "cell_type": "code",
      "source": [
        "predictions_91 = scaler.inverse_transform(predictions_91)\n",
        "test_y_91 = scaler.inverse_transform(test_y_91)"
      ],
      "metadata": {
        "id": "mhTIerKTKFDm"
      },
      "execution_count": null,
      "outputs": []
    },
    {
      "cell_type": "code",
      "source": [
        "test_rmse = np.sqrt(np.mean((predictions_91 - test_y_91)**2))\n",
        "test_mape = np.mean(np.abs((test_y_91 - predictions_91) / test_y_91)) * 100\n",
        "test_mse = np.mean((np.array(test_y_91) - np.array(predictions_91))**2)\n",
        "print('Testing RMSE:', test_rmse)\n",
        "print('Testing MAPE:', test_mape)\n",
        "print('Testing MSE:', test_mse)"
      ],
      "metadata": {
        "colab": {
          "base_uri": "https://localhost:8080/"
        },
        "id": "SGpXlqiQKNoR",
        "outputId": "1d41b8c6-48ca-4ac3-8d3c-cd326806bfc7"
      },
      "execution_count": null,
      "outputs": [
        {
          "output_type": "stream",
          "name": "stdout",
          "text": [
            "Testing RMSE: 1177.5793490204073\n",
            "Testing MAPE: 1.8736795166415643\n",
            "Testing MSE: 1386693.1232393263\n"
          ]
        }
      ]
    },
    {
      "cell_type": "code",
      "source": [
        "df1_restored = pd.DataFrame(df1, columns=['Close'])\n",
        "X_input_91= np.array([df1_restored[-60:]])  # Sử dụng dữ liệu cuối cùng trong tập dữ liệu\n",
        "# Sử dụng mô hình đã huấn luyện để dự đoán giá cổ phiếu cho 30 ngày tiếp theo\n",
        "predicted_prices_91 = []\n",
        "for i in range(30):\n",
        "    # Dự đoán giá cổ phiếu cho một ngày tiếp theo\n",
        "    next_price_91 = model.predict(X_input_91)\n",
        "    predicted_prices_91.append(next_price_91)\n",
        "\n",
        "    # Cập nhật dữ liệu đầu vào cho dự đoán tiếp theo\n",
        "    X_input_91 = np.roll(X_input_91, -1, axis=1)  # Dịch dữ liệu qua trái một bước\n",
        "    X_input_91[0, -1] = next_price_91  # Cập nhật giá dự đoán vào vị trí cuối cùng của dữ liệu đầu vào\n",
        "    i = i + 1"
      ],
      "metadata": {
        "colab": {
          "base_uri": "https://localhost:8080/"
        },
        "id": "OQEIUJgzKdmd",
        "outputId": "f82a24e4-c2ae-4171-e77b-76a575bd5e1e"
      },
      "execution_count": null,
      "outputs": [
        {
          "output_type": "stream",
          "name": "stdout",
          "text": [
            "1/1 [==============================] - 0s 39ms/step\n",
            "1/1 [==============================] - 0s 35ms/step\n",
            "1/1 [==============================] - 0s 34ms/step\n",
            "1/1 [==============================] - 0s 36ms/step\n",
            "1/1 [==============================] - 0s 30ms/step\n",
            "1/1 [==============================] - 0s 33ms/step\n",
            "1/1 [==============================] - 0s 34ms/step\n",
            "1/1 [==============================] - 0s 35ms/step\n",
            "1/1 [==============================] - 0s 32ms/step\n",
            "1/1 [==============================] - 0s 33ms/step\n",
            "1/1 [==============================] - 0s 34ms/step\n",
            "1/1 [==============================] - 0s 32ms/step\n",
            "1/1 [==============================] - 0s 33ms/step\n",
            "1/1 [==============================] - 0s 31ms/step\n",
            "1/1 [==============================] - 0s 31ms/step\n",
            "1/1 [==============================] - 0s 32ms/step\n",
            "1/1 [==============================] - 0s 30ms/step\n",
            "1/1 [==============================] - 0s 41ms/step\n",
            "1/1 [==============================] - 0s 34ms/step\n",
            "1/1 [==============================] - 0s 33ms/step\n",
            "1/1 [==============================] - 0s 34ms/step\n",
            "1/1 [==============================] - 0s 20ms/step\n",
            "1/1 [==============================] - 0s 20ms/step\n",
            "1/1 [==============================] - 0s 20ms/step\n",
            "1/1 [==============================] - 0s 20ms/step\n",
            "1/1 [==============================] - 0s 19ms/step\n",
            "1/1 [==============================] - 0s 20ms/step\n",
            "1/1 [==============================] - 0s 21ms/step\n",
            "1/1 [==============================] - 0s 20ms/step\n",
            "1/1 [==============================] - 0s 21ms/step\n"
          ]
        }
      ]
    },
    {
      "cell_type": "code",
      "source": [
        "plot_predictions(train_y_91, test_y_91, predictions_91, predicted_prices_91)"
      ],
      "metadata": {
        "colab": {
          "base_uri": "https://localhost:8080/",
          "height": 432
        },
        "id": "QhPcY860K3h_",
        "outputId": "a42486a4-bfec-4d05-e1b9-524ff1fab987"
      },
      "execution_count": null,
      "outputs": [
        {
          "output_type": "display_data",
          "data": {
            "text/plain": [
              "<Figure size 640x480 with 1 Axes>"
            ],
            "image/png": "[encoded data removed]"
          },
          "metadata": {}
        }
      ]
    }
  ]
}