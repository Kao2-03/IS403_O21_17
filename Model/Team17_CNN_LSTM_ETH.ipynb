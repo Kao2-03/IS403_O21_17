{
  "nbformat": 4,
  "nbformat_minor": 0,
  "metadata": {
    "colab": {
      "provenance": []
    },
    "kernelspec": {
      "name": "python3",
      "display_name": "Python 3"
    },
    "language_info": {
      "name": "python"
    }
  },
  "cells": [
    {
      "cell_type": "code",
      "execution_count": null,
      "metadata": {
        "id": "wHAwDIoKX4kU"
      },
      "outputs": [],
      "source": [
        "import numpy as np\n",
        "import pandas as pd\n",
        "from keras.models import Sequential\n",
        "from keras.layers import Conv1D, MaxPooling1D, LSTM, Dense, Flatten\n",
        "from sklearn.preprocessing import MinMaxScaler"
      ]
    },
    {
      "cell_type": "code",
      "source": [
        "df = pd.read_csv(\"/content/ETH-USD.csv\")"
      ],
      "metadata": {
        "id": "dbPH_DouYAKW"
      },
      "execution_count": null,
      "outputs": []
    },
    {
      "cell_type": "code",
      "source": [
        "df1=df.reset_index()['Close']"
      ],
      "metadata": {
        "id": "zyGanZ3JYKQC"
      },
      "execution_count": null,
      "outputs": []
    },
    {
      "cell_type": "code",
      "source": [
        "scaler=MinMaxScaler(feature_range=(0,1))\n",
        "df1=scaler.fit_transform(np.array(df1).reshape(-1,1))"
      ],
      "metadata": {
        "id": "Czy3vimyYOT8"
      },
      "execution_count": null,
      "outputs": []
    },
    {
      "cell_type": "code",
      "source": [
        "train_size = int(0.8 * len(df1))"
      ],
      "metadata": {
        "id": "7SHzRqgPYRKH"
      },
      "execution_count": null,
      "outputs": []
    },
    {
      "cell_type": "code",
      "source": [
        "def create_dataset_with_window(dataset, window_size=60):\n",
        "    # Tạo tập train\n",
        " train_X = []\n",
        " train_y = []\n",
        " for i in range(train_size - window_size):\n",
        "  train_X.append(dataset[i:i+window_size])\n",
        "  train_y.append(dataset[i+window_size])\n",
        "    # Tạo tập test\n",
        "  test_X = []\n",
        "  test_y = []\n",
        " for i in range(train_size, len(dataset) - window_size):\n",
        "  test_X.append(dataset[i:i+window_size])\n",
        "  test_y.append(dataset[i+window_size])\n",
        "# Chuyển đổi sang numpy array\n",
        " train_X, train_y, test_X, test_y = np.array(train_X), np.array(train_y), np.array(test_X), np.array(test_y)\n",
        " return train_X, train_y, test_X, test_y"
      ],
      "metadata": {
        "id": "vDIOJSewYXBL"
      },
      "execution_count": null,
      "outputs": []
    },
    {
      "cell_type": "code",
      "source": [
        "train_X, train_y, test_X, test_y = create_dataset_with_window(df1, window_size=60)"
      ],
      "metadata": {
        "id": "GBVSSp2SYawf"
      },
      "execution_count": null,
      "outputs": []
    },
    {
      "cell_type": "code",
      "source": [
        "model = Sequential()\n",
        "model.add(Conv1D(filters=64, kernel_size=3, activation='relu', input_shape=(60, 1)))\n",
        "model.add(MaxPooling1D(pool_size=2))\n",
        "model.add(LSTM(50, return_sequences=True))\n",
        "model.add(LSTM(50))\n",
        "model.add(Dense(1))\n",
        "model.compile(optimizer='adam', loss='mean_squared_error')"
      ],
      "metadata": {
        "id": "tHyOkW4bYcxq"
      },
      "execution_count": null,
      "outputs": []
    },
    {
      "cell_type": "code",
      "source": [
        "model.fit(train_X, train_y, epochs=100, batch_size=64, verbose=1)"
      ],
      "metadata": {
        "colab": {
          "base_uri": "https://localhost:8080/"
        },
        "id": "E5J2TPl3YgoS",
        "outputId": "922d9c57-1af9-4e33-cfa8-4f4991ef8f74"
      },
      "execution_count": null,
      "outputs": [
        {
          "output_type": "stream",
          "name": "stdout",
          "text": [
            "Epoch 1/100\n",
            "22/22 [==============================] - 5s 36ms/step - loss: 0.0174\n",
            "Epoch 2/100\n",
            "22/22 [==============================] - 1s 35ms/step - loss: 0.0047\n",
            "Epoch 3/100\n",
            "22/22 [==============================] - 1s 32ms/step - loss: 0.0038\n",
            "Epoch 4/100\n",
            "22/22 [==============================] - 1s 34ms/step - loss: 0.0031\n",
            "Epoch 5/100\n",
            "22/22 [==============================] - 1s 35ms/step - loss: 0.0028\n",
            "Epoch 6/100\n",
            "22/22 [==============================] - 1s 33ms/step - loss: 0.0025\n",
            "Epoch 7/100\n",
            "22/22 [==============================] - 1s 33ms/step - loss: 0.0025\n",
            "Epoch 8/100\n",
            "22/22 [==============================] - 1s 58ms/step - loss: 0.0022\n",
            "Epoch 9/100\n",
            "22/22 [==============================] - 1s 56ms/step - loss: 0.0021\n",
            "Epoch 10/100\n",
            "22/22 [==============================] - 1s 59ms/step - loss: 0.0020\n",
            "Epoch 11/100\n",
            "22/22 [==============================] - 1s 37ms/step - loss: 0.0018\n",
            "Epoch 12/100\n",
            "22/22 [==============================] - 1s 35ms/step - loss: 0.0018\n",
            "Epoch 13/100\n",
            "22/22 [==============================] - 1s 35ms/step - loss: 0.0016\n",
            "Epoch 14/100\n",
            "22/22 [==============================] - 1s 34ms/step - loss: 0.0018\n",
            "Epoch 15/100\n",
            "22/22 [==============================] - 1s 33ms/step - loss: 0.0016\n",
            "Epoch 16/100\n",
            "22/22 [==============================] - 1s 35ms/step - loss: 0.0014\n",
            "Epoch 17/100\n",
            "22/22 [==============================] - 1s 35ms/step - loss: 0.0014\n",
            "Epoch 18/100\n",
            "22/22 [==============================] - 1s 36ms/step - loss: 0.0012\n",
            "Epoch 19/100\n",
            "22/22 [==============================] - 1s 34ms/step - loss: 0.0013\n",
            "Epoch 20/100\n",
            "22/22 [==============================] - 1s 34ms/step - loss: 0.0012\n",
            "Epoch 21/100\n",
            "22/22 [==============================] - 1s 36ms/step - loss: 0.0011\n",
            "Epoch 22/100\n",
            "22/22 [==============================] - 1s 34ms/step - loss: 9.8103e-04\n",
            "Epoch 23/100\n",
            "22/22 [==============================] - 1s 34ms/step - loss: 9.2510e-04\n",
            "Epoch 24/100\n",
            "22/22 [==============================] - 1s 56ms/step - loss: 0.0014\n",
            "Epoch 25/100\n",
            "22/22 [==============================] - 1s 59ms/step - loss: 0.0012\n",
            "Epoch 26/100\n",
            "22/22 [==============================] - 1s 53ms/step - loss: 8.8211e-04\n",
            "Epoch 27/100\n",
            "22/22 [==============================] - 1s 34ms/step - loss: 7.9962e-04\n",
            "Epoch 28/100\n",
            "22/22 [==============================] - 1s 33ms/step - loss: 0.0010\n",
            "Epoch 29/100\n",
            "22/22 [==============================] - 1s 35ms/step - loss: 8.2904e-04\n",
            "Epoch 30/100\n",
            "22/22 [==============================] - 1s 34ms/step - loss: 7.3906e-04\n",
            "Epoch 31/100\n",
            "22/22 [==============================] - 1s 36ms/step - loss: 7.3709e-04\n",
            "Epoch 32/100\n",
            "22/22 [==============================] - 1s 33ms/step - loss: 6.7602e-04\n",
            "Epoch 33/100\n",
            "22/22 [==============================] - 1s 33ms/step - loss: 6.8988e-04\n",
            "Epoch 34/100\n",
            "22/22 [==============================] - 1s 34ms/step - loss: 6.9779e-04\n",
            "Epoch 35/100\n",
            "22/22 [==============================] - 1s 34ms/step - loss: 6.2573e-04\n",
            "Epoch 36/100\n",
            "22/22 [==============================] - 1s 34ms/step - loss: 6.3484e-04\n",
            "Epoch 37/100\n",
            "22/22 [==============================] - 1s 34ms/step - loss: 6.7171e-04\n",
            "Epoch 38/100\n",
            "22/22 [==============================] - 1s 33ms/step - loss: 7.0330e-04\n",
            "Epoch 39/100\n",
            "22/22 [==============================] - 1s 32ms/step - loss: 6.6787e-04\n",
            "Epoch 40/100\n",
            "22/22 [==============================] - 1s 52ms/step - loss: 8.3887e-04\n",
            "Epoch 41/100\n",
            "22/22 [==============================] - 1s 55ms/step - loss: 7.6411e-04\n",
            "Epoch 42/100\n",
            "22/22 [==============================] - 1s 55ms/step - loss: 5.8480e-04\n",
            "Epoch 43/100\n",
            "22/22 [==============================] - 1s 34ms/step - loss: 5.9167e-04\n",
            "Epoch 44/100\n",
            "22/22 [==============================] - 1s 35ms/step - loss: 5.4694e-04\n",
            "Epoch 45/100\n",
            "22/22 [==============================] - 1s 35ms/step - loss: 6.0387e-04\n",
            "Epoch 46/100\n",
            "22/22 [==============================] - 1s 34ms/step - loss: 5.8549e-04\n",
            "Epoch 47/100\n",
            "22/22 [==============================] - 1s 33ms/step - loss: 6.2101e-04\n",
            "Epoch 48/100\n",
            "22/22 [==============================] - 1s 32ms/step - loss: 5.7396e-04\n",
            "Epoch 49/100\n",
            "22/22 [==============================] - 1s 34ms/step - loss: 5.8832e-04\n",
            "Epoch 50/100\n",
            "22/22 [==============================] - 1s 35ms/step - loss: 5.2914e-04\n",
            "Epoch 51/100\n",
            "22/22 [==============================] - 1s 35ms/step - loss: 5.4624e-04\n",
            "Epoch 52/100\n",
            "22/22 [==============================] - 1s 35ms/step - loss: 5.5871e-04\n",
            "Epoch 53/100\n",
            "22/22 [==============================] - 1s 34ms/step - loss: 5.4766e-04\n",
            "Epoch 54/100\n",
            "22/22 [==============================] - 1s 34ms/step - loss: 5.1659e-04\n",
            "Epoch 55/100\n",
            "22/22 [==============================] - 1s 34ms/step - loss: 5.4425e-04\n",
            "Epoch 56/100\n",
            "22/22 [==============================] - 1s 57ms/step - loss: 6.0925e-04\n",
            "Epoch 57/100\n",
            "22/22 [==============================] - 1s 60ms/step - loss: 5.1646e-04\n",
            "Epoch 58/100\n",
            "22/22 [==============================] - 1s 58ms/step - loss: 5.0719e-04\n",
            "Epoch 59/100\n",
            "22/22 [==============================] - 1s 36ms/step - loss: 5.1537e-04\n",
            "Epoch 60/100\n",
            "22/22 [==============================] - 1s 35ms/step - loss: 5.3443e-04\n",
            "Epoch 61/100\n",
            "22/22 [==============================] - 1s 34ms/step - loss: 5.8679e-04\n",
            "Epoch 62/100\n",
            "22/22 [==============================] - 1s 33ms/step - loss: 6.1643e-04\n",
            "Epoch 63/100\n",
            "22/22 [==============================] - 1s 34ms/step - loss: 5.7840e-04\n",
            "Epoch 64/100\n",
            "22/22 [==============================] - 1s 35ms/step - loss: 5.0438e-04\n",
            "Epoch 65/100\n",
            "22/22 [==============================] - 1s 40ms/step - loss: 4.9876e-04\n",
            "Epoch 66/100\n",
            "22/22 [==============================] - 1s 41ms/step - loss: 5.4961e-04\n",
            "Epoch 67/100\n",
            "22/22 [==============================] - 1s 36ms/step - loss: 4.9552e-04\n",
            "Epoch 68/100\n",
            "22/22 [==============================] - 1s 36ms/step - loss: 5.8738e-04\n",
            "Epoch 69/100\n",
            "22/22 [==============================] - 1s 35ms/step - loss: 5.3812e-04\n",
            "Epoch 70/100\n",
            "22/22 [==============================] - 1s 35ms/step - loss: 5.1058e-04\n",
            "Epoch 71/100\n",
            "22/22 [==============================] - 1s 47ms/step - loss: 5.2204e-04\n",
            "Epoch 72/100\n",
            "22/22 [==============================] - 1s 58ms/step - loss: 5.2356e-04\n",
            "Epoch 73/100\n",
            "22/22 [==============================] - 1s 59ms/step - loss: 6.3828e-04\n",
            "Epoch 74/100\n",
            "22/22 [==============================] - 1s 45ms/step - loss: 7.1351e-04\n",
            "Epoch 75/100\n",
            "22/22 [==============================] - 1s 35ms/step - loss: 5.4727e-04\n",
            "Epoch 76/100\n",
            "22/22 [==============================] - 1s 33ms/step - loss: 4.7664e-04\n",
            "Epoch 77/100\n",
            "22/22 [==============================] - 1s 34ms/step - loss: 4.8822e-04\n",
            "Epoch 78/100\n",
            "22/22 [==============================] - 1s 34ms/step - loss: 5.4793e-04\n",
            "Epoch 79/100\n",
            "22/22 [==============================] - 1s 33ms/step - loss: 5.1106e-04\n",
            "Epoch 80/100\n",
            "22/22 [==============================] - 1s 35ms/step - loss: 6.4098e-04\n",
            "Epoch 81/100\n",
            "22/22 [==============================] - 1s 34ms/step - loss: 5.7060e-04\n",
            "Epoch 82/100\n",
            "22/22 [==============================] - 1s 34ms/step - loss: 5.7871e-04\n",
            "Epoch 83/100\n",
            "22/22 [==============================] - 1s 32ms/step - loss: 4.8122e-04\n",
            "Epoch 84/100\n",
            "22/22 [==============================] - 1s 35ms/step - loss: 5.3179e-04\n",
            "Epoch 85/100\n",
            "22/22 [==============================] - 1s 35ms/step - loss: 4.7785e-04\n",
            "Epoch 86/100\n",
            "22/22 [==============================] - 1s 34ms/step - loss: 4.7212e-04\n",
            "Epoch 87/100\n",
            "22/22 [==============================] - 1s 39ms/step - loss: 4.8604e-04\n",
            "Epoch 88/100\n",
            "22/22 [==============================] - 1s 59ms/step - loss: 5.2042e-04\n",
            "Epoch 89/100\n",
            "22/22 [==============================] - 1s 61ms/step - loss: 5.5112e-04\n",
            "Epoch 90/100\n",
            "22/22 [==============================] - 1s 39ms/step - loss: 4.8138e-04\n",
            "Epoch 91/100\n",
            "22/22 [==============================] - 1s 33ms/step - loss: 4.5929e-04\n",
            "Epoch 92/100\n",
            "22/22 [==============================] - 1s 33ms/step - loss: 4.9762e-04\n",
            "Epoch 93/100\n",
            "22/22 [==============================] - 1s 34ms/step - loss: 4.9562e-04\n",
            "Epoch 94/100\n",
            "22/22 [==============================] - 1s 35ms/step - loss: 4.8189e-04\n",
            "Epoch 95/100\n",
            "22/22 [==============================] - 1s 34ms/step - loss: 4.9191e-04\n",
            "Epoch 96/100\n",
            "22/22 [==============================] - 1s 34ms/step - loss: 5.7176e-04\n",
            "Epoch 97/100\n",
            "22/22 [==============================] - 1s 36ms/step - loss: 4.8288e-04\n",
            "Epoch 98/100\n",
            "22/22 [==============================] - 1s 35ms/step - loss: 5.4127e-04\n",
            "Epoch 99/100\n",
            "22/22 [==============================] - 1s 34ms/step - loss: 5.1986e-04\n",
            "Epoch 100/100\n",
            "22/22 [==============================] - 1s 35ms/step - loss: 5.1143e-04\n"
          ]
        },
        {
          "output_type": "execute_result",
          "data": {
            "text/plain": [
              "<keras.src.callbacks.History at 0x7c98c1dee950>"
            ]
          },
          "metadata": {},
          "execution_count": 9
        }
      ]
    },
    {
      "cell_type": "code",
      "source": [
        "predictions = model.predict(test_X)"
      ],
      "metadata": {
        "colab": {
          "base_uri": "https://localhost:8080/"
        },
        "id": "exXM0dnkZIhM",
        "outputId": "7dc3aa73-1438-4747-b426-89d29670d08e"
      },
      "execution_count": null,
      "outputs": [
        {
          "output_type": "stream",
          "name": "stdout",
          "text": [
            "10/10 [==============================] - 1s 8ms/step\n"
          ]
        }
      ]
    },
    {
      "cell_type": "code",
      "source": [
        "predictions = scaler.inverse_transform(predictions)\n",
        "test_y = scaler.inverse_transform(test_y)"
      ],
      "metadata": {
        "id": "LUuuc9MZZNce"
      },
      "execution_count": null,
      "outputs": []
    },
    {
      "cell_type": "code",
      "source": [
        "test_rmse = np.sqrt(np.mean((predictions - test_y)**2))\n",
        "test_mape = np.mean(np.abs((test_y - predictions) / test_y)) * 100\n",
        "test_mse = np.mean((np.array(test_y) - np.array(predictions))**2)\n",
        "print('Testing RMSE:', test_rmse)\n",
        "print('Testing MAPE:', test_mape)\n",
        "print('Testing MSE:', test_mse)"
      ],
      "metadata": {
        "colab": {
          "base_uri": "https://localhost:8080/"
        },
        "id": "Z7NWEa6_ZRcJ",
        "outputId": "e4862f84-3af9-4ceb-ef17-d20a031bf10f"
      },
      "execution_count": null,
      "outputs": [
        {
          "output_type": "stream",
          "name": "stdout",
          "text": [
            "Testing RMSE: 55.718922260047094\n",
            "Testing MAPE: 1.9395805526747345\n",
            "Testing MSE: 3104.5982978211714\n"
          ]
        }
      ]
    },
    {
      "cell_type": "code",
      "source": [
        "# Chuẩn bị dữ liệu đầu vào cho dự đoán\n",
        "df1_restored = pd.DataFrame(df1, columns=['Close'])\n",
        "X_input= np.array([df1_restored[-60:]])  # Sử dụng dữ liệu cuối cùng trong tập dữ liệu\n",
        "# Sử dụng mô hình đã huấn luyện để dự đoán giá cổ phiếu cho 30 ngày tiếp theo\n",
        "predicted_prices = []\n",
        "for i in range(30):\n",
        "    # Dự đoán giá cổ phiếu cho một ngày tiếp theo\n",
        "    next_price = model.predict(X_input)\n",
        "    predicted_prices.append(next_price)\n",
        "\n",
        "    # Cập nhật dữ liệu đầu vào cho dự đoán tiếp theo\n",
        "    X_input = np.roll(X_input, -1, axis=1)  # Dịch dữ liệu qua trái một bước\n",
        "    X_input[0, -1] = next_price  # Cập nhật giá dự đoán vào vị trí cuối cùng của dữ liệu đầu vào\n",
        "    i = i + 1"
      ],
      "metadata": {
        "colab": {
          "base_uri": "https://localhost:8080/"
        },
        "id": "tcGADfPsZWBU",
        "outputId": "e7affc43-5a86-4025-8b23-8ea4bebc8d14"
      },
      "execution_count": null,
      "outputs": [
        {
          "output_type": "stream",
          "name": "stdout",
          "text": [
            "1/1 [==============================] - 0s 21ms/step\n",
            "1/1 [==============================] - 0s 20ms/step\n",
            "1/1 [==============================] - 0s 26ms/step\n",
            "1/1 [==============================] - 0s 22ms/step\n",
            "1/1 [==============================] - 0s 22ms/step\n",
            "1/1 [==============================] - 0s 20ms/step\n",
            "1/1 [==============================] - 0s 20ms/step\n",
            "1/1 [==============================] - 0s 20ms/step\n",
            "1/1 [==============================] - 0s 21ms/step\n",
            "1/1 [==============================] - 0s 21ms/step\n",
            "1/1 [==============================] - 0s 20ms/step\n",
            "1/1 [==============================] - 0s 23ms/step\n",
            "1/1 [==============================] - 0s 20ms/step\n",
            "1/1 [==============================] - 0s 33ms/step\n",
            "1/1 [==============================] - 0s 24ms/step\n",
            "1/1 [==============================] - 0s 21ms/step\n",
            "1/1 [==============================] - 0s 20ms/step\n",
            "1/1 [==============================] - 0s 24ms/step\n",
            "1/1 [==============================] - 0s 22ms/step\n",
            "1/1 [==============================] - 0s 22ms/step\n",
            "1/1 [==============================] - 0s 22ms/step\n",
            "1/1 [==============================] - 0s 21ms/step\n",
            "1/1 [==============================] - 0s 20ms/step\n",
            "1/1 [==============================] - 0s 22ms/step\n",
            "1/1 [==============================] - 0s 22ms/step\n",
            "1/1 [==============================] - 0s 21ms/step\n",
            "1/1 [==============================] - 0s 22ms/step\n",
            "1/1 [==============================] - 0s 21ms/step\n",
            "1/1 [==============================] - 0s 24ms/step\n",
            "1/1 [==============================] - 0s 21ms/step\n"
          ]
        }
      ]
    },
    {
      "cell_type": "code",
      "source": [
        "import matplotlib.pyplot as plt"
      ],
      "metadata": {
        "id": "dzlI0_f-Zj-p"
      },
      "execution_count": null,
      "outputs": []
    },
    {
      "cell_type": "code",
      "source": [
        "def plot_predictions(train_actual, test_actual, test_predictions, future_predictions):\n",
        "    train_actual = scaler.inverse_transform(train_actual)\n",
        "    test_actual = test_actual[:, 0]\n",
        "    test_predictions = test_predictions[:, 0]\n",
        "    future_predictions_2d = np.squeeze(future_predictions)  # Loại bỏ các chiều không cần thiết\n",
        "    future_predictions_2d = future_predictions_2d.reshape(-1, 1)  # Chuyển đổi thành mảng 2D với 1 cột\n",
        "    # Vẽ tập train\n",
        "    plt.plot(train_actual, label='Train')\n",
        "\n",
        "    # Vẽ tập test\n",
        "    plt.plot(range(len(train_actual), len(train_actual) + len(test_actual)), test_actual, label='Test')\n",
        "\n",
        "    # Vẽ kết quả predict trên tập test\n",
        "    plt.plot(range(len(train_actual), len(train_actual) + len(test_actual)), test_predictions, label='Prediction')\n",
        "\n",
        "    # Vẽ kết quả dự đoán 30 ngày\n",
        "    plt.plot(range(len(train_actual) + len(test_actual), len(train_actual) + len(test_actual) + len(future_predictions)), scaler.inverse_transform(future_predictions_2d), label='Predict30NextDay')\n",
        "\n",
        "    plt.legend()\n",
        "    plt.show()"
      ],
      "metadata": {
        "id": "NXAIKYflZo5v"
      },
      "execution_count": null,
      "outputs": []
    },
    {
      "cell_type": "code",
      "source": [
        "plot_predictions(train_y, test_y, predictions, predicted_prices)"
      ],
      "metadata": {
        "colab": {
          "base_uri": "https://localhost:8080/",
          "height": 432
        },
        "id": "U0n0wdl3Zr6U",
        "outputId": "1d06a81d-c894-437f-ff7a-c857797dfc4f"
      },
      "execution_count": null,
      "outputs": [
        {
          "output_type": "display_data",
          "data": {
            "text/plain": [
              "<Figure size 640x480 with 1 Axes>"
            ],
            "image/png": "[encoded data removed]"
          },
          "metadata": {}
        }
      ]
    },
    {
      "cell_type": "code",
      "source": [
        "train_size = int(0.7 * len(df1))"
      ],
      "metadata": {
        "id": "qm_pWok-cID4"
      },
      "execution_count": null,
      "outputs": []
    },
    {
      "cell_type": "code",
      "source": [
        "train_X_73, train_y_73, test_X_73, test_y_73 = create_dataset_with_window(df1, window_size=60)"
      ],
      "metadata": {
        "id": "Gp_WBHQUcizN"
      },
      "execution_count": null,
      "outputs": []
    },
    {
      "cell_type": "code",
      "source": [
        "model.fit(train_X_73, train_y_73, epochs=100, batch_size=64, verbose=1)"
      ],
      "metadata": {
        "colab": {
          "base_uri": "https://localhost:8080/"
        },
        "id": "p1upJfaHc4ek",
        "outputId": "56f0c333-77f8-4e48-dc68-948a0d96bf74"
      },
      "execution_count": null,
      "outputs": [
        {
          "output_type": "stream",
          "name": "stdout",
          "text": [
            "Epoch 1/100\n",
            "20/20 [==============================] - 1s 40ms/step - loss: 5.5710e-04\n",
            "Epoch 2/100\n",
            "20/20 [==============================] - 1s 55ms/step - loss: 5.8354e-04\n",
            "Epoch 3/100\n",
            "20/20 [==============================] - 1s 57ms/step - loss: 5.4680e-04\n",
            "Epoch 4/100\n",
            "20/20 [==============================] - 1s 58ms/step - loss: 5.3171e-04\n",
            "Epoch 5/100\n",
            "20/20 [==============================] - 1s 33ms/step - loss: 5.0061e-04\n",
            "Epoch 6/100\n",
            "20/20 [==============================] - 1s 32ms/step - loss: 5.9184e-04\n",
            "Epoch 7/100\n",
            "20/20 [==============================] - 1s 33ms/step - loss: 4.9142e-04\n",
            "Epoch 8/100\n",
            "20/20 [==============================] - 1s 33ms/step - loss: 4.9607e-04\n",
            "Epoch 9/100\n",
            "20/20 [==============================] - 1s 33ms/step - loss: 5.6890e-04\n",
            "Epoch 10/100\n",
            "20/20 [==============================] - 1s 34ms/step - loss: 5.1144e-04\n",
            "Epoch 11/100\n",
            "20/20 [==============================] - 1s 35ms/step - loss: 5.8792e-04\n",
            "Epoch 12/100\n",
            "20/20 [==============================] - 1s 32ms/step - loss: 5.5029e-04\n",
            "Epoch 13/100\n",
            "20/20 [==============================] - 1s 33ms/step - loss: 5.3452e-04\n",
            "Epoch 14/100\n",
            "20/20 [==============================] - 1s 33ms/step - loss: 5.4490e-04\n",
            "Epoch 15/100\n",
            "20/20 [==============================] - 1s 33ms/step - loss: 7.4317e-04\n",
            "Epoch 16/100\n",
            "20/20 [==============================] - 1s 33ms/step - loss: 5.3156e-04\n",
            "Epoch 17/100\n",
            "20/20 [==============================] - 1s 34ms/step - loss: 4.9920e-04\n",
            "Epoch 18/100\n",
            "20/20 [==============================] - 1s 34ms/step - loss: 5.3539e-04\n",
            "Epoch 19/100\n",
            "20/20 [==============================] - 1s 35ms/step - loss: 4.8737e-04\n",
            "Epoch 20/100\n",
            "20/20 [==============================] - 1s 58ms/step - loss: 4.8159e-04\n",
            "Epoch 21/100\n",
            "20/20 [==============================] - 1s 57ms/step - loss: 5.5886e-04\n",
            "Epoch 22/100\n",
            "20/20 [==============================] - 1s 50ms/step - loss: 5.8045e-04\n",
            "Epoch 23/100\n",
            "20/20 [==============================] - 1s 35ms/step - loss: 4.8194e-04\n",
            "Epoch 24/100\n",
            "20/20 [==============================] - 1s 35ms/step - loss: 5.5822e-04\n",
            "Epoch 25/100\n",
            "20/20 [==============================] - 1s 35ms/step - loss: 5.6214e-04\n",
            "Epoch 26/100\n",
            "20/20 [==============================] - 1s 33ms/step - loss: 5.2730e-04\n",
            "Epoch 27/100\n",
            "20/20 [==============================] - 1s 34ms/step - loss: 4.9445e-04\n",
            "Epoch 28/100\n",
            "20/20 [==============================] - 1s 34ms/step - loss: 7.8241e-04\n",
            "Epoch 29/100\n",
            "20/20 [==============================] - 1s 33ms/step - loss: 5.9741e-04\n",
            "Epoch 30/100\n",
            "20/20 [==============================] - 1s 33ms/step - loss: 5.1850e-04\n",
            "Epoch 31/100\n",
            "20/20 [==============================] - 1s 33ms/step - loss: 5.5938e-04\n",
            "Epoch 32/100\n",
            "20/20 [==============================] - 1s 33ms/step - loss: 6.8690e-04\n",
            "Epoch 33/100\n",
            "20/20 [==============================] - 1s 34ms/step - loss: 6.4374e-04\n",
            "Epoch 34/100\n",
            "20/20 [==============================] - 1s 34ms/step - loss: 4.8152e-04\n",
            "Epoch 35/100\n",
            "20/20 [==============================] - 1s 33ms/step - loss: 4.9926e-04\n",
            "Epoch 36/100\n",
            "20/20 [==============================] - 1s 33ms/step - loss: 6.4379e-04\n",
            "Epoch 37/100\n",
            "20/20 [==============================] - 1s 56ms/step - loss: 5.3515e-04\n",
            "Epoch 38/100\n",
            "20/20 [==============================] - 1s 57ms/step - loss: 5.2376e-04\n",
            "Epoch 39/100\n",
            "20/20 [==============================] - 1s 60ms/step - loss: 5.0412e-04\n",
            "Epoch 40/100\n",
            "20/20 [==============================] - 1s 36ms/step - loss: 5.0509e-04\n",
            "Epoch 41/100\n",
            "20/20 [==============================] - 1s 33ms/step - loss: 5.1649e-04\n",
            "Epoch 42/100\n",
            "20/20 [==============================] - 1s 34ms/step - loss: 5.0494e-04\n",
            "Epoch 43/100\n",
            "20/20 [==============================] - 1s 33ms/step - loss: 4.7341e-04\n",
            "Epoch 44/100\n",
            "20/20 [==============================] - 1s 35ms/step - loss: 4.7464e-04\n",
            "Epoch 45/100\n",
            "20/20 [==============================] - 1s 33ms/step - loss: 4.8196e-04\n",
            "Epoch 46/100\n",
            "20/20 [==============================] - 1s 32ms/step - loss: 4.9548e-04\n",
            "Epoch 47/100\n",
            "20/20 [==============================] - 1s 34ms/step - loss: 4.7310e-04\n",
            "Epoch 48/100\n",
            "20/20 [==============================] - 1s 35ms/step - loss: 4.7141e-04\n",
            "Epoch 49/100\n",
            "20/20 [==============================] - 1s 32ms/step - loss: 5.1301e-04\n",
            "Epoch 50/100\n",
            "20/20 [==============================] - 1s 34ms/step - loss: 5.2799e-04\n",
            "Epoch 51/100\n",
            "20/20 [==============================] - 1s 35ms/step - loss: 6.2398e-04\n",
            "Epoch 52/100\n",
            "20/20 [==============================] - 1s 33ms/step - loss: 5.4427e-04\n",
            "Epoch 53/100\n",
            "20/20 [==============================] - 1s 34ms/step - loss: 4.8063e-04\n",
            "Epoch 54/100\n",
            "20/20 [==============================] - 1s 35ms/step - loss: 5.1356e-04\n",
            "Epoch 55/100\n",
            "20/20 [==============================] - 1s 54ms/step - loss: 5.7870e-04\n",
            "Epoch 56/100\n",
            "20/20 [==============================] - 1s 57ms/step - loss: 5.2181e-04\n",
            "Epoch 57/100\n",
            "20/20 [==============================] - 1s 56ms/step - loss: 5.0891e-04\n",
            "Epoch 58/100\n",
            "20/20 [==============================] - 1s 34ms/step - loss: 7.2289e-04\n",
            "Epoch 59/100\n",
            "20/20 [==============================] - 1s 33ms/step - loss: 4.9405e-04\n",
            "Epoch 60/100\n",
            "20/20 [==============================] - 1s 34ms/step - loss: 5.4253e-04\n",
            "Epoch 61/100\n",
            "20/20 [==============================] - 1s 33ms/step - loss: 6.0516e-04\n",
            "Epoch 62/100\n",
            "20/20 [==============================] - 1s 36ms/step - loss: 4.9389e-04\n",
            "Epoch 63/100\n",
            "20/20 [==============================] - 1s 33ms/step - loss: 6.1653e-04\n",
            "Epoch 64/100\n",
            "20/20 [==============================] - 1s 32ms/step - loss: 4.7839e-04\n",
            "Epoch 65/100\n",
            "20/20 [==============================] - 1s 33ms/step - loss: 5.2401e-04\n",
            "Epoch 66/100\n",
            "20/20 [==============================] - 1s 36ms/step - loss: 5.5656e-04\n",
            "Epoch 67/100\n",
            "20/20 [==============================] - 1s 34ms/step - loss: 5.0565e-04\n",
            "Epoch 68/100\n",
            "20/20 [==============================] - 1s 33ms/step - loss: 4.7142e-04\n",
            "Epoch 69/100\n",
            "20/20 [==============================] - 1s 34ms/step - loss: 5.0527e-04\n",
            "Epoch 70/100\n",
            "20/20 [==============================] - 1s 34ms/step - loss: 4.8503e-04\n",
            "Epoch 71/100\n",
            "20/20 [==============================] - 1s 61ms/step - loss: 4.8220e-04\n",
            "Epoch 72/100\n",
            "20/20 [==============================] - 1s 54ms/step - loss: 4.9675e-04\n",
            "Epoch 73/100\n",
            "20/20 [==============================] - 1s 56ms/step - loss: 8.3411e-04\n",
            "Epoch 74/100\n",
            "20/20 [==============================] - 1s 57ms/step - loss: 5.5673e-04\n",
            "Epoch 75/100\n",
            "20/20 [==============================] - 1s 37ms/step - loss: 6.6457e-04\n",
            "Epoch 76/100\n",
            "20/20 [==============================] - 1s 34ms/step - loss: 5.4057e-04\n",
            "Epoch 77/100\n",
            "20/20 [==============================] - 1s 34ms/step - loss: 5.2242e-04\n",
            "Epoch 78/100\n",
            "20/20 [==============================] - 1s 34ms/step - loss: 5.4332e-04\n",
            "Epoch 79/100\n",
            "20/20 [==============================] - 1s 33ms/step - loss: 6.1444e-04\n",
            "Epoch 80/100\n",
            "20/20 [==============================] - 1s 35ms/step - loss: 4.5706e-04\n",
            "Epoch 81/100\n",
            "20/20 [==============================] - 1s 35ms/step - loss: 4.6916e-04\n",
            "Epoch 82/100\n",
            "20/20 [==============================] - 1s 34ms/step - loss: 4.8449e-04\n",
            "Epoch 83/100\n",
            "20/20 [==============================] - 1s 34ms/step - loss: 4.6396e-04\n",
            "Epoch 84/100\n",
            "20/20 [==============================] - 1s 32ms/step - loss: 5.1358e-04\n",
            "Epoch 85/100\n",
            "20/20 [==============================] - 1s 34ms/step - loss: 4.6495e-04\n",
            "Epoch 86/100\n",
            "20/20 [==============================] - 1s 36ms/step - loss: 4.8180e-04\n",
            "Epoch 87/100\n",
            "20/20 [==============================] - 1s 32ms/step - loss: 5.1525e-04\n",
            "Epoch 88/100\n",
            "20/20 [==============================] - 1s 33ms/step - loss: 6.0024e-04\n",
            "Epoch 89/100\n",
            "20/20 [==============================] - 1s 35ms/step - loss: 8.7834e-04\n",
            "Epoch 90/100\n",
            "20/20 [==============================] - 1s 59ms/step - loss: 8.5232e-04\n",
            "Epoch 91/100\n",
            "20/20 [==============================] - 1s 59ms/step - loss: 4.9656e-04\n",
            "Epoch 92/100\n",
            "20/20 [==============================] - 1s 56ms/step - loss: 4.9548e-04\n",
            "Epoch 93/100\n",
            "20/20 [==============================] - 1s 33ms/step - loss: 4.7090e-04\n",
            "Epoch 94/100\n",
            "20/20 [==============================] - 1s 33ms/step - loss: 4.8687e-04\n",
            "Epoch 95/100\n",
            "20/20 [==============================] - 1s 34ms/step - loss: 4.7636e-04\n",
            "Epoch 96/100\n",
            "20/20 [==============================] - 1s 34ms/step - loss: 6.1863e-04\n",
            "Epoch 97/100\n",
            "20/20 [==============================] - 1s 33ms/step - loss: 4.6081e-04\n",
            "Epoch 98/100\n",
            "20/20 [==============================] - 1s 33ms/step - loss: 4.5777e-04\n",
            "Epoch 99/100\n",
            "20/20 [==============================] - 1s 34ms/step - loss: 4.9682e-04\n",
            "Epoch 100/100\n",
            "20/20 [==============================] - 1s 33ms/step - loss: 5.7609e-04\n"
          ]
        },
        {
          "output_type": "execute_result",
          "data": {
            "text/plain": [
              "<keras.src.callbacks.History at 0x7c98c26fc0a0>"
            ]
          },
          "metadata": {},
          "execution_count": 19
        }
      ]
    },
    {
      "cell_type": "code",
      "source": [
        "predictions_73 = model.predict(test_X_73)"
      ],
      "metadata": {
        "colab": {
          "base_uri": "https://localhost:8080/"
        },
        "id": "h41zx11idqOm",
        "outputId": "30f47d83-16e9-472c-cf2e-7bd8ecae34fb"
      },
      "execution_count": null,
      "outputs": [
        {
          "output_type": "stream",
          "name": "stdout",
          "text": [
            "16/16 [==============================] - 0s 12ms/step\n"
          ]
        }
      ]
    },
    {
      "cell_type": "code",
      "source": [
        "predictions_73 = scaler.inverse_transform(predictions_73)\n",
        "test_y_73 = scaler.inverse_transform(test_y_73)"
      ],
      "metadata": {
        "id": "hR1Mju5jdz68"
      },
      "execution_count": null,
      "outputs": []
    },
    {
      "cell_type": "code",
      "source": [
        "test_rmse = np.sqrt(np.mean((predictions_73 - test_y_73)**2))\n",
        "test_mape = np.mean(np.abs((test_y_73 - predictions_73) / test_y_73)) * 100\n",
        "test_mse = np.mean((np.array(test_y_73) - np.array(predictions_73))**2)\n",
        "print('Testing RMSE:', test_rmse)\n",
        "print('Testing MAPE:', test_mape)\n",
        "print('Testing MSE:', test_mse)"
      ],
      "metadata": {
        "colab": {
          "base_uri": "https://localhost:8080/"
        },
        "id": "fSptfv2bd_MP",
        "outputId": "d9bf39ce-c4c2-48e8-80e1-29ae85ef6bd5"
      },
      "execution_count": null,
      "outputs": [
        {
          "output_type": "stream",
          "name": "stdout",
          "text": [
            "Testing RMSE: 58.89944524575432\n",
            "Testing MAPE: 2.4894588924768275\n",
            "Testing MSE: 3469.1446502576114\n"
          ]
        }
      ]
    },
    {
      "cell_type": "code",
      "source": [
        "df1_restored = pd.DataFrame(df1, columns=['Close'])\n",
        "X_input_73= np.array([df1_restored[-60:]])  # Sử dụng dữ liệu cuối cùng trong tập dữ liệu\n",
        "# Sử dụng mô hình đã huấn luyện để dự đoán giá cổ phiếu cho 30 ngày tiếp theo\n",
        "predicted_prices_73 = []\n",
        "for i in range(30):\n",
        "    # Dự đoán giá cổ phiếu cho một ngày tiếp theo\n",
        "    next_price_73 = model.predict(X_input_73)\n",
        "    predicted_prices_73.append(next_price_73)\n",
        "\n",
        "    # Cập nhật dữ liệu đầu vào cho dự đoán tiếp theo\n",
        "    X_input_73 = np.roll(X_input_73, -1, axis=1)  # Dịch dữ liệu qua trái một bước\n",
        "    X_input_73[0, -1] = next_price_73  # Cập nhật giá dự đoán vào vị trí cuối cùng của dữ liệu đầu vào\n",
        "    i = i + 1"
      ],
      "metadata": {
        "colab": {
          "base_uri": "https://localhost:8080/"
        },
        "id": "0vS3xZl3ePnj",
        "outputId": "c81613c8-d557-4d5e-91ed-54c11ec31cfe"
      },
      "execution_count": null,
      "outputs": [
        {
          "output_type": "stream",
          "name": "stdout",
          "text": [
            "1/1 [==============================] - 0s 33ms/step\n",
            "1/1 [==============================] - 0s 30ms/step\n",
            "1/1 [==============================] - 0s 35ms/step\n",
            "1/1 [==============================] - 0s 30ms/step\n",
            "1/1 [==============================] - 0s 30ms/step\n",
            "1/1 [==============================] - 0s 35ms/step\n",
            "1/1 [==============================] - 0s 39ms/step\n",
            "1/1 [==============================] - 0s 33ms/step\n",
            "1/1 [==============================] - 0s 37ms/step\n",
            "1/1 [==============================] - 0s 32ms/step\n",
            "1/1 [==============================] - 0s 37ms/step\n",
            "1/1 [==============================] - 0s 33ms/step\n",
            "1/1 [==============================] - 0s 36ms/step\n",
            "1/1 [==============================] - 0s 32ms/step\n",
            "1/1 [==============================] - 0s 41ms/step\n",
            "1/1 [==============================] - 0s 31ms/step\n",
            "1/1 [==============================] - 0s 35ms/step\n",
            "1/1 [==============================] - 0s 36ms/step\n",
            "1/1 [==============================] - 0s 47ms/step\n",
            "1/1 [==============================] - 0s 21ms/step\n",
            "1/1 [==============================] - 0s 20ms/step\n",
            "1/1 [==============================] - 0s 21ms/step\n",
            "1/1 [==============================] - 0s 23ms/step\n",
            "1/1 [==============================] - 0s 22ms/step\n",
            "1/1 [==============================] - 0s 22ms/step\n",
            "1/1 [==============================] - 0s 28ms/step\n",
            "1/1 [==============================] - 0s 20ms/step\n",
            "1/1 [==============================] - 0s 20ms/step\n",
            "1/1 [==============================] - 0s 20ms/step\n",
            "1/1 [==============================] - 0s 20ms/step\n"
          ]
        }
      ]
    },
    {
      "cell_type": "code",
      "source": [
        "plot_predictions(train_y_73, test_y_73, predictions_73, predicted_prices_73)"
      ],
      "metadata": {
        "colab": {
          "base_uri": "https://localhost:8080/",
          "height": 432
        },
        "id": "bq6S7M7_eqpR",
        "outputId": "aebca083-2540-419c-8ec2-1585a31fac38"
      },
      "execution_count": null,
      "outputs": [
        {
          "output_type": "display_data",
          "data": {
            "text/plain": [
              "<Figure size 640x480 with 1 Axes>"
            ],
            "image/png": "[encoded data removed]"
          },
          "metadata": {}
        }
      ]
    },
    {
      "cell_type": "code",
      "source": [
        "train_size = int(0.9 * len(df1))"
      ],
      "metadata": {
        "id": "WXXXb1eVI9Te"
      },
      "execution_count": null,
      "outputs": []
    },
    {
      "cell_type": "code",
      "source": [
        "train_X_91, train_y_91, test_X_91, test_y_91 = create_dataset_with_window(df1, window_size=60)"
      ],
      "metadata": {
        "id": "V5_7lvXZJEUt"
      },
      "execution_count": null,
      "outputs": []
    },
    {
      "cell_type": "code",
      "source": [
        "model.fit(train_X_91, train_y_91, epochs=100, batch_size=64, verbose=1)"
      ],
      "metadata": {
        "colab": {
          "base_uri": "https://localhost:8080/"
        },
        "id": "UMcA2k3IJSVi",
        "outputId": "cf6a7afd-3734-4ea0-bd90-0e3a469f6e24"
      },
      "execution_count": null,
      "outputs": [
        {
          "output_type": "stream",
          "name": "stdout",
          "text": [
            "Epoch 1/100\n",
            "25/25 [==============================] - 1s 34ms/step - loss: 4.1635e-04\n",
            "Epoch 2/100\n",
            "25/25 [==============================] - 1s 35ms/step - loss: 4.0802e-04\n",
            "Epoch 3/100\n",
            "25/25 [==============================] - 1s 34ms/step - loss: 3.8242e-04\n",
            "Epoch 4/100\n",
            "25/25 [==============================] - 1s 35ms/step - loss: 3.8672e-04\n",
            "Epoch 5/100\n",
            "25/25 [==============================] - 1s 34ms/step - loss: 3.9307e-04\n",
            "Epoch 6/100\n",
            "25/25 [==============================] - 1s 34ms/step - loss: 3.7953e-04\n",
            "Epoch 7/100\n",
            "25/25 [==============================] - 1s 33ms/step - loss: 3.7273e-04\n",
            "Epoch 8/100\n",
            "25/25 [==============================] - 1s 33ms/step - loss: 3.7574e-04\n",
            "Epoch 9/100\n",
            "25/25 [==============================] - 1s 34ms/step - loss: 3.7668e-04\n",
            "Epoch 10/100\n",
            "25/25 [==============================] - 1s 34ms/step - loss: 4.3275e-04\n",
            "Epoch 11/100\n",
            "25/25 [==============================] - 1s 50ms/step - loss: 4.0042e-04\n",
            "Epoch 12/100\n",
            "25/25 [==============================] - 1s 57ms/step - loss: 3.8442e-04\n",
            "Epoch 13/100\n",
            "25/25 [==============================] - 1s 54ms/step - loss: 4.1609e-04\n",
            "Epoch 14/100\n",
            "25/25 [==============================] - 1s 35ms/step - loss: 3.9036e-04\n",
            "Epoch 15/100\n",
            "25/25 [==============================] - 1s 33ms/step - loss: 3.7145e-04\n",
            "Epoch 16/100\n",
            "25/25 [==============================] - 1s 34ms/step - loss: 3.8309e-04\n",
            "Epoch 17/100\n",
            "25/25 [==============================] - 1s 35ms/step - loss: 3.9027e-04\n",
            "Epoch 18/100\n",
            "25/25 [==============================] - 1s 34ms/step - loss: 3.7014e-04\n",
            "Epoch 19/100\n",
            "25/25 [==============================] - 1s 35ms/step - loss: 3.6212e-04\n",
            "Epoch 20/100\n",
            "25/25 [==============================] - 1s 35ms/step - loss: 3.8089e-04\n",
            "Epoch 21/100\n",
            "25/25 [==============================] - 1s 33ms/step - loss: 3.7993e-04\n",
            "Epoch 22/100\n",
            "25/25 [==============================] - 1s 34ms/step - loss: 3.8273e-04\n",
            "Epoch 23/100\n",
            "25/25 [==============================] - 1s 35ms/step - loss: 3.6630e-04\n",
            "Epoch 24/100\n",
            "25/25 [==============================] - 1s 34ms/step - loss: 3.9318e-04\n",
            "Epoch 25/100\n",
            "25/25 [==============================] - 1s 45ms/step - loss: 3.9508e-04\n",
            "Epoch 26/100\n",
            "25/25 [==============================] - 1s 60ms/step - loss: 4.5216e-04\n",
            "Epoch 27/100\n",
            "25/25 [==============================] - 1s 56ms/step - loss: 4.0775e-04\n",
            "Epoch 28/100\n",
            "25/25 [==============================] - 1s 34ms/step - loss: 3.8278e-04\n",
            "Epoch 29/100\n",
            "25/25 [==============================] - 1s 33ms/step - loss: 3.6250e-04\n",
            "Epoch 30/100\n",
            "25/25 [==============================] - 1s 34ms/step - loss: 3.6399e-04\n",
            "Epoch 31/100\n",
            "25/25 [==============================] - 1s 34ms/step - loss: 3.8132e-04\n",
            "Epoch 32/100\n",
            "25/25 [==============================] - 1s 35ms/step - loss: 4.2800e-04\n",
            "Epoch 33/100\n",
            "25/25 [==============================] - 1s 35ms/step - loss: 3.8370e-04\n",
            "Epoch 34/100\n",
            "25/25 [==============================] - 1s 37ms/step - loss: 3.8479e-04\n",
            "Epoch 35/100\n",
            "25/25 [==============================] - 1s 37ms/step - loss: 4.3496e-04\n",
            "Epoch 36/100\n",
            "25/25 [==============================] - 1s 34ms/step - loss: 3.8610e-04\n",
            "Epoch 37/100\n",
            "25/25 [==============================] - 1s 35ms/step - loss: 3.7093e-04\n",
            "Epoch 38/100\n",
            "25/25 [==============================] - 1s 33ms/step - loss: 3.7107e-04\n",
            "Epoch 39/100\n",
            "25/25 [==============================] - 1s 51ms/step - loss: 3.8739e-04\n",
            "Epoch 40/100\n",
            "25/25 [==============================] - 1s 57ms/step - loss: 4.0437e-04\n",
            "Epoch 41/100\n",
            "25/25 [==============================] - 1s 57ms/step - loss: 3.7662e-04\n",
            "Epoch 42/100\n",
            "25/25 [==============================] - 1s 34ms/step - loss: 3.8555e-04\n",
            "Epoch 43/100\n",
            "25/25 [==============================] - 1s 35ms/step - loss: 3.6409e-04\n",
            "Epoch 44/100\n",
            "25/25 [==============================] - 1s 33ms/step - loss: 3.6699e-04\n",
            "Epoch 45/100\n",
            "25/25 [==============================] - 1s 33ms/step - loss: 3.8549e-04\n",
            "Epoch 46/100\n",
            "25/25 [==============================] - 1s 34ms/step - loss: 3.5417e-04\n",
            "Epoch 47/100\n",
            "25/25 [==============================] - 1s 33ms/step - loss: 3.5989e-04\n",
            "Epoch 48/100\n",
            "25/25 [==============================] - 1s 34ms/step - loss: 3.7230e-04\n",
            "Epoch 49/100\n",
            "25/25 [==============================] - 1s 34ms/step - loss: 3.6278e-04\n",
            "Epoch 50/100\n",
            "25/25 [==============================] - 1s 33ms/step - loss: 3.8025e-04\n",
            "Epoch 51/100\n",
            "25/25 [==============================] - 1s 33ms/step - loss: 3.9137e-04\n",
            "Epoch 52/100\n",
            "25/25 [==============================] - 1s 33ms/step - loss: 3.8681e-04\n",
            "Epoch 53/100\n",
            "25/25 [==============================] - 1s 41ms/step - loss: 4.0332e-04\n",
            "Epoch 54/100\n",
            "25/25 [==============================] - 1s 57ms/step - loss: 4.1994e-04\n",
            "Epoch 55/100\n",
            "25/25 [==============================] - 1s 57ms/step - loss: 3.8762e-04\n",
            "Epoch 56/100\n",
            "25/25 [==============================] - 1s 41ms/step - loss: 4.2430e-04\n",
            "Epoch 57/100\n",
            "25/25 [==============================] - 1s 34ms/step - loss: 3.8137e-04\n",
            "Epoch 58/100\n",
            "25/25 [==============================] - 1s 33ms/step - loss: 3.8133e-04\n",
            "Epoch 59/100\n",
            "25/25 [==============================] - 1s 35ms/step - loss: 3.7735e-04\n",
            "Epoch 60/100\n",
            "25/25 [==============================] - 1s 34ms/step - loss: 3.7048e-04\n",
            "Epoch 61/100\n",
            "25/25 [==============================] - 1s 34ms/step - loss: 3.8131e-04\n",
            "Epoch 62/100\n",
            "25/25 [==============================] - 1s 35ms/step - loss: 3.5039e-04\n",
            "Epoch 63/100\n",
            "25/25 [==============================] - 1s 34ms/step - loss: 3.8649e-04\n",
            "Epoch 64/100\n",
            "25/25 [==============================] - 1s 34ms/step - loss: 3.8963e-04\n",
            "Epoch 65/100\n",
            "25/25 [==============================] - 1s 35ms/step - loss: 3.5616e-04\n",
            "Epoch 66/100\n",
            "25/25 [==============================] - 1s 35ms/step - loss: 3.6094e-04\n",
            "Epoch 67/100\n",
            "25/25 [==============================] - 1s 40ms/step - loss: 3.8147e-04\n",
            "Epoch 68/100\n",
            "25/25 [==============================] - 2s 62ms/step - loss: 3.9058e-04\n",
            "Epoch 69/100\n",
            "25/25 [==============================] - 1s 58ms/step - loss: 3.6821e-04\n",
            "Epoch 70/100\n",
            "25/25 [==============================] - 1s 35ms/step - loss: 3.6259e-04\n",
            "Epoch 71/100\n",
            "25/25 [==============================] - 1s 34ms/step - loss: 3.4916e-04\n",
            "Epoch 72/100\n",
            "25/25 [==============================] - 1s 34ms/step - loss: 3.5026e-04\n",
            "Epoch 73/100\n",
            "25/25 [==============================] - 1s 33ms/step - loss: 3.6372e-04\n",
            "Epoch 74/100\n",
            "25/25 [==============================] - 1s 34ms/step - loss: 3.5656e-04\n",
            "Epoch 75/100\n",
            "25/25 [==============================] - 1s 34ms/step - loss: 3.8488e-04\n",
            "Epoch 76/100\n",
            "25/25 [==============================] - 1s 35ms/step - loss: 3.5666e-04\n",
            "Epoch 77/100\n",
            "25/25 [==============================] - 1s 34ms/step - loss: 3.4882e-04\n",
            "Epoch 78/100\n",
            "25/25 [==============================] - 1s 32ms/step - loss: 3.6916e-04\n",
            "Epoch 79/100\n",
            "25/25 [==============================] - 1s 51ms/step - loss: 3.4485e-04\n",
            "Epoch 80/100\n",
            "25/25 [==============================] - 1s 33ms/step - loss: 3.5122e-04\n",
            "Epoch 81/100\n",
            "25/25 [==============================] - 1s 48ms/step - loss: 3.5127e-04\n",
            "Epoch 82/100\n",
            "25/25 [==============================] - 1s 57ms/step - loss: 3.7755e-04\n",
            "Epoch 83/100\n",
            "25/25 [==============================] - 1s 52ms/step - loss: 3.6667e-04\n",
            "Epoch 84/100\n",
            "25/25 [==============================] - 1s 35ms/step - loss: 3.5923e-04\n",
            "Epoch 85/100\n",
            "25/25 [==============================] - 1s 34ms/step - loss: 3.6311e-04\n",
            "Epoch 86/100\n",
            "25/25 [==============================] - 1s 34ms/step - loss: 3.6724e-04\n",
            "Epoch 87/100\n",
            "25/25 [==============================] - 1s 35ms/step - loss: 3.4017e-04\n",
            "Epoch 88/100\n",
            "25/25 [==============================] - 1s 35ms/step - loss: 3.8855e-04\n",
            "Epoch 89/100\n",
            "25/25 [==============================] - 1s 32ms/step - loss: 3.3499e-04\n",
            "Epoch 90/100\n",
            "25/25 [==============================] - 1s 35ms/step - loss: 3.5791e-04\n",
            "Epoch 91/100\n",
            "25/25 [==============================] - 1s 35ms/step - loss: 3.7865e-04\n",
            "Epoch 92/100\n",
            "25/25 [==============================] - 1s 33ms/step - loss: 3.6060e-04\n",
            "Epoch 93/100\n",
            "25/25 [==============================] - 1s 34ms/step - loss: 3.5142e-04\n",
            "Epoch 94/100\n",
            "25/25 [==============================] - 1s 34ms/step - loss: 3.6495e-04\n",
            "Epoch 95/100\n",
            "25/25 [==============================] - 1s 50ms/step - loss: 3.6748e-04\n",
            "Epoch 96/100\n",
            "25/25 [==============================] - 1s 59ms/step - loss: 3.7560e-04\n",
            "Epoch 97/100\n",
            "25/25 [==============================] - 2s 61ms/step - loss: 3.7700e-04\n",
            "Epoch 98/100\n",
            "25/25 [==============================] - 1s 33ms/step - loss: 3.6269e-04\n",
            "Epoch 99/100\n",
            "25/25 [==============================] - 1s 35ms/step - loss: 3.5257e-04\n",
            "Epoch 100/100\n",
            "25/25 [==============================] - 1s 34ms/step - loss: 3.6742e-04\n"
          ]
        },
        {
          "output_type": "execute_result",
          "data": {
            "text/plain": [
              "<keras.src.callbacks.History at 0x7c98c2544a60>"
            ]
          },
          "metadata": {},
          "execution_count": 27
        }
      ]
    },
    {
      "cell_type": "code",
      "source": [
        "predictions_91 = model.predict(test_X_91)"
      ],
      "metadata": {
        "colab": {
          "base_uri": "https://localhost:8080/"
        },
        "id": "TAUdNOumKB8e",
        "outputId": "46e9e6ec-3d00-4c13-f969-8bb89d7e1272"
      },
      "execution_count": null,
      "outputs": [
        {
          "output_type": "stream",
          "name": "stdout",
          "text": [
            "4/4 [==============================] - 0s 10ms/step\n"
          ]
        }
      ]
    },
    {
      "cell_type": "code",
      "source": [
        "predictions_91 = scaler.inverse_transform(predictions_91)\n",
        "test_y_91 = scaler.inverse_transform(test_y_91)"
      ],
      "metadata": {
        "id": "mhTIerKTKFDm"
      },
      "execution_count": null,
      "outputs": []
    },
    {
      "cell_type": "code",
      "source": [
        "test_rmse = np.sqrt(np.mean((predictions_91 - test_y_91)**2))\n",
        "test_mape = np.mean(np.abs((test_y_91 - predictions_91) / test_y_91)) * 100\n",
        "test_mse = np.mean((np.array(test_y_91) - np.array(predictions_91))**2)\n",
        "print('Testing RMSE:', test_rmse)\n",
        "print('Testing MAPE:', test_mape)\n",
        "print('Testing MSE:', test_mse)"
      ],
      "metadata": {
        "colab": {
          "base_uri": "https://localhost:8080/"
        },
        "id": "SGpXlqiQKNoR",
        "outputId": "3daa6afa-c5d6-442c-9154-b614cbcd6e05"
      },
      "execution_count": null,
      "outputs": [
        {
          "output_type": "stream",
          "name": "stdout",
          "text": [
            "Testing RMSE: 67.41230700621163\n",
            "Testing MAPE: 2.1237323609938557\n",
            "Testing MSE: 4544.4191358997305\n"
          ]
        }
      ]
    },
    {
      "cell_type": "code",
      "source": [
        "df1_restored = pd.DataFrame(df1, columns=['Close'])\n",
        "X_input_91= np.array([df1_restored[-60:]])  # Sử dụng dữ liệu cuối cùng trong tập dữ liệu\n",
        "# Sử dụng mô hình đã huấn luyện để dự đoán giá cổ phiếu cho 30 ngày tiếp theo\n",
        "predicted_prices_91 = []\n",
        "for i in range(30):\n",
        "    # Dự đoán giá cổ phiếu cho một ngày tiếp theo\n",
        "    next_price_91 = model.predict(X_input_91)\n",
        "    predicted_prices_91.append(next_price_91)\n",
        "\n",
        "    # Cập nhật dữ liệu đầu vào cho dự đoán tiếp theo\n",
        "    X_input_91 = np.roll(X_input_91, -1, axis=1)  # Dịch dữ liệu qua trái một bước\n",
        "    X_input_91[0, -1] = next_price_91  # Cập nhật giá dự đoán vào vị trí cuối cùng của dữ liệu đầu vào\n",
        "    i = i + 1"
      ],
      "metadata": {
        "colab": {
          "base_uri": "https://localhost:8080/"
        },
        "id": "OQEIUJgzKdmd",
        "outputId": "9c63df22-df84-43d5-ca06-1c5d169ec309"
      },
      "execution_count": null,
      "outputs": [
        {
          "output_type": "stream",
          "name": "stdout",
          "text": [
            "1/1 [==============================] - 0s 21ms/step\n",
            "1/1 [==============================] - 0s 20ms/step\n",
            "1/1 [==============================] - 0s 19ms/step\n",
            "1/1 [==============================] - 0s 20ms/step\n",
            "1/1 [==============================] - 0s 19ms/step\n",
            "1/1 [==============================] - 0s 20ms/step\n",
            "1/1 [==============================] - 0s 20ms/step\n",
            "1/1 [==============================] - 0s 20ms/step\n",
            "1/1 [==============================] - 0s 20ms/step\n",
            "1/1 [==============================] - 0s 19ms/step\n",
            "1/1 [==============================] - 0s 20ms/step\n",
            "1/1 [==============================] - 0s 20ms/step\n",
            "1/1 [==============================] - 0s 20ms/step\n",
            "1/1 [==============================] - 0s 23ms/step\n",
            "1/1 [==============================] - 0s 23ms/step\n",
            "1/1 [==============================] - 0s 20ms/step\n",
            "1/1 [==============================] - 0s 21ms/step\n",
            "1/1 [==============================] - 0s 20ms/step\n",
            "1/1 [==============================] - 0s 22ms/step\n",
            "1/1 [==============================] - 0s 21ms/step\n",
            "1/1 [==============================] - 0s 22ms/step\n",
            "1/1 [==============================] - 0s 25ms/step\n",
            "1/1 [==============================] - 0s 22ms/step\n",
            "1/1 [==============================] - 0s 21ms/step\n",
            "1/1 [==============================] - 0s 22ms/step\n",
            "1/1 [==============================] - 0s 22ms/step\n",
            "1/1 [==============================] - 0s 24ms/step\n",
            "1/1 [==============================] - 0s 23ms/step\n",
            "1/1 [==============================] - 0s 27ms/step\n",
            "1/1 [==============================] - 0s 21ms/step\n"
          ]
        }
      ]
    },
    {
      "cell_type": "code",
      "source": [
        "plot_predictions(train_y_91, test_y_91, predictions_91, predicted_prices_91)"
      ],
      "metadata": {
        "colab": {
          "base_uri": "https://localhost:8080/",
          "height": 432
        },
        "id": "QhPcY860K3h_",
        "outputId": "0576a690-068c-40ec-fb63-ed916f397a19"
      },
      "execution_count": null,
      "outputs": [
        {
          "output_type": "display_data",
          "data": {
            "text/plain": [
              "<Figure size 640x480 with 1 Axes>"
            ],
            "image/png": "[encoded data removed]"
          },
          "metadata": {}
        }
      ]
    }
  ]
}