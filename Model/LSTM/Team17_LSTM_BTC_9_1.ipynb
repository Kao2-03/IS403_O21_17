{
  "nbformat": 4,
  "nbformat_minor": 0,
  "metadata": {
    "colab": {
      "provenance": []
    },
    "kernelspec": {
      "name": "python3",
      "display_name": "Python 3"
    },
    "language_info": {
      "name": "python"
    }
  },
  "cells": [
    {
      "cell_type": "code",
      "execution_count": null,
      "metadata": {
        "colab": {
          "base_uri": "https://localhost:8080/"
        },
        "id": "FcIedFGM8Y47",
        "outputId": "14b81758-505c-41f6-ba28-981d57b8a53d"
      },
      "outputs": [
        {
          "output_type": "stream",
          "name": "stdout",
          "text": [
            "Mounted at /content/drive\n"
          ]
        }
      ],
      "source": [
        "from google.colab import drive\n",
        "drive.mount('/content/drive')"
      ]
    },
    {
      "cell_type": "code",
      "source": [
        "\n",
        "import warnings\n",
        "import pandas as pd\n",
        "warnings.filterwarnings(\"ignore\")\n",
        "import logging\n",
        "logging.disable(logging.CRITICAL)\n"
      ],
      "metadata": {
        "id": "EvJU6s4b9v0v"
      },
      "execution_count": null,
      "outputs": []
    },
    {
      "cell_type": "code",
      "source": [
        "!pip install tensorflow"
      ],
      "metadata": {
        "colab": {
          "base_uri": "https://localhost:8080/"
        },
        "id": "sdyT3NT4anGV",
        "outputId": "2f9447fd-7d7b-488b-908c-3ab1484626fe"
      },
      "execution_count": null,
      "outputs": [
        {
          "output_type": "stream",
          "name": "stdout",
          "text": [
            "Requirement already satisfied: tensorflow in /usr/local/lib/python3.10/dist-packages (2.15.0)\n",
            "Requirement already satisfied: absl-py>=1.0.0 in /usr/local/lib/python3.10/dist-packages (from tensorflow) (1.4.0)\n",
            "Requirement already satisfied: astunparse>=1.6.0 in /usr/local/lib/python3.10/dist-packages (from tensorflow) (1.6.3)\n",
            "Requirement already satisfied: flatbuffers>=23.5.26 in /usr/local/lib/python3.10/dist-packages (from tensorflow) (24.3.25)\n",
            "Requirement already satisfied: gast!=0.5.0,!=0.5.1,!=0.5.2,>=0.2.1 in /usr/local/lib/python3.10/dist-packages (from tensorflow) (0.5.4)\n",
            "Requirement already satisfied: google-pasta>=0.1.1 in /usr/local/lib/python3.10/dist-packages (from tensorflow) (0.2.0)\n",
            "Requirement already satisfied: h5py>=2.9.0 in /usr/local/lib/python3.10/dist-packages (from tensorflow) (3.9.0)\n",
            "Requirement already satisfied: libclang>=13.0.0 in /usr/local/lib/python3.10/dist-packages (from tensorflow) (18.1.1)\n",
            "Requirement already satisfied: ml-dtypes~=0.2.0 in /usr/local/lib/python3.10/dist-packages (from tensorflow) (0.2.0)\n",
            "Requirement already satisfied: numpy<2.0.0,>=1.23.5 in /usr/local/lib/python3.10/dist-packages (from tensorflow) (1.25.2)\n",
            "Requirement already satisfied: opt-einsum>=2.3.2 in /usr/local/lib/python3.10/dist-packages (from tensorflow) (3.3.0)\n",
            "Requirement already satisfied: packaging in /usr/local/lib/python3.10/dist-packages (from tensorflow) (24.1)\n",
            "Requirement already satisfied: protobuf!=4.21.0,!=4.21.1,!=4.21.2,!=4.21.3,!=4.21.4,!=4.21.5,<5.0.0dev,>=3.20.3 in /usr/local/lib/python3.10/dist-packages (from tensorflow) (3.20.3)\n",
            "Requirement already satisfied: setuptools in /usr/local/lib/python3.10/dist-packages (from tensorflow) (67.7.2)\n",
            "Requirement already satisfied: six>=1.12.0 in /usr/local/lib/python3.10/dist-packages (from tensorflow) (1.16.0)\n",
            "Requirement already satisfied: termcolor>=1.1.0 in /usr/local/lib/python3.10/dist-packages (from tensorflow) (2.4.0)\n",
            "Requirement already satisfied: typing-extensions>=3.6.6 in /usr/local/lib/python3.10/dist-packages (from tensorflow) (4.12.2)\n",
            "Requirement already satisfied: wrapt<1.15,>=1.11.0 in /usr/local/lib/python3.10/dist-packages (from tensorflow) (1.14.1)\n",
            "Requirement already satisfied: tensorflow-io-gcs-filesystem>=0.23.1 in /usr/local/lib/python3.10/dist-packages (from tensorflow) (0.37.0)\n",
            "Requirement already satisfied: grpcio<2.0,>=1.24.3 in /usr/local/lib/python3.10/dist-packages (from tensorflow) (1.64.1)\n",
            "Requirement already satisfied: tensorboard<2.16,>=2.15 in /usr/local/lib/python3.10/dist-packages (from tensorflow) (2.15.2)\n",
            "Requirement already satisfied: tensorflow-estimator<2.16,>=2.15.0 in /usr/local/lib/python3.10/dist-packages (from tensorflow) (2.15.0)\n",
            "Requirement already satisfied: keras<2.16,>=2.15.0 in /usr/local/lib/python3.10/dist-packages (from tensorflow) (2.15.0)\n",
            "Requirement already satisfied: wheel<1.0,>=0.23.0 in /usr/local/lib/python3.10/dist-packages (from astunparse>=1.6.0->tensorflow) (0.43.0)\n",
            "Requirement already satisfied: google-auth<3,>=1.6.3 in /usr/local/lib/python3.10/dist-packages (from tensorboard<2.16,>=2.15->tensorflow) (2.27.0)\n",
            "Requirement already satisfied: google-auth-oauthlib<2,>=0.5 in /usr/local/lib/python3.10/dist-packages (from tensorboard<2.16,>=2.15->tensorflow) (1.2.0)\n",
            "Requirement already satisfied: markdown>=2.6.8 in /usr/local/lib/python3.10/dist-packages (from tensorboard<2.16,>=2.15->tensorflow) (3.6)\n",
            "Requirement already satisfied: requests<3,>=2.21.0 in /usr/local/lib/python3.10/dist-packages (from tensorboard<2.16,>=2.15->tensorflow) (2.31.0)\n",
            "Requirement already satisfied: tensorboard-data-server<0.8.0,>=0.7.0 in /usr/local/lib/python3.10/dist-packages (from tensorboard<2.16,>=2.15->tensorflow) (0.7.2)\n",
            "Requirement already satisfied: werkzeug>=1.0.1 in /usr/local/lib/python3.10/dist-packages (from tensorboard<2.16,>=2.15->tensorflow) (3.0.3)\n",
            "Requirement already satisfied: cachetools<6.0,>=2.0.0 in /usr/local/lib/python3.10/dist-packages (from google-auth<3,>=1.6.3->tensorboard<2.16,>=2.15->tensorflow) (5.3.3)\n",
            "Requirement already satisfied: pyasn1-modules>=0.2.1 in /usr/local/lib/python3.10/dist-packages (from google-auth<3,>=1.6.3->tensorboard<2.16,>=2.15->tensorflow) (0.4.0)\n",
            "Requirement already satisfied: rsa<5,>=3.1.4 in /usr/local/lib/python3.10/dist-packages (from google-auth<3,>=1.6.3->tensorboard<2.16,>=2.15->tensorflow) (4.9)\n",
            "Requirement already satisfied: requests-oauthlib>=0.7.0 in /usr/local/lib/python3.10/dist-packages (from google-auth-oauthlib<2,>=0.5->tensorboard<2.16,>=2.15->tensorflow) (1.3.1)\n",
            "Requirement already satisfied: charset-normalizer<4,>=2 in /usr/local/lib/python3.10/dist-packages (from requests<3,>=2.21.0->tensorboard<2.16,>=2.15->tensorflow) (3.3.2)\n",
            "Requirement already satisfied: idna<4,>=2.5 in /usr/local/lib/python3.10/dist-packages (from requests<3,>=2.21.0->tensorboard<2.16,>=2.15->tensorflow) (3.7)\n",
            "Requirement already satisfied: urllib3<3,>=1.21.1 in /usr/local/lib/python3.10/dist-packages (from requests<3,>=2.21.0->tensorboard<2.16,>=2.15->tensorflow) (2.0.7)\n",
            "Requirement already satisfied: certifi>=2017.4.17 in /usr/local/lib/python3.10/dist-packages (from requests<3,>=2.21.0->tensorboard<2.16,>=2.15->tensorflow) (2024.6.2)\n",
            "Requirement already satisfied: MarkupSafe>=2.1.1 in /usr/local/lib/python3.10/dist-packages (from werkzeug>=1.0.1->tensorboard<2.16,>=2.15->tensorflow) (2.1.5)\n",
            "Requirement already satisfied: pyasn1<0.7.0,>=0.4.6 in /usr/local/lib/python3.10/dist-packages (from pyasn1-modules>=0.2.1->google-auth<3,>=1.6.3->tensorboard<2.16,>=2.15->tensorflow) (0.6.0)\n",
            "Requirement already satisfied: oauthlib>=3.0.0 in /usr/local/lib/python3.10/dist-packages (from requests-oauthlib>=0.7.0->google-auth-oauthlib<2,>=0.5->tensorboard<2.16,>=2.15->tensorflow) (3.2.2)\n"
          ]
        }
      ]
    },
    {
      "cell_type": "markdown",
      "source": [],
      "metadata": {
        "id": "ZcpuW45yKh3W"
      }
    },
    {
      "cell_type": "code",
      "source": [
        "df = pd.read_csv('/content/drive/MyDrive/UU/BTC-USD (BaoCao).csv')\n",
        "\n",
        "\n",
        "df = df.groupby('Date').sum()"
      ],
      "metadata": {
        "id": "2hjIKH7y9xmL"
      },
      "execution_count": 220,
      "outputs": []
    },
    {
      "cell_type": "code",
      "source": [
        "!pip install keras"
      ],
      "metadata": {
        "id": "vAd-vwko9yIu",
        "colab": {
          "base_uri": "https://localhost:8080/"
        },
        "outputId": "e4c3b692-d6bb-4761-bb3c-9ee9dae3a084"
      },
      "execution_count": null,
      "outputs": [
        {
          "output_type": "stream",
          "name": "stdout",
          "text": [
            "Requirement already satisfied: keras in /usr/local/lib/python3.10/dist-packages (2.15.0)\n"
          ]
        }
      ]
    },
    {
      "cell_type": "code",
      "source": [
        "df"
      ],
      "metadata": {
        "colab": {
          "base_uri": "https://localhost:8080/",
          "height": 455
        },
        "id": "yIImleg3R_IW",
        "outputId": "3528250d-26d2-4e6e-e2c4-94115804ee63"
      },
      "execution_count": 221,
      "outputs": [
        {
          "output_type": "execute_result",
          "data": {
            "text/plain": [
              "                    Open          High           Low         Close  \\\n",
              "Date                                                                 \n",
              "2019-03-01   3853.757080   3907.795410   3851.692383   3859.583740   \n",
              "2019-03-02   3855.318115   3874.607422   3832.127930   3864.415039   \n",
              "2019-03-03   3862.266113   3875.483643   3836.905762   3847.175781   \n",
              "2019-03-04   3845.091553   3867.381836   3733.749756   3761.557129   \n",
              "2019-03-05   3759.832520   3903.916748   3745.183105   3896.375000   \n",
              "...                  ...           ...           ...           ...   \n",
              "2024-05-28  69392.195313  69514.640625  67227.156250  68296.218750   \n",
              "2024-05-29  68296.351563  68852.460938  67101.492188  67578.093750   \n",
              "2024-05-30  67576.085938  69500.539063  67118.078125  68364.992188   \n",
              "2024-05-31  68362.515625  68999.562500  66633.421875  67491.414063   \n",
              "2024-06-01  67489.609375  67839.765625  67386.195313  67706.937500   \n",
              "\n",
              "               Adj Close       Volume  \n",
              "Date                                   \n",
              "2019-03-01   3859.583740   7661247975  \n",
              "2019-03-02   3864.415039   7578786076  \n",
              "2019-03-03   3847.175781   7253558152  \n",
              "2019-03-04   3761.557129   9029175788  \n",
              "2019-03-05   3896.375000  10174126415  \n",
              "...                  ...          ...  \n",
              "2024-05-28  68296.218750  32722265965  \n",
              "2024-05-29  67578.093750  26707072906  \n",
              "2024-05-30  68364.992188  29509712534  \n",
              "2024-05-31  67491.414063  27387283769  \n",
              "2024-06-01  67706.937500  11641495604  \n",
              "\n",
              "[1920 rows x 6 columns]"
            ],
            "text/html": [
              "\n",
              "  <div id=\"df-a5083470-946d-4e67-9282-6232bd71fb92\" class=\"colab-df-container\">\n",
              "    <div>\n",
              "<style scoped>\n",
              "    .dataframe tbody tr th:only-of-type {\n",
              "        vertical-align: middle;\n",
              "    }\n",
              "\n",
              "    .dataframe tbody tr th {\n",
              "        vertical-align: top;\n",
              "    }\n",
              "\n",
              "    .dataframe thead th {\n",
              "        text-align: right;\n",
              "    }\n",
              "</style>\n",
              "<table border=\"1\" class=\"dataframe\">\n",
              "  <thead>\n",
              "    <tr style=\"text-align: right;\">\n",
              "      <th></th>\n",
              "      <th>Open</th>\n",
              "      <th>High</th>\n",
              "      <th>Low</th>\n",
              "      <th>Close</th>\n",
              "      <th>Adj Close</th>\n",
              "      <th>Volume</th>\n",
              "    </tr>\n",
              "    <tr>\n",
              "      <th>Date</th>\n",
              "      <th></th>\n",
              "      <th></th>\n",
              "      <th></th>\n",
              "      <th></th>\n",
              "      <th></th>\n",
              "      <th></th>\n",
              "    </tr>\n",
              "  </thead>\n",
              "  <tbody>\n",
              "    <tr>\n",
              "      <th>2019-03-01</th>\n",
              "      <td>3853.757080</td>\n",
              "      <td>3907.795410</td>\n",
              "      <td>3851.692383</td>\n",
              "      <td>3859.583740</td>\n",
              "      <td>3859.583740</td>\n",
              "      <td>7661247975</td>\n",
              "    </tr>\n",
              "    <tr>\n",
              "      <th>2019-03-02</th>\n",
              "      <td>3855.318115</td>\n",
              "      <td>3874.607422</td>\n",
              "      <td>3832.127930</td>\n",
              "      <td>3864.415039</td>\n",
              "      <td>3864.415039</td>\n",
              "      <td>7578786076</td>\n",
              "    </tr>\n",
              "    <tr>\n",
              "      <th>2019-03-03</th>\n",
              "      <td>3862.266113</td>\n",
              "      <td>3875.483643</td>\n",
              "      <td>3836.905762</td>\n",
              "      <td>3847.175781</td>\n",
              "      <td>3847.175781</td>\n",
              "      <td>7253558152</td>\n",
              "    </tr>\n",
              "    <tr>\n",
              "      <th>2019-03-04</th>\n",
              "      <td>3845.091553</td>\n",
              "      <td>3867.381836</td>\n",
              "      <td>3733.749756</td>\n",
              "      <td>3761.557129</td>\n",
              "      <td>3761.557129</td>\n",
              "      <td>9029175788</td>\n",
              "    </tr>\n",
              "    <tr>\n",
              "      <th>2019-03-05</th>\n",
              "      <td>3759.832520</td>\n",
              "      <td>3903.916748</td>\n",
              "      <td>3745.183105</td>\n",
              "      <td>3896.375000</td>\n",
              "      <td>3896.375000</td>\n",
              "      <td>10174126415</td>\n",
              "    </tr>\n",
              "    <tr>\n",
              "      <th>...</th>\n",
              "      <td>...</td>\n",
              "      <td>...</td>\n",
              "      <td>...</td>\n",
              "      <td>...</td>\n",
              "      <td>...</td>\n",
              "      <td>...</td>\n",
              "    </tr>\n",
              "    <tr>\n",
              "      <th>2024-05-28</th>\n",
              "      <td>69392.195313</td>\n",
              "      <td>69514.640625</td>\n",
              "      <td>67227.156250</td>\n",
              "      <td>68296.218750</td>\n",
              "      <td>68296.218750</td>\n",
              "      <td>32722265965</td>\n",
              "    </tr>\n",
              "    <tr>\n",
              "      <th>2024-05-29</th>\n",
              "      <td>68296.351563</td>\n",
              "      <td>68852.460938</td>\n",
              "      <td>67101.492188</td>\n",
              "      <td>67578.093750</td>\n",
              "      <td>67578.093750</td>\n",
              "      <td>26707072906</td>\n",
              "    </tr>\n",
              "    <tr>\n",
              "      <th>2024-05-30</th>\n",
              "      <td>67576.085938</td>\n",
              "      <td>69500.539063</td>\n",
              "      <td>67118.078125</td>\n",
              "      <td>68364.992188</td>\n",
              "      <td>68364.992188</td>\n",
              "      <td>29509712534</td>\n",
              "    </tr>\n",
              "    <tr>\n",
              "      <th>2024-05-31</th>\n",
              "      <td>68362.515625</td>\n",
              "      <td>68999.562500</td>\n",
              "      <td>66633.421875</td>\n",
              "      <td>67491.414063</td>\n",
              "      <td>67491.414063</td>\n",
              "      <td>27387283769</td>\n",
              "    </tr>\n",
              "    <tr>\n",
              "      <th>2024-06-01</th>\n",
              "      <td>67489.609375</td>\n",
              "      <td>67839.765625</td>\n",
              "      <td>67386.195313</td>\n",
              "      <td>67706.937500</td>\n",
              "      <td>67706.937500</td>\n",
              "      <td>11641495604</td>\n",
              "    </tr>\n",
              "  </tbody>\n",
              "</table>\n",
              "<p>1920 rows × 6 columns</p>\n",
              "</div>\n",
              "    <div class=\"colab-df-buttons\">\n",
              "\n",
              "  <div class=\"colab-df-container\">\n",
              "    <button class=\"colab-df-convert\" onclick=\"convertToInteractive('df-a5083470-946d-4e67-9282-6232bd71fb92')\"\n",
              "            title=\"Convert this dataframe to an interactive table.\"\n",
              "            style=\"display:none;\">\n",
              "\n",
              "  <svg xmlns=\"http://www.w3.org/2000/svg\" height=\"24px\" viewBox=\"0 -960 960 960\">\n",
              "    <path d=\"M120-120v-720h720v720H120Zm60-500h600v-160H180v160Zm220 220h160v-160H400v160Zm0 220h160v-160H400v160ZM180-400h160v-160H180v160Zm440 0h160v-160H620v160ZM180-180h160v-160H180v160Zm440 0h160v-160H620v160Z\"/>\n",
              "  </svg>\n",
              "    </button>\n",
              "\n",
              "  <style>\n",
              "    .colab-df-container {\n",
              "      display:flex;\n",
              "      gap: 12px;\n",
              "    }\n",
              "\n",
              "    .colab-df-convert {\n",
              "      background-color: #E8F0FE;\n",
              "      border: none;\n",
              "      border-radius: 50%;\n",
              "      cursor: pointer;\n",
              "      display: none;\n",
              "      fill: #1967D2;\n",
              "      height: 32px;\n",
              "      padding: 0 0 0 0;\n",
              "      width: 32px;\n",
              "    }\n",
              "\n",
              "    .colab-df-convert:hover {\n",
              "      background-color: #E2EBFA;\n",
              "      box-shadow: 0px 1px 2px rgba(60, 64, 67, 0.3), 0px 1px 3px 1px rgba(60, 64, 67, 0.15);\n",
              "      fill: #174EA6;\n",
              "    }\n",
              "\n",
              "    .colab-df-buttons div {\n",
              "      margin-bottom: 4px;\n",
              "    }\n",
              "\n",
              "    [theme=dark] .colab-df-convert {\n",
              "      background-color: #3B4455;\n",
              "      fill: #D2E3FC;\n",
              "    }\n",
              "\n",
              "    [theme=dark] .colab-df-convert:hover {\n",
              "      background-color: #434B5C;\n",
              "      box-shadow: 0px 1px 3px 1px rgba(0, 0, 0, 0.15);\n",
              "      filter: drop-shadow(0px 1px 2px rgba(0, 0, 0, 0.3));\n",
              "      fill: #FFFFFF;\n",
              "    }\n",
              "  </style>\n",
              "\n",
              "    <script>\n",
              "      const buttonEl =\n",
              "        document.querySelector('#df-a5083470-946d-4e67-9282-6232bd71fb92 button.colab-df-convert');\n",
              "      buttonEl.style.display =\n",
              "        google.colab.kernel.accessAllowed ? 'block' : 'none';\n",
              "\n",
              "      async function convertToInteractive(key) {\n",
              "        const element = document.querySelector('#df-a5083470-946d-4e67-9282-6232bd71fb92');\n",
              "        const dataTable =\n",
              "          await google.colab.kernel.invokeFunction('convertToInteractive',\n",
              "                                                    [key], {});\n",
              "        if (!dataTable) return;\n",
              "\n",
              "        const docLinkHtml = 'Like what you see? Visit the ' +\n",
              "          '<a target=\"_blank\" href=https://colab.research.google.com/notebooks/data_table.ipynb>data table notebook</a>'\n",
              "          + ' to learn more about interactive tables.';\n",
              "        element.innerHTML = '';\n",
              "        dataTable['output_type'] = 'display_data';\n",
              "        await google.colab.output.renderOutput(dataTable, element);\n",
              "        const docLink = document.createElement('div');\n",
              "        docLink.innerHTML = docLinkHtml;\n",
              "        element.appendChild(docLink);\n",
              "      }\n",
              "    </script>\n",
              "  </div>\n",
              "\n",
              "\n",
              "<div id=\"df-2b3545e6-bc17-4145-9214-ad01d3b64578\">\n",
              "  <button class=\"colab-df-quickchart\" onclick=\"quickchart('df-2b3545e6-bc17-4145-9214-ad01d3b64578')\"\n",
              "            title=\"Suggest charts\"\n",
              "            style=\"display:none;\">\n",
              "\n",
              "<svg xmlns=\"http://www.w3.org/2000/svg\" height=\"24px\"viewBox=\"0 0 24 24\"\n",
              "     width=\"24px\">\n",
              "    <g>\n",
              "        <path d=\"M19 3H5c-1.1 0-2 .9-2 2v14c0 1.1.9 2 2 2h14c1.1 0 2-.9 2-2V5c0-1.1-.9-2-2-2zM9 17H7v-7h2v7zm4 0h-2V7h2v10zm4 0h-2v-4h2v4z\"/>\n",
              "    </g>\n",
              "</svg>\n",
              "  </button>\n",
              "\n",
              "<style>\n",
              "  .colab-df-quickchart {\n",
              "      --bg-color: #E8F0FE;\n",
              "      --fill-color: #1967D2;\n",
              "      --hover-bg-color: #E2EBFA;\n",
              "      --hover-fill-color: #174EA6;\n",
              "      --disabled-fill-color: #AAA;\n",
              "      --disabled-bg-color: #DDD;\n",
              "  }\n",
              "\n",
              "  [theme=dark] .colab-df-quickchart {\n",
              "      --bg-color: #3B4455;\n",
              "      --fill-color: #D2E3FC;\n",
              "      --hover-bg-color: #434B5C;\n",
              "      --hover-fill-color: #FFFFFF;\n",
              "      --disabled-bg-color: #3B4455;\n",
              "      --disabled-fill-color: #666;\n",
              "  }\n",
              "\n",
              "  .colab-df-quickchart {\n",
              "    background-color: var(--bg-color);\n",
              "    border: none;\n",
              "    border-radius: 50%;\n",
              "    cursor: pointer;\n",
              "    display: none;\n",
              "    fill: var(--fill-color);\n",
              "    height: 32px;\n",
              "    padding: 0;\n",
              "    width: 32px;\n",
              "  }\n",
              "\n",
              "  .colab-df-quickchart:hover {\n",
              "    background-color: var(--hover-bg-color);\n",
              "    box-shadow: 0 1px 2px rgba(60, 64, 67, 0.3), 0 1px 3px 1px rgba(60, 64, 67, 0.15);\n",
              "    fill: var(--button-hover-fill-color);\n",
              "  }\n",
              "\n",
              "  .colab-df-quickchart-complete:disabled,\n",
              "  .colab-df-quickchart-complete:disabled:hover {\n",
              "    background-color: var(--disabled-bg-color);\n",
              "    fill: var(--disabled-fill-color);\n",
              "    box-shadow: none;\n",
              "  }\n",
              "\n",
              "  .colab-df-spinner {\n",
              "    border: 2px solid var(--fill-color);\n",
              "    border-color: transparent;\n",
              "    border-bottom-color: var(--fill-color);\n",
              "    animation:\n",
              "      spin 1s steps(1) infinite;\n",
              "  }\n",
              "\n",
              "  @keyframes spin {\n",
              "    0% {\n",
              "      border-color: transparent;\n",
              "      border-bottom-color: var(--fill-color);\n",
              "      border-left-color: var(--fill-color);\n",
              "    }\n",
              "    20% {\n",
              "      border-color: transparent;\n",
              "      border-left-color: var(--fill-color);\n",
              "      border-top-color: var(--fill-color);\n",
              "    }\n",
              "    30% {\n",
              "      border-color: transparent;\n",
              "      border-left-color: var(--fill-color);\n",
              "      border-top-color: var(--fill-color);\n",
              "      border-right-color: var(--fill-color);\n",
              "    }\n",
              "    40% {\n",
              "      border-color: transparent;\n",
              "      border-right-color: var(--fill-color);\n",
              "      border-top-color: var(--fill-color);\n",
              "    }\n",
              "    60% {\n",
              "      border-color: transparent;\n",
              "      border-right-color: var(--fill-color);\n",
              "    }\n",
              "    80% {\n",
              "      border-color: transparent;\n",
              "      border-right-color: var(--fill-color);\n",
              "      border-bottom-color: var(--fill-color);\n",
              "    }\n",
              "    90% {\n",
              "      border-color: transparent;\n",
              "      border-bottom-color: var(--fill-color);\n",
              "    }\n",
              "  }\n",
              "</style>\n",
              "\n",
              "  <script>\n",
              "    async function quickchart(key) {\n",
              "      const quickchartButtonEl =\n",
              "        document.querySelector('#' + key + ' button');\n",
              "      quickchartButtonEl.disabled = true;  // To prevent multiple clicks.\n",
              "      quickchartButtonEl.classList.add('colab-df-spinner');\n",
              "      try {\n",
              "        const charts = await google.colab.kernel.invokeFunction(\n",
              "            'suggestCharts', [key], {});\n",
              "      } catch (error) {\n",
              "        console.error('Error during call to suggestCharts:', error);\n",
              "      }\n",
              "      quickchartButtonEl.classList.remove('colab-df-spinner');\n",
              "      quickchartButtonEl.classList.add('colab-df-quickchart-complete');\n",
              "    }\n",
              "    (() => {\n",
              "      let quickchartButtonEl =\n",
              "        document.querySelector('#df-2b3545e6-bc17-4145-9214-ad01d3b64578 button');\n",
              "      quickchartButtonEl.style.display =\n",
              "        google.colab.kernel.accessAllowed ? 'block' : 'none';\n",
              "    })();\n",
              "  </script>\n",
              "</div>\n",
              "\n",
              "  <div id=\"id_27b13eff-3b51-4321-b060-7eb83794a1db\">\n",
              "    <style>\n",
              "      .colab-df-generate {\n",
              "        background-color: #E8F0FE;\n",
              "        border: none;\n",
              "        border-radius: 50%;\n",
              "        cursor: pointer;\n",
              "        display: none;\n",
              "        fill: #1967D2;\n",
              "        height: 32px;\n",
              "        padding: 0 0 0 0;\n",
              "        width: 32px;\n",
              "      }\n",
              "\n",
              "      .colab-df-generate:hover {\n",
              "        background-color: #E2EBFA;\n",
              "        box-shadow: 0px 1px 2px rgba(60, 64, 67, 0.3), 0px 1px 3px 1px rgba(60, 64, 67, 0.15);\n",
              "        fill: #174EA6;\n",
              "      }\n",
              "\n",
              "      [theme=dark] .colab-df-generate {\n",
              "        background-color: #3B4455;\n",
              "        fill: #D2E3FC;\n",
              "      }\n",
              "\n",
              "      [theme=dark] .colab-df-generate:hover {\n",
              "        background-color: #434B5C;\n",
              "        box-shadow: 0px 1px 3px 1px rgba(0, 0, 0, 0.15);\n",
              "        filter: drop-shadow(0px 1px 2px rgba(0, 0, 0, 0.3));\n",
              "        fill: #FFFFFF;\n",
              "      }\n",
              "    </style>\n",
              "    <button class=\"colab-df-generate\" onclick=\"generateWithVariable('df')\"\n",
              "            title=\"Generate code using this dataframe.\"\n",
              "            style=\"display:none;\">\n",
              "\n",
              "  <svg xmlns=\"http://www.w3.org/2000/svg\" height=\"24px\"viewBox=\"0 0 24 24\"\n",
              "       width=\"24px\">\n",
              "    <path d=\"M7,19H8.4L18.45,9,17,7.55,7,17.6ZM5,21V16.75L18.45,3.32a2,2,0,0,1,2.83,0l1.4,1.43a1.91,1.91,0,0,1,.58,1.4,1.91,1.91,0,0,1-.58,1.4L9.25,21ZM18.45,9,17,7.55Zm-12,3A5.31,5.31,0,0,0,4.9,8.1,5.31,5.31,0,0,0,1,6.5,5.31,5.31,0,0,0,4.9,4.9,5.31,5.31,0,0,0,6.5,1,5.31,5.31,0,0,0,8.1,4.9,5.31,5.31,0,0,0,12,6.5,5.46,5.46,0,0,0,6.5,12Z\"/>\n",
              "  </svg>\n",
              "    </button>\n",
              "    <script>\n",
              "      (() => {\n",
              "      const buttonEl =\n",
              "        document.querySelector('#id_27b13eff-3b51-4321-b060-7eb83794a1db button.colab-df-generate');\n",
              "      buttonEl.style.display =\n",
              "        google.colab.kernel.accessAllowed ? 'block' : 'none';\n",
              "\n",
              "      buttonEl.onclick = () => {\n",
              "        google.colab.notebook.generateWithVariable('df');\n",
              "      }\n",
              "      })();\n",
              "    </script>\n",
              "  </div>\n",
              "\n",
              "    </div>\n",
              "  </div>\n"
            ],
            "application/vnd.google.colaboratory.intrinsic+json": {
              "type": "dataframe",
              "variable_name": "df",
              "summary": "{\n  \"name\": \"df\",\n  \"rows\": 1920,\n  \"fields\": [\n    {\n      \"column\": \"Date\",\n      \"properties\": {\n        \"dtype\": \"object\",\n        \"num_unique_values\": 1920,\n        \"samples\": [\n          \"2021-11-23\",\n          \"2023-08-08\",\n          \"2020-11-01\"\n        ],\n        \"semantic_type\": \"\",\n        \"description\": \"\"\n      }\n    },\n    {\n      \"column\": \"Open\",\n      \"properties\": {\n        \"dtype\": \"number\",\n        \"std\": 17911.531661158344,\n        \"min\": 3759.83252,\n        \"max\": 73079.375,\n        \"num_unique_values\": 1920,\n        \"samples\": [\n          56304.554688,\n          29180.019531,\n          13780.995117\n        ],\n        \"semantic_type\": \"\",\n        \"description\": \"\"\n      }\n    },\n    {\n      \"column\": \"High\",\n      \"properties\": {\n        \"dtype\": \"number\",\n        \"std\": 18349.312106322323,\n        \"min\": 3867.381836,\n        \"max\": 73750.070313,\n        \"num_unique_values\": 1920,\n        \"samples\": [\n          57875.515625,\n          30176.796875,\n          13862.033203\n        ],\n        \"semantic_type\": \"\",\n        \"description\": \"\"\n      }\n    },\n    {\n      \"column\": \"Low\",\n      \"properties\": {\n        \"dtype\": \"number\",\n        \"std\": 17417.71620614065,\n        \"min\": 3733.749756,\n        \"max\": 71334.09375,\n        \"num_unique_values\": 1919,\n        \"samples\": [\n          26766.097656,\n          16445.476563,\n          13457.530273\n        ],\n        \"semantic_type\": \"\",\n        \"description\": \"\"\n      }\n    },\n    {\n      \"column\": \"Close\",\n      \"properties\": {\n        \"dtype\": \"number\",\n        \"std\": 17923.062895426272,\n        \"min\": 3761.557129,\n        \"max\": 73083.5,\n        \"num_unique_values\": 1920,\n        \"samples\": [\n          57569.074219,\n          29765.492188,\n          13737.109375\n        ],\n        \"semantic_type\": \"\",\n        \"description\": \"\"\n      }\n    },\n    {\n      \"column\": \"Adj Close\",\n      \"properties\": {\n        \"dtype\": \"number\",\n        \"std\": 17923.062895426272,\n        \"min\": 3761.557129,\n        \"max\": 73083.5,\n        \"num_unique_values\": 1920,\n        \"samples\": [\n          57569.074219,\n          29765.492188,\n          13737.109375\n        ],\n        \"semantic_type\": \"\",\n        \"description\": \"\"\n      }\n    },\n    {\n      \"column\": \"Volume\",\n      \"properties\": {\n        \"dtype\": \"number\",\n        \"std\": 17793429675,\n        \"min\": 5331172801,\n        \"max\": 350967941479,\n        \"num_unique_values\": 1920,\n        \"samples\": [\n          37485803899,\n          17570561357,\n          24453857900\n        ],\n        \"semantic_type\": \"\",\n        \"description\": \"\"\n      }\n    }\n  ]\n}"
            }
          },
          "metadata": {},
          "execution_count": 221
        }
      ]
    },
    {
      "cell_type": "code",
      "source": [
        "import numpy as np\n",
        "data = df[['Close']]\n",
        "# Convert the dataframe to a numpy array\n",
        "dataset = data.values\n",
        "training_data_len = int(np.ceil( len(dataset) * .9 ))\n",
        "dataset"
      ],
      "metadata": {
        "id": "U5oWmBmV90aD",
        "colab": {
          "base_uri": "https://localhost:8080/"
        },
        "outputId": "827720ac-683d-48e9-fe4e-4eba3156253f"
      },
      "execution_count": 222,
      "outputs": [
        {
          "output_type": "execute_result",
          "data": {
            "text/plain": [
              "array([[ 3859.58374 ],\n",
              "       [ 3864.415039],\n",
              "       [ 3847.175781],\n",
              "       ...,\n",
              "       [68364.992188],\n",
              "       [67491.414063],\n",
              "       [67706.9375  ]])"
            ]
          },
          "metadata": {},
          "execution_count": 222
        }
      ]
    },
    {
      "cell_type": "code",
      "source": [
        "from sklearn.preprocessing import MinMaxScaler\n",
        "\n",
        "scaler = MinMaxScaler(feature_range=(0,1))\n",
        "scaled_data = scaler.fit_transform(dataset)\n",
        "\n",
        "scaled_data"
      ],
      "metadata": {
        "id": "U3UDc-QZ90kH",
        "colab": {
          "base_uri": "https://localhost:8080/"
        },
        "outputId": "8c08f5e2-8759-43dd-b9ce-51af528bd74d"
      },
      "execution_count": 223,
      "outputs": [
        {
          "output_type": "execute_result",
          "data": {
            "text/plain": [
              "array([[0.00141408],\n",
              "       [0.00148377],\n",
              "       [0.00123509],\n",
              "       ...,\n",
              "       [0.93193342],\n",
              "       [0.91933166],\n",
              "       [0.92244068]])"
            ]
          },
          "metadata": {},
          "execution_count": 223
        }
      ]
    },
    {
      "cell_type": "code",
      "source": [
        "# Create the training data set\n",
        "# Create the scaled training data set\n",
        "train_data = scaled_data[0:int(training_data_len), :]\n",
        "# Split the data into x_train and y_train data sets\n",
        "x_train = []\n",
        "y_train = []\n",
        "\n",
        "# we use 60 days ahead for forecasting range\n",
        "for i in range(60, len(train_data)):\n",
        "    x_train.append(train_data[i-60:i, 0])\n",
        "    y_train.append(train_data[i, 0])\n",
        "    if i<= 61:\n",
        "        print(x_train)\n",
        "        print(y_train)\n",
        "        print()\n",
        "\n",
        "# Convert the x_train and y_train to numpy arrays\n",
        "x_train, y_train = np.array(x_train), np.array(y_train)\n",
        "\n",
        "# Reshape the data\n",
        "x_train = np.reshape(x_train, (x_train.shape[0], x_train.shape[1], 1))\n",
        "# x_train.shape\n"
      ],
      "metadata": {
        "colab": {
          "base_uri": "https://localhost:8080/"
        },
        "id": "5cQ6dq0R90mv",
        "outputId": "3a36bdca-01ff-43ef-cabb-c61470596f2a"
      },
      "execution_count": 224,
      "outputs": [
        {
          "output_type": "stream",
          "name": "stdout",
          "text": [
            "[array([0.00141408, 0.00148377, 0.00123509, 0.        , 0.00194481,\n",
            "       0.00205397, 0.00216277, 0.00201342, 0.00291043, 0.00274145,\n",
            "       0.00207251, 0.00212918, 0.002094  , 0.00234864, 0.00287577,\n",
            "       0.00414254, 0.00380358, 0.00390858, 0.0044666 , 0.00470153,\n",
            "       0.0038627 , 0.0037854 , 0.00395646, 0.00375943, 0.00290692,\n",
            "       0.00322443, 0.00469561, 0.00443655, 0.00485874, 0.00497827,\n",
            "       0.00496015, 0.00572151, 0.01613228, 0.01747592, 0.01675143,\n",
            "       0.01839423, 0.01872798, 0.02073427, 0.02204517, 0.02082171,\n",
            "       0.0225469 , 0.01879536, 0.01915673, 0.01925839, 0.02028456,\n",
            "       0.01883316, 0.02126314, 0.02149941, 0.02216944, 0.02224772,\n",
            "       0.02273925, 0.02240235, 0.02362611, 0.02612167, 0.024571  ,\n",
            "       0.02090187, 0.02189481, 0.02173531, 0.02197835, 0.02143326])]\n",
            "[0.022924479150234697]\n",
            "\n",
            "[array([0.00141408, 0.00148377, 0.00123509, 0.        , 0.00194481,\n",
            "       0.00205397, 0.00216277, 0.00201342, 0.00291043, 0.00274145,\n",
            "       0.00207251, 0.00212918, 0.002094  , 0.00234864, 0.00287577,\n",
            "       0.00414254, 0.00380358, 0.00390858, 0.0044666 , 0.00470153,\n",
            "       0.0038627 , 0.0037854 , 0.00395646, 0.00375943, 0.00290692,\n",
            "       0.00322443, 0.00469561, 0.00443655, 0.00485874, 0.00497827,\n",
            "       0.00496015, 0.00572151, 0.01613228, 0.01747592, 0.01675143,\n",
            "       0.01839423, 0.01872798, 0.02073427, 0.02204517, 0.02082171,\n",
            "       0.0225469 , 0.01879536, 0.01915673, 0.01925839, 0.02028456,\n",
            "       0.01883316, 0.02126314, 0.02149941, 0.02216944, 0.02224772,\n",
            "       0.02273925, 0.02240235, 0.02362611, 0.02612167, 0.024571  ,\n",
            "       0.02090187, 0.02189481, 0.02173531, 0.02197835, 0.02143326]), array([0.00148377, 0.00123509, 0.        , 0.00194481, 0.00205397,\n",
            "       0.00216277, 0.00201342, 0.00291043, 0.00274145, 0.00207251,\n",
            "       0.00212918, 0.002094  , 0.00234864, 0.00287577, 0.00414254,\n",
            "       0.00380358, 0.00390858, 0.0044666 , 0.00470153, 0.0038627 ,\n",
            "       0.0037854 , 0.00395646, 0.00375943, 0.00290692, 0.00322443,\n",
            "       0.00469561, 0.00443655, 0.00485874, 0.00497827, 0.00496015,\n",
            "       0.00572151, 0.01613228, 0.01747592, 0.01675143, 0.01839423,\n",
            "       0.01872798, 0.02073427, 0.02204517, 0.02082171, 0.0225469 ,\n",
            "       0.01879536, 0.01915673, 0.01925839, 0.02028456, 0.01883316,\n",
            "       0.02126314, 0.02149941, 0.02216944, 0.02224772, 0.02273925,\n",
            "       0.02240235, 0.02362611, 0.02612167, 0.024571  , 0.02090187,\n",
            "       0.02189481, 0.02173531, 0.02197835, 0.02143326, 0.02292448])]\n",
            "[0.022924479150234697, 0.023674179762300795]\n",
            "\n"
          ]
        }
      ]
    },
    {
      "cell_type": "code",
      "source": [
        "data.plot()"
      ],
      "metadata": {
        "id": "BwMoRBRc90rh",
        "colab": {
          "base_uri": "https://localhost:8080/",
          "height": 466
        },
        "outputId": "8130af4e-7a4e-4424-ff67-9ce9c7357afa"
      },
      "execution_count": 225,
      "outputs": [
        {
          "output_type": "execute_result",
          "data": {
            "text/plain": [
              "<Axes: xlabel='Date'>"
            ]
          },
          "metadata": {},
          "execution_count": 225
        },
        {
          "output_type": "display_data",
          "data": {
            "text/plain": [
              "<Figure size 640x480 with 1 Axes>"
            ],
            "image/png": "[encoded data removed]"
          },
          "metadata": {}
        }
      ]
    },
    {
      "cell_type": "code",
      "source": [
        "from keras.models import Sequential\n",
        "from keras.layers import Dense, LSTM\n",
        "\n",
        "# Build the LSTM model\n",
        "model = Sequential()\n",
        "model.add(LSTM(128, return_sequences=True, input_shape= (x_train.shape[1], 1)))\n",
        "model.add(LSTM(64, return_sequences=False))\n",
        "model.add(Dense(25))\n",
        "model.add(Dense(1))\n",
        "\n",
        "# Compile the model\n",
        "model.compile(optimizer='adam', loss='mean_squared_error')\n",
        "\n",
        "# Train the model\n",
        "model.fit(x_train, y_train, batch_size=1, epochs=1)"
      ],
      "metadata": {
        "id": "E6P13vhh90v4",
        "colab": {
          "base_uri": "https://localhost:8080/"
        },
        "outputId": "f018d120-a2ce-4009-afa7-15635b85a42a"
      },
      "execution_count": 226,
      "outputs": [
        {
          "output_type": "stream",
          "name": "stdout",
          "text": [
            "1668/1668 [==============================] - 104s 59ms/step - loss: 0.0027\n"
          ]
        },
        {
          "output_type": "execute_result",
          "data": {
            "text/plain": [
              "<keras.src.callbacks.History at 0x7c3dcf92b9a0>"
            ]
          },
          "metadata": {},
          "execution_count": 226
        }
      ]
    },
    {
      "cell_type": "code",
      "source": [
        "test_data = scaled_data[training_data_len - 60:, :]\n",
        "x_test = []\n",
        "for i in range(60, len(test_data)):\n",
        "    x_test.append(test_data[i-60:i, 0])\n",
        "\n",
        "x_test = np.array(x_test)\n",
        "x_test = np.reshape(x_test, (x_test.shape[0], x_test.shape[1], 1))\n",
        "\n",
        "# Dự đoán dữ liệu kiểm tra\n",
        "predictions = model.predict(x_test)\n",
        "\n",
        "# Chuẩn bị dữ liệu đầu vào cho dự đoán 30, 60, và 90 ngày\n",
        "x_input = test_data[-60:].reshape(1, -1)\n",
        "temp_input = list(x_input[0])\n",
        "\n",
        "# Dự đoán 30, 60, và 90 ngày tiếp theo\n",
        "lst_output = []\n",
        "n_steps = 60\n",
        "i = 0\n",
        "while i < 90:\n",
        "    if len(temp_input) > n_steps:\n",
        "        x_input = np.array(temp_input[-n_steps:])\n",
        "        x_input = x_input.reshape((1, n_steps, 1))\n",
        "        yhat = model.predict(x_input, verbose=0)\n",
        "        temp_input.append(yhat[0][0])\n",
        "        lst_output.append(yhat[0][0])\n",
        "        i += 1\n",
        "    else:\n",
        "        x_input = x_input.reshape((1, n_steps, 1))\n",
        "        yhat = model.predict(x_input, verbose=0)\n",
        "        temp_input.append(yhat[0][0])\n",
        "        lst_output.append(yhat[0][0])\n",
        "        i += 1"
      ],
      "metadata": {
        "colab": {
          "base_uri": "https://localhost:8080/"
        },
        "id": "rcsEaMMU90yJ",
        "outputId": "5154df31-0bb1-45dd-83c1-d0a95f483a90"
      },
      "execution_count": 227,
      "outputs": [
        {
          "output_type": "stream",
          "name": "stdout",
          "text": [
            "6/6 [==============================] - 2s 64ms/step\n"
          ]
        }
      ]
    },
    {
      "cell_type": "code",
      "source": [
        "# Chuẩn bị dữ liệu cho biểu đồ\n",
        "train_data = scaled_data[:training_data_len]\n",
        "valid_data = scaled_data[training_data_len:]\n",
        "train_data_index = pd.RangeIndex(start=0, stop=len(train_data), step=1)\n",
        "test_data_index = pd.RangeIndex(start=len(train_data), stop=len(train_data) + len(valid_data), step=1)\n"
      ],
      "metadata": {
        "id": "MtJVJdvYSv0b"
      },
      "execution_count": 228,
      "outputs": []
    },
    {
      "cell_type": "code",
      "source": [
        "\n",
        "scaler = MinMaxScaler(feature_range=(0, 1))\n",
        "scaler.fit(scaled_data)  # Giả sử scaled_data đã được chuẩn bị trước\n",
        "train_data_inv = scaler.inverse_transform(train_data)\n",
        "valid_data_inv = scaler.inverse_transform(valid_data)\n",
        "predictions_inv = scaler.inverse_transform(predictions)\n",
        "lst_output_inv = scaler.inverse_transform(np.array(lst_output).reshape(-1, 1))\n"
      ],
      "metadata": {
        "id": "i2WVz1J5SxpH"
      },
      "execution_count": 229,
      "outputs": []
    },
    {
      "cell_type": "code",
      "source": [
        "\n",
        "# Vẽ biểu đồ\n",
        "plt.figure(figsize=(16,8))\n",
        "plt.plot(train_data_index, train_data_inv, label='Train')\n",
        "plt.plot(test_data_index, valid_data_inv, label='Test')\n",
        "plt.plot(test_data_index, predictions_inv, label='Predict')\n",
        "\n",
        "# Chỉ số dữ liệu dự đoán 30 ngày đầu tiên\n",
        "predict_data_index_30 = pd.RangeIndex(start=len(scaled_data), stop=len(scaled_data) + 30, step=1)\n",
        "plt.plot(predict_data_index_30, lst_output_inv[:30], label='Predict 30 days')\n",
        "\n",
        "# Chỉ số dữ liệu dự đoán 60 ngày tiếp theo\n",
        "predict_data_index_60 = pd.RangeIndex(start=len(scaled_data) + 30, stop=len(scaled_data) + 60, step=1)\n",
        "plt.plot(predict_data_index_60, lst_output_inv[30:60], label='Predict 60 days')\n",
        "\n",
        "# Chỉ số dữ liệu dự đoán 90 ngày cuối cùng\n",
        "predict_data_index_90 = pd.RangeIndex(start=len(scaled_data) + 60, stop=len(scaled_data) + 90, step=1)\n",
        "plt.plot(predict_data_index_90, lst_output_inv[60:90], label='Predict 90 days')\n",
        "\n",
        "# Hiển thị đồ thị\n",
        "plt.legend()\n",
        "plt.show()"
      ],
      "metadata": {
        "id": "xIvn19snS4No",
        "colab": {
          "base_uri": "https://localhost:8080/",
          "height": 676
        },
        "outputId": "95ae249b-96de-4b6c-85ba-277118bf3f57"
      },
      "execution_count": 230,
      "outputs": [
        {
          "output_type": "display_data",
          "data": {
            "text/plain": [
              "<Figure size 1600x800 with 1 Axes>"
            ],
            "image/png": "[encoded data removed]"
          },
          "metadata": {}
        }
      ]
    },
    {
      "cell_type": "code",
      "source": [
        "# Dự đoán giá trị\n",
        "predictions = model.predict(x_test)\n",
        "\n",
        "# Chuẩn bị y_test (giá trị thực tế)\n",
        "y_test = dataset[training_data_len:, :]\n",
        "\n",
        "# Inverse transform predictions and y_test to get actual values\n",
        "predictions = scaler.inverse_transform(predictions)\n",
        "y_test = scaler.inverse_transform(y_test)\n",
        "\n"
      ],
      "metadata": {
        "id": "wWHEGUbdckFA",
        "outputId": "e8eaf83f-a928-4d82-cd61-43120914ddaa",
        "colab": {
          "base_uri": "https://localhost:8080/"
        }
      },
      "execution_count": 231,
      "outputs": [
        {
          "output_type": "stream",
          "name": "stdout",
          "text": [
            "6/6 [==============================] - 0s 37ms/step\n"
          ]
        }
      ]
    },
    {
      "cell_type": "code",
      "source": [
        "# Tính toán MSE\n",
        "mse = mean_squared_error(y_test, predictions)\n",
        "\n",
        "# Tính toán RMSE\n",
        "rmse = np.sqrt(mse)\n",
        "\n",
        "# Tính toán MAPE\n",
        "mape = mean_absolute_percentage_error(y_test, predictions)\n",
        "\n",
        "print(f\"Mean Squared Error (MSE): {mse}\")\n",
        "print(f\"Root Mean Squared Error (RMSE): {rmse}\")\n",
        "print(f\"Mean Absolute Percentage Error (MAPE): {mape}\")"
      ],
      "metadata": {
        "colab": {
          "base_uri": "https://localhost:8080/"
        },
        "id": "14pAQAGNdF43",
        "outputId": "65b74bae-f05d-4a3c-b988-fd6ac0f11ab6"
      },
      "execution_count": 232,
      "outputs": [
        {
          "output_type": "stream",
          "name": "stdout",
          "text": [
            "Mean Squared Error (MSE): 3163812703.7593637\n",
            "Root Mean Squared Error (RMSE): 56247.779545146164\n",
            "Mean Absolute Percentage Error (MAPE): 0.9999873294753562\n"
          ]
        }
      ]
    }
  ]
}