{
  "cells": [
    {
      "cell_type": "code",
      "execution_count": null,
      "metadata": {
        "colab": {
          "base_uri": "https://localhost:8080/"
        },
        "id": "FcIedFGM8Y47",
        "outputId": "14b81758-505c-41f6-ba28-981d57b8a53d"
      },
      "outputs": [
        {
          "name": "stdout",
          "output_type": "stream",
          "text": [
            "Mounted at /content/drive\n"
          ]
        }
      ],
      "source": [
        "from google.colab import drive\n",
        "drive.mount('/content/drive')"
      ]
    },
    {
      "cell_type": "code",
      "execution_count": null,
      "metadata": {
        "id": "EvJU6s4b9v0v"
      },
      "outputs": [],
      "source": [
        "\n",
        "import warnings\n",
        "import pandas as pd\n",
        "warnings.filterwarnings(\"ignore\")\n",
        "import logging\n",
        "logging.disable(logging.CRITICAL)\n"
      ]
    },
    {
      "cell_type": "code",
      "execution_count": null,
      "metadata": {
        "colab": {
          "base_uri": "https://localhost:8080/"
        },
        "id": "sdyT3NT4anGV",
        "outputId": "2f9447fd-7d7b-488b-908c-3ab1484626fe"
      },
      "outputs": [
        {
          "name": "stdout",
          "output_type": "stream",
          "text": [
            "Requirement already satisfied: tensorflow in /usr/local/lib/python3.10/dist-packages (2.15.0)\n",
            "Requirement already satisfied: absl-py>=1.0.0 in /usr/local/lib/python3.10/dist-packages (from tensorflow) (1.4.0)\n",
            "Requirement already satisfied: astunparse>=1.6.0 in /usr/local/lib/python3.10/dist-packages (from tensorflow) (1.6.3)\n",
            "Requirement already satisfied: flatbuffers>=23.5.26 in /usr/local/lib/python3.10/dist-packages (from tensorflow) (24.3.25)\n",
            "Requirement already satisfied: gast!=0.5.0,!=0.5.1,!=0.5.2,>=0.2.1 in /usr/local/lib/python3.10/dist-packages (from tensorflow) (0.5.4)\n",
            "Requirement already satisfied: google-pasta>=0.1.1 in /usr/local/lib/python3.10/dist-packages (from tensorflow) (0.2.0)\n",
            "Requirement already satisfied: h5py>=2.9.0 in /usr/local/lib/python3.10/dist-packages (from tensorflow) (3.9.0)\n",
            "Requirement already satisfied: libclang>=13.0.0 in /usr/local/lib/python3.10/dist-packages (from tensorflow) (18.1.1)\n",
            "Requirement already satisfied: ml-dtypes~=0.2.0 in /usr/local/lib/python3.10/dist-packages (from tensorflow) (0.2.0)\n",
            "Requirement already satisfied: numpy<2.0.0,>=1.23.5 in /usr/local/lib/python3.10/dist-packages (from tensorflow) (1.25.2)\n",
            "Requirement already satisfied: opt-einsum>=2.3.2 in /usr/local/lib/python3.10/dist-packages (from tensorflow) (3.3.0)\n",
            "Requirement already satisfied: packaging in /usr/local/lib/python3.10/dist-packages (from tensorflow) (24.1)\n",
            "Requirement already satisfied: protobuf!=4.21.0,!=4.21.1,!=4.21.2,!=4.21.3,!=4.21.4,!=4.21.5,<5.0.0dev,>=3.20.3 in /usr/local/lib/python3.10/dist-packages (from tensorflow) (3.20.3)\n",
            "Requirement already satisfied: setuptools in /usr/local/lib/python3.10/dist-packages (from tensorflow) (67.7.2)\n",
            "Requirement already satisfied: six>=1.12.0 in /usr/local/lib/python3.10/dist-packages (from tensorflow) (1.16.0)\n",
            "Requirement already satisfied: termcolor>=1.1.0 in /usr/local/lib/python3.10/dist-packages (from tensorflow) (2.4.0)\n",
            "Requirement already satisfied: typing-extensions>=3.6.6 in /usr/local/lib/python3.10/dist-packages (from tensorflow) (4.12.2)\n",
            "Requirement already satisfied: wrapt<1.15,>=1.11.0 in /usr/local/lib/python3.10/dist-packages (from tensorflow) (1.14.1)\n",
            "Requirement already satisfied: tensorflow-io-gcs-filesystem>=0.23.1 in /usr/local/lib/python3.10/dist-packages (from tensorflow) (0.37.0)\n",
            "Requirement already satisfied: grpcio<2.0,>=1.24.3 in /usr/local/lib/python3.10/dist-packages (from tensorflow) (1.64.1)\n",
            "Requirement already satisfied: tensorboard<2.16,>=2.15 in /usr/local/lib/python3.10/dist-packages (from tensorflow) (2.15.2)\n",
            "Requirement already satisfied: tensorflow-estimator<2.16,>=2.15.0 in /usr/local/lib/python3.10/dist-packages (from tensorflow) (2.15.0)\n",
            "Requirement already satisfied: keras<2.16,>=2.15.0 in /usr/local/lib/python3.10/dist-packages (from tensorflow) (2.15.0)\n",
            "Requirement already satisfied: wheel<1.0,>=0.23.0 in /usr/local/lib/python3.10/dist-packages (from astunparse>=1.6.0->tensorflow) (0.43.0)\n",
            "Requirement already satisfied: google-auth<3,>=1.6.3 in /usr/local/lib/python3.10/dist-packages (from tensorboard<2.16,>=2.15->tensorflow) (2.27.0)\n",
            "Requirement already satisfied: google-auth-oauthlib<2,>=0.5 in /usr/local/lib/python3.10/dist-packages (from tensorboard<2.16,>=2.15->tensorflow) (1.2.0)\n",
            "Requirement already satisfied: markdown>=2.6.8 in /usr/local/lib/python3.10/dist-packages (from tensorboard<2.16,>=2.15->tensorflow) (3.6)\n",
            "Requirement already satisfied: requests<3,>=2.21.0 in /usr/local/lib/python3.10/dist-packages (from tensorboard<2.16,>=2.15->tensorflow) (2.31.0)\n",
            "Requirement already satisfied: tensorboard-data-server<0.8.0,>=0.7.0 in /usr/local/lib/python3.10/dist-packages (from tensorboard<2.16,>=2.15->tensorflow) (0.7.2)\n",
            "Requirement already satisfied: werkzeug>=1.0.1 in /usr/local/lib/python3.10/dist-packages (from tensorboard<2.16,>=2.15->tensorflow) (3.0.3)\n",
            "Requirement already satisfied: cachetools<6.0,>=2.0.0 in /usr/local/lib/python3.10/dist-packages (from google-auth<3,>=1.6.3->tensorboard<2.16,>=2.15->tensorflow) (5.3.3)\n",
            "Requirement already satisfied: pyasn1-modules>=0.2.1 in /usr/local/lib/python3.10/dist-packages (from google-auth<3,>=1.6.3->tensorboard<2.16,>=2.15->tensorflow) (0.4.0)\n",
            "Requirement already satisfied: rsa<5,>=3.1.4 in /usr/local/lib/python3.10/dist-packages (from google-auth<3,>=1.6.3->tensorboard<2.16,>=2.15->tensorflow) (4.9)\n",
            "Requirement already satisfied: requests-oauthlib>=0.7.0 in /usr/local/lib/python3.10/dist-packages (from google-auth-oauthlib<2,>=0.5->tensorboard<2.16,>=2.15->tensorflow) (1.3.1)\n",
            "Requirement already satisfied: charset-normalizer<4,>=2 in /usr/local/lib/python3.10/dist-packages (from requests<3,>=2.21.0->tensorboard<2.16,>=2.15->tensorflow) (3.3.2)\n",
            "Requirement already satisfied: idna<4,>=2.5 in /usr/local/lib/python3.10/dist-packages (from requests<3,>=2.21.0->tensorboard<2.16,>=2.15->tensorflow) (3.7)\n",
            "Requirement already satisfied: urllib3<3,>=1.21.1 in /usr/local/lib/python3.10/dist-packages (from requests<3,>=2.21.0->tensorboard<2.16,>=2.15->tensorflow) (2.0.7)\n",
            "Requirement already satisfied: certifi>=2017.4.17 in /usr/local/lib/python3.10/dist-packages (from requests<3,>=2.21.0->tensorboard<2.16,>=2.15->tensorflow) (2024.6.2)\n",
            "Requirement already satisfied: MarkupSafe>=2.1.1 in /usr/local/lib/python3.10/dist-packages (from werkzeug>=1.0.1->tensorboard<2.16,>=2.15->tensorflow) (2.1.5)\n",
            "Requirement already satisfied: pyasn1<0.7.0,>=0.4.6 in /usr/local/lib/python3.10/dist-packages (from pyasn1-modules>=0.2.1->google-auth<3,>=1.6.3->tensorboard<2.16,>=2.15->tensorflow) (0.6.0)\n",
            "Requirement already satisfied: oauthlib>=3.0.0 in /usr/local/lib/python3.10/dist-packages (from requests-oauthlib>=0.7.0->google-auth-oauthlib<2,>=0.5->tensorboard<2.16,>=2.15->tensorflow) (3.2.2)\n"
          ]
        }
      ],
      "source": [
        "!pip install tensorflow"
      ]
    },
    {
      "cell_type": "markdown",
      "metadata": {
        "id": "ZcpuW45yKh3W"
      },
      "source": []
    },
    {
      "cell_type": "code",
      "execution_count": null,
      "metadata": {
        "id": "2hjIKH7y9xmL"
      },
      "outputs": [],
      "source": [
        "df = pd.read_csv('/content/drive/MyDrive/UU/BNB-USD (BaoCao).csv')\n",
        "\n",
        "\n",
        "df = df.groupby('Date').sum()"
      ]
    },
    {
      "cell_type": "code",
      "execution_count": null,
      "metadata": {
        "colab": {
          "base_uri": "https://localhost:8080/"
        },
        "id": "vAd-vwko9yIu",
        "outputId": "e4c3b692-d6bb-4761-bb3c-9ee9dae3a084"
      },
      "outputs": [
        {
          "name": "stdout",
          "output_type": "stream",
          "text": [
            "Requirement already satisfied: keras in /usr/local/lib/python3.10/dist-packages (2.15.0)\n"
          ]
        }
      ],
      "source": [
        "!pip install keras"
      ]
    },
    {
      "cell_type": "code",
      "execution_count": null,
      "metadata": {
        "colab": {
          "base_uri": "https://localhost:8080/",
          "height": 455
        },
        "id": "yIImleg3R_IW",
        "outputId": "e2ba6fba-9b08-473f-b8c6-a65dc3fdbd69"
      },
      "outputs": [
        {
          "data": {
            "application/vnd.google.colaboratory.intrinsic+json": {
              "summary": "{\n  \"name\": \"df\",\n  \"rows\": 1920,\n  \"fields\": [\n    {\n      \"column\": \"Date\",\n      \"properties\": {\n        \"dtype\": \"object\",\n        \"num_unique_values\": 1920,\n        \"samples\": [\n          \"2021-11-23\",\n          \"2023-08-08\",\n          \"2020-11-01\"\n        ],\n        \"semantic_type\": \"\",\n        \"description\": \"\"\n      }\n    },\n    {\n      \"column\": \"Open\",\n      \"properties\": {\n        \"dtype\": \"number\",\n        \"std\": 184.35427466114592,\n        \"min\": 9.36542,\n        \"max\": 676.315918,\n        \"num_unique_values\": 1919,\n        \"samples\": [\n          312.133606,\n          295.548218,\n          28.508411\n        ],\n        \"semantic_type\": \"\",\n        \"description\": \"\"\n      }\n    },\n    {\n      \"column\": \"High\",\n      \"properties\": {\n        \"dtype\": \"number\",\n        \"std\": 189.67310385312425,\n        \"min\": 10.23606,\n        \"max\": 690.931946,\n        \"num_unique_values\": 1920,\n        \"samples\": [\n          605.090454,\n          247.647369,\n          28.665218\n        ],\n        \"semantic_type\": \"\",\n        \"description\": \"\"\n      }\n    },\n    {\n      \"column\": \"Low\",\n      \"properties\": {\n        \"dtype\": \"number\",\n        \"std\": 178.51261212824434,\n        \"min\": 6.963391,\n        \"max\": 634.5495,\n        \"num_unique_values\": 1920,\n        \"samples\": [\n          559.041626,\n          241.3302,\n          28.101332\n        ],\n        \"semantic_type\": \"\",\n        \"description\": \"\"\n      }\n    },\n    {\n      \"column\": \"Close\",\n      \"properties\": {\n        \"dtype\": \"number\",\n        \"std\": 184.4193109133602,\n        \"min\": 9.38605,\n        \"max\": 675.684082,\n        \"num_unique_values\": 1920,\n        \"samples\": [\n          591.439575,\n          245.149902,\n          28.461565\n        ],\n        \"semantic_type\": \"\",\n        \"description\": \"\"\n      }\n    },\n    {\n      \"column\": \"Adj Close\",\n      \"properties\": {\n        \"dtype\": \"number\",\n        \"std\": 184.4193109133602,\n        \"min\": 9.38605,\n        \"max\": 675.684082,\n        \"num_unique_values\": 1920,\n        \"samples\": [\n          591.439575,\n          245.149902,\n          28.461565\n        ],\n        \"semantic_type\": \"\",\n        \"description\": \"\"\n      }\n    },\n    {\n      \"column\": \"Volume\",\n      \"properties\": {\n        \"dtype\": \"number\",\n        \"std\": 1391260987,\n        \"min\": 89421231,\n        \"max\": 17982945189,\n        \"num_unique_values\": 1920,\n        \"samples\": [\n          2927434189,\n          504987528,\n          338657898\n        ],\n        \"semantic_type\": \"\",\n        \"description\": \"\"\n      }\n    }\n  ]\n}",
              "type": "dataframe",
              "variable_name": "df"
            },
            "text/html": [
              "\n",
              "  <div id=\"df-c458d3bf-41fa-4593-9f21-58d2c745d4f9\" class=\"colab-df-container\">\n",
              "    <div>\n",
              "<style scoped>\n",
              "    .dataframe tbody tr th:only-of-type {\n",
              "        vertical-align: middle;\n",
              "    }\n",
              "\n",
              "    .dataframe tbody tr th {\n",
              "        vertical-align: top;\n",
              "    }\n",
              "\n",
              "    .dataframe thead th {\n",
              "        text-align: right;\n",
              "    }\n",
              "</style>\n",
              "<table border=\"1\" class=\"dataframe\">\n",
              "  <thead>\n",
              "    <tr style=\"text-align: right;\">\n",
              "      <th></th>\n",
              "      <th>Open</th>\n",
              "      <th>High</th>\n",
              "      <th>Low</th>\n",
              "      <th>Close</th>\n",
              "      <th>Adj Close</th>\n",
              "      <th>Volume</th>\n",
              "    </tr>\n",
              "    <tr>\n",
              "      <th>Date</th>\n",
              "      <th></th>\n",
              "      <th></th>\n",
              "      <th></th>\n",
              "      <th></th>\n",
              "      <th></th>\n",
              "      <th></th>\n",
              "    </tr>\n",
              "  </thead>\n",
              "  <tbody>\n",
              "    <tr>\n",
              "      <th>2019-03-01</th>\n",
              "      <td>10.356931</td>\n",
              "      <td>11.607489</td>\n",
              "      <td>10.325634</td>\n",
              "      <td>11.393217</td>\n",
              "      <td>11.393217</td>\n",
              "      <td>117838677</td>\n",
              "    </tr>\n",
              "    <tr>\n",
              "      <th>2019-03-02</th>\n",
              "      <td>11.384693</td>\n",
              "      <td>11.915753</td>\n",
              "      <td>10.960816</td>\n",
              "      <td>11.869744</td>\n",
              "      <td>11.869744</td>\n",
              "      <td>120807894</td>\n",
              "    </tr>\n",
              "    <tr>\n",
              "      <th>2019-03-03</th>\n",
              "      <td>11.845305</td>\n",
              "      <td>11.964979</td>\n",
              "      <td>11.352064</td>\n",
              "      <td>11.537903</td>\n",
              "      <td>11.537903</td>\n",
              "      <td>89868246</td>\n",
              "    </tr>\n",
              "    <tr>\n",
              "      <th>2019-03-04</th>\n",
              "      <td>11.538013</td>\n",
              "      <td>11.599405</td>\n",
              "      <td>11.070543</td>\n",
              "      <td>11.545945</td>\n",
              "      <td>11.545945</td>\n",
              "      <td>89421231</td>\n",
              "    </tr>\n",
              "    <tr>\n",
              "      <th>2019-03-05</th>\n",
              "      <td>11.520388</td>\n",
              "      <td>13.841443</td>\n",
              "      <td>11.520388</td>\n",
              "      <td>13.811967</td>\n",
              "      <td>13.811967</td>\n",
              "      <td>237026335</td>\n",
              "    </tr>\n",
              "    <tr>\n",
              "      <th>...</th>\n",
              "      <td>...</td>\n",
              "      <td>...</td>\n",
              "      <td>...</td>\n",
              "      <td>...</td>\n",
              "      <td>...</td>\n",
              "      <td>...</td>\n",
              "    </tr>\n",
              "    <tr>\n",
              "      <th>2024-05-28</th>\n",
              "      <td>603.526428</td>\n",
              "      <td>604.985107</td>\n",
              "      <td>593.716187</td>\n",
              "      <td>601.213257</td>\n",
              "      <td>601.213257</td>\n",
              "      <td>1852329404</td>\n",
              "    </tr>\n",
              "    <tr>\n",
              "      <th>2024-05-29</th>\n",
              "      <td>601.213257</td>\n",
              "      <td>602.931519</td>\n",
              "      <td>592.966614</td>\n",
              "      <td>594.972046</td>\n",
              "      <td>594.972046</td>\n",
              "      <td>1642696946</td>\n",
              "    </tr>\n",
              "    <tr>\n",
              "      <th>2024-05-30</th>\n",
              "      <td>594.972534</td>\n",
              "      <td>601.665039</td>\n",
              "      <td>586.557678</td>\n",
              "      <td>595.026794</td>\n",
              "      <td>595.026794</td>\n",
              "      <td>1737524745</td>\n",
              "    </tr>\n",
              "    <tr>\n",
              "      <th>2024-05-31</th>\n",
              "      <td>595.026794</td>\n",
              "      <td>598.423645</td>\n",
              "      <td>589.774841</td>\n",
              "      <td>593.522339</td>\n",
              "      <td>593.522339</td>\n",
              "      <td>1590349553</td>\n",
              "    </tr>\n",
              "    <tr>\n",
              "      <th>2024-06-01</th>\n",
              "      <td>593.522339</td>\n",
              "      <td>607.582886</td>\n",
              "      <td>592.680603</td>\n",
              "      <td>601.304199</td>\n",
              "      <td>601.304199</td>\n",
              "      <td>1520074486</td>\n",
              "    </tr>\n",
              "  </tbody>\n",
              "</table>\n",
              "<p>1920 rows × 6 columns</p>\n",
              "</div>\n",
              "    <div class=\"colab-df-buttons\">\n",
              "\n",
              "  <div class=\"colab-df-container\">\n",
              "    <button class=\"colab-df-convert\" onclick=\"convertToInteractive('df-c458d3bf-41fa-4593-9f21-58d2c745d4f9')\"\n",
              "            title=\"Convert this dataframe to an interactive table.\"\n",
              "            style=\"display:none;\">\n",
              "\n",
              "  <svg xmlns=\"http://www.w3.org/2000/svg\" height=\"24px\" viewBox=\"0 -960 960 960\">\n",
              "    <path d=\"M120-120v-720h720v720H120Zm60-500h600v-160H180v160Zm220 220h160v-160H400v160Zm0 220h160v-160H400v160ZM180-400h160v-160H180v160Zm440 0h160v-160H620v160ZM180-180h160v-160H180v160Zm440 0h160v-160H620v160Z\"/>\n",
              "  </svg>\n",
              "    </button>\n",
              "\n",
              "  <style>\n",
              "    .colab-df-container {\n",
              "      display:flex;\n",
              "      gap: 12px;\n",
              "    }\n",
              "\n",
              "    .colab-df-convert {\n",
              "      background-color: #E8F0FE;\n",
              "      border: none;\n",
              "      border-radius: 50%;\n",
              "      cursor: pointer;\n",
              "      display: none;\n",
              "      fill: #1967D2;\n",
              "      height: 32px;\n",
              "      padding: 0 0 0 0;\n",
              "      width: 32px;\n",
              "    }\n",
              "\n",
              "    .colab-df-convert:hover {\n",
              "      background-color: #E2EBFA;\n",
              "      box-shadow: 0px 1px 2px rgba(60, 64, 67, 0.3), 0px 1px 3px 1px rgba(60, 64, 67, 0.15);\n",
              "      fill: #174EA6;\n",
              "    }\n",
              "\n",
              "    .colab-df-buttons div {\n",
              "      margin-bottom: 4px;\n",
              "    }\n",
              "\n",
              "    [theme=dark] .colab-df-convert {\n",
              "      background-color: #3B4455;\n",
              "      fill: #D2E3FC;\n",
              "    }\n",
              "\n",
              "    [theme=dark] .colab-df-convert:hover {\n",
              "      background-color: #434B5C;\n",
              "      box-shadow: 0px 1px 3px 1px rgba(0, 0, 0, 0.15);\n",
              "      filter: drop-shadow(0px 1px 2px rgba(0, 0, 0, 0.3));\n",
              "      fill: #FFFFFF;\n",
              "    }\n",
              "  </style>\n",
              "\n",
              "    <script>\n",
              "      const buttonEl =\n",
              "        document.querySelector('#df-c458d3bf-41fa-4593-9f21-58d2c745d4f9 button.colab-df-convert');\n",
              "      buttonEl.style.display =\n",
              "        google.colab.kernel.accessAllowed ? 'block' : 'none';\n",
              "\n",
              "      async function convertToInteractive(key) {\n",
              "        const element = document.querySelector('#df-c458d3bf-41fa-4593-9f21-58d2c745d4f9');\n",
              "        const dataTable =\n",
              "          await google.colab.kernel.invokeFunction('convertToInteractive',\n",
              "                                                    [key], {});\n",
              "        if (!dataTable) return;\n",
              "\n",
              "        const docLinkHtml = 'Like what you see? Visit the ' +\n",
              "          '<a target=\"_blank\" href=https://colab.research.google.com/notebooks/data_table.ipynb>data table notebook</a>'\n",
              "          + ' to learn more about interactive tables.';\n",
              "        element.innerHTML = '';\n",
              "        dataTable['output_type'] = 'display_data';\n",
              "        await google.colab.output.renderOutput(dataTable, element);\n",
              "        const docLink = document.createElement('div');\n",
              "        docLink.innerHTML = docLinkHtml;\n",
              "        element.appendChild(docLink);\n",
              "      }\n",
              "    </script>\n",
              "  </div>\n",
              "\n",
              "\n",
              "<div id=\"df-0e412c18-6433-480d-bc60-374d48072042\">\n",
              "  <button class=\"colab-df-quickchart\" onclick=\"quickchart('df-0e412c18-6433-480d-bc60-374d48072042')\"\n",
              "            title=\"Suggest charts\"\n",
              "            style=\"display:none;\">\n",
              "\n",
              "<svg xmlns=\"http://www.w3.org/2000/svg\" height=\"24px\"viewBox=\"0 0 24 24\"\n",
              "     width=\"24px\">\n",
              "    <g>\n",
              "        <path d=\"M19 3H5c-1.1 0-2 .9-2 2v14c0 1.1.9 2 2 2h14c1.1 0 2-.9 2-2V5c0-1.1-.9-2-2-2zM9 17H7v-7h2v7zm4 0h-2V7h2v10zm4 0h-2v-4h2v4z\"/>\n",
              "    </g>\n",
              "</svg>\n",
              "  </button>\n",
              "\n",
              "<style>\n",
              "  .colab-df-quickchart {\n",
              "      --bg-color: #E8F0FE;\n",
              "      --fill-color: #1967D2;\n",
              "      --hover-bg-color: #E2EBFA;\n",
              "      --hover-fill-color: #174EA6;\n",
              "      --disabled-fill-color: #AAA;\n",
              "      --disabled-bg-color: #DDD;\n",
              "  }\n",
              "\n",
              "  [theme=dark] .colab-df-quickchart {\n",
              "      --bg-color: #3B4455;\n",
              "      --fill-color: #D2E3FC;\n",
              "      --hover-bg-color: #434B5C;\n",
              "      --hover-fill-color: #FFFFFF;\n",
              "      --disabled-bg-color: #3B4455;\n",
              "      --disabled-fill-color: #666;\n",
              "  }\n",
              "\n",
              "  .colab-df-quickchart {\n",
              "    background-color: var(--bg-color);\n",
              "    border: none;\n",
              "    border-radius: 50%;\n",
              "    cursor: pointer;\n",
              "    display: none;\n",
              "    fill: var(--fill-color);\n",
              "    height: 32px;\n",
              "    padding: 0;\n",
              "    width: 32px;\n",
              "  }\n",
              "\n",
              "  .colab-df-quickchart:hover {\n",
              "    background-color: var(--hover-bg-color);\n",
              "    box-shadow: 0 1px 2px rgba(60, 64, 67, 0.3), 0 1px 3px 1px rgba(60, 64, 67, 0.15);\n",
              "    fill: var(--button-hover-fill-color);\n",
              "  }\n",
              "\n",
              "  .colab-df-quickchart-complete:disabled,\n",
              "  .colab-df-quickchart-complete:disabled:hover {\n",
              "    background-color: var(--disabled-bg-color);\n",
              "    fill: var(--disabled-fill-color);\n",
              "    box-shadow: none;\n",
              "  }\n",
              "\n",
              "  .colab-df-spinner {\n",
              "    border: 2px solid var(--fill-color);\n",
              "    border-color: transparent;\n",
              "    border-bottom-color: var(--fill-color);\n",
              "    animation:\n",
              "      spin 1s steps(1) infinite;\n",
              "  }\n",
              "\n",
              "  @keyframes spin {\n",
              "    0% {\n",
              "      border-color: transparent;\n",
              "      border-bottom-color: var(--fill-color);\n",
              "      border-left-color: var(--fill-color);\n",
              "    }\n",
              "    20% {\n",
              "      border-color: transparent;\n",
              "      border-left-color: var(--fill-color);\n",
              "      border-top-color: var(--fill-color);\n",
              "    }\n",
              "    30% {\n",
              "      border-color: transparent;\n",
              "      border-left-color: var(--fill-color);\n",
              "      border-top-color: var(--fill-color);\n",
              "      border-right-color: var(--fill-color);\n",
              "    }\n",
              "    40% {\n",
              "      border-color: transparent;\n",
              "      border-right-color: var(--fill-color);\n",
              "      border-top-color: var(--fill-color);\n",
              "    }\n",
              "    60% {\n",
              "      border-color: transparent;\n",
              "      border-right-color: var(--fill-color);\n",
              "    }\n",
              "    80% {\n",
              "      border-color: transparent;\n",
              "      border-right-color: var(--fill-color);\n",
              "      border-bottom-color: var(--fill-color);\n",
              "    }\n",
              "    90% {\n",
              "      border-color: transparent;\n",
              "      border-bottom-color: var(--fill-color);\n",
              "    }\n",
              "  }\n",
              "</style>\n",
              "\n",
              "  <script>\n",
              "    async function quickchart(key) {\n",
              "      const quickchartButtonEl =\n",
              "        document.querySelector('#' + key + ' button');\n",
              "      quickchartButtonEl.disabled = true;  // To prevent multiple clicks.\n",
              "      quickchartButtonEl.classList.add('colab-df-spinner');\n",
              "      try {\n",
              "        const charts = await google.colab.kernel.invokeFunction(\n",
              "            'suggestCharts', [key], {});\n",
              "      } catch (error) {\n",
              "        console.error('Error during call to suggestCharts:', error);\n",
              "      }\n",
              "      quickchartButtonEl.classList.remove('colab-df-spinner');\n",
              "      quickchartButtonEl.classList.add('colab-df-quickchart-complete');\n",
              "    }\n",
              "    (() => {\n",
              "      let quickchartButtonEl =\n",
              "        document.querySelector('#df-0e412c18-6433-480d-bc60-374d48072042 button');\n",
              "      quickchartButtonEl.style.display =\n",
              "        google.colab.kernel.accessAllowed ? 'block' : 'none';\n",
              "    })();\n",
              "  </script>\n",
              "</div>\n",
              "\n",
              "  <div id=\"id_98c21176-d0da-46fc-b66b-a9af34f34307\">\n",
              "    <style>\n",
              "      .colab-df-generate {\n",
              "        background-color: #E8F0FE;\n",
              "        border: none;\n",
              "        border-radius: 50%;\n",
              "        cursor: pointer;\n",
              "        display: none;\n",
              "        fill: #1967D2;\n",
              "        height: 32px;\n",
              "        padding: 0 0 0 0;\n",
              "        width: 32px;\n",
              "      }\n",
              "\n",
              "      .colab-df-generate:hover {\n",
              "        background-color: #E2EBFA;\n",
              "        box-shadow: 0px 1px 2px rgba(60, 64, 67, 0.3), 0px 1px 3px 1px rgba(60, 64, 67, 0.15);\n",
              "        fill: #174EA6;\n",
              "      }\n",
              "\n",
              "      [theme=dark] .colab-df-generate {\n",
              "        background-color: #3B4455;\n",
              "        fill: #D2E3FC;\n",
              "      }\n",
              "\n",
              "      [theme=dark] .colab-df-generate:hover {\n",
              "        background-color: #434B5C;\n",
              "        box-shadow: 0px 1px 3px 1px rgba(0, 0, 0, 0.15);\n",
              "        filter: drop-shadow(0px 1px 2px rgba(0, 0, 0, 0.3));\n",
              "        fill: #FFFFFF;\n",
              "      }\n",
              "    </style>\n",
              "    <button class=\"colab-df-generate\" onclick=\"generateWithVariable('df')\"\n",
              "            title=\"Generate code using this dataframe.\"\n",
              "            style=\"display:none;\">\n",
              "\n",
              "  <svg xmlns=\"http://www.w3.org/2000/svg\" height=\"24px\"viewBox=\"0 0 24 24\"\n",
              "       width=\"24px\">\n",
              "    <path d=\"M7,19H8.4L18.45,9,17,7.55,7,17.6ZM5,21V16.75L18.45,3.32a2,2,0,0,1,2.83,0l1.4,1.43a1.91,1.91,0,0,1,.58,1.4,1.91,1.91,0,0,1-.58,1.4L9.25,21ZM18.45,9,17,7.55Zm-12,3A5.31,5.31,0,0,0,4.9,8.1,5.31,5.31,0,0,0,1,6.5,5.31,5.31,0,0,0,4.9,4.9,5.31,5.31,0,0,0,6.5,1,5.31,5.31,0,0,0,8.1,4.9,5.31,5.31,0,0,0,12,6.5,5.46,5.46,0,0,0,6.5,12Z\"/>\n",
              "  </svg>\n",
              "    </button>\n",
              "    <script>\n",
              "      (() => {\n",
              "      const buttonEl =\n",
              "        document.querySelector('#id_98c21176-d0da-46fc-b66b-a9af34f34307 button.colab-df-generate');\n",
              "      buttonEl.style.display =\n",
              "        google.colab.kernel.accessAllowed ? 'block' : 'none';\n",
              "\n",
              "      buttonEl.onclick = () => {\n",
              "        google.colab.notebook.generateWithVariable('df');\n",
              "      }\n",
              "      })();\n",
              "    </script>\n",
              "  </div>\n",
              "\n",
              "    </div>\n",
              "  </div>\n"
            ],
            "text/plain": [
              "                  Open        High         Low       Close   Adj Close  \\\n",
              "Date                                                                     \n",
              "2019-03-01   10.356931   11.607489   10.325634   11.393217   11.393217   \n",
              "2019-03-02   11.384693   11.915753   10.960816   11.869744   11.869744   \n",
              "2019-03-03   11.845305   11.964979   11.352064   11.537903   11.537903   \n",
              "2019-03-04   11.538013   11.599405   11.070543   11.545945   11.545945   \n",
              "2019-03-05   11.520388   13.841443   11.520388   13.811967   13.811967   \n",
              "...                ...         ...         ...         ...         ...   \n",
              "2024-05-28  603.526428  604.985107  593.716187  601.213257  601.213257   \n",
              "2024-05-29  601.213257  602.931519  592.966614  594.972046  594.972046   \n",
              "2024-05-30  594.972534  601.665039  586.557678  595.026794  595.026794   \n",
              "2024-05-31  595.026794  598.423645  589.774841  593.522339  593.522339   \n",
              "2024-06-01  593.522339  607.582886  592.680603  601.304199  601.304199   \n",
              "\n",
              "                Volume  \n",
              "Date                    \n",
              "2019-03-01   117838677  \n",
              "2019-03-02   120807894  \n",
              "2019-03-03    89868246  \n",
              "2019-03-04    89421231  \n",
              "2019-03-05   237026335  \n",
              "...                ...  \n",
              "2024-05-28  1852329404  \n",
              "2024-05-29  1642696946  \n",
              "2024-05-30  1737524745  \n",
              "2024-05-31  1590349553  \n",
              "2024-06-01  1520074486  \n",
              "\n",
              "[1920 rows x 6 columns]"
            ]
          },
          "execution_count": 111,
          "metadata": {},
          "output_type": "execute_result"
        }
      ],
      "source": [
        "df"
      ]
    },
    {
      "cell_type": "code",
      "execution_count": null,
      "metadata": {
        "colab": {
          "base_uri": "https://localhost:8080/"
        },
        "id": "U5oWmBmV90aD",
        "outputId": "df58353c-e45e-4c21-e2cb-97ee8e72602a"
      },
      "outputs": [
        {
          "data": {
            "text/plain": [
              "array([[ 11.393217],\n",
              "       [ 11.869744],\n",
              "       [ 11.537903],\n",
              "       ...,\n",
              "       [595.026794],\n",
              "       [593.522339],\n",
              "       [601.304199]])"
            ]
          },
          "execution_count": 112,
          "metadata": {},
          "output_type": "execute_result"
        }
      ],
      "source": [
        "import numpy as np\n",
        "data = df[['Close']]\n",
        "# Convert the dataframe to a numpy array\n",
        "dataset = data.values\n",
        "training_data_len = int(np.ceil( len(dataset) * .9 ))\n",
        "dataset"
      ]
    },
    {
      "cell_type": "code",
      "execution_count": null,
      "metadata": {
        "colab": {
          "base_uri": "https://localhost:8080/"
        },
        "id": "U3UDc-QZ90kH",
        "outputId": "1a87cded-c76a-407f-a64e-6ec1cf01a8a8"
      },
      "outputs": [
        {
          "data": {
            "text/plain": [
              "array([[0.00301242],\n",
              "       [0.0037276 ],\n",
              "       [0.00322957],\n",
              "       ...,\n",
              "       [0.87894713],\n",
              "       [0.8766892 ],\n",
              "       [0.88836845]])"
            ]
          },
          "execution_count": 113,
          "metadata": {},
          "output_type": "execute_result"
        }
      ],
      "source": [
        "from sklearn.preprocessing import MinMaxScaler\n",
        "\n",
        "scaler = MinMaxScaler(feature_range=(0,1))\n",
        "scaled_data = scaler.fit_transform(dataset)\n",
        "\n",
        "scaled_data"
      ]
    },
    {
      "cell_type": "code",
      "execution_count": null,
      "metadata": {
        "colab": {
          "base_uri": "https://localhost:8080/"
        },
        "id": "5cQ6dq0R90mv",
        "outputId": "1d292ab3-da6c-4761-deea-3deb04f3d590"
      },
      "outputs": [
        {
          "name": "stdout",
          "output_type": "stream",
          "text": [
            "[array([0.00301242, 0.0037276 , 0.00322957, 0.00324163, 0.00664255,\n",
            "       0.0077021 , 0.00864453, 0.00747546, 0.00777404, 0.00766682,\n",
            "       0.0076968 , 0.00903512, 0.00859837, 0.00850228, 0.0085413 ,\n",
            "       0.01010503, 0.00956793, 0.00944917, 0.00946655, 0.00884585,\n",
            "       0.00770127, 0.00882544, 0.00877977, 0.01185552, 0.01118862,\n",
            "       0.01043019, 0.01109908, 0.01113508, 0.01069205, 0.01132551,\n",
            "       0.01203008, 0.01285379, 0.01561423, 0.01405829, 0.01464306,\n",
            "       0.01510948, 0.01460244, 0.0145944 , 0.01309872, 0.01358101,\n",
            "       0.01330115, 0.01247855, 0.01357984, 0.01400837, 0.01516734,\n",
            "       0.01503288, 0.01567077, 0.01533443, 0.01898914, 0.02264637,\n",
            "       0.02344518, 0.02222396, 0.02179514, 0.02024651, 0.02062593,\n",
            "       0.01929626, 0.02023626, 0.01944406, 0.02028115, 0.01848875])]\n",
            "[0.01912325324112618]\n",
            "\n",
            "[array([0.00301242, 0.0037276 , 0.00322957, 0.00324163, 0.00664255,\n",
            "       0.0077021 , 0.00864453, 0.00747546, 0.00777404, 0.00766682,\n",
            "       0.0076968 , 0.00903512, 0.00859837, 0.00850228, 0.0085413 ,\n",
            "       0.01010503, 0.00956793, 0.00944917, 0.00946655, 0.00884585,\n",
            "       0.00770127, 0.00882544, 0.00877977, 0.01185552, 0.01118862,\n",
            "       0.01043019, 0.01109908, 0.01113508, 0.01069205, 0.01132551,\n",
            "       0.01203008, 0.01285379, 0.01561423, 0.01405829, 0.01464306,\n",
            "       0.01510948, 0.01460244, 0.0145944 , 0.01309872, 0.01358101,\n",
            "       0.01330115, 0.01247855, 0.01357984, 0.01400837, 0.01516734,\n",
            "       0.01503288, 0.01567077, 0.01533443, 0.01898914, 0.02264637,\n",
            "       0.02344518, 0.02222396, 0.02179514, 0.02024651, 0.02062593,\n",
            "       0.01929626, 0.02023626, 0.01944406, 0.02028115, 0.01848875]), array([0.0037276 , 0.00322957, 0.00324163, 0.00664255, 0.0077021 ,\n",
            "       0.00864453, 0.00747546, 0.00777404, 0.00766682, 0.0076968 ,\n",
            "       0.00903512, 0.00859837, 0.00850228, 0.0085413 , 0.01010503,\n",
            "       0.00956793, 0.00944917, 0.00946655, 0.00884585, 0.00770127,\n",
            "       0.00882544, 0.00877977, 0.01185552, 0.01118862, 0.01043019,\n",
            "       0.01109908, 0.01113508, 0.01069205, 0.01132551, 0.01203008,\n",
            "       0.01285379, 0.01561423, 0.01405829, 0.01464306, 0.01510948,\n",
            "       0.01460244, 0.0145944 , 0.01309872, 0.01358101, 0.01330115,\n",
            "       0.01247855, 0.01357984, 0.01400837, 0.01516734, 0.01503288,\n",
            "       0.01567077, 0.01533443, 0.01898914, 0.02264637, 0.02344518,\n",
            "       0.02222396, 0.02179514, 0.02024651, 0.02062593, 0.01929626,\n",
            "       0.02023626, 0.01944406, 0.02028115, 0.01848875, 0.01912325])]\n",
            "[0.01912325324112618, 0.018861786162382058]\n",
            "\n"
          ]
        }
      ],
      "source": [
        "# Create the training data set\n",
        "# Create the scaled training data set\n",
        "train_data = scaled_data[0:int(training_data_len), :]\n",
        "# Split the data into x_train and y_train data sets\n",
        "x_train = []\n",
        "y_train = []\n",
        "\n",
        "# we use 60 days ahead for forecasting range\n",
        "for i in range(60, len(train_data)):\n",
        "    x_train.append(train_data[i-60:i, 0])\n",
        "    y_train.append(train_data[i, 0])\n",
        "    if i<= 61:\n",
        "        print(x_train)\n",
        "        print(y_train)\n",
        "        print()\n",
        "\n",
        "# Convert the x_train and y_train to numpy arrays\n",
        "x_train, y_train = np.array(x_train), np.array(y_train)\n",
        "\n",
        "# Reshape the data\n",
        "x_train = np.reshape(x_train, (x_train.shape[0], x_train.shape[1], 1))\n",
        "# x_train.shape\n"
      ]
    },
    {
      "cell_type": "code",
      "execution_count": null,
      "metadata": {
        "colab": {
          "base_uri": "https://localhost:8080/",
          "height": 467
        },
        "id": "BwMoRBRc90rh",
        "outputId": "594f3f89-8794-4db2-96a2-7e455eac9d46"
      },
      "outputs": [
        {
          "data": {
            "text/plain": [
              "<Axes: xlabel='Date'>"
            ]
          },
          "execution_count": 115,
          "metadata": {},
          "output_type": "execute_result"
        },
        {
          "data": {
            "image/png": "[encoded data removed]",
            "text/plain": [
              "<Figure size 640x480 with 1 Axes>"
            ]
          },
          "metadata": {},
          "output_type": "display_data"
        }
      ],
      "source": [
        "data.plot()"
      ]
    },
    {
      "cell_type": "code",
      "execution_count": null,
      "metadata": {
        "colab": {
          "base_uri": "https://localhost:8080/"
        },
        "id": "E6P13vhh90v4",
        "outputId": "6aee8f07-bc2c-4081-b407-cf9d10294138"
      },
      "outputs": [
        {
          "name": "stdout",
          "output_type": "stream",
          "text": [
            "1668/1668 [==============================] - 142s 79ms/step - loss: 0.0027\n"
          ]
        },
        {
          "data": {
            "text/plain": [
              "<keras.src.callbacks.History at 0x7c3deceba050>"
            ]
          },
          "execution_count": 116,
          "metadata": {},
          "output_type": "execute_result"
        }
      ],
      "source": [
        "from keras.models import Sequential\n",
        "from keras.layers import Dense, LSTM\n",
        "\n",
        "# Build the LSTM model\n",
        "model = Sequential()\n",
        "model.add(LSTM(128, return_sequences=True, input_shape= (x_train.shape[1], 1)))\n",
        "model.add(LSTM(64, return_sequences=False))\n",
        "model.add(Dense(25))\n",
        "model.add(Dense(1))\n",
        "\n",
        "# Compile the model\n",
        "model.compile(optimizer='adam', loss='mean_squared_error')\n",
        "\n",
        "# Train the model\n",
        "model.fit(x_train, y_train, batch_size=1, epochs=1)"
      ]
    },
    {
      "cell_type": "code",
      "execution_count": null,
      "metadata": {
        "colab": {
          "base_uri": "https://localhost:8080/"
        },
        "id": "rcsEaMMU90yJ",
        "outputId": "18393a94-def4-4442-cf38-e9e4fc6d1f41"
      },
      "outputs": [
        {
          "name": "stdout",
          "output_type": "stream",
          "text": [
            "6/6 [==============================] - 3s 92ms/step\n"
          ]
        }
      ],
      "source": [
        "test_data = scaled_data[training_data_len - 60:, :]\n",
        "x_test = []\n",
        "for i in range(60, len(test_data)):\n",
        "    x_test.append(test_data[i-60:i, 0])\n",
        "\n",
        "x_test = np.array(x_test)\n",
        "x_test = np.reshape(x_test, (x_test.shape[0], x_test.shape[1], 1))\n",
        "\n",
        "# Dự đoán dữ liệu kiểm tra\n",
        "predictions = model.predict(x_test)\n",
        "\n",
        "# Chuẩn bị dữ liệu đầu vào cho dự đoán 30, 60, và 90 ngày\n",
        "x_input = test_data[-60:].reshape(1, -1)\n",
        "temp_input = list(x_input[0])\n",
        "\n",
        "# Dự đoán 30, 60, và 90 ngày tiếp theo\n",
        "lst_output = []\n",
        "n_steps = 60\n",
        "i = 0\n",
        "while i < 90:\n",
        "    if len(temp_input) > n_steps:\n",
        "        x_input = np.array(temp_input[-n_steps:])\n",
        "        x_input = x_input.reshape((1, n_steps, 1))\n",
        "        yhat = model.predict(x_input, verbose=0)\n",
        "        temp_input.append(yhat[0][0])\n",
        "        lst_output.append(yhat[0][0])\n",
        "        i += 1\n",
        "    else:\n",
        "        x_input = x_input.reshape((1, n_steps, 1))\n",
        "        yhat = model.predict(x_input, verbose=0)\n",
        "        temp_input.append(yhat[0][0])\n",
        "        lst_output.append(yhat[0][0])\n",
        "        i += 1"
      ]
    },
    {
      "cell_type": "code",
      "execution_count": null,
      "metadata": {
        "id": "MtJVJdvYSv0b"
      },
      "outputs": [],
      "source": [
        "# Chuẩn bị dữ liệu cho biểu đồ\n",
        "train_data = scaled_data[:training_data_len]\n",
        "valid_data = scaled_data[training_data_len:]\n",
        "train_data_index = pd.RangeIndex(start=0, stop=len(train_data), step=1)\n",
        "test_data_index = pd.RangeIndex(start=len(train_data), stop=len(train_data) + len(valid_data), step=1)\n"
      ]
    },
    {
      "cell_type": "code",
      "execution_count": null,
      "metadata": {
        "id": "i2WVz1J5SxpH"
      },
      "outputs": [],
      "source": [
        "\n",
        "scaler = MinMaxScaler(feature_range=(0, 1))\n",
        "scaler.fit(scaled_data)  # Giả sử scaled_data đã được chuẩn bị trước\n",
        "train_data_inv = scaler.inverse_transform(train_data)\n",
        "valid_data_inv = scaler.inverse_transform(valid_data)\n",
        "predictions_inv = scaler.inverse_transform(predictions)\n",
        "lst_output_inv = scaler.inverse_transform(np.array(lst_output).reshape(-1, 1))\n"
      ]
    },
    {
      "cell_type": "code",
      "execution_count": null,
      "metadata": {
        "colab": {
          "base_uri": "https://localhost:8080/",
          "height": 676
        },
        "id": "xIvn19snS4No",
        "outputId": "141ac7eb-ef0d-4fb9-ce9b-3534e2c0988e"
      },
      "outputs": [
        {
          "data": {
            "image/png": "[encoded data removed]",
            "text/plain": [
              "<Figure size 1600x800 with 1 Axes>"
            ]
          },
          "metadata": {},
          "output_type": "display_data"
        }
      ],
      "source": [
        "\n",
        "# Vẽ biểu đồ\n",
        "plt.figure(figsize=(16,8))\n",
        "plt.plot(train_data_index, train_data_inv, label='Train')\n",
        "plt.plot(test_data_index, valid_data_inv, label='Test')\n",
        "plt.plot(test_data_index, predictions_inv, label='Predict')\n",
        "\n",
        "# Chỉ số dữ liệu dự đoán 30 ngày đầu tiên\n",
        "predict_data_index_30 = pd.RangeIndex(start=len(scaled_data), stop=len(scaled_data) + 30, step=1)\n",
        "plt.plot(predict_data_index_30, lst_output_inv[:30], label='Predict 30 days')\n",
        "\n",
        "# Chỉ số dữ liệu dự đoán 60 ngày tiếp theo\n",
        "predict_data_index_60 = pd.RangeIndex(start=len(scaled_data) + 30, stop=len(scaled_data) + 60, step=1)\n",
        "plt.plot(predict_data_index_60, lst_output_inv[30:60], label='Predict 60 days')\n",
        "\n",
        "# Chỉ số dữ liệu dự đoán 90 ngày cuối cùng\n",
        "predict_data_index_90 = pd.RangeIndex(start=len(scaled_data) + 60, stop=len(scaled_data) + 90, step=1)\n",
        "plt.plot(predict_data_index_90, lst_output_inv[60:90], label='Predict 90 days')\n",
        "\n",
        "# Hiển thị đồ thị\n",
        "plt.legend()\n",
        "plt.show()"
      ]
    },
    {
      "cell_type": "code",
      "execution_count": 124,
      "metadata": {
        "colab": {
          "base_uri": "https://localhost:8080/"
        },
        "id": "wWHEGUbdckFA",
        "outputId": "176e3c36-9003-4393-968a-d4c9e17da7b0"
      },
      "outputs": [
        {
          "name": "stdout",
          "output_type": "stream",
          "text": [
            "6/6 [==============================] - 0s 74ms/step\n"
          ]
        }
      ],
      "source": [
        "# Dự đoán giá trị\n",
        "predictions = model.predict(x_test)\n",
        "\n",
        "# Chuẩn bị y_test (giá trị thực tế)\n",
        "y_test = dataset[training_data_len:, :]\n",
        "\n",
        "# Inverse transform predictions and y_test to get actual values\n",
        "predictions = scaler.inverse_transform(predictions)\n",
        "y_test = scaler.inverse_transform(y_test)\n",
        "\n"
      ]
    },
    {
      "cell_type": "code",
      "execution_count": 125,
      "metadata": {
        "colab": {
          "base_uri": "https://localhost:8080/"
        },
        "id": "14pAQAGNdF43",
        "outputId": "a353a7c1-d27d-4fd8-ab20-02de45d5c8a6"
      },
      "outputs": [
        {
          "name": "stdout",
          "output_type": "stream",
          "text": [
            "Mean Squared Error (MSE): 203627.5780599742\n",
            "Root Mean Squared Error (RMSE): 451.25112527280663\n",
            "Mean Absolute Percentage Error (MAPE): 0.9986028512799727\n"
          ]
        }
      ],
      "source": [
        "# Tính toán MSE\n",
        "mse = mean_squared_error(y_test, predictions)\n",
        "\n",
        "# Tính toán RMSE\n",
        "rmse = np.sqrt(mse)\n",
        "\n",
        "# Tính toán MAPE\n",
        "mape = mean_absolute_percentage_error(y_test, predictions)\n",
        "\n",
        "print(f\"Mean Squared Error (MSE): {mse}\")\n",
        "print(f\"Root Mean Squared Error (RMSE): {rmse}\")\n",
        "print(f\"Mean Absolute Percentage Error (MAPE): {mape}\")"
      ]
    }
  ],
  "metadata": {
    "colab": {
      "provenance": []
    },
    "kernelspec": {
      "display_name": "Python 3",
      "name": "python3"
    },
    "language_info": {
      "name": "python"
    }
  },
  "nbformat": 4,
  "nbformat_minor": 0
}
